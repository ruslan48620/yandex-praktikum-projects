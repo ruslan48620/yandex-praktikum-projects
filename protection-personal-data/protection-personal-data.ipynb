{
 "cells": [
  {
   "cell_type": "markdown",
   "metadata": {},
   "source": [
    "# Описание проекта"
   ]
  },
  {
   "cell_type": "markdown",
   "metadata": {},
   "source": [
    "Нужно защитить данные клиентов страховой компании. Разработать такой метод преобразования данных, чтобы по ним было сложно восстановить персональную информацию. Обосновать корректность его работы.\n",
    "\n",
    "Нужно защитить данные, чтобы при преобразовании качество моделей машинного обучения не ухудшилось. Подбирать наилучшую модель не требуется."
   ]
  },
  {
   "cell_type": "markdown",
   "metadata": {},
   "source": [
    "## Описание данных"
   ]
  },
  {
   "cell_type": "markdown",
   "metadata": {},
   "source": [
    "**Признаки**: \n",
    "- пол\n",
    "- возраст\n",
    "- зарплата застрахованного\n",
    "- количество членов его семьи\n",
    "\n",
    "**Целевой признак**: \n",
    "- количество страховых выплат клиенту за последние 5 лет"
   ]
  },
  {
   "cell_type": "markdown",
   "metadata": {},
   "source": [
    "## Оглавление"
   ]
  },
  {
   "cell_type": "markdown",
   "metadata": {},
   "source": [
    "1. [Загрузка данных](#step1)\n",
    "2. [Умножение матриц](#step2)\n",
    "3. [Алгоритм преобразования](#step3)\n",
    "4. [Проверка алгоритма](#step4)\n",
    "5. [Общий вывод](#step5)"
   ]
  },
  {
   "cell_type": "markdown",
   "metadata": {},
   "source": [
    "<a id=\"step1\"></a>\n",
    "## 1. Загрузка данных"
   ]
  },
  {
   "cell_type": "markdown",
   "metadata": {},
   "source": [
    "Подключение библиотек, необходимых модулей и алгоритмов"
   ]
  },
  {
   "cell_type": "code",
   "execution_count": 1,
   "metadata": {},
   "outputs": [],
   "source": [
    "import pandas as pd\n",
    "import numpy as np\n",
    "\n",
    "from IPython.display import display\n",
    "\n",
    "from sklearn.linear_model import LinearRegression\n",
    "from sklearn.metrics import r2_score\n",
    "from sklearn.metrics import mean_absolute_error"
   ]
  },
  {
   "cell_type": "markdown",
   "metadata": {},
   "source": [
    "Прочитаем данные из файла. Посмотрим на названия колонок и выведем первые 5 строк."
   ]
  },
  {
   "cell_type": "code",
   "execution_count": 2,
   "metadata": {},
   "outputs": [
    {
     "name": "stdout",
     "output_type": "stream",
     "text": [
      "Index(['Пол', 'Возраст', 'Зарплата', 'Члены семьи', 'Страховые выплаты'], dtype='object')\n"
     ]
    },
    {
     "data": {
      "text/html": [
       "<div>\n",
       "<style scoped>\n",
       "    .dataframe tbody tr th:only-of-type {\n",
       "        vertical-align: middle;\n",
       "    }\n",
       "\n",
       "    .dataframe tbody tr th {\n",
       "        vertical-align: top;\n",
       "    }\n",
       "\n",
       "    .dataframe thead th {\n",
       "        text-align: right;\n",
       "    }\n",
       "</style>\n",
       "<table border=\"1\" class=\"dataframe\">\n",
       "  <thead>\n",
       "    <tr style=\"text-align: right;\">\n",
       "      <th></th>\n",
       "      <th>Пол</th>\n",
       "      <th>Возраст</th>\n",
       "      <th>Зарплата</th>\n",
       "      <th>Члены семьи</th>\n",
       "      <th>Страховые выплаты</th>\n",
       "    </tr>\n",
       "  </thead>\n",
       "  <tbody>\n",
       "    <tr>\n",
       "      <td>0</td>\n",
       "      <td>1</td>\n",
       "      <td>41.0</td>\n",
       "      <td>49600.0</td>\n",
       "      <td>1</td>\n",
       "      <td>0</td>\n",
       "    </tr>\n",
       "    <tr>\n",
       "      <td>1</td>\n",
       "      <td>0</td>\n",
       "      <td>46.0</td>\n",
       "      <td>38000.0</td>\n",
       "      <td>1</td>\n",
       "      <td>1</td>\n",
       "    </tr>\n",
       "    <tr>\n",
       "      <td>2</td>\n",
       "      <td>0</td>\n",
       "      <td>29.0</td>\n",
       "      <td>21000.0</td>\n",
       "      <td>0</td>\n",
       "      <td>0</td>\n",
       "    </tr>\n",
       "    <tr>\n",
       "      <td>3</td>\n",
       "      <td>0</td>\n",
       "      <td>21.0</td>\n",
       "      <td>41700.0</td>\n",
       "      <td>2</td>\n",
       "      <td>0</td>\n",
       "    </tr>\n",
       "    <tr>\n",
       "      <td>4</td>\n",
       "      <td>1</td>\n",
       "      <td>28.0</td>\n",
       "      <td>26100.0</td>\n",
       "      <td>0</td>\n",
       "      <td>0</td>\n",
       "    </tr>\n",
       "  </tbody>\n",
       "</table>\n",
       "</div>"
      ],
      "text/plain": [
       "   Пол  Возраст  Зарплата  Члены семьи  Страховые выплаты\n",
       "0    1     41.0   49600.0            1                  0\n",
       "1    0     46.0   38000.0            1                  1\n",
       "2    0     29.0   21000.0            0                  0\n",
       "3    0     21.0   41700.0            2                  0\n",
       "4    1     28.0   26100.0            0                  0"
      ]
     },
     "metadata": {},
     "output_type": "display_data"
    }
   ],
   "source": [
    "insurance = pd.read_csv('/datasets/insurance.csv')\n",
    "\n",
    "print(insurance.columns)\n",
    "display(insurance.head())"
   ]
  },
  {
   "cell_type": "markdown",
   "metadata": {},
   "source": [
    "Можем заметить, что названия столбцов написаны на русском языке, а также в них есть пробелы и заглавные символы. В дальнейшем, чтобы удобнее работать с данными, заменим назавния столбцов на латинские символы."
   ]
  },
  {
   "cell_type": "code",
   "execution_count": 3,
   "metadata": {},
   "outputs": [],
   "source": [
    "new_columns = ['gender', 'age', 'salary', 'family', 'payment']"
   ]
  },
  {
   "cell_type": "code",
   "execution_count": 4,
   "metadata": {},
   "outputs": [
    {
     "data": {
      "text/plain": [
       "Index(['gender', 'age', 'salary', 'family', 'payment'], dtype='object')"
      ]
     },
     "execution_count": 4,
     "metadata": {},
     "output_type": "execute_result"
    }
   ],
   "source": [
    "insurance.columns = new_columns\n",
    "insurance.columns"
   ]
  },
  {
   "cell_type": "markdown",
   "metadata": {},
   "source": [
    "Выведем общеую информацию по таблице."
   ]
  },
  {
   "cell_type": "code",
   "execution_count": 5,
   "metadata": {},
   "outputs": [
    {
     "name": "stdout",
     "output_type": "stream",
     "text": [
      "<class 'pandas.core.frame.DataFrame'>\n",
      "RangeIndex: 5000 entries, 0 to 4999\n",
      "Data columns (total 5 columns):\n",
      "gender     5000 non-null int64\n",
      "age        5000 non-null float64\n",
      "salary     5000 non-null float64\n",
      "family     5000 non-null int64\n",
      "payment    5000 non-null int64\n",
      "dtypes: float64(2), int64(3)\n",
      "memory usage: 195.4 KB\n"
     ]
    }
   ],
   "source": [
    "insurance.info()"
   ]
  },
  {
   "cell_type": "markdown",
   "metadata": {},
   "source": [
    "Видим, что тип данных для столбца `age` (возраст) определился как вещественные числа. Краткий обзор данных, дает нам предположение, что эти значения могут быть целочисленные. Посмотрим, на все принимаемые значения этого столбца."
   ]
  },
  {
   "cell_type": "code",
   "execution_count": 6,
   "metadata": {},
   "outputs": [
    {
     "data": {
      "text/plain": [
       "19.0    223\n",
       "25.0    214\n",
       "31.0    212\n",
       "26.0    211\n",
       "22.0    209\n",
       "27.0    209\n",
       "32.0    206\n",
       "28.0    204\n",
       "29.0    203\n",
       "30.0    202\n",
       "23.0    202\n",
       "21.0    200\n",
       "20.0    195\n",
       "36.0    193\n",
       "33.0    191\n",
       "24.0    182\n",
       "35.0    179\n",
       "34.0    177\n",
       "37.0    147\n",
       "39.0    141\n",
       "38.0    139\n",
       "41.0    129\n",
       "18.0    117\n",
       "40.0    114\n",
       "42.0     93\n",
       "43.0     77\n",
       "44.0     74\n",
       "45.0     73\n",
       "46.0     60\n",
       "47.0     47\n",
       "49.0     37\n",
       "50.0     27\n",
       "48.0     26\n",
       "52.0     22\n",
       "51.0     21\n",
       "53.0     11\n",
       "55.0      9\n",
       "54.0      7\n",
       "56.0      5\n",
       "59.0      3\n",
       "60.0      2\n",
       "58.0      2\n",
       "57.0      2\n",
       "62.0      1\n",
       "65.0      1\n",
       "61.0      1\n",
       "Name: age, dtype: int64"
      ]
     },
     "execution_count": 6,
     "metadata": {},
     "output_type": "execute_result"
    }
   ],
   "source": [
    "insurance['age'].value_counts()"
   ]
  },
  {
   "cell_type": "markdown",
   "metadata": {},
   "source": [
    "Действительно, значения целочисленные."
   ]
  },
  {
   "cell_type": "markdown",
   "metadata": {},
   "source": [
    "По этой же логике проверим столбец `salary` (зарплата застрахованного)."
   ]
  },
  {
   "cell_type": "code",
   "execution_count": 7,
   "metadata": {},
   "outputs": [
    {
     "data": {
      "text/plain": [
       "45800.0    29\n",
       "37100.0    28\n",
       "43200.0    27\n",
       "41500.0    27\n",
       "46800.0    26\n",
       "           ..\n",
       "68900.0     1\n",
       "59700.0     1\n",
       "59000.0     1\n",
       "68000.0     1\n",
       "64400.0     1\n",
       "Name: salary, Length: 524, dtype: int64"
      ]
     },
     "execution_count": 7,
     "metadata": {},
     "output_type": "execute_result"
    }
   ],
   "source": [
    "insurance['salary'].value_counts()"
   ]
  },
  {
   "cell_type": "markdown",
   "metadata": {},
   "source": [
    "Ситуация такая же. Поменяем типы данных на верные."
   ]
  },
  {
   "cell_type": "code",
   "execution_count": 8,
   "metadata": {},
   "outputs": [],
   "source": [
    "insurance['age'] = insurance['age'].astype(int)\n",
    "insurance['salary'] = insurance['salary'].astype(int)"
   ]
  },
  {
   "cell_type": "code",
   "execution_count": 9,
   "metadata": {},
   "outputs": [
    {
     "name": "stdout",
     "output_type": "stream",
     "text": [
      "<class 'pandas.core.frame.DataFrame'>\n",
      "RangeIndex: 5000 entries, 0 to 4999\n",
      "Data columns (total 5 columns):\n",
      "gender     5000 non-null int64\n",
      "age        5000 non-null int64\n",
      "salary     5000 non-null int64\n",
      "family     5000 non-null int64\n",
      "payment    5000 non-null int64\n",
      "dtypes: int64(5)\n",
      "memory usage: 195.4 KB\n"
     ]
    }
   ],
   "source": [
    "insurance.info()"
   ]
  },
  {
   "cell_type": "markdown",
   "metadata": {},
   "source": [
    "Стоит отметить, что пропусков нет."
   ]
  },
  {
   "cell_type": "markdown",
   "metadata": {},
   "source": [
    "### Вывод"
   ]
  },
  {
   "cell_type": "markdown",
   "metadata": {},
   "source": [
    "На данном этапе мы выгрузили данные из файла и сохранили в переменной `insurance`. Также провели предобработку данных. Проверили названия столбцов, в них были использованы нелатинские символы, пробелы и заглавные буквы - привели к удобному виду. Подкорректировали автоматически определенные типы данных для столбцов. Проверили, что нет пропущенных значений. В итоге в нашей таблице 5000 строк и 5 столбцов."
   ]
  },
  {
   "cell_type": "markdown",
   "metadata": {},
   "source": [
    "<a id=\"step2\"></a>\n",
    "## 2. Умножение матриц"
   ]
  },
  {
   "cell_type": "markdown",
   "metadata": {},
   "source": [
    "На данном этапе необходимо определить, изменится ли качество линейной регрессии, если признаки умножить на обратимую матрицу."
   ]
  },
  {
   "cell_type": "markdown",
   "metadata": {},
   "source": [
    "Обозначения:\n",
    "\n",
    "- $X$ — матрица признаков (нулевой столбец состоит из единиц)\n",
    "\n",
    "- $y$ — вектор целевого признака\n",
    "\n",
    "- $P$ — матрица, на которую умножаются признаки\n",
    "\n",
    "- $w$ — вектор весов линейной регрессии (нулевой элемент равен сдвигу)"
   ]
  },
  {
   "cell_type": "markdown",
   "metadata": {},
   "source": [
    "**Формулы линейной регрессии:**"
   ]
  },
  {
   "cell_type": "markdown",
   "metadata": {},
   "source": [
    "Предсказания:\n",
    "\n",
    "$$\n",
    "a = Xw\n",
    "$$\n",
    "\n",
    "Задача обучения:\n",
    "\n",
    "$$\n",
    "w = \\arg\\min_w MSE(Xw, y)\n",
    "$$\n",
    "\n",
    "Формула обучения в матричном виде:\n",
    "\n",
    "$$\n",
    "w = (X^T X)^{-1} X^T y\n",
    "$$"
   ]
  },
  {
   "cell_type": "markdown",
   "metadata": {},
   "source": [
    "Для начала выделим отдельно признаки и целевой признак."
   ]
  },
  {
   "cell_type": "code",
   "execution_count": 10,
   "metadata": {},
   "outputs": [],
   "source": [
    "features = insurance.drop('payment', axis=1)\n",
    "target = insurance['payment']"
   ]
  },
  {
   "cell_type": "code",
   "execution_count": 11,
   "metadata": {},
   "outputs": [
    {
     "data": {
      "text/plain": [
       "(5000, 4)"
      ]
     },
     "execution_count": 11,
     "metadata": {},
     "output_type": "execute_result"
    }
   ],
   "source": [
    "features.shape"
   ]
  },
  {
   "cell_type": "markdown",
   "metadata": {},
   "source": [
    "**Обоснование:**"
   ]
  },
  {
   "cell_type": "markdown",
   "metadata": {},
   "source": [
    "Посмотрим как будет выглядеть формула обучения (формула нахождения весов), если мы умножим матрицу признаков $X$ на обратимую матрицу $P$. $P$ - квадратная матрица, порядок которой равен количеству признаков.\n",
    "\n",
    "$ w_1 = ((XP)^T ( XP))^{-1} (X P)^T y $\n",
    "\n",
    "Проведем преобразования, основываясь на свойствах матричных операций.\n",
    "\n",
    "$$ (X P)^T (X P) w_1 = (X P)^T y $$\n",
    "\n",
    "$$ P^T X^T X P w_1 = P^T X^T y $$\n",
    "\n",
    "Умножим слева на $(P^T)^{-1}$\n",
    "\n",
    "$$ (P^T)^{-1} P^T X^T X P w_1 = (P^T)^{-1} P^T X^T y $$\n",
    "\n",
    "Учтем, что $ K K^{-1} = E $, где $K$ - произвольная обратимая матрица, $E$ - единичная матрица.\n",
    "\n",
    "$$ E X^T X P w_1 = E X^T y $$\n",
    "\n",
    "$$ X^T X P w_1 = X^T y $$\n",
    "\n",
    "$$ P w_1 = (X^T X)^{-1} X^T y $$\n",
    "\n",
    "$$ w_1 = P^{-1} (X^T X)^{-1} X^T y $$\n",
    "\n",
    "$$ w_1 = P^{-1} w $$"
   ]
  },
  {
   "cell_type": "markdown",
   "metadata": {},
   "source": [
    "Теперь подставим полученные веса в формулу для нахождения предсказаний:\n",
    "\n",
    "$$ a_1 = X P w_1 $$\n",
    "\n",
    "$$ a_1 = X P P^{-1} (X^T X)^{-1} X^T y $$\n",
    "\n",
    "$$ a_1 = X E (X^T X)^{-1} X^T y $$\n",
    "\n",
    "$$ a_1 = X (X^T X)^{-1} X^T y $$\n",
    "\n",
    "$$ a_1 = X w $$\n",
    "\n",
    "Отсюда следует, что\n",
    "\n",
    "$$ a_1 = a $$"
   ]
  },
  {
   "cell_type": "markdown",
   "metadata": {},
   "source": [
    "**Ответ:** Качество линейной регресии не изменится. Выше мы доказали, что если умножить матрицу признаков на обратимую матрицу, то предсказания не изменятся. При этом параметры линейной регресии в преобразованной задаче и в исходной связаны соотношением: $ w_1 = P^{-1} w $ "
   ]
  },
  {
   "cell_type": "markdown",
   "metadata": {},
   "source": [
    "### Вывод"
   ]
  },
  {
   "cell_type": "markdown",
   "metadata": {},
   "source": [
    "На данном шаге мы определили, что качество линейной регрессии не изменится, если умножить признаки на обратимую матрицу."
   ]
  },
  {
   "cell_type": "markdown",
   "metadata": {},
   "source": [
    "<a id=\"step3\"></a>\n",
    "## 3. Алгоритм преобразования"
   ]
  },
  {
   "cell_type": "markdown",
   "metadata": {},
   "source": [
    "Наша задача разработать метод преобразования данных, чтобы по ним было сложно восстановить персональную информацию, то есть наши признаки. В основе алгоритма преобразования данных учтем тот факт, который мы доказали на предыдущем шаге: если умножить признаки на произвольную обратимую матрицу, то качество линейной регрессии не изменится."
   ]
  },
  {
   "cell_type": "markdown",
   "metadata": {},
   "source": [
    "**Алгоритм**\n",
    "\n",
    "Необходимо сгенерировать квадратную матрицу, где порядок равен количеству признаков. В нашей задаче, количество признаков равно 4. Проверить, что такая матрица обратимая. После чего умножить первоначальные признаки на эту матрицу. Для проверки работы алгоритма, проверить качество линейной регрессии, на этих двух наборах данных."
   ]
  },
  {
   "cell_type": "markdown",
   "metadata": {},
   "source": [
    "**Обоснование**\n",
    "\n",
    "Данный алгоритм обоснован доказательством в шаге 2."
   ]
  },
  {
   "cell_type": "markdown",
   "metadata": {},
   "source": [
    "<a id=\"step4\"></a>\n",
    "## 4. Проверка алгоритма"
   ]
  },
  {
   "cell_type": "markdown",
   "metadata": {},
   "source": [
    "Для начала получим первоначальную метрику R2 на исходных признаках."
   ]
  },
  {
   "cell_type": "code",
   "execution_count": 12,
   "metadata": {},
   "outputs": [
    {
     "name": "stdout",
     "output_type": "stream",
     "text": [
      "0.42494550308169177\n"
     ]
    }
   ],
   "source": [
    "model = LinearRegression()\n",
    "model.fit(features, target)\n",
    "predictions = model.predict(features)\n",
    "r2_orig = r2_score(target, predictions)\n",
    "\n",
    "print(r2_orig)"
   ]
  },
  {
   "cell_type": "markdown",
   "metadata": {},
   "source": [
    "Теперь проверим работу нашего алгоритма. Сгенерируем случайную квадратную матрицу с определенным порядком."
   ]
  },
  {
   "cell_type": "code",
   "execution_count": 13,
   "metadata": {},
   "outputs": [
    {
     "data": {
      "text/plain": [
       "array([[ 1.04379613, -0.79703997, -0.50415461, -0.08549375],\n",
       "       [-0.47840073, -1.47003223, -0.45256628,  0.66710262],\n",
       "       [-0.82657448, -0.1475587 , -0.99843841, -0.00226687],\n",
       "       [-0.57479398,  0.96075221,  1.00406212,  0.40304857]])"
      ]
     },
     "metadata": {},
     "output_type": "display_data"
    }
   ],
   "source": [
    "size_P = features.shape[1]\n",
    "P = np.random.normal(size=(size_P, size_P))\n",
    "display(P)"
   ]
  },
  {
   "cell_type": "markdown",
   "metadata": {},
   "source": [
    "Проверим, что полученная матрица обратимая."
   ]
  },
  {
   "cell_type": "code",
   "execution_count": 14,
   "metadata": {},
   "outputs": [
    {
     "data": {
      "text/plain": [
       "array([[ 1.39443045, -0.27891847,  0.18506454,  0.75847398],\n",
       "       [ 1.13289622, -0.58925896,  0.92272823,  1.22080437],\n",
       "       [-1.32772683,  0.31750357, -1.29406706, -0.81442616],\n",
       "       [ 2.59571175,  0.21589925,  1.28814383,  2.68158811]])"
      ]
     },
     "metadata": {},
     "output_type": "display_data"
    }
   ],
   "source": [
    "P_inv = np.linalg.inv(P)\n",
    "display(P_inv)"
   ]
  },
  {
   "cell_type": "markdown",
   "metadata": {},
   "source": [
    "Видно, что обратная матрица существует. Если бы она была необратима, то возникла бы ошибка. Теперь преобразуем первоначальные признаки и проверим качество линейной регрессии на новых данных."
   ]
  },
  {
   "cell_type": "code",
   "execution_count": 15,
   "metadata": {},
   "outputs": [],
   "source": [
    "features_modified = features.dot(P)\n",
    "features_modified.columns = features.columns"
   ]
  },
  {
   "cell_type": "markdown",
   "metadata": {},
   "source": [
    "Покажем, что данные изменились от первоначальных."
   ]
  },
  {
   "cell_type": "code",
   "execution_count": 16,
   "metadata": {},
   "outputs": [
    {
     "name": "stdout",
     "output_type": "stream",
     "text": [
      "Original features\n"
     ]
    },
    {
     "data": {
      "text/html": [
       "<div>\n",
       "<style scoped>\n",
       "    .dataframe tbody tr th:only-of-type {\n",
       "        vertical-align: middle;\n",
       "    }\n",
       "\n",
       "    .dataframe tbody tr th {\n",
       "        vertical-align: top;\n",
       "    }\n",
       "\n",
       "    .dataframe thead th {\n",
       "        text-align: right;\n",
       "    }\n",
       "</style>\n",
       "<table border=\"1\" class=\"dataframe\">\n",
       "  <thead>\n",
       "    <tr style=\"text-align: right;\">\n",
       "      <th></th>\n",
       "      <th>gender</th>\n",
       "      <th>age</th>\n",
       "      <th>salary</th>\n",
       "      <th>family</th>\n",
       "    </tr>\n",
       "  </thead>\n",
       "  <tbody>\n",
       "    <tr>\n",
       "      <td>0</td>\n",
       "      <td>1</td>\n",
       "      <td>41</td>\n",
       "      <td>49600</td>\n",
       "      <td>1</td>\n",
       "    </tr>\n",
       "    <tr>\n",
       "      <td>1</td>\n",
       "      <td>0</td>\n",
       "      <td>46</td>\n",
       "      <td>38000</td>\n",
       "      <td>1</td>\n",
       "    </tr>\n",
       "    <tr>\n",
       "      <td>2</td>\n",
       "      <td>0</td>\n",
       "      <td>29</td>\n",
       "      <td>21000</td>\n",
       "      <td>0</td>\n",
       "    </tr>\n",
       "    <tr>\n",
       "      <td>3</td>\n",
       "      <td>0</td>\n",
       "      <td>21</td>\n",
       "      <td>41700</td>\n",
       "      <td>2</td>\n",
       "    </tr>\n",
       "    <tr>\n",
       "      <td>4</td>\n",
       "      <td>1</td>\n",
       "      <td>28</td>\n",
       "      <td>26100</td>\n",
       "      <td>0</td>\n",
       "    </tr>\n",
       "  </tbody>\n",
       "</table>\n",
       "</div>"
      ],
      "text/plain": [
       "   gender  age  salary  family\n",
       "0       1   41   49600       1\n",
       "1       0   46   38000       1\n",
       "2       0   29   21000       0\n",
       "3       0   21   41700       2\n",
       "4       1   28   26100       0"
      ]
     },
     "metadata": {},
     "output_type": "display_data"
    },
    {
     "name": "stdout",
     "output_type": "stream",
     "text": [
      "\n",
      "Modified features\n"
     ]
    },
    {
     "data": {
      "text/html": [
       "<div>\n",
       "<style scoped>\n",
       "    .dataframe tbody tr th:only-of-type {\n",
       "        vertical-align: middle;\n",
       "    }\n",
       "\n",
       "    .dataframe tbody tr th {\n",
       "        vertical-align: top;\n",
       "    }\n",
       "\n",
       "    .dataframe thead th {\n",
       "        text-align: right;\n",
       "    }\n",
       "</style>\n",
       "<table border=\"1\" class=\"dataframe\">\n",
       "  <thead>\n",
       "    <tr style=\"text-align: right;\">\n",
       "      <th></th>\n",
       "      <th>gender</th>\n",
       "      <th>age</th>\n",
       "      <th>salary</th>\n",
       "      <th>family</th>\n",
       "    </tr>\n",
       "  </thead>\n",
       "  <tbody>\n",
       "    <tr>\n",
       "      <td>0</td>\n",
       "      <td>-41017.239817</td>\n",
       "      <td>-7379.019158</td>\n",
       "      <td>-49540.600590</td>\n",
       "      <td>-84.768056</td>\n",
       "    </tr>\n",
       "    <tr>\n",
       "      <td>1</td>\n",
       "      <td>-31432.411606</td>\n",
       "      <td>-5673.891353</td>\n",
       "      <td>-37960.473677</td>\n",
       "      <td>-55.051341</td>\n",
       "    </tr>\n",
       "    <tr>\n",
       "      <td>2</td>\n",
       "      <td>-17371.937778</td>\n",
       "      <td>-3141.363647</td>\n",
       "      <td>-20980.331093</td>\n",
       "      <td>-28.258322</td>\n",
       "    </tr>\n",
       "    <tr>\n",
       "      <td>3</td>\n",
       "      <td>-34479.351971</td>\n",
       "      <td>-6182.146987</td>\n",
       "      <td>-41642.377586</td>\n",
       "      <td>-79.713282</td>\n",
       "    </tr>\n",
       "    <tr>\n",
       "      <td>4</td>\n",
       "      <td>-21585.945447</td>\n",
       "      <td>-3893.240028</td>\n",
       "      <td>-26072.418587</td>\n",
       "      <td>-40.571962</td>\n",
       "    </tr>\n",
       "  </tbody>\n",
       "</table>\n",
       "</div>"
      ],
      "text/plain": [
       "         gender          age        salary     family\n",
       "0 -41017.239817 -7379.019158 -49540.600590 -84.768056\n",
       "1 -31432.411606 -5673.891353 -37960.473677 -55.051341\n",
       "2 -17371.937778 -3141.363647 -20980.331093 -28.258322\n",
       "3 -34479.351971 -6182.146987 -41642.377586 -79.713282\n",
       "4 -21585.945447 -3893.240028 -26072.418587 -40.571962"
      ]
     },
     "metadata": {},
     "output_type": "display_data"
    }
   ],
   "source": [
    "print('Original features')\n",
    "display(features.head())\n",
    "print()\n",
    "print('Modified features')\n",
    "display(features_modified.head())"
   ]
  },
  {
   "cell_type": "code",
   "execution_count": 17,
   "metadata": {},
   "outputs": [
    {
     "name": "stdout",
     "output_type": "stream",
     "text": [
      "0.424945503081696\n"
     ]
    }
   ],
   "source": [
    "model = LinearRegression()\n",
    "model.fit(features_modified, target)\n",
    "predictions_modifiead = model.predict(features_modified)\n",
    "r2_modified = r2_score(target, predictions_modifiead)\n",
    "\n",
    "print(r2_modified)"
   ]
  },
  {
   "cell_type": "markdown",
   "metadata": {},
   "source": [
    "Сравним полученные значения метрики R2."
   ]
  },
  {
   "cell_type": "code",
   "execution_count": 18,
   "metadata": {},
   "outputs": [
    {
     "name": "stdout",
     "output_type": "stream",
     "text": [
      "4.218847493575595e-15\n"
     ]
    }
   ],
   "source": [
    "print(abs(r2_modified - r2_orig))"
   ]
  },
  {
   "cell_type": "markdown",
   "metadata": {},
   "source": [
    "Здесь мы получили очень маленькое значение, но не нулевое. Это можно объяснить тем, что в данном случае мы не влиям на точность вещественных чисел, которые используются внутри модели линейной регрессии. Также в качестве обратимой матрицы мы использовали автомитический сгенерированную матрицу с вещественными числами. Однако в данной задаче столь малым различием между полученными значениями можно пренебречь и считать что качества двух моделей, обученной на первоначальных данных и на преобразованных, не отличается."
   ]
  },
  {
   "cell_type": "markdown",
   "metadata": {},
   "source": [
    "### Вывод"
   ]
  },
  {
   "cell_type": "markdown",
   "metadata": {},
   "source": [
    "На данном шаге мы реализовали предложенный алгоритм преобразования данных, чтобы защитить личную информацию. Также на реальных данных было показано, что качество стандартной линейной регресии (из sklearn) не изменилось."
   ]
  },
  {
   "cell_type": "markdown",
   "metadata": {},
   "source": [
    "<a id=\"step5\"></a>\n",
    "## 5. Общий вывод"
   ]
  },
  {
   "cell_type": "markdown",
   "metadata": {},
   "source": [
    "В данной работе мы научились защищать данные клиентов страховой компании. Разработали алгоритм преобразования данных, чтобы по ним было сложно восстановить персональную информацию. Обосновали корректность его работы, а также проверили на реальных данных работу этого алгоритма. Посчитав метрику R2 для первоначальных и преобразованных признаков, показали что качество не изменилось."
   ]
  }
 ],
 "metadata": {
  "kernelspec": {
   "display_name": "Python 3",
   "language": "python",
   "name": "python3"
  },
  "language_info": {
   "codemirror_mode": {
    "name": "ipython",
    "version": 3
   },
   "file_extension": ".py",
   "mimetype": "text/x-python",
   "name": "python",
   "nbconvert_exporter": "python",
   "pygments_lexer": "ipython3",
   "version": "3.8.5"
  },
  "toc": {
   "base_numbering": 1,
   "nav_menu": {},
   "number_sections": false,
   "sideBar": true,
   "skip_h1_title": false,
   "title_cell": "Table of Contents",
   "title_sidebar": "Contents",
   "toc_cell": false,
   "toc_position": {},
   "toc_section_display": true,
   "toc_window_display": true
  }
 },
 "nbformat": 4,
 "nbformat_minor": 2
}
