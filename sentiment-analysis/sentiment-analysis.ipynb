{
 "cells": [
  {
   "cell_type": "markdown",
   "metadata": {
    "id": "Y8QQZQU9r1SP"
   },
   "source": [
    "## Описание проекта"
   ]
  },
  {
   "cell_type": "markdown",
   "metadata": {
    "id": "BQZhpWOBr1SQ"
   },
   "source": [
    "Интернет-магазин запускает новый сервис. Теперь пользователи могут редактировать и дополнять описания товаров, как в вики-сообществах. То есть клиенты предлагают свои правки и комментируют изменения других. Магазину нужен инструмент, который будет искать токсичные комментарии и отправлять их на модерацию. \n",
    "\n",
    "Обучите модель классифицировать комментарии на позитивные и негативные. В вашем распоряжении набор данных с разметкой о токсичности правок.\n",
    "\n",
    "Постройте модель со значением метрики качества *F1* не меньше 0.75. "
   ]
  },
  {
   "cell_type": "markdown",
   "metadata": {
    "id": "Pi1GwhASr1SR"
   },
   "source": [
    "### Описание данных"
   ]
  },
  {
   "cell_type": "markdown",
   "metadata": {
    "id": "a7qBIIdtr1SR"
   },
   "source": [
    "Данные находятся в файле `toxic_comments.csv`. Столбец *text* в нём содержит текст комментария, а *toxic* — целевой признак."
   ]
  },
  {
   "cell_type": "markdown",
   "metadata": {
    "id": "66uDhTDur1SR"
   },
   "source": [
    "## 1. Подготовка"
   ]
  },
  {
   "cell_type": "code",
   "execution_count": 1,
   "metadata": {
    "colab": {
     "base_uri": "https://localhost:8080/"
    },
    "executionInfo": {
     "elapsed": 3081,
     "status": "ok",
     "timestamp": 1614807048751,
     "user": {
      "displayName": "Руслан Муштаков",
      "photoUrl": "",
      "userId": "06846086149309682337"
     },
     "user_tz": -180
    },
    "id": "C1ZWc37Iv3ob",
    "outputId": "7b502ee2-fed0-4675-b142-b2dccd26ebd5"
   },
   "outputs": [
    {
     "name": "stdout",
     "output_type": "stream",
     "text": [
      "Requirement already satisfied: catboost in /usr/local/lib/python3.7/dist-packages (0.24.4)\n",
      "Requirement already satisfied: numpy>=1.16.0 in /usr/local/lib/python3.7/dist-packages (from catboost) (1.19.5)\n",
      "Requirement already satisfied: six in /usr/local/lib/python3.7/dist-packages (from catboost) (1.15.0)\n",
      "Requirement already satisfied: graphviz in /usr/local/lib/python3.7/dist-packages (from catboost) (0.10.1)\n",
      "Requirement already satisfied: scipy in /usr/local/lib/python3.7/dist-packages (from catboost) (1.4.1)\n",
      "Requirement already satisfied: matplotlib in /usr/local/lib/python3.7/dist-packages (from catboost) (3.2.2)\n",
      "Requirement already satisfied: plotly in /usr/local/lib/python3.7/dist-packages (from catboost) (4.4.1)\n",
      "Requirement already satisfied: pandas>=0.24.0 in /usr/local/lib/python3.7/dist-packages (from catboost) (1.1.5)\n",
      "Requirement already satisfied: pyparsing!=2.0.4,!=2.1.2,!=2.1.6,>=2.0.1 in /usr/local/lib/python3.7/dist-packages (from matplotlib->catboost) (2.4.7)\n",
      "Requirement already satisfied: kiwisolver>=1.0.1 in /usr/local/lib/python3.7/dist-packages (from matplotlib->catboost) (1.3.1)\n",
      "Requirement already satisfied: cycler>=0.10 in /usr/local/lib/python3.7/dist-packages (from matplotlib->catboost) (0.10.0)\n",
      "Requirement already satisfied: python-dateutil>=2.1 in /usr/local/lib/python3.7/dist-packages (from matplotlib->catboost) (2.8.1)\n",
      "Requirement already satisfied: retrying>=1.3.3 in /usr/local/lib/python3.7/dist-packages (from plotly->catboost) (1.3.3)\n",
      "Requirement already satisfied: pytz>=2017.2 in /usr/local/lib/python3.7/dist-packages (from pandas>=0.24.0->catboost) (2018.9)\n"
     ]
    }
   ],
   "source": [
    "!pip install catboost"
   ]
  },
  {
   "cell_type": "code",
   "execution_count": 2,
   "metadata": {
    "executionInfo": {
     "elapsed": 4298,
     "status": "ok",
     "timestamp": 1614807049984,
     "user": {
      "displayName": "Руслан Муштаков",
      "photoUrl": "",
      "userId": "06846086149309682337"
     },
     "user_tz": -180
    },
    "id": "W0Z6If5sr1SR"
   },
   "outputs": [],
   "source": [
    "import pandas as pd\n",
    "import numpy as np\n",
    "import re\n",
    "import sys\n",
    "\n",
    "import spacy\n",
    "\n",
    "import nltk\n",
    "from nltk.corpus import stopwords\n",
    "\n",
    "import gensim.models\n",
    "from gensim.test.utils import datapath\n",
    "from gensim import utils\n",
    "\n",
    "from sklearn.model_selection import train_test_split\n",
    "from sklearn.feature_extraction.text import TfidfVectorizer\n",
    "from sklearn.linear_model import LogisticRegression\n",
    "from sklearn.metrics import f1_score\n",
    "\n",
    "from catboost import Pool\n",
    "from catboost import CatBoostClassifier"
   ]
  },
  {
   "cell_type": "code",
   "execution_count": 3,
   "metadata": {
    "executionInfo": {
     "elapsed": 4292,
     "status": "ok",
     "timestamp": 1614807049988,
     "user": {
      "displayName": "Руслан Муштаков",
      "photoUrl": "",
      "userId": "06846086149309682337"
     },
     "user_tz": -180
    },
    "id": "0WgJ0azcr1ST"
   },
   "outputs": [],
   "source": [
    "# если необходимо установить spacy\n",
    "# !{sys.executable} -m pip install spacy\n",
    "# !{sys.executable} -m spacy download en_core_web_sm"
   ]
  },
  {
   "cell_type": "markdown",
   "metadata": {
    "id": "o3Sm5GQsr1ST"
   },
   "source": [
    "Прочитаем данные из файла и выведем первые 5 строк."
   ]
  },
  {
   "cell_type": "code",
   "execution_count": 4,
   "metadata": {
    "colab": {
     "base_uri": "https://localhost:8080/"
    },
    "executionInfo": {
     "elapsed": 4285,
     "status": "ok",
     "timestamp": 1614807049994,
     "user": {
      "displayName": "Руслан Муштаков",
      "photoUrl": "",
      "userId": "06846086149309682337"
     },
     "user_tz": -180
    },
    "id": "9wBIawpewFY8",
    "outputId": "8703e0be-9524-4f66-90e7-be4402fe9a96"
   },
   "outputs": [
    {
     "name": "stdout",
     "output_type": "stream",
     "text": [
      "Drive already mounted at /content/drive; to attempt to forcibly remount, call drive.mount(\"/content/drive\", force_remount=True).\n"
     ]
    }
   ],
   "source": [
    "from google.colab import drive\n",
    "drive.mount('/content/drive')"
   ]
  },
  {
   "cell_type": "code",
   "execution_count": 5,
   "metadata": {
    "colab": {
     "base_uri": "https://localhost:8080/",
     "height": 204
    },
    "executionInfo": {
     "elapsed": 4710,
     "status": "ok",
     "timestamp": 1614807050436,
     "user": {
      "displayName": "Руслан Муштаков",
      "photoUrl": "",
      "userId": "06846086149309682337"
     },
     "user_tz": -180
    },
    "id": "dIfZXNyWr1ST",
    "outputId": "2754dfd9-93ca-4411-bfda-430ebaa41a3e"
   },
   "outputs": [
    {
     "data": {
      "text/html": [
       "<div>\n",
       "<style scoped>\n",
       "    .dataframe tbody tr th:only-of-type {\n",
       "        vertical-align: middle;\n",
       "    }\n",
       "\n",
       "    .dataframe tbody tr th {\n",
       "        vertical-align: top;\n",
       "    }\n",
       "\n",
       "    .dataframe thead th {\n",
       "        text-align: right;\n",
       "    }\n",
       "</style>\n",
       "<table border=\"1\" class=\"dataframe\">\n",
       "  <thead>\n",
       "    <tr style=\"text-align: right;\">\n",
       "      <th></th>\n",
       "      <th>text</th>\n",
       "      <th>toxic</th>\n",
       "    </tr>\n",
       "  </thead>\n",
       "  <tbody>\n",
       "    <tr>\n",
       "      <th>0</th>\n",
       "      <td>Explanation\\nWhy the edits made under my usern...</td>\n",
       "      <td>0</td>\n",
       "    </tr>\n",
       "    <tr>\n",
       "      <th>1</th>\n",
       "      <td>D'aww! He matches this background colour I'm s...</td>\n",
       "      <td>0</td>\n",
       "    </tr>\n",
       "    <tr>\n",
       "      <th>2</th>\n",
       "      <td>Hey man, I'm really not trying to edit war. It...</td>\n",
       "      <td>0</td>\n",
       "    </tr>\n",
       "    <tr>\n",
       "      <th>3</th>\n",
       "      <td>\"\\nMore\\nI can't make any real suggestions on ...</td>\n",
       "      <td>0</td>\n",
       "    </tr>\n",
       "    <tr>\n",
       "      <th>4</th>\n",
       "      <td>You, sir, are my hero. Any chance you remember...</td>\n",
       "      <td>0</td>\n",
       "    </tr>\n",
       "  </tbody>\n",
       "</table>\n",
       "</div>"
      ],
      "text/plain": [
       "                                                text  toxic\n",
       "0  Explanation\\nWhy the edits made under my usern...      0\n",
       "1  D'aww! He matches this background colour I'm s...      0\n",
       "2  Hey man, I'm really not trying to edit war. It...      0\n",
       "3  \"\\nMore\\nI can't make any real suggestions on ...      0\n",
       "4  You, sir, are my hero. Any chance you remember...      0"
      ]
     },
     "execution_count": 5,
     "metadata": {
      "tags": []
     },
     "output_type": "execute_result"
    }
   ],
   "source": [
    "#comments = pd.read_csv('/datasets/toxic_comments.csv')\n",
    "comments = pd.read_csv('/content/drive/MyDrive/Colab Notebooks/ml_for_texts/toxic_comments.csv')\n",
    "comments.head()"
   ]
  },
  {
   "cell_type": "markdown",
   "metadata": {
    "id": "3hBVTEZwr1SU"
   },
   "source": [
    "Посмотрим общую информацию о таблице."
   ]
  },
  {
   "cell_type": "code",
   "execution_count": 6,
   "metadata": {
    "colab": {
     "base_uri": "https://localhost:8080/"
    },
    "executionInfo": {
     "elapsed": 4712,
     "status": "ok",
     "timestamp": 1614807050454,
     "user": {
      "displayName": "Руслан Муштаков",
      "photoUrl": "",
      "userId": "06846086149309682337"
     },
     "user_tz": -180
    },
    "id": "k38RsQUqr1SV",
    "outputId": "144eccfd-445b-4b4c-b061-7cff65aabf6e"
   },
   "outputs": [
    {
     "name": "stdout",
     "output_type": "stream",
     "text": [
      "<class 'pandas.core.frame.DataFrame'>\n",
      "RangeIndex: 159571 entries, 0 to 159570\n",
      "Data columns (total 2 columns):\n",
      " #   Column  Non-Null Count   Dtype \n",
      "---  ------  --------------   ----- \n",
      " 0   text    159571 non-null  object\n",
      " 1   toxic   159571 non-null  int64 \n",
      "dtypes: int64(1), object(1)\n",
      "memory usage: 2.4+ MB\n"
     ]
    }
   ],
   "source": [
    "comments.info()"
   ]
  },
  {
   "cell_type": "markdown",
   "metadata": {
    "id": "bC4U5TfPr1SV"
   },
   "source": [
    "Пропущенных строк нет, колонки названы корректно, типы данных определены верно. Обрабатываем дальше."
   ]
  },
  {
   "cell_type": "markdown",
   "metadata": {
    "id": "22l3P56xr1SV"
   },
   "source": [
    "Напишем функцию для очистки текста от лишних символов. Используем для это регулярные выражения. Оставим в тексте только латинские буквы(в обоих регистрах) и пробелы. Остальное все заменим на пробелы."
   ]
  },
  {
   "cell_type": "code",
   "execution_count": 7,
   "metadata": {
    "executionInfo": {
     "elapsed": 4703,
     "status": "ok",
     "timestamp": 1614807050456,
     "user": {
      "displayName": "Руслан Муштаков",
      "photoUrl": "",
      "userId": "06846086149309682337"
     },
     "user_tz": -180
    },
    "id": "aHgKfa7Jr1SV"
   },
   "outputs": [],
   "source": [
    "def clear_text(text):\n",
    "    cl_text = re.sub(r'[^a-zA-Z ]', ' ', text)\n",
    "    cl_text = ' '.join(cl_text.split())\n",
    "    return cl_text"
   ]
  },
  {
   "cell_type": "markdown",
   "metadata": {
    "id": "dyaH0Vxar1SV"
   },
   "source": [
    "Сохраним значения в отдельной колонке."
   ]
  },
  {
   "cell_type": "code",
   "execution_count": 8,
   "metadata": {
    "executionInfo": {
     "elapsed": 6827,
     "status": "ok",
     "timestamp": 1614807052588,
     "user": {
      "displayName": "Руслан Муштаков",
      "photoUrl": "",
      "userId": "06846086149309682337"
     },
     "user_tz": -180
    },
    "id": "NVrH076zr1SW"
   },
   "outputs": [],
   "source": [
    "comments['clear_text'] = comments['text'].apply(clear_text)"
   ]
  },
  {
   "cell_type": "markdown",
   "metadata": {
    "id": "xiTYvPtZr1SW"
   },
   "source": [
    "Напишем функцию для лемматизации текстов. Для этой цели будем использовать библиотеку spaCy."
   ]
  },
  {
   "cell_type": "code",
   "execution_count": 9,
   "metadata": {
    "executionInfo": {
     "elapsed": 6824,
     "status": "ok",
     "timestamp": 1614807052593,
     "user": {
      "displayName": "Руслан Муштаков",
      "photoUrl": "",
      "userId": "06846086149309682337"
     },
     "user_tz": -180
    },
    "id": "eTUCMtBwr1SW"
   },
   "outputs": [],
   "source": [
    "def lemmatize_text(text):\n",
    "    nlp = spacy.load(\"en_core_web_sm\")\n",
    "    doc = nlp(text)\n",
    "    lemm_text = ' '.join([token.lemma_ for token in doc])\n",
    "    return lemm_text"
   ]
  },
  {
   "cell_type": "markdown",
   "metadata": {
    "id": "S8nxpTbRr1SW"
   },
   "source": [
    "Проверим, как быстро у нас лемматизируется выборка из 100 случайных строк."
   ]
  },
  {
   "cell_type": "code",
   "execution_count": 10,
   "metadata": {
    "executionInfo": {
     "elapsed": 6818,
     "status": "ok",
     "timestamp": 1614807052594,
     "user": {
      "displayName": "Руслан Муштаков",
      "photoUrl": "",
      "userId": "06846086149309682337"
     },
     "user_tz": -180
    },
    "id": "M4-6HMOFr1SW"
   },
   "outputs": [],
   "source": [
    "check_speed = comments.sample(100).reset_index(drop=True)"
   ]
  },
  {
   "cell_type": "code",
   "execution_count": 11,
   "metadata": {
    "colab": {
     "base_uri": "https://localhost:8080/"
    },
    "executionInfo": {
     "elapsed": 59633,
     "status": "ok",
     "timestamp": 1614807105419,
     "user": {
      "displayName": "Руслан Муштаков",
      "photoUrl": "",
      "userId": "06846086149309682337"
     },
     "user_tz": -180
    },
    "id": "L6lWJsZ7r1SX",
    "outputId": "5c5006cf-d8dd-4fb1-8f97-06e0b623ab21"
   },
   "outputs": [
    {
     "name": "stdout",
     "output_type": "stream",
     "text": [
      "CPU times: user 51.4 s, sys: 1.04 s, total: 52.4 s\n",
      "Wall time: 52.4 s\n"
     ]
    }
   ],
   "source": [
    "%%time\n",
    "check_speed['lemm_text'] = check_speed['clear_text'].apply(lemmatize_text)"
   ]
  },
  {
   "cell_type": "markdown",
   "metadata": {
    "id": "dPC1SEYzr1SX"
   },
   "source": [
    "Видно, что лемматизация для 100 строк длится примерно минуту. У нас строк 160000 - и это займет не один час. Попробуем обучить модели на нелемматизированных строках. Однако посмотрим, работу данной функции и выполняет ли она лемматизацию верно."
   ]
  },
  {
   "cell_type": "code",
   "execution_count": 12,
   "metadata": {
    "colab": {
     "base_uri": "https://localhost:8080/"
    },
    "executionInfo": {
     "elapsed": 59619,
     "status": "ok",
     "timestamp": 1614807105420,
     "user": {
      "displayName": "Руслан Муштаков",
      "photoUrl": "",
      "userId": "06846086149309682337"
     },
     "user_tz": -180
    },
    "id": "zhLSc_wGr1SX",
    "outputId": "ad19a554-02aa-4fb2-aa36-f5813a104de5"
   },
   "outputs": [
    {
     "name": "stdout",
     "output_type": "stream",
     "text": [
      "clear_text: About the Manhattan Bridge See Acps I read the history site on the W train page It says When all four tracks on the Manhattan Bridge were restored on February the W was changed to its final service pattern as a weekday local between Whitehall Street South Ferry and Queens This means the W was local and the N was express That s when the Manhattan Bridge s north tracks reopen for the B and D trains Read more about the service history of the B D N Q and W train pages so you can get a better understand you meanie D\n",
      "----------------------------------------\n",
      "lemm_text: about the Manhattan Bridge see Acps -PRON- read the history site on the w train page -PRON- say when all four track on the Manhattan Bridge be restore on February the W be change to -PRON- final service pattern as a weekday local between Whitehall Street South Ferry and Queens this mean the w be local and the n be express that s when the Manhattan Bridge s north track reopen for the b and d train read more about the service history of the B D N q and W train page so -PRON- can get a well understand -PRON- meanie D\n"
     ]
    }
   ],
   "source": [
    "print('clear_text:', check_speed['clear_text'][0])\n",
    "print('-' * 40)\n",
    "print('lemm_text:', check_speed['lemm_text'][0])"
   ]
  },
  {
   "cell_type": "markdown",
   "metadata": {
    "id": "13p-Vgo8r1SX"
   },
   "source": [
    "Видно, что операция выполняется. Стоит заметить, что вместо местоимений здесь подставляется -PRON-."
   ]
  },
  {
   "cell_type": "markdown",
   "metadata": {
    "id": "xbU5vMkPr1SX"
   },
   "source": [
    "Дальше будем работать только с очищенными данными."
   ]
  },
  {
   "cell_type": "markdown",
   "metadata": {
    "id": "l83TMxRlr1SY"
   },
   "source": [
    "Разделим наши данные на тренировочную и тестовую выборки."
   ]
  },
  {
   "cell_type": "code",
   "execution_count": 13,
   "metadata": {
    "executionInfo": {
     "elapsed": 59608,
     "status": "ok",
     "timestamp": 1614807105421,
     "user": {
      "displayName": "Руслан Муштаков",
      "photoUrl": "",
      "userId": "06846086149309682337"
     },
     "user_tz": -180
    },
    "id": "DEjEjMDLr1SY"
   },
   "outputs": [],
   "source": [
    "train, test = train_test_split(comments, test_size=0.2, random_state=12345)"
   ]
  },
  {
   "cell_type": "markdown",
   "metadata": {
    "id": "-Enf0oWhr1SY"
   },
   "source": [
    "Также получим целевые признаки для обучающей и тестовой выборок."
   ]
  },
  {
   "cell_type": "code",
   "execution_count": 14,
   "metadata": {
    "executionInfo": {
     "elapsed": 59599,
     "status": "ok",
     "timestamp": 1614807105421,
     "user": {
      "displayName": "Руслан Муштаков",
      "photoUrl": "",
      "userId": "06846086149309682337"
     },
     "user_tz": -180
    },
    "id": "KaJeHWdsr1SY"
   },
   "outputs": [],
   "source": [
    "target_train = train['toxic']\n",
    "target_test = test['toxic']"
   ]
  },
  {
   "cell_type": "markdown",
   "metadata": {
    "id": "OAmewe5lr1SY"
   },
   "source": [
    "### TF-IDF"
   ]
  },
  {
   "cell_type": "markdown",
   "metadata": {
    "id": "rCN8Q1UWr1SY"
   },
   "source": [
    "Создадим корпусы текстов, путем преобразования колонки clear_text в список текстов для обеих выборок."
   ]
  },
  {
   "cell_type": "code",
   "execution_count": 15,
   "metadata": {
    "executionInfo": {
     "elapsed": 59592,
     "status": "ok",
     "timestamp": 1614807105422,
     "user": {
      "displayName": "Руслан Муштаков",
      "photoUrl": "",
      "userId": "06846086149309682337"
     },
     "user_tz": -180
    },
    "id": "6qvt2aLur1SY"
   },
   "outputs": [],
   "source": [
    "corpus_train = list(train['clear_text'])\n",
    "corpus_test = list(test['clear_text'])"
   ]
  },
  {
   "cell_type": "markdown",
   "metadata": {
    "id": "4ygPtu83r1SY"
   },
   "source": [
    "Загрузим список стоп-слов."
   ]
  },
  {
   "cell_type": "code",
   "execution_count": 16,
   "metadata": {
    "colab": {
     "base_uri": "https://localhost:8080/"
    },
    "executionInfo": {
     "elapsed": 59584,
     "status": "ok",
     "timestamp": 1614807105423,
     "user": {
      "displayName": "Руслан Муштаков",
      "photoUrl": "",
      "userId": "06846086149309682337"
     },
     "user_tz": -180
    },
    "id": "y4HE7723r1SZ",
    "outputId": "6232864d-0cbe-4c97-9dbf-f527a786b82e"
   },
   "outputs": [
    {
     "name": "stdout",
     "output_type": "stream",
     "text": [
      "[nltk_data] Downloading package stopwords to /root/nltk_data...\n",
      "[nltk_data]   Package stopwords is already up-to-date!\n"
     ]
    },
    {
     "data": {
      "text/plain": [
       "True"
      ]
     },
     "execution_count": 16,
     "metadata": {
      "tags": []
     },
     "output_type": "execute_result"
    }
   ],
   "source": [
    "nltk.download('stopwords')"
   ]
  },
  {
   "cell_type": "markdown",
   "metadata": {
    "id": "SFvec55cr1SZ"
   },
   "source": [
    "Получим английские стоп-слова."
   ]
  },
  {
   "cell_type": "code",
   "execution_count": 17,
   "metadata": {
    "executionInfo": {
     "elapsed": 59579,
     "status": "ok",
     "timestamp": 1614807105430,
     "user": {
      "displayName": "Руслан Муштаков",
      "photoUrl": "",
      "userId": "06846086149309682337"
     },
     "user_tz": -180
    },
    "id": "uaUnx7Uwr1SZ"
   },
   "outputs": [],
   "source": [
    "stop_words = set(stopwords.words('english'))"
   ]
  },
  {
   "cell_type": "markdown",
   "metadata": {
    "id": "8vSN69NVr1SZ"
   },
   "source": [
    "Вычислим TF-IDF для корпуса текстов."
   ]
  },
  {
   "cell_type": "code",
   "execution_count": 18,
   "metadata": {
    "executionInfo": {
     "elapsed": 64623,
     "status": "ok",
     "timestamp": 1614807110482,
     "user": {
      "displayName": "Руслан Муштаков",
      "photoUrl": "",
      "userId": "06846086149309682337"
     },
     "user_tz": -180
    },
    "id": "lhce7YL6r1SZ"
   },
   "outputs": [],
   "source": [
    "count_tf_idf = TfidfVectorizer(stop_words=stop_words, lowercase=True, min_df=0.001)\n",
    "features_train_tf_idf = count_tf_idf.fit_transform(corpus_train)"
   ]
  },
  {
   "cell_type": "markdown",
   "metadata": {
    "id": "XdP_D2nOr1SZ"
   },
   "source": [
    "На обученном TfidfVectorizer, получим признаки для тестовой выборки."
   ]
  },
  {
   "cell_type": "code",
   "execution_count": 19,
   "metadata": {
    "executionInfo": {
     "elapsed": 66226,
     "status": "ok",
     "timestamp": 1614807112092,
     "user": {
      "displayName": "Руслан Муштаков",
      "photoUrl": "",
      "userId": "06846086149309682337"
     },
     "user_tz": -180
    },
    "id": "1fUvxPEyr1SZ"
   },
   "outputs": [],
   "source": [
    "features_test_tf_idf = count_tf_idf.transform(corpus_test)"
   ]
  },
  {
   "cell_type": "markdown",
   "metadata": {
    "id": "QHEaDfBxr1Sa"
   },
   "source": [
    "Посмотрим тип получившихся признаков."
   ]
  },
  {
   "cell_type": "code",
   "execution_count": 20,
   "metadata": {
    "colab": {
     "base_uri": "https://localhost:8080/"
    },
    "executionInfo": {
     "elapsed": 66219,
     "status": "ok",
     "timestamp": 1614807112096,
     "user": {
      "displayName": "Руслан Муштаков",
      "photoUrl": "",
      "userId": "06846086149309682337"
     },
     "user_tz": -180
    },
    "id": "xGSHYr16r1Sa",
    "outputId": "f886810e-dcaf-4840-81c8-88e00e56b6b0"
   },
   "outputs": [
    {
     "data": {
      "text/plain": [
       "scipy.sparse.csr.csr_matrix"
      ]
     },
     "execution_count": 20,
     "metadata": {
      "tags": []
     },
     "output_type": "execute_result"
    }
   ],
   "source": [
    "type(features_train_tf_idf)"
   ]
  },
  {
   "cell_type": "markdown",
   "metadata": {
    "id": "aAoDTUAMr1Sa"
   },
   "source": [
    "Подготовим признаки в табличном виде."
   ]
  },
  {
   "cell_type": "code",
   "execution_count": 21,
   "metadata": {
    "executionInfo": {
     "elapsed": 67977,
     "status": "ok",
     "timestamp": 1614807113864,
     "user": {
      "displayName": "Руслан Муштаков",
      "photoUrl": "",
      "userId": "06846086149309682337"
     },
     "user_tz": -180
    },
    "id": "d6NM4ZTDr1Sa"
   },
   "outputs": [],
   "source": [
    "features_train_tf_idf_vec = pd.DataFrame(features_train_tf_idf.toarray())"
   ]
  },
  {
   "cell_type": "code",
   "execution_count": 22,
   "metadata": {
    "executionInfo": {
     "elapsed": 67971,
     "status": "ok",
     "timestamp": 1614807113866,
     "user": {
      "displayName": "Руслан Муштаков",
      "photoUrl": "",
      "userId": "06846086149309682337"
     },
     "user_tz": -180
    },
    "id": "V7RrWobrr1Sa"
   },
   "outputs": [],
   "source": [
    "features_test_tf_idf_vec = pd.DataFrame(features_test_tf_idf.toarray())"
   ]
  },
  {
   "cell_type": "markdown",
   "metadata": {
    "id": "43dzhFI9r1Sa"
   },
   "source": [
    "На данном шаге мы получили признаки, основанные на величинах TF-IDF для каждого слова."
   ]
  },
  {
   "cell_type": "markdown",
   "metadata": {
    "id": "T7hMOVuBr1Sa"
   },
   "source": [
    "### Word2Vec"
   ]
  },
  {
   "cell_type": "markdown",
   "metadata": {
    "id": "sRvKYqYgr1Sa"
   },
   "source": [
    "Теперь переведем наши текста в вектора с помощью метода Word2Vec. Для этих целей будем использовать библиотеку `gensim`."
   ]
  },
  {
   "cell_type": "markdown",
   "metadata": {
    "id": "lfC5n7lbr1Sb"
   },
   "source": [
    "Чтобы она работала правильно, необходимо особым образом представить наши текста.<br> \n",
    "Из документации: *Note the sentences iterable must be restartable (not just a generator), to allow the algorithm to stream over your dataset multiple times.*"
   ]
  },
  {
   "cell_type": "code",
   "execution_count": 23,
   "metadata": {
    "executionInfo": {
     "elapsed": 67965,
     "status": "ok",
     "timestamp": 1614807113868,
     "user": {
      "displayName": "Руслан Муштаков",
      "photoUrl": "",
      "userId": "06846086149309682337"
     },
     "user_tz": -180
    },
    "id": "_jQ9gcPkr1Sb"
   },
   "outputs": [],
   "source": [
    "class MyCorpus(object):\n",
    "    \"\"\"An interator that yields sentences (lists of str).\"\"\"\n",
    "\n",
    "    def __iter__(self):\n",
    "        \n",
    "        for line in train['clear_text'].values:\n",
    "            # assume there's one document per line, tokens separated by whitespace\n",
    "            yield utils.simple_preprocess(line)"
   ]
  },
  {
   "cell_type": "markdown",
   "metadata": {
    "id": "aSDZYcZTVtFn"
   },
   "source": [
    "Укажем, через константу, сколько признаков через Word2Vec мы хотим получить."
   ]
  },
  {
   "cell_type": "code",
   "execution_count": 24,
   "metadata": {
    "executionInfo": {
     "elapsed": 67958,
     "status": "ok",
     "timestamp": 1614807113869,
     "user": {
      "displayName": "Руслан Муштаков",
      "photoUrl": "",
      "userId": "06846086149309682337"
     },
     "user_tz": -180
    },
    "id": "38rvVlJFVxE2"
   },
   "outputs": [],
   "source": [
    "NUM_WV_FEATURES = 100"
   ]
  },
  {
   "cell_type": "markdown",
   "metadata": {
    "id": "N2W6KjzKr1Sb"
   },
   "source": [
    "Создадим нашу модель, которая будет береводить слова в вектора."
   ]
  },
  {
   "cell_type": "code",
   "execution_count": 25,
   "metadata": {
    "executionInfo": {
     "elapsed": 173825,
     "status": "ok",
     "timestamp": 1614807219743,
     "user": {
      "displayName": "Руслан Муштаков",
      "photoUrl": "",
      "userId": "06846086149309682337"
     },
     "user_tz": -180
    },
    "id": "tWcQItqzr1Sb"
   },
   "outputs": [],
   "source": [
    "sentences = MyCorpus()\n",
    "w2v = gensim.models.Word2Vec(sentences=sentences)"
   ]
  },
  {
   "cell_type": "markdown",
   "metadata": {
    "id": "na3SOUY8r1Sb"
   },
   "source": [
    "Напишем функцию, которая для переданной строки `row` будет формировать соответствующи вектор с количесвтом признаков равным `num_features`. Сначала мы для каждого слова отдельно найдем соответсвующий вектор, а потом сложим все вектора для слов и получим вектор для предложения."
   ]
  },
  {
   "cell_type": "code",
   "execution_count": 26,
   "metadata": {
    "executionInfo": {
     "elapsed": 173820,
     "status": "ok",
     "timestamp": 1614807219747,
     "user": {
      "displayName": "Руслан Муштаков",
      "photoUrl": "",
      "userId": "06846086149309682337"
     },
     "user_tz": -180
    },
    "id": "kzx4N0pir1Sb"
   },
   "outputs": [],
   "source": [
    "def get_vectors(row):\n",
    "    vecs = [np.zeros(NUM_WV_FEATURES)]\n",
    "    for w in utils.simple_preprocess(row['clear_text']):\n",
    "        try:\n",
    "            v = w2v[w]\n",
    "        except:\n",
    "            v = np.zeros(NUM_WV_FEATURES)\n",
    "        vecs.append(v)\n",
    "\n",
    "    return np.sum(np.array(vecs), axis=0)"
   ]
  },
  {
   "cell_type": "markdown",
   "metadata": {
    "id": "S9DZfnFEr1Sc"
   },
   "source": [
    "Применим функцию для тренировочной выборки."
   ]
  },
  {
   "cell_type": "code",
   "execution_count": 27,
   "metadata": {
    "colab": {
     "base_uri": "https://localhost:8080/",
     "height": 204
    },
    "executionInfo": {
     "elapsed": 173805,
     "status": "ok",
     "timestamp": 1614807219748,
     "user": {
      "displayName": "Руслан Муштаков",
      "photoUrl": "",
      "userId": "06846086149309682337"
     },
     "user_tz": -180
    },
    "id": "j0ja1D7iS4sr",
    "outputId": "78cc7170-885e-4b0f-fa0b-7f2023af1e79"
   },
   "outputs": [
    {
     "data": {
      "text/html": [
       "<div>\n",
       "<style scoped>\n",
       "    .dataframe tbody tr th:only-of-type {\n",
       "        vertical-align: middle;\n",
       "    }\n",
       "\n",
       "    .dataframe tbody tr th {\n",
       "        vertical-align: top;\n",
       "    }\n",
       "\n",
       "    .dataframe thead th {\n",
       "        text-align: right;\n",
       "    }\n",
       "</style>\n",
       "<table border=\"1\" class=\"dataframe\">\n",
       "  <thead>\n",
       "    <tr style=\"text-align: right;\">\n",
       "      <th></th>\n",
       "      <th>text</th>\n",
       "      <th>toxic</th>\n",
       "      <th>clear_text</th>\n",
       "    </tr>\n",
       "  </thead>\n",
       "  <tbody>\n",
       "    <tr>\n",
       "      <th>45800</th>\n",
       "      <td>I have offered as well...but he must do my map...</td>\n",
       "      <td>0</td>\n",
       "      <td>I have offered as well but he must do my map f...</td>\n",
       "    </tr>\n",
       "    <tr>\n",
       "      <th>94209</th>\n",
       "      <td>YOUR biased! ORTHODOX VIEWS have no more merit...</td>\n",
       "      <td>0</td>\n",
       "      <td>YOUR biased ORTHODOX VIEWS have no more merit ...</td>\n",
       "    </tr>\n",
       "    <tr>\n",
       "      <th>135210</th>\n",
       "      <td>Thank you very much for your quick respond and...</td>\n",
       "      <td>0</td>\n",
       "      <td>Thank you very much for your quick respond and...</td>\n",
       "    </tr>\n",
       "    <tr>\n",
       "      <th>89158</th>\n",
       "      <td>I moved this page.  When I did, I found anothe...</td>\n",
       "      <td>0</td>\n",
       "      <td>I moved this page When I did I found another l...</td>\n",
       "    </tr>\n",
       "    <tr>\n",
       "      <th>61233</th>\n",
       "      <td>Gray Powell article nominated for deletion \\nN...</td>\n",
       "      <td>0</td>\n",
       "      <td>Gray Powell article nominated for deletion Nom...</td>\n",
       "    </tr>\n",
       "  </tbody>\n",
       "</table>\n",
       "</div>"
      ],
      "text/plain": [
       "                                                     text  ...                                         clear_text\n",
       "45800   I have offered as well...but he must do my map...  ...  I have offered as well but he must do my map f...\n",
       "94209   YOUR biased! ORTHODOX VIEWS have no more merit...  ...  YOUR biased ORTHODOX VIEWS have no more merit ...\n",
       "135210  Thank you very much for your quick respond and...  ...  Thank you very much for your quick respond and...\n",
       "89158   I moved this page.  When I did, I found anothe...  ...  I moved this page When I did I found another l...\n",
       "61233   Gray Powell article nominated for deletion \\nN...  ...  Gray Powell article nominated for deletion Nom...\n",
       "\n",
       "[5 rows x 3 columns]"
      ]
     },
     "execution_count": 27,
     "metadata": {
      "tags": []
     },
     "output_type": "execute_result"
    }
   ],
   "source": [
    "train.head()"
   ]
  },
  {
   "cell_type": "code",
   "execution_count": 28,
   "metadata": {
    "colab": {
     "base_uri": "https://localhost:8080/"
    },
    "executionInfo": {
     "elapsed": 219026,
     "status": "ok",
     "timestamp": 1614807264993,
     "user": {
      "displayName": "Руслан Муштаков",
      "photoUrl": "",
      "userId": "06846086149309682337"
     },
     "user_tz": -180
    },
    "id": "Mp7oV1P6r1Sc",
    "outputId": "8f5f7c53-42d4-4462-e8c0-6b3d48386ece"
   },
   "outputs": [
    {
     "name": "stderr",
     "output_type": "stream",
     "text": [
      "/usr/local/lib/python3.7/dist-packages/ipykernel_launcher.py:5: DeprecationWarning: Call to deprecated `__getitem__` (Method will be removed in 4.0.0, use self.wv.__getitem__() instead).\n",
      "  \"\"\"\n",
      "/usr/local/lib/python3.7/dist-packages/ipykernel_launcher.py:1: SettingWithCopyWarning: \n",
      "A value is trying to be set on a copy of a slice from a DataFrame.\n",
      "Try using .loc[row_indexer,col_indexer] = value instead\n",
      "\n",
      "See the caveats in the documentation: https://pandas.pydata.org/pandas-docs/stable/user_guide/indexing.html#returning-a-view-versus-a-copy\n",
      "  \"\"\"Entry point for launching an IPython kernel.\n"
     ]
    }
   ],
   "source": [
    "train['wv'] = train.apply(get_vectors, axis=1)"
   ]
  },
  {
   "cell_type": "markdown",
   "metadata": {
    "id": "jShOsj32r1Sc"
   },
   "source": [
    "Посмотрим, как отработала данная функция."
   ]
  },
  {
   "cell_type": "code",
   "execution_count": 29,
   "metadata": {
    "colab": {
     "base_uri": "https://localhost:8080/",
     "height": 204
    },
    "executionInfo": {
     "elapsed": 219013,
     "status": "ok",
     "timestamp": 1614807264997,
     "user": {
      "displayName": "Руслан Муштаков",
      "photoUrl": "",
      "userId": "06846086149309682337"
     },
     "user_tz": -180
    },
    "id": "TweEy_8Ur1Sc",
    "outputId": "e46d4ad7-faa2-4dc8-cb7d-9f9c873f6137"
   },
   "outputs": [
    {
     "data": {
      "text/html": [
       "<div>\n",
       "<style scoped>\n",
       "    .dataframe tbody tr th:only-of-type {\n",
       "        vertical-align: middle;\n",
       "    }\n",
       "\n",
       "    .dataframe tbody tr th {\n",
       "        vertical-align: top;\n",
       "    }\n",
       "\n",
       "    .dataframe thead th {\n",
       "        text-align: right;\n",
       "    }\n",
       "</style>\n",
       "<table border=\"1\" class=\"dataframe\">\n",
       "  <thead>\n",
       "    <tr style=\"text-align: right;\">\n",
       "      <th></th>\n",
       "      <th>text</th>\n",
       "      <th>toxic</th>\n",
       "      <th>clear_text</th>\n",
       "      <th>wv</th>\n",
       "    </tr>\n",
       "  </thead>\n",
       "  <tbody>\n",
       "    <tr>\n",
       "      <th>45800</th>\n",
       "      <td>I have offered as well...but he must do my map...</td>\n",
       "      <td>0</td>\n",
       "      <td>I have offered as well but he must do my map f...</td>\n",
       "      <td>[1.8095783032476902, -12.22042335383594, 6.460...</td>\n",
       "    </tr>\n",
       "    <tr>\n",
       "      <th>94209</th>\n",
       "      <td>YOUR biased! ORTHODOX VIEWS have no more merit...</td>\n",
       "      <td>0</td>\n",
       "      <td>YOUR biased ORTHODOX VIEWS have no more merit ...</td>\n",
       "      <td>[8.39693272486329, -57.38118848018348, -16.702...</td>\n",
       "    </tr>\n",
       "    <tr>\n",
       "      <th>135210</th>\n",
       "      <td>Thank you very much for your quick respond and...</td>\n",
       "      <td>0</td>\n",
       "      <td>Thank you very much for your quick respond and...</td>\n",
       "      <td>[-3.331927366554737, -53.02797158062458, 3.450...</td>\n",
       "    </tr>\n",
       "    <tr>\n",
       "      <th>89158</th>\n",
       "      <td>I moved this page.  When I did, I found anothe...</td>\n",
       "      <td>0</td>\n",
       "      <td>I moved this page When I did I found another l...</td>\n",
       "      <td>[11.90593901090324, 6.0668970271945, 5.4115197...</td>\n",
       "    </tr>\n",
       "    <tr>\n",
       "      <th>61233</th>\n",
       "      <td>Gray Powell article nominated for deletion \\nN...</td>\n",
       "      <td>0</td>\n",
       "      <td>Gray Powell article nominated for deletion Nom...</td>\n",
       "      <td>[11.662838727235794, 1.9756474867463112, 14.75...</td>\n",
       "    </tr>\n",
       "  </tbody>\n",
       "</table>\n",
       "</div>"
      ],
      "text/plain": [
       "                                                     text  ...                                                 wv\n",
       "45800   I have offered as well...but he must do my map...  ...  [1.8095783032476902, -12.22042335383594, 6.460...\n",
       "94209   YOUR biased! ORTHODOX VIEWS have no more merit...  ...  [8.39693272486329, -57.38118848018348, -16.702...\n",
       "135210  Thank you very much for your quick respond and...  ...  [-3.331927366554737, -53.02797158062458, 3.450...\n",
       "89158   I moved this page.  When I did, I found anothe...  ...  [11.90593901090324, 6.0668970271945, 5.4115197...\n",
       "61233   Gray Powell article nominated for deletion \\nN...  ...  [11.662838727235794, 1.9756474867463112, 14.75...\n",
       "\n",
       "[5 rows x 4 columns]"
      ]
     },
     "execution_count": 29,
     "metadata": {
      "tags": []
     },
     "output_type": "execute_result"
    }
   ],
   "source": [
    "train.head()"
   ]
  },
  {
   "cell_type": "markdown",
   "metadata": {
    "id": "aeb_3Hqgr1Sc"
   },
   "source": [
    "Подготовим признаки в табличном виде."
   ]
  },
  {
   "cell_type": "code",
   "execution_count": 30,
   "metadata": {
    "executionInfo": {
     "elapsed": 224904,
     "status": "ok",
     "timestamp": 1614807270901,
     "user": {
      "displayName": "Руслан Муштаков",
      "photoUrl": "",
      "userId": "06846086149309682337"
     },
     "user_tz": -180
    },
    "id": "p8HctYxmr1Sc"
   },
   "outputs": [],
   "source": [
    "features_train_wv_vec = pd.DataFrame(train['wv'].to_list())"
   ]
  },
  {
   "cell_type": "markdown",
   "metadata": {
    "id": "Tj1AEuw1r1Sc"
   },
   "source": [
    "Выполнил теже самые операции для тестовой выборки."
   ]
  },
  {
   "cell_type": "code",
   "execution_count": 31,
   "metadata": {
    "colab": {
     "base_uri": "https://localhost:8080/"
    },
    "executionInfo": {
     "elapsed": 236178,
     "status": "ok",
     "timestamp": 1614807282182,
     "user": {
      "displayName": "Руслан Муштаков",
      "photoUrl": "",
      "userId": "06846086149309682337"
     },
     "user_tz": -180
    },
    "id": "j2aAMGqDr1Sd",
    "outputId": "38481184-2f34-478c-ba16-20f6d27bd800"
   },
   "outputs": [
    {
     "name": "stderr",
     "output_type": "stream",
     "text": [
      "/usr/local/lib/python3.7/dist-packages/ipykernel_launcher.py:5: DeprecationWarning: Call to deprecated `__getitem__` (Method will be removed in 4.0.0, use self.wv.__getitem__() instead).\n",
      "  \"\"\"\n",
      "/usr/local/lib/python3.7/dist-packages/ipykernel_launcher.py:1: SettingWithCopyWarning: \n",
      "A value is trying to be set on a copy of a slice from a DataFrame.\n",
      "Try using .loc[row_indexer,col_indexer] = value instead\n",
      "\n",
      "See the caveats in the documentation: https://pandas.pydata.org/pandas-docs/stable/user_guide/indexing.html#returning-a-view-versus-a-copy\n",
      "  \"\"\"Entry point for launching an IPython kernel.\n"
     ]
    }
   ],
   "source": [
    "test['wv'] = test.apply(get_vectors, axis=1)"
   ]
  },
  {
   "cell_type": "code",
   "execution_count": 32,
   "metadata": {
    "executionInfo": {
     "elapsed": 236403,
     "status": "ok",
     "timestamp": 1614807282417,
     "user": {
      "displayName": "Руслан Муштаков",
      "photoUrl": "",
      "userId": "06846086149309682337"
     },
     "user_tz": -180
    },
    "id": "uVHYKkP9r1Sd"
   },
   "outputs": [],
   "source": [
    "features_test_wv_vec = pd.DataFrame(test['wv'].to_list())"
   ]
  },
  {
   "cell_type": "markdown",
   "metadata": {
    "id": "1tTYwlGNr1Sd"
   },
   "source": [
    "На данном шаге мы получили признаки, основанные на векторах (эмбеддингах)."
   ]
  },
  {
   "cell_type": "markdown",
   "metadata": {
    "id": "uuslFQY4r1Sd"
   },
   "source": [
    "### Вывод"
   ]
  },
  {
   "cell_type": "markdown",
   "metadata": {
    "id": "hqLxU6Hsr1Sd"
   },
   "source": [
    "На данном этапе мы подготовили данные для обучения. Загрузили данные из файла. Посмотрели, что нет пропущенных строк, типы данных определены правильно и названия колонок корректные. Далее мы почистили данные от лишних символов. Проводить лемматизацию мы проводить не стали, потому что это может занять много времени, попробуем обучиться только на очищенных данных. Далее мы разделили первоначальные данные на тренировочную и тестовую выборки. Затем подоготовили признаки для обучения. Это мы сделали двумя способами: путем подсчета значений TF-IDF для каждого слова и путем преобразования строк в вектора спомощью метода Word2Vec."
   ]
  },
  {
   "cell_type": "markdown",
   "metadata": {
    "id": "ZNaNFk-Ur1Sd"
   },
   "source": [
    "## 2. Обучение"
   ]
  },
  {
   "cell_type": "markdown",
   "metadata": {
    "id": "ymd3n5qVr1Sd"
   },
   "source": [
    "Рассмотрим несколько моделей для классификации комментариев на позитивные и негативные. Сначала обучим их на тренировочной выборке, а затем оценим качество на тестовой с помощью метрики F1. У нас есть несколько наборов признаков полученных из данных, каждую модель попробуем обучить на этих признаках."
   ]
  },
  {
   "cell_type": "markdown",
   "metadata": {
    "id": "KUJmWEQkr1Sd"
   },
   "source": [
    "### 2.1 Логистическая регрессия"
   ]
  },
  {
   "cell_type": "markdown",
   "metadata": {
    "id": "KU95K6O4r1Se"
   },
   "source": [
    "Рассмотрим модель логитической регрессии."
   ]
  },
  {
   "cell_type": "markdown",
   "metadata": {
    "id": "PMRe9rwer1Se"
   },
   "source": [
    "#### TF-IDF"
   ]
  },
  {
   "cell_type": "markdown",
   "metadata": {
    "id": "4bFd58for1Se"
   },
   "source": [
    "Обучим модель на признаках TF-IDF."
   ]
  },
  {
   "cell_type": "code",
   "execution_count": 33,
   "metadata": {
    "executionInfo": {
     "elapsed": 236396,
     "status": "ok",
     "timestamp": 1614807282418,
     "user": {
      "displayName": "Руслан Муштаков",
      "photoUrl": "",
      "userId": "06846086149309682337"
     },
     "user_tz": -180
    },
    "id": "rCHPZO50r1Se"
   },
   "outputs": [],
   "source": [
    "model_lr_tf_idf = LogisticRegression(max_iter=1000, random_state=12345)"
   ]
  },
  {
   "cell_type": "code",
   "execution_count": 34,
   "metadata": {
    "colab": {
     "base_uri": "https://localhost:8080/"
    },
    "executionInfo": {
     "elapsed": 305151,
     "status": "ok",
     "timestamp": 1614807351181,
     "user": {
      "displayName": "Руслан Муштаков",
      "photoUrl": "",
      "userId": "06846086149309682337"
     },
     "user_tz": -180
    },
    "id": "qFMUvJW_r1Se",
    "outputId": "1470159a-95e4-4d5e-c369-f8a9c4a33d57"
   },
   "outputs": [
    {
     "data": {
      "text/plain": [
       "LogisticRegression(C=1.0, class_weight=None, dual=False, fit_intercept=True,\n",
       "                   intercept_scaling=1, l1_ratio=None, max_iter=1000,\n",
       "                   multi_class='auto', n_jobs=None, penalty='l2',\n",
       "                   random_state=12345, solver='lbfgs', tol=0.0001, verbose=0,\n",
       "                   warm_start=False)"
      ]
     },
     "execution_count": 34,
     "metadata": {
      "tags": []
     },
     "output_type": "execute_result"
    }
   ],
   "source": [
    "model_lr_tf_idf.fit(features_train_tf_idf_vec, target_train)"
   ]
  },
  {
   "cell_type": "code",
   "execution_count": 35,
   "metadata": {
    "executionInfo": {
     "elapsed": 305146,
     "status": "ok",
     "timestamp": 1614807351183,
     "user": {
      "displayName": "Руслан Муштаков",
      "photoUrl": "",
      "userId": "06846086149309682337"
     },
     "user_tz": -180
    },
    "id": "QgcN9p1Nr1Se"
   },
   "outputs": [],
   "source": [
    "predictions_lr_tf_idf = model_lr_tf_idf.predict(features_test_tf_idf_vec)"
   ]
  },
  {
   "cell_type": "code",
   "execution_count": 36,
   "metadata": {
    "colab": {
     "base_uri": "https://localhost:8080/"
    },
    "executionInfo": {
     "elapsed": 305139,
     "status": "ok",
     "timestamp": 1614807351184,
     "user": {
      "displayName": "Руслан Муштаков",
      "photoUrl": "",
      "userId": "06846086149309682337"
     },
     "user_tz": -180
    },
    "id": "hNlt8dRSr1Se",
    "outputId": "a6892be4-c863-4abf-a562-1a49cb0c5f32"
   },
   "outputs": [
    {
     "data": {
      "text/plain": [
       "0.727103845439346"
      ]
     },
     "execution_count": 36,
     "metadata": {
      "tags": []
     },
     "output_type": "execute_result"
    }
   ],
   "source": [
    "f1_lr_tf_idf = f1_score(target_test, predictions_lr_tf_idf)\n",
    "f1_lr_tf_idf"
   ]
  },
  {
   "cell_type": "markdown",
   "metadata": {
    "id": "h3nIXSIPr1Se"
   },
   "source": [
    "#### Word2Vec"
   ]
  },
  {
   "cell_type": "markdown",
   "metadata": {
    "id": "2k9c3Nwf4N1i"
   },
   "source": [
    "Обучим на векторах."
   ]
  },
  {
   "cell_type": "code",
   "execution_count": 37,
   "metadata": {
    "executionInfo": {
     "elapsed": 305128,
     "status": "ok",
     "timestamp": 1614807351187,
     "user": {
      "displayName": "Руслан Муштаков",
      "photoUrl": "",
      "userId": "06846086149309682337"
     },
     "user_tz": -180
    },
    "id": "j7XVvERtr1Se"
   },
   "outputs": [],
   "source": [
    "model_lr_wv = LogisticRegression(max_iter=1000, random_state=12345)"
   ]
  },
  {
   "cell_type": "code",
   "execution_count": 38,
   "metadata": {
    "colab": {
     "base_uri": "https://localhost:8080/"
    },
    "executionInfo": {
     "elapsed": 312303,
     "status": "ok",
     "timestamp": 1614807358375,
     "user": {
      "displayName": "Руслан Муштаков",
      "photoUrl": "",
      "userId": "06846086149309682337"
     },
     "user_tz": -180
    },
    "id": "7WweSGxKr1Sf",
    "outputId": "ee3458d3-7cbb-41d6-a40e-269bc0f291e5"
   },
   "outputs": [
    {
     "data": {
      "text/plain": [
       "LogisticRegression(C=1.0, class_weight=None, dual=False, fit_intercept=True,\n",
       "                   intercept_scaling=1, l1_ratio=None, max_iter=1000,\n",
       "                   multi_class='auto', n_jobs=None, penalty='l2',\n",
       "                   random_state=12345, solver='lbfgs', tol=0.0001, verbose=0,\n",
       "                   warm_start=False)"
      ]
     },
     "execution_count": 38,
     "metadata": {
      "tags": []
     },
     "output_type": "execute_result"
    }
   ],
   "source": [
    "model_lr_wv.fit(features_train_wv_vec, target_train)"
   ]
  },
  {
   "cell_type": "code",
   "execution_count": 39,
   "metadata": {
    "executionInfo": {
     "elapsed": 312289,
     "status": "ok",
     "timestamp": 1614807358377,
     "user": {
      "displayName": "Руслан Муштаков",
      "photoUrl": "",
      "userId": "06846086149309682337"
     },
     "user_tz": -180
    },
    "id": "X-mFiMUpr1Sf"
   },
   "outputs": [],
   "source": [
    "predictions_lr_wv = model_lr_wv.predict(features_test_wv_vec)"
   ]
  },
  {
   "cell_type": "code",
   "execution_count": 40,
   "metadata": {
    "colab": {
     "base_uri": "https://localhost:8080/"
    },
    "executionInfo": {
     "elapsed": 312279,
     "status": "ok",
     "timestamp": 1614807358380,
     "user": {
      "displayName": "Руслан Муштаков",
      "photoUrl": "",
      "userId": "06846086149309682337"
     },
     "user_tz": -180
    },
    "id": "DnTECfE4r1Sf",
    "outputId": "83f9b466-529e-4164-d890-a03f3f84aa27"
   },
   "outputs": [
    {
     "data": {
      "text/plain": [
       "0.5536560247167868"
      ]
     },
     "execution_count": 40,
     "metadata": {
      "tags": []
     },
     "output_type": "execute_result"
    }
   ],
   "source": [
    "f1_lr_wv = f1_score(target_test, predictions_lr_wv)\n",
    "f1_lr_wv"
   ]
  },
  {
   "cell_type": "markdown",
   "metadata": {
    "id": "a17jTgbTr1Sf"
   },
   "source": [
    "### 2.2 CatBoost"
   ]
  },
  {
   "cell_type": "markdown",
   "metadata": {
    "id": "AIGNKytJ4UJN"
   },
   "source": [
    "Рассмотри модель из библиотека CatBoost"
   ]
  },
  {
   "cell_type": "markdown",
   "metadata": {
    "id": "7rMZufUE4E8x"
   },
   "source": [
    "#### Text features"
   ]
  },
  {
   "cell_type": "markdown",
   "metadata": {
    "id": "smBSOHJD4kHk"
   },
   "source": [
    "Из коробки, CatBoost умеет работать с текстовыми признаками. Помимо подготовленных признаков, проверим, как она будет работать через этот подход."
   ]
  },
  {
   "cell_type": "code",
   "execution_count": 41,
   "metadata": {
    "executionInfo": {
     "elapsed": 312266,
     "status": "ok",
     "timestamp": 1614807358381,
     "user": {
      "displayName": "Руслан Муштаков",
      "photoUrl": "",
      "userId": "06846086149309682337"
     },
     "user_tz": -180
    },
    "id": "u7uRTLHK4IqG"
   },
   "outputs": [],
   "source": [
    "model_cbc_default_tf = CatBoostClassifier(eval_metric='F1', iterations=2000, verbose=100, random_state=12345, task_type='GPU')"
   ]
  },
  {
   "cell_type": "code",
   "execution_count": 42,
   "metadata": {
    "executionInfo": {
     "elapsed": 312255,
     "status": "ok",
     "timestamp": 1614807358382,
     "user": {
      "displayName": "Руслан Муштаков",
      "photoUrl": "",
      "userId": "06846086149309682337"
     },
     "user_tz": -180
    },
    "id": "8oQXedbg5U9x"
   },
   "outputs": [],
   "source": [
    "features_col = ['clear_text']\n",
    "target_col = ['toxic']\n",
    "text_features = ['clear_text']"
   ]
  },
  {
   "cell_type": "code",
   "execution_count": 43,
   "metadata": {
    "colab": {
     "base_uri": "https://localhost:8080/"
    },
    "executionInfo": {
     "elapsed": 360625,
     "status": "ok",
     "timestamp": 1614807406768,
     "user": {
      "displayName": "Руслан Муштаков",
      "photoUrl": "",
      "userId": "06846086149309682337"
     },
     "user_tz": -180
    },
    "id": "v_enHGG24JhM",
    "outputId": "9031d22b-b68d-4311-cb7c-fef6dff625ac"
   },
   "outputs": [
    {
     "name": "stdout",
     "output_type": "stream",
     "text": [
      "Learning rate set to 0.013875\n",
      "0:\tlearn: 0.6980083\ttotal: 20.6ms\tremaining: 41.2s\n",
      "100:\tlearn: 0.6904691\ttotal: 1.81s\tremaining: 34.1s\n",
      "200:\tlearn: 0.7023369\ttotal: 3.56s\tremaining: 31.9s\n",
      "300:\tlearn: 0.7116819\ttotal: 5.28s\tremaining: 29.8s\n",
      "400:\tlearn: 0.7184638\ttotal: 6.98s\tremaining: 27.8s\n",
      "500:\tlearn: 0.7237718\ttotal: 8.67s\tremaining: 25.9s\n",
      "600:\tlearn: 0.7297013\ttotal: 10.4s\tremaining: 24.1s\n",
      "700:\tlearn: 0.7341409\ttotal: 12.1s\tremaining: 22.4s\n",
      "800:\tlearn: 0.7374741\ttotal: 13.8s\tremaining: 20.6s\n",
      "900:\tlearn: 0.7390290\ttotal: 15.5s\tremaining: 18.9s\n",
      "1000:\tlearn: 0.7429250\ttotal: 17.2s\tremaining: 17.1s\n",
      "1100:\tlearn: 0.7448264\ttotal: 18.8s\tremaining: 15.4s\n",
      "1200:\tlearn: 0.7465873\ttotal: 20.6s\tremaining: 13.7s\n",
      "1300:\tlearn: 0.7488079\ttotal: 22.3s\tremaining: 12s\n",
      "1400:\tlearn: 0.7505647\ttotal: 24s\tremaining: 10.3s\n",
      "1500:\tlearn: 0.7516527\ttotal: 25.7s\tremaining: 8.54s\n",
      "1600:\tlearn: 0.7531813\ttotal: 27.4s\tremaining: 6.83s\n",
      "1700:\tlearn: 0.7547428\ttotal: 29.1s\tremaining: 5.11s\n",
      "1800:\tlearn: 0.7556449\ttotal: 30.8s\tremaining: 3.4s\n",
      "1900:\tlearn: 0.7570293\ttotal: 32.4s\tremaining: 1.69s\n",
      "1999:\tlearn: 0.7586649\ttotal: 34.1s\tremaining: 0us\n"
     ]
    },
    {
     "data": {
      "text/plain": [
       "<catboost.core.CatBoostClassifier at 0x7f80933fd810>"
      ]
     },
     "execution_count": 43,
     "metadata": {
      "tags": []
     },
     "output_type": "execute_result"
    }
   ],
   "source": [
    "model_cbc_default_tf.fit(train[features_col], \n",
    "                         train[target_col], \n",
    "                         text_features=text_features)"
   ]
  },
  {
   "cell_type": "code",
   "execution_count": 44,
   "metadata": {
    "executionInfo": {
     "elapsed": 363423,
     "status": "ok",
     "timestamp": 1614807409583,
     "user": {
      "displayName": "Руслан Муштаков",
      "photoUrl": "",
      "userId": "06846086149309682337"
     },
     "user_tz": -180
    },
    "id": "CI02kS234JYV"
   },
   "outputs": [],
   "source": [
    "predictions_cbc_default_tf = model_cbc_default_tf.predict(test[features_col])"
   ]
  },
  {
   "cell_type": "code",
   "execution_count": 45,
   "metadata": {
    "colab": {
     "base_uri": "https://localhost:8080/"
    },
    "executionInfo": {
     "elapsed": 363412,
     "status": "ok",
     "timestamp": 1614807409584,
     "user": {
      "displayName": "Руслан Муштаков",
      "photoUrl": "",
      "userId": "06846086149309682337"
     },
     "user_tz": -180
    },
    "id": "V00GnlZG4JOQ",
    "outputId": "4b33b96f-adaf-432e-c5a3-97efc9c3d69d"
   },
   "outputs": [
    {
     "data": {
      "text/plain": [
       "0.7550669872895912"
      ]
     },
     "execution_count": 45,
     "metadata": {
      "tags": []
     },
     "output_type": "execute_result"
    }
   ],
   "source": [
    "f1_cbc_default_tf = f1_score(target_test, predictions_cbc_default_tf)\n",
    "f1_cbc_default_tf"
   ]
  },
  {
   "cell_type": "markdown",
   "metadata": {
    "id": "HmBYtM3x4BVw"
   },
   "source": [
    "#### TF-IDF"
   ]
  },
  {
   "cell_type": "markdown",
   "metadata": {
    "id": "7tXlJdUs9YYC"
   },
   "source": [
    "Рассмотрим признаки на основе величин TF-IDF."
   ]
  },
  {
   "cell_type": "code",
   "execution_count": 46,
   "metadata": {
    "executionInfo": {
     "elapsed": 363402,
     "status": "ok",
     "timestamp": 1614807409585,
     "user": {
      "displayName": "Руслан Муштаков",
      "photoUrl": "",
      "userId": "06846086149309682337"
     },
     "user_tz": -180
    },
    "id": "aBjDFuGX9IVV"
   },
   "outputs": [],
   "source": [
    "model_cbc_tf_idf = CatBoostClassifier(eval_metric='F1', iterations=2000, verbose=100, random_state=12345, task_type='GPU')"
   ]
  },
  {
   "cell_type": "code",
   "execution_count": 47,
   "metadata": {
    "colab": {
     "base_uri": "https://localhost:8080/"
    },
    "executionInfo": {
     "elapsed": 486202,
     "status": "ok",
     "timestamp": 1614807532403,
     "user": {
      "displayName": "Руслан Муштаков",
      "photoUrl": "",
      "userId": "06846086149309682337"
     },
     "user_tz": -180
    },
    "id": "sM8dkT8o9IL2",
    "outputId": "0c611264-3a04-4224-ed9b-abe1343d33fc"
   },
   "outputs": [
    {
     "name": "stdout",
     "output_type": "stream",
     "text": [
      "Learning rate set to 0.013875\n",
      "0:\tlearn: 0.5213286\ttotal: 66.9ms\tremaining: 2m 13s\n",
      "100:\tlearn: 0.5080641\ttotal: 5.54s\tremaining: 1m 44s\n",
      "200:\tlearn: 0.5397774\ttotal: 10.7s\tremaining: 1m 35s\n",
      "300:\tlearn: 0.5678063\ttotal: 15.9s\tremaining: 1m 29s\n",
      "400:\tlearn: 0.5918920\ttotal: 21s\tremaining: 1m 23s\n",
      "500:\tlearn: 0.6121104\ttotal: 26.1s\tremaining: 1m 18s\n",
      "600:\tlearn: 0.6354279\ttotal: 31.2s\tremaining: 1m 12s\n",
      "700:\tlearn: 0.6495571\ttotal: 36.2s\tremaining: 1m 7s\n",
      "800:\tlearn: 0.6638664\ttotal: 41.3s\tremaining: 1m 1s\n",
      "900:\tlearn: 0.6689545\ttotal: 46.3s\tremaining: 56.4s\n",
      "1000:\tlearn: 0.6751989\ttotal: 51.3s\tremaining: 51.2s\n",
      "1100:\tlearn: 0.6851408\ttotal: 56.4s\tremaining: 46s\n",
      "1200:\tlearn: 0.6925359\ttotal: 1m 1s\tremaining: 40.8s\n",
      "1300:\tlearn: 0.6962755\ttotal: 1m 6s\tremaining: 35.6s\n",
      "1400:\tlearn: 0.7018643\ttotal: 1m 11s\tremaining: 30.5s\n",
      "1500:\tlearn: 0.7060629\ttotal: 1m 16s\tremaining: 25.4s\n",
      "1600:\tlearn: 0.7089116\ttotal: 1m 21s\tremaining: 20.3s\n",
      "1700:\tlearn: 0.7114312\ttotal: 1m 26s\tremaining: 15.2s\n",
      "1800:\tlearn: 0.7154124\ttotal: 1m 31s\tremaining: 10.1s\n",
      "1900:\tlearn: 0.7184319\ttotal: 1m 36s\tremaining: 5.01s\n",
      "1999:\tlearn: 0.7219627\ttotal: 1m 41s\tremaining: 0us\n"
     ]
    },
    {
     "data": {
      "text/plain": [
       "<catboost.core.CatBoostClassifier at 0x7f80946e0610>"
      ]
     },
     "execution_count": 47,
     "metadata": {
      "tags": []
     },
     "output_type": "execute_result"
    }
   ],
   "source": [
    "model_cbc_tf_idf.fit(features_train_tf_idf_vec, target_train)"
   ]
  },
  {
   "cell_type": "code",
   "execution_count": 48,
   "metadata": {
    "executionInfo": {
     "elapsed": 489429,
     "status": "ok",
     "timestamp": 1614807535646,
     "user": {
      "displayName": "Руслан Муштаков",
      "photoUrl": "",
      "userId": "06846086149309682337"
     },
     "user_tz": -180
    },
    "id": "v19RADzz9ICD"
   },
   "outputs": [],
   "source": [
    "predictions_cbc_tf_idf = model_cbc_tf_idf.predict(features_test_tf_idf_vec)"
   ]
  },
  {
   "cell_type": "code",
   "execution_count": 49,
   "metadata": {
    "colab": {
     "base_uri": "https://localhost:8080/"
    },
    "executionInfo": {
     "elapsed": 489421,
     "status": "ok",
     "timestamp": 1614807535647,
     "user": {
      "displayName": "Руслан Муштаков",
      "photoUrl": "",
      "userId": "06846086149309682337"
     },
     "user_tz": -180
    },
    "id": "AQJu7OOI9H1L",
    "outputId": "3ecf6455-a524-4bf9-bdfe-078be3599ffa"
   },
   "outputs": [
    {
     "data": {
      "text/plain": [
       "0.7064865893094922"
      ]
     },
     "execution_count": 49,
     "metadata": {
      "tags": []
     },
     "output_type": "execute_result"
    }
   ],
   "source": [
    "f1_cbc_tf_idf = f1_score(target_test, predictions_cbc_tf_idf)\n",
    "f1_cbc_tf_idf"
   ]
  },
  {
   "cell_type": "markdown",
   "metadata": {
    "id": "_j3oMoh739RR"
   },
   "source": [
    "#### Word2Vec"
   ]
  },
  {
   "cell_type": "markdown",
   "metadata": {
    "id": "NiQNacTYI3_s"
   },
   "source": [
    "Для данной модели на этих признаках получается небольшое значение метрики F1. Из-за того, что появились проблемы с оперативной памятью, было решено не рассматривать данный случай, а направить ресурсы на проверку работы модели BERT."
   ]
  },
  {
   "cell_type": "markdown",
   "metadata": {
    "id": "u1dAys3tLQoI"
   },
   "source": [
    "Обучим на векторах."
   ]
  },
  {
   "cell_type": "code",
   "execution_count": 50,
   "metadata": {
    "executionInfo": {
     "elapsed": 489415,
     "status": "ok",
     "timestamp": 1614807535648,
     "user": {
      "displayName": "Руслан Муштаков",
      "photoUrl": "",
      "userId": "06846086149309682337"
     },
     "user_tz": -180
    },
    "id": "5XXs6ZSor1Sf"
   },
   "outputs": [],
   "source": [
    "#model_cbc_wv = CatBoostClassifier(eval_metric='F1', iterations=2000, verbose=100, random_state=12345, task_type='GPU')"
   ]
  },
  {
   "cell_type": "code",
   "execution_count": 51,
   "metadata": {
    "executionInfo": {
     "elapsed": 489405,
     "status": "ok",
     "timestamp": 1614807535649,
     "user": {
      "displayName": "Руслан Муштаков",
      "photoUrl": "",
      "userId": "06846086149309682337"
     },
     "user_tz": -180
    },
    "id": "huqaV0kdA6Rb"
   },
   "outputs": [],
   "source": [
    "#model_cbc_wv.fit(features_train_wv_vec, target_train)"
   ]
  },
  {
   "cell_type": "code",
   "execution_count": 52,
   "metadata": {
    "executionInfo": {
     "elapsed": 489397,
     "status": "ok",
     "timestamp": 1614807535649,
     "user": {
      "displayName": "Руслан Муштаков",
      "photoUrl": "",
      "userId": "06846086149309682337"
     },
     "user_tz": -180
    },
    "id": "Kfis7fwUr1Sf"
   },
   "outputs": [],
   "source": [
    "#predictions_cbc_wv = model_cbc_wv.predict(features_test_wv_vec)"
   ]
  },
  {
   "cell_type": "code",
   "execution_count": 53,
   "metadata": {
    "executionInfo": {
     "elapsed": 489390,
     "status": "ok",
     "timestamp": 1614807535650,
     "user": {
      "displayName": "Руслан Муштаков",
      "photoUrl": "",
      "userId": "06846086149309682337"
     },
     "user_tz": -180
    },
    "id": "phPsDIFOr1Sg"
   },
   "outputs": [],
   "source": [
    "#f1_cbc_wv = f1_score(target_test, predictions_cbc_wv)\n",
    "#f1_cbc_wv"
   ]
  },
  {
   "cell_type": "markdown",
   "metadata": {
    "id": "IM8ppntcM-fi"
   },
   "source": [
    "### 2.3 BERT"
   ]
  },
  {
   "cell_type": "markdown",
   "metadata": {
    "id": "LprxFQ3rei_1"
   },
   "source": [
    "Кроме всего прочего попробуем получить эмбеддинги с помощью модели BERT. Подключим необходимые модули здесь, чтобы удобнее было работать с моделью."
   ]
  },
  {
   "cell_type": "code",
   "execution_count": 54,
   "metadata": {
    "colab": {
     "base_uri": "https://localhost:8080/"
    },
    "executionInfo": {
     "elapsed": 491450,
     "status": "ok",
     "timestamp": 1614807537718,
     "user": {
      "displayName": "Руслан Муштаков",
      "photoUrl": "",
      "userId": "06846086149309682337"
     },
     "user_tz": -180
    },
    "id": "pVecqeZObOqq",
    "outputId": "84f96ee0-3641-4bd0-d2ac-0feddbe2ce21"
   },
   "outputs": [
    {
     "name": "stdout",
     "output_type": "stream",
     "text": [
      "Requirement already satisfied: transformers in /usr/local/lib/python3.7/dist-packages (4.3.3)\n",
      "Requirement already satisfied: packaging in /usr/local/lib/python3.7/dist-packages (from transformers) (20.9)\n",
      "Requirement already satisfied: tqdm>=4.27 in /usr/local/lib/python3.7/dist-packages (from transformers) (4.41.1)\n",
      "Requirement already satisfied: numpy>=1.17 in /usr/local/lib/python3.7/dist-packages (from transformers) (1.19.5)\n",
      "Requirement already satisfied: sacremoses in /usr/local/lib/python3.7/dist-packages (from transformers) (0.0.43)\n",
      "Requirement already satisfied: tokenizers<0.11,>=0.10.1 in /usr/local/lib/python3.7/dist-packages (from transformers) (0.10.1)\n",
      "Requirement already satisfied: requests in /usr/local/lib/python3.7/dist-packages (from transformers) (2.23.0)\n",
      "Requirement already satisfied: importlib-metadata; python_version < \"3.8\" in /usr/local/lib/python3.7/dist-packages (from transformers) (3.7.0)\n",
      "Requirement already satisfied: regex!=2019.12.17 in /usr/local/lib/python3.7/dist-packages (from transformers) (2019.12.20)\n",
      "Requirement already satisfied: filelock in /usr/local/lib/python3.7/dist-packages (from transformers) (3.0.12)\n",
      "Requirement already satisfied: pyparsing>=2.0.2 in /usr/local/lib/python3.7/dist-packages (from packaging->transformers) (2.4.7)\n",
      "Requirement already satisfied: joblib in /usr/local/lib/python3.7/dist-packages (from sacremoses->transformers) (1.0.1)\n",
      "Requirement already satisfied: click in /usr/local/lib/python3.7/dist-packages (from sacremoses->transformers) (7.1.2)\n",
      "Requirement already satisfied: six in /usr/local/lib/python3.7/dist-packages (from sacremoses->transformers) (1.15.0)\n",
      "Requirement already satisfied: certifi>=2017.4.17 in /usr/local/lib/python3.7/dist-packages (from requests->transformers) (2020.12.5)\n",
      "Requirement already satisfied: chardet<4,>=3.0.2 in /usr/local/lib/python3.7/dist-packages (from requests->transformers) (3.0.4)\n",
      "Requirement already satisfied: idna<3,>=2.5 in /usr/local/lib/python3.7/dist-packages (from requests->transformers) (2.10)\n",
      "Requirement already satisfied: urllib3!=1.25.0,!=1.25.1,<1.26,>=1.21.1 in /usr/local/lib/python3.7/dist-packages (from requests->transformers) (1.24.3)\n",
      "Requirement already satisfied: typing-extensions>=3.6.4; python_version < \"3.8\" in /usr/local/lib/python3.7/dist-packages (from importlib-metadata; python_version < \"3.8\"->transformers) (3.7.4.3)\n",
      "Requirement already satisfied: zipp>=0.5 in /usr/local/lib/python3.7/dist-packages (from importlib-metadata; python_version < \"3.8\"->transformers) (3.4.0)\n"
     ]
    }
   ],
   "source": [
    "!pip install transformers"
   ]
  },
  {
   "cell_type": "code",
   "execution_count": 55,
   "metadata": {
    "executionInfo": {
     "elapsed": 495212,
     "status": "ok",
     "timestamp": 1614807541488,
     "user": {
      "displayName": "Руслан Муштаков",
      "photoUrl": "",
      "userId": "06846086149309682337"
     },
     "user_tz": -180
    },
    "id": "nnraDVGiOE3T"
   },
   "outputs": [],
   "source": [
    "import torch\n",
    "import transformers\n",
    "from tqdm import notebook"
   ]
  },
  {
   "cell_type": "markdown",
   "metadata": {
    "id": "vmC3ExLufIUb"
   },
   "source": [
    "Скопируем нашу таблицу для работы только с BERT"
   ]
  },
  {
   "cell_type": "code",
   "execution_count": 56,
   "metadata": {
    "executionInfo": {
     "elapsed": 495207,
     "status": "ok",
     "timestamp": 1614807541491,
     "user": {
      "displayName": "Руслан Муштаков",
      "photoUrl": "",
      "userId": "06846086149309682337"
     },
     "user_tz": -180
    },
    "id": "90kmH8GabkfD"
   },
   "outputs": [],
   "source": [
    "comments_bert = comments.copy()"
   ]
  },
  {
   "cell_type": "markdown",
   "metadata": {
    "id": "SC6Ebb-nfPV-"
   },
   "source": [
    "В дальнейшем мы будем работать с тензорами, а также с предобученной моделью. Для нее уже устанвлен размер эмбеддингов 512. Поэтому напишем функцию, которая обрежет наши предложения до 510 слов."
   ]
  },
  {
   "cell_type": "code",
   "execution_count": 57,
   "metadata": {
    "executionInfo": {
     "elapsed": 495200,
     "status": "ok",
     "timestamp": 1614807541492,
     "user": {
      "displayName": "Руслан Муштаков",
      "photoUrl": "",
      "userId": "06846086149309682337"
     },
     "user_tz": -180
    },
    "id": "AO1N4KKiAFUs"
   },
   "outputs": [],
   "source": [
    "def cut_text(row):\n",
    "    row_list = row.split()\n",
    "    row_list = row_list[:510]\n",
    "    row_text = ' '.join(row_list)\n",
    "    return row_text"
   ]
  },
  {
   "cell_type": "markdown",
   "metadata": {
    "id": "HXNBMe1bf9qc"
   },
   "source": [
    "Сохраним обрезанные признаки в отдельную колонку."
   ]
  },
  {
   "cell_type": "code",
   "execution_count": 58,
   "metadata": {
    "executionInfo": {
     "elapsed": 495429,
     "status": "ok",
     "timestamp": 1614807541730,
     "user": {
      "displayName": "Руслан Муштаков",
      "photoUrl": "",
      "userId": "06846086149309682337"
     },
     "user_tz": -180
    },
    "id": "jEzJEX_ACAwy"
   },
   "outputs": [],
   "source": [
    "comments_bert['cut_clear_text'] = comments_bert['clear_text'].apply(cut_text)"
   ]
  },
  {
   "cell_type": "markdown",
   "metadata": {
    "id": "bdGHEBXeGSEF"
   },
   "source": [
    "Возьмем лишь небольшую часть данных, чтобы в дальнейшем хватило памяти и все выполнялось в разумное время."
   ]
  },
  {
   "cell_type": "code",
   "execution_count": 59,
   "metadata": {
    "executionInfo": {
     "elapsed": 496279,
     "status": "ok",
     "timestamp": 1614807542589,
     "user": {
      "displayName": "Руслан Муштаков",
      "photoUrl": "",
      "userId": "06846086149309682337"
     },
     "user_tz": -180
    },
    "id": "8x31t2otIyV3"
   },
   "outputs": [],
   "source": [
    "short_comments_bert = comments_bert.sample(7000).reset_index(drop=True)"
   ]
  },
  {
   "cell_type": "markdown",
   "metadata": {
    "id": "KHO_LnWhd1OZ"
   },
   "source": [
    "Из открытого репозитория DeepPavlov была взята предобученная модель Bert, обученная на корпусе английских текстов, учитывающая символы как в нижнем, так и в верхнем регистрах - `BERT-Base, Cased`"
   ]
  },
  {
   "cell_type": "code",
   "execution_count": 60,
   "metadata": {
    "executionInfo": {
     "elapsed": 506092,
     "status": "ok",
     "timestamp": 1614807552410,
     "user": {
      "displayName": "Руслан Муштаков",
      "photoUrl": "",
      "userId": "06846086149309682337"
     },
     "user_tz": -180
    },
    "id": "_YhtwWqEM-F7"
   },
   "outputs": [],
   "source": [
    "tokenizer = transformers.BertTokenizer(vocab_file='/content/drive/MyDrive/Colab Notebooks/ml_for_texts/cased_L-12_H-768_A-12/vocab.txt')\n",
    "\n",
    "tokenized = short_comments_bert['cut_clear_text'].apply(\n",
    "    lambda x: tokenizer.encode(x, truncation=True, max_length=512, add_special_tokens=True))\n",
    "\n",
    "max_len = 0\n",
    "for i in tokenized.values:\n",
    "    if len(i) > max_len:\n",
    "        max_len = len(i)\n",
    "\n",
    "padded = np.array([i + [0]*(max_len - len(i)) for i in tokenized.values])\n",
    "\n",
    "attention_mask = np.where(padded != 0, 1, 0)"
   ]
  },
  {
   "cell_type": "code",
   "execution_count": 61,
   "metadata": {
    "executionInfo": {
     "elapsed": 527446,
     "status": "ok",
     "timestamp": 1614807573772,
     "user": {
      "displayName": "Руслан Муштаков",
      "photoUrl": "",
      "userId": "06846086149309682337"
     },
     "user_tz": -180
    },
    "id": "X5OC_SNrgQnI"
   },
   "outputs": [],
   "source": [
    "config = transformers.BertConfig.from_json_file(\n",
    "    '/content/drive/MyDrive/Colab Notebooks/ml_for_texts/cased_L-12_H-768_A-12/bert_config.json')\n",
    "model = transformers.BertForPreTraining.from_pretrained(\n",
    "    '/content/drive/MyDrive/Colab Notebooks/ml_for_texts/cased_L-12_H-768_A-12/bert_model.ckpt.index', config=config, from_tf=True)"
   ]
  },
  {
   "cell_type": "markdown",
   "metadata": {
    "id": "Q1Tn0_aPc-TI"
   },
   "source": [
    "Выберем устройство, на котором будут происходить вычисления."
   ]
  },
  {
   "cell_type": "code",
   "execution_count": 62,
   "metadata": {
    "colab": {
     "base_uri": "https://localhost:8080/"
    },
    "executionInfo": {
     "elapsed": 527441,
     "status": "ok",
     "timestamp": 1614807573776,
     "user": {
      "displayName": "Руслан Муштаков",
      "photoUrl": "",
      "userId": "06846086149309682337"
     },
     "user_tz": -180
    },
    "id": "p2lS4UU-OriE",
    "outputId": "8f75d9a0-8af0-4fd8-9875-bca21d693919"
   },
   "outputs": [
    {
     "name": "stdout",
     "output_type": "stream",
     "text": [
      "Using device: cuda\n"
     ]
    }
   ],
   "source": [
    "device = torch.device('cuda' if torch.cuda.is_available() else 'cpu')\n",
    "print('Using device:', device)"
   ]
  },
  {
   "cell_type": "markdown",
   "metadata": {
    "id": "PqS61k8CdkXp"
   },
   "source": [
    "Выполним дополнительные операции для работы с GPU."
   ]
  },
  {
   "cell_type": "code",
   "execution_count": 63,
   "metadata": {
    "executionInfo": {
     "elapsed": 527432,
     "status": "ok",
     "timestamp": 1614807573778,
     "user": {
      "displayName": "Руслан Муштаков",
      "photoUrl": "",
      "userId": "06846086149309682337"
     },
     "user_tz": -180
    },
    "id": "DGH67OV1W21h"
   },
   "outputs": [],
   "source": [
    "torch.cuda.empty_cache()"
   ]
  },
  {
   "cell_type": "markdown",
   "metadata": {
    "id": "narwbjqfgIvE"
   },
   "source": [
    "Получим эмбеддинги"
   ]
  },
  {
   "cell_type": "code",
   "execution_count": 64,
   "metadata": {
    "colab": {
     "base_uri": "https://localhost:8080/",
     "height": 66,
     "referenced_widgets": [
      "eb656f66432a41daa5f6236176542a44",
      "622081c77cb84af0b2291d2a2bd6bbda",
      "0450b0442cfd40d1917ec1ff637ed377",
      "013af765079d4138a199a7cad02c2ba9",
      "a81b453fe4cd4683900e394917545ce7",
      "5b433e9590ef4292bc7ff5bc38435257",
      "fecb7c7dc49247ac80ff7aab92cdc03c",
      "ba2e03fbadda4a44bead32c884690bd3"
     ]
    },
    "executionInfo": {
     "elapsed": 876458,
     "status": "ok",
     "timestamp": 1614807922812,
     "user": {
      "displayName": "Руслан Муштаков",
      "photoUrl": "",
      "userId": "06846086149309682337"
     },
     "user_tz": -180
    },
    "id": "GqsWrkYvzXHx",
    "outputId": "e97ed5cb-901c-43ad-de1e-6815fc287ab4"
   },
   "outputs": [
    {
     "data": {
      "application/vnd.jupyter.widget-view+json": {
       "model_id": "eb656f66432a41daa5f6236176542a44",
       "version_major": 2,
       "version_minor": 0
      },
      "text/plain": [
       "HBox(children=(FloatProgress(value=0.0, max=700.0), HTML(value='')))"
      ]
     },
     "metadata": {
      "tags": []
     },
     "output_type": "display_data"
    },
    {
     "name": "stdout",
     "output_type": "stream",
     "text": [
      "\n"
     ]
    }
   ],
   "source": [
    "batch_size = 10\n",
    "embeddings = []\n",
    "for i in notebook.tqdm(range(padded.shape[0] // batch_size)):\n",
    "        batch = torch.LongTensor(padded[batch_size*i:batch_size*(i+1)]).to(device)\n",
    "        attention_mask_batch = torch.LongTensor(attention_mask[batch_size*i:batch_size*(i+1)]).to(device)\n",
    "        \n",
    "        with torch.no_grad():\n",
    "            model = model.to(device)\n",
    "            batch_embeddings = model(batch, attention_mask=attention_mask_batch)\n",
    "        \n",
    "        embeddings.append(batch_embeddings[0][:,0,:].cpu().numpy())"
   ]
  },
  {
   "cell_type": "markdown",
   "metadata": {
    "id": "ctLzy40egkMH"
   },
   "source": [
    "Определим признаки, разделим на обучающую и тестовую выборки."
   ]
  },
  {
   "cell_type": "code",
   "execution_count": 65,
   "metadata": {
    "executionInfo": {
     "elapsed": 877325,
     "status": "ok",
     "timestamp": 1614807923688,
     "user": {
      "displayName": "Руслан Муштаков",
      "photoUrl": "",
      "userId": "06846086149309682337"
     },
     "user_tz": -180
    },
    "id": "VmeD5P6tavX6"
   },
   "outputs": [],
   "source": [
    "features_bert = np.concatenate(embeddings)\n",
    "target_bert = short_comments_bert['toxic']"
   ]
  },
  {
   "cell_type": "code",
   "execution_count": 66,
   "metadata": {
    "executionInfo": {
     "elapsed": 878280,
     "status": "ok",
     "timestamp": 1614807924650,
     "user": {
      "displayName": "Руслан Муштаков",
      "photoUrl": "",
      "userId": "06846086149309682337"
     },
     "user_tz": -180
    },
    "id": "SExKLyMfa7tq"
   },
   "outputs": [],
   "source": [
    "features_bert_train, features_bert_test, target_bert_train, target_bert_test = \\\n",
    "        train_test_split(features_bert, target_bert, test_size=0.2, random_state=12345)"
   ]
  },
  {
   "cell_type": "markdown",
   "metadata": {
    "id": "Gre6lZbpg68X"
   },
   "source": [
    "Обучим логистическую регрессию и посмотрим на качество модели."
   ]
  },
  {
   "cell_type": "code",
   "execution_count": 67,
   "metadata": {
    "colab": {
     "base_uri": "https://localhost:8080/"
    },
    "executionInfo": {
     "elapsed": 32982,
     "status": "ok",
     "timestamp": 1614807989281,
     "user": {
      "displayName": "Руслан Муштаков",
      "photoUrl": "",
      "userId": "06846086149309682337"
     },
     "user_tz": -180
    },
    "id": "_PLIEWgGa7ka",
    "outputId": "1ad61e1a-0bbf-489e-a731-10783f821e26"
   },
   "outputs": [
    {
     "name": "stderr",
     "output_type": "stream",
     "text": [
      "/usr/local/lib/python3.7/dist-packages/sklearn/linear_model/_logistic.py:940: ConvergenceWarning: lbfgs failed to converge (status=1):\n",
      "STOP: TOTAL NO. of ITERATIONS REACHED LIMIT.\n",
      "\n",
      "Increase the number of iterations (max_iter) or scale the data as shown in:\n",
      "    https://scikit-learn.org/stable/modules/preprocessing.html\n",
      "Please also refer to the documentation for alternative solver options:\n",
      "    https://scikit-learn.org/stable/modules/linear_model.html#logistic-regression\n",
      "  extra_warning_msg=_LOGISTIC_SOLVER_CONVERGENCE_MSG)\n"
     ]
    },
    {
     "data": {
      "text/plain": [
       "LogisticRegression(C=1.0, class_weight=None, dual=False, fit_intercept=True,\n",
       "                   intercept_scaling=1, l1_ratio=None, max_iter=100,\n",
       "                   multi_class='auto', n_jobs=None, penalty='l2',\n",
       "                   random_state=None, solver='lbfgs', tol=0.0001, verbose=0,\n",
       "                   warm_start=False)"
      ]
     },
     "execution_count": 67,
     "metadata": {
      "tags": []
     },
     "output_type": "execute_result"
    }
   ],
   "source": [
    "model_lr_bert = LogisticRegression()\n",
    "model_lr_bert.fit(features_bert_train, target_bert_train)"
   ]
  },
  {
   "cell_type": "code",
   "execution_count": 68,
   "metadata": {
    "executionInfo": {
     "elapsed": 596,
     "status": "ok",
     "timestamp": 1614807997414,
     "user": {
      "displayName": "Руслан Муштаков",
      "photoUrl": "",
      "userId": "06846086149309682337"
     },
     "user_tz": -180
    },
    "id": "EgBL8kOya7Xh"
   },
   "outputs": [],
   "source": [
    "predictions_lr_bert = model_lr_bert.predict(features_bert_test)"
   ]
  },
  {
   "cell_type": "code",
   "execution_count": 69,
   "metadata": {
    "colab": {
     "base_uri": "https://localhost:8080/"
    },
    "executionInfo": {
     "elapsed": 579,
     "status": "ok",
     "timestamp": 1614808001759,
     "user": {
      "displayName": "Руслан Муштаков",
      "photoUrl": "",
      "userId": "06846086149309682337"
     },
     "user_tz": -180
    },
    "id": "7wNKZD8TbfCw",
    "outputId": "0847756d-d8d6-4395-b814-7fbc9498079d"
   },
   "outputs": [
    {
     "data": {
      "text/plain": [
       "0.6609442060085838"
      ]
     },
     "execution_count": 69,
     "metadata": {
      "tags": []
     },
     "output_type": "execute_result"
    }
   ],
   "source": [
    "f1_lr_bert = f1_score(target_bert_test, predictions_lr_bert)\n",
    "f1_lr_bert"
   ]
  },
  {
   "cell_type": "markdown",
   "metadata": {
    "id": "WNuTJU8Ir1Sg"
   },
   "source": [
    "### Вывод"
   ]
  },
  {
   "cell_type": "markdown",
   "metadata": {
    "id": "kip_wALHr1Sg"
   },
   "source": [
    "На данном шаге мы обучали различные модели на различных признаках и оценивали их работу с помощью метрики F1. В качестве моделей мы использовали Логистическую регрессию и CatBoost. Также применили модель BERT, с помощью предобученной модели получили эмбеддинги, которые использовали в качестве признаков для логистической регрессии.<br>\n",
    "f1_lr_tf_idf = 0.72710<br>\n",
    "f1_lr_wv = 0.55365<br>\n",
    "f1_cbc_default_tf = 0.75507<br>\n",
    "f1_cbc_tf_idf = 0.70648<br>\n",
    "f1_lr_bert = 0.66094<br>\n",
    "Лучшей моделью в нашем случае стал CatBoost, который обучался на необработанных тектовых признаках - значение метрики 0.75507.<br>\n",
    "Невысокие значения остальных моделей можно объяснить тем, что мы не проводили лемматизацию строк, а лишь очистили от небуквенных символов.<br>\n",
    "Значение такой метрики F1 на модели BERT, можно обосновать тем, что во-первых, также не была проведена лемматизация; во вторых, мы обрезали тексты до 512 слов, чтобы предобученная модель работала корректно; в-третьих, что мы создавали эмбеддинги только для части данных, чтобы уложиться в память и во разумное время."
   ]
  },
  {
   "cell_type": "markdown",
   "metadata": {
    "id": "CJadPNHur1Sg"
   },
   "source": [
    "## 3. Общий вывод"
   ]
  },
  {
   "cell_type": "markdown",
   "metadata": {
    "id": "Centnybir1Sg"
   },
   "source": [
    "В данной работе мы научились классифицировать комментарии на позитивные и негативные. Научились обрабатывать текст, проводить очистку и лемматизацию. Также освоили преобразование текстов в числовое представление с помощью вычисления значений TF-IDF, в векторное представление (эмбеддинги) с помощью сетода Word2Vec. Обучили на полученных признаках различные модели классификации. Также проверили работу модели BERT, которая с помощью предобучения на корпусе текстов, позволила преобразовать текст в эмбеддинги. По итогу, наилучшей стала модель CatBoost, которая использовала для обучения встроенную поддержку текстовых признаков. "
   ]
  }
 ],
 "metadata": {
  "accelerator": "GPU",
  "colab": {
   "collapsed_sections": [],
   "name": "text_ml.ipynb",
   "provenance": [],
   "toc_visible": true
  },
  "kernelspec": {
   "display_name": "Python 3",
   "language": "python",
   "name": "python3"
  },
  "language_info": {
   "codemirror_mode": {
    "name": "ipython",
    "version": 3
   },
   "file_extension": ".py",
   "mimetype": "text/x-python",
   "name": "python",
   "nbconvert_exporter": "python",
   "pygments_lexer": "ipython3",
   "version": "3.8.5"
  },
  "toc": {
   "base_numbering": 1,
   "nav_menu": {},
   "number_sections": false,
   "sideBar": true,
   "skip_h1_title": false,
   "title_cell": "Table of Contents",
   "title_sidebar": "Contents",
   "toc_cell": false,
   "toc_position": {},
   "toc_section_display": true,
   "toc_window_display": true
  },
  "widgets": {
   "application/vnd.jupyter.widget-state+json": {
    "013af765079d4138a199a7cad02c2ba9": {
     "model_module": "@jupyter-widgets/controls",
     "model_name": "HTMLModel",
     "state": {
      "_dom_classes": [],
      "_model_module": "@jupyter-widgets/controls",
      "_model_module_version": "1.5.0",
      "_model_name": "HTMLModel",
      "_view_count": null,
      "_view_module": "@jupyter-widgets/controls",
      "_view_module_version": "1.5.0",
      "_view_name": "HTMLView",
      "description": "",
      "description_tooltip": null,
      "layout": "IPY_MODEL_ba2e03fbadda4a44bead32c884690bd3",
      "placeholder": "​",
      "style": "IPY_MODEL_fecb7c7dc49247ac80ff7aab92cdc03c",
      "value": " 700/700 [05:51&lt;00:00,  1.99it/s]"
     }
    },
    "0450b0442cfd40d1917ec1ff637ed377": {
     "model_module": "@jupyter-widgets/controls",
     "model_name": "FloatProgressModel",
     "state": {
      "_dom_classes": [],
      "_model_module": "@jupyter-widgets/controls",
      "_model_module_version": "1.5.0",
      "_model_name": "FloatProgressModel",
      "_view_count": null,
      "_view_module": "@jupyter-widgets/controls",
      "_view_module_version": "1.5.0",
      "_view_name": "ProgressView",
      "bar_style": "success",
      "description": "100%",
      "description_tooltip": null,
      "layout": "IPY_MODEL_5b433e9590ef4292bc7ff5bc38435257",
      "max": 700,
      "min": 0,
      "orientation": "horizontal",
      "style": "IPY_MODEL_a81b453fe4cd4683900e394917545ce7",
      "value": 700
     }
    },
    "5b433e9590ef4292bc7ff5bc38435257": {
     "model_module": "@jupyter-widgets/base",
     "model_name": "LayoutModel",
     "state": {
      "_model_module": "@jupyter-widgets/base",
      "_model_module_version": "1.2.0",
      "_model_name": "LayoutModel",
      "_view_count": null,
      "_view_module": "@jupyter-widgets/base",
      "_view_module_version": "1.2.0",
      "_view_name": "LayoutView",
      "align_content": null,
      "align_items": null,
      "align_self": null,
      "border": null,
      "bottom": null,
      "display": null,
      "flex": null,
      "flex_flow": null,
      "grid_area": null,
      "grid_auto_columns": null,
      "grid_auto_flow": null,
      "grid_auto_rows": null,
      "grid_column": null,
      "grid_gap": null,
      "grid_row": null,
      "grid_template_areas": null,
      "grid_template_columns": null,
      "grid_template_rows": null,
      "height": null,
      "justify_content": null,
      "justify_items": null,
      "left": null,
      "margin": null,
      "max_height": null,
      "max_width": null,
      "min_height": null,
      "min_width": null,
      "object_fit": null,
      "object_position": null,
      "order": null,
      "overflow": null,
      "overflow_x": null,
      "overflow_y": null,
      "padding": null,
      "right": null,
      "top": null,
      "visibility": null,
      "width": null
     }
    },
    "622081c77cb84af0b2291d2a2bd6bbda": {
     "model_module": "@jupyter-widgets/base",
     "model_name": "LayoutModel",
     "state": {
      "_model_module": "@jupyter-widgets/base",
      "_model_module_version": "1.2.0",
      "_model_name": "LayoutModel",
      "_view_count": null,
      "_view_module": "@jupyter-widgets/base",
      "_view_module_version": "1.2.0",
      "_view_name": "LayoutView",
      "align_content": null,
      "align_items": null,
      "align_self": null,
      "border": null,
      "bottom": null,
      "display": null,
      "flex": null,
      "flex_flow": null,
      "grid_area": null,
      "grid_auto_columns": null,
      "grid_auto_flow": null,
      "grid_auto_rows": null,
      "grid_column": null,
      "grid_gap": null,
      "grid_row": null,
      "grid_template_areas": null,
      "grid_template_columns": null,
      "grid_template_rows": null,
      "height": null,
      "justify_content": null,
      "justify_items": null,
      "left": null,
      "margin": null,
      "max_height": null,
      "max_width": null,
      "min_height": null,
      "min_width": null,
      "object_fit": null,
      "object_position": null,
      "order": null,
      "overflow": null,
      "overflow_x": null,
      "overflow_y": null,
      "padding": null,
      "right": null,
      "top": null,
      "visibility": null,
      "width": null
     }
    },
    "a81b453fe4cd4683900e394917545ce7": {
     "model_module": "@jupyter-widgets/controls",
     "model_name": "ProgressStyleModel",
     "state": {
      "_model_module": "@jupyter-widgets/controls",
      "_model_module_version": "1.5.0",
      "_model_name": "ProgressStyleModel",
      "_view_count": null,
      "_view_module": "@jupyter-widgets/base",
      "_view_module_version": "1.2.0",
      "_view_name": "StyleView",
      "bar_color": null,
      "description_width": "initial"
     }
    },
    "ba2e03fbadda4a44bead32c884690bd3": {
     "model_module": "@jupyter-widgets/base",
     "model_name": "LayoutModel",
     "state": {
      "_model_module": "@jupyter-widgets/base",
      "_model_module_version": "1.2.0",
      "_model_name": "LayoutModel",
      "_view_count": null,
      "_view_module": "@jupyter-widgets/base",
      "_view_module_version": "1.2.0",
      "_view_name": "LayoutView",
      "align_content": null,
      "align_items": null,
      "align_self": null,
      "border": null,
      "bottom": null,
      "display": null,
      "flex": null,
      "flex_flow": null,
      "grid_area": null,
      "grid_auto_columns": null,
      "grid_auto_flow": null,
      "grid_auto_rows": null,
      "grid_column": null,
      "grid_gap": null,
      "grid_row": null,
      "grid_template_areas": null,
      "grid_template_columns": null,
      "grid_template_rows": null,
      "height": null,
      "justify_content": null,
      "justify_items": null,
      "left": null,
      "margin": null,
      "max_height": null,
      "max_width": null,
      "min_height": null,
      "min_width": null,
      "object_fit": null,
      "object_position": null,
      "order": null,
      "overflow": null,
      "overflow_x": null,
      "overflow_y": null,
      "padding": null,
      "right": null,
      "top": null,
      "visibility": null,
      "width": null
     }
    },
    "eb656f66432a41daa5f6236176542a44": {
     "model_module": "@jupyter-widgets/controls",
     "model_name": "HBoxModel",
     "state": {
      "_dom_classes": [],
      "_model_module": "@jupyter-widgets/controls",
      "_model_module_version": "1.5.0",
      "_model_name": "HBoxModel",
      "_view_count": null,
      "_view_module": "@jupyter-widgets/controls",
      "_view_module_version": "1.5.0",
      "_view_name": "HBoxView",
      "box_style": "",
      "children": [
       "IPY_MODEL_0450b0442cfd40d1917ec1ff637ed377",
       "IPY_MODEL_013af765079d4138a199a7cad02c2ba9"
      ],
      "layout": "IPY_MODEL_622081c77cb84af0b2291d2a2bd6bbda"
     }
    },
    "fecb7c7dc49247ac80ff7aab92cdc03c": {
     "model_module": "@jupyter-widgets/controls",
     "model_name": "DescriptionStyleModel",
     "state": {
      "_model_module": "@jupyter-widgets/controls",
      "_model_module_version": "1.5.0",
      "_model_name": "DescriptionStyleModel",
      "_view_count": null,
      "_view_module": "@jupyter-widgets/base",
      "_view_module_version": "1.2.0",
      "_view_name": "StyleView",
      "description_width": ""
     }
    }
   }
  }
 },
 "nbformat": 4,
 "nbformat_minor": 1
}
