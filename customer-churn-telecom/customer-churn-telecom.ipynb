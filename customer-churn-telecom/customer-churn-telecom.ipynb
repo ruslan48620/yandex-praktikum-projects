{
 "cells": [
  {
   "cell_type": "markdown",
   "metadata": {
    "id": "wKpVbktsGx23"
   },
   "source": [
    "## Условия задачи"
   ]
  },
  {
   "cell_type": "markdown",
   "metadata": {
    "id": "PhY2RlGwGx24"
   },
   "source": [
    "Оператор связи хочет научиться прогнозировать отток клиентов. Если выяснится, что пользователь планирует уйти, ему будут предложены промокоды и специальные условия. Команда оператора собрала персональные данные о некоторых клиентах, информацию об их тарифах и договорах."
   ]
  },
  {
   "cell_type": "markdown",
   "metadata": {
    "id": "VRNzMpREGx25"
   },
   "source": [
    "### Описание услуг"
   ]
  },
  {
   "cell_type": "markdown",
   "metadata": {
    "id": "RkOtKWq2Gx25"
   },
   "source": [
    "Оператор предоставляет два основных типа услуг: \n",
    "\n",
    "1. Стационарную телефонную связь. Возможно подключение телефонного аппарата к нескольким линиям одновременно.\n",
    "2. Интернет. Подключение может быть двух типов: через телефонную линию (`DSL`*,* от англ. *digital subscriber line*, «цифровая абонентская линия») или оптоволоконный кабель (`Fiber optic`)."
   ]
  },
  {
   "cell_type": "markdown",
   "metadata": {
    "id": "Dg3QJmMJGx25"
   },
   "source": [
    "Также доступны такие услуги:\n",
    "\n",
    "- Интернет-безопасность: антивирус (`DeviceProtection`) и блокировка небезопасных сайтов (`OnlineSecurity`);\n",
    "- Выделенная линия технической поддержки (`TechSupport`);\n",
    "- Облачное хранилище файлов для резервного копирования данных (`OnlineBackup`);\n",
    "- Стриминговое телевидение (`StreamingTV`) и каталог фильмов (`StreamingMovies`)."
   ]
  },
  {
   "cell_type": "markdown",
   "metadata": {
    "id": "qkrfB4ICGx26"
   },
   "source": [
    "За услуги клиенты могут платить каждый месяц или заключить договор на 1–2 года. Доступны различные способы расчёта и возможность получения электронного чека."
   ]
  },
  {
   "cell_type": "markdown",
   "metadata": {
    "id": "CD9V02WiGx26"
   },
   "source": [
    "### Описание данных"
   ]
  },
  {
   "cell_type": "markdown",
   "metadata": {
    "id": "Tabn4GJgGx27"
   },
   "source": [
    "Данные состоят из файлов, полученных из разных источников:\n",
    "\n",
    "- `contract.csv` — информация о договоре;\n",
    "- `personal.csv` — персональные данные клиента;\n",
    "- `internet.csv` — информация об интернет-услугах;\n",
    "- `phone.csv` — информация об услугах телефонии."
   ]
  },
  {
   "cell_type": "markdown",
   "metadata": {
    "id": "c0cn-60RGx27"
   },
   "source": [
    "Во всех файлах столбец `customerID` содержит код клиента.\n",
    "\n",
    "Информация о договорах актуальна на 1 февраля 2020."
   ]
  },
  {
   "cell_type": "markdown",
   "metadata": {
    "id": "Bipl9y3PGx27"
   },
   "source": [
    "## Исследовательский анализ данных"
   ]
  },
  {
   "cell_type": "markdown",
   "metadata": {
    "id": "U2c-TSbkV4L2"
   },
   "source": [
    "Установим CatBoost"
   ]
  },
  {
   "cell_type": "code",
   "execution_count": 1,
   "metadata": {
    "colab": {
     "base_uri": "https://localhost:8080/"
    },
    "id": "uy3jVsiEWEF0",
    "outputId": "006bfcca-8294-4ac0-8d9f-2433a706e708"
   },
   "outputs": [
    {
     "name": "stdout",
     "output_type": "stream",
     "text": [
      "Requirement already satisfied: catboost in /usr/local/lib/python3.7/dist-packages (0.25.1)\n",
      "Requirement already satisfied: pandas>=0.24.0 in /usr/local/lib/python3.7/dist-packages (from catboost) (1.1.5)\n",
      "Requirement already satisfied: graphviz in /usr/local/lib/python3.7/dist-packages (from catboost) (0.10.1)\n",
      "Requirement already satisfied: six in /usr/local/lib/python3.7/dist-packages (from catboost) (1.15.0)\n",
      "Requirement already satisfied: matplotlib in /usr/local/lib/python3.7/dist-packages (from catboost) (3.2.2)\n",
      "Requirement already satisfied: numpy>=1.16.0 in /usr/local/lib/python3.7/dist-packages (from catboost) (1.19.5)\n",
      "Requirement already satisfied: scipy in /usr/local/lib/python3.7/dist-packages (from catboost) (1.4.1)\n",
      "Requirement already satisfied: plotly in /usr/local/lib/python3.7/dist-packages (from catboost) (4.4.1)\n",
      "Requirement already satisfied: pytz>=2017.2 in /usr/local/lib/python3.7/dist-packages (from pandas>=0.24.0->catboost) (2018.9)\n",
      "Requirement already satisfied: python-dateutil>=2.7.3 in /usr/local/lib/python3.7/dist-packages (from pandas>=0.24.0->catboost) (2.8.1)\n",
      "Requirement already satisfied: kiwisolver>=1.0.1 in /usr/local/lib/python3.7/dist-packages (from matplotlib->catboost) (1.3.1)\n",
      "Requirement already satisfied: pyparsing!=2.0.4,!=2.1.2,!=2.1.6,>=2.0.1 in /usr/local/lib/python3.7/dist-packages (from matplotlib->catboost) (2.4.7)\n",
      "Requirement already satisfied: cycler>=0.10 in /usr/local/lib/python3.7/dist-packages (from matplotlib->catboost) (0.10.0)\n",
      "Requirement already satisfied: retrying>=1.3.3 in /usr/local/lib/python3.7/dist-packages (from plotly->catboost) (1.3.3)\n"
     ]
    }
   ],
   "source": [
    "pip install catboost"
   ]
  },
  {
   "cell_type": "markdown",
   "metadata": {
    "id": "cYeq2u9eGx28"
   },
   "source": [
    "Подключим необходимые библиотеки."
   ]
  },
  {
   "cell_type": "code",
   "execution_count": 2,
   "metadata": {
    "id": "gS-tCRTUGx28"
   },
   "outputs": [],
   "source": [
    "import pandas as pd\n",
    "import numpy as np\n",
    "import re\n",
    "import matplotlib.pyplot as plt\n",
    "\n",
    "from IPython.display import display\n",
    "\n",
    "from sklearn.preprocessing import StandardScaler\n",
    "from sklearn.utils import shuffle\n",
    "from sklearn.model_selection import train_test_split\n",
    "from sklearn.metrics import roc_auc_score\n",
    "from sklearn.metrics import roc_curve\n",
    "from sklearn.metrics import accuracy_score\n",
    "\n",
    "from catboost import Pool\n",
    "from catboost import CatBoostClassifier\n",
    "\n",
    "from sklearn.linear_model import LogisticRegression"
   ]
  },
  {
   "cell_type": "markdown",
   "metadata": {
    "id": "VOde3CSXGx29"
   },
   "source": [
    "Данные хранятся в 4-х различных файлах. Сначала, прочитаем их оттуда и сохраним в соответсвующие переменные. "
   ]
  },
  {
   "cell_type": "code",
   "execution_count": 3,
   "metadata": {
    "colab": {
     "base_uri": "https://localhost:8080/"
    },
    "id": "Zhgj7BDlHWqG",
    "outputId": "4eae0cbd-e1c1-4196-944b-5aa76637d5bb"
   },
   "outputs": [
    {
     "name": "stdout",
     "output_type": "stream",
     "text": [
      "Drive already mounted at /content/drive; to attempt to forcibly remount, call drive.mount(\"/content/drive\", force_remount=True).\n"
     ]
    }
   ],
   "source": [
    "from google.colab import drive\n",
    "drive.mount('/content/drive')"
   ]
  },
  {
   "cell_type": "code",
   "execution_count": 4,
   "metadata": {
    "id": "UvPDh6FLGx29"
   },
   "outputs": [],
   "source": [
    "contract = pd.read_csv('/content/drive/MyDrive/Colab Notebooks/Выпускной проект/final_provider/contract.csv')\n",
    "personal = pd.read_csv('/content/drive/MyDrive/Colab Notebooks/Выпускной проект/final_provider/personal.csv')\n",
    "internet = pd.read_csv('/content/drive/MyDrive/Colab Notebooks/Выпускной проект/final_provider/internet.csv')\n",
    "phone = pd.read_csv('/content/drive/MyDrive/Colab Notebooks/Выпускной проект/final_provider/phone.csv')"
   ]
  },
  {
   "cell_type": "markdown",
   "metadata": {
    "id": "D_wsIL7SGx2-"
   },
   "source": [
    "### Подготовка признаков"
   ]
  },
  {
   "cell_type": "markdown",
   "metadata": {
    "id": "tI8oFStfGx2-"
   },
   "source": [
    "#### Таблица contract"
   ]
  },
  {
   "cell_type": "markdown",
   "metadata": {
    "id": "idkGIXLoGx2-"
   },
   "source": [
    "Ознакомимся поподробнее с этими таблицами. Посмотрим как оргнизованы данные, выведем общую информацию о таблице, проверим хранящиеся типы данных, названия колонок. Отдельно обратим внимание на наличие пропущенных значений."
   ]
  },
  {
   "cell_type": "code",
   "execution_count": 5,
   "metadata": {
    "colab": {
     "base_uri": "https://localhost:8080/",
     "height": 359
    },
    "id": "4ZsGav2wGx2-",
    "outputId": "0c9fd043-4861-431a-c6a0-31c90ad53ad1"
   },
   "outputs": [
    {
     "data": {
      "text/html": [
       "<div>\n",
       "<style scoped>\n",
       "    .dataframe tbody tr th:only-of-type {\n",
       "        vertical-align: middle;\n",
       "    }\n",
       "\n",
       "    .dataframe tbody tr th {\n",
       "        vertical-align: top;\n",
       "    }\n",
       "\n",
       "    .dataframe thead th {\n",
       "        text-align: right;\n",
       "    }\n",
       "</style>\n",
       "<table border=\"1\" class=\"dataframe\">\n",
       "  <thead>\n",
       "    <tr style=\"text-align: right;\">\n",
       "      <th></th>\n",
       "      <th>customerID</th>\n",
       "      <th>BeginDate</th>\n",
       "      <th>EndDate</th>\n",
       "      <th>Type</th>\n",
       "      <th>PaperlessBilling</th>\n",
       "      <th>PaymentMethod</th>\n",
       "      <th>MonthlyCharges</th>\n",
       "      <th>TotalCharges</th>\n",
       "    </tr>\n",
       "  </thead>\n",
       "  <tbody>\n",
       "    <tr>\n",
       "      <th>0</th>\n",
       "      <td>7590-VHVEG</td>\n",
       "      <td>2020-01-01</td>\n",
       "      <td>No</td>\n",
       "      <td>Month-to-month</td>\n",
       "      <td>Yes</td>\n",
       "      <td>Electronic check</td>\n",
       "      <td>29.85</td>\n",
       "      <td>29.85</td>\n",
       "    </tr>\n",
       "    <tr>\n",
       "      <th>1</th>\n",
       "      <td>5575-GNVDE</td>\n",
       "      <td>2017-04-01</td>\n",
       "      <td>No</td>\n",
       "      <td>One year</td>\n",
       "      <td>No</td>\n",
       "      <td>Mailed check</td>\n",
       "      <td>56.95</td>\n",
       "      <td>1889.5</td>\n",
       "    </tr>\n",
       "    <tr>\n",
       "      <th>2</th>\n",
       "      <td>3668-QPYBK</td>\n",
       "      <td>2019-10-01</td>\n",
       "      <td>2019-12-01 00:00:00</td>\n",
       "      <td>Month-to-month</td>\n",
       "      <td>Yes</td>\n",
       "      <td>Mailed check</td>\n",
       "      <td>53.85</td>\n",
       "      <td>108.15</td>\n",
       "    </tr>\n",
       "    <tr>\n",
       "      <th>3</th>\n",
       "      <td>7795-CFOCW</td>\n",
       "      <td>2016-05-01</td>\n",
       "      <td>No</td>\n",
       "      <td>One year</td>\n",
       "      <td>No</td>\n",
       "      <td>Bank transfer (automatic)</td>\n",
       "      <td>42.30</td>\n",
       "      <td>1840.75</td>\n",
       "    </tr>\n",
       "    <tr>\n",
       "      <th>4</th>\n",
       "      <td>9237-HQITU</td>\n",
       "      <td>2019-09-01</td>\n",
       "      <td>2019-11-01 00:00:00</td>\n",
       "      <td>Month-to-month</td>\n",
       "      <td>Yes</td>\n",
       "      <td>Electronic check</td>\n",
       "      <td>70.70</td>\n",
       "      <td>151.65</td>\n",
       "    </tr>\n",
       "    <tr>\n",
       "      <th>5</th>\n",
       "      <td>9305-CDSKC</td>\n",
       "      <td>2019-03-01</td>\n",
       "      <td>2019-11-01 00:00:00</td>\n",
       "      <td>Month-to-month</td>\n",
       "      <td>Yes</td>\n",
       "      <td>Electronic check</td>\n",
       "      <td>99.65</td>\n",
       "      <td>820.5</td>\n",
       "    </tr>\n",
       "    <tr>\n",
       "      <th>6</th>\n",
       "      <td>1452-KIOVK</td>\n",
       "      <td>2018-04-01</td>\n",
       "      <td>No</td>\n",
       "      <td>Month-to-month</td>\n",
       "      <td>Yes</td>\n",
       "      <td>Credit card (automatic)</td>\n",
       "      <td>89.10</td>\n",
       "      <td>1949.4</td>\n",
       "    </tr>\n",
       "    <tr>\n",
       "      <th>7</th>\n",
       "      <td>6713-OKOMC</td>\n",
       "      <td>2019-04-01</td>\n",
       "      <td>No</td>\n",
       "      <td>Month-to-month</td>\n",
       "      <td>No</td>\n",
       "      <td>Mailed check</td>\n",
       "      <td>29.75</td>\n",
       "      <td>301.9</td>\n",
       "    </tr>\n",
       "    <tr>\n",
       "      <th>8</th>\n",
       "      <td>7892-POOKP</td>\n",
       "      <td>2017-07-01</td>\n",
       "      <td>2019-11-01 00:00:00</td>\n",
       "      <td>Month-to-month</td>\n",
       "      <td>Yes</td>\n",
       "      <td>Electronic check</td>\n",
       "      <td>104.80</td>\n",
       "      <td>3046.05</td>\n",
       "    </tr>\n",
       "    <tr>\n",
       "      <th>9</th>\n",
       "      <td>6388-TABGU</td>\n",
       "      <td>2014-12-01</td>\n",
       "      <td>No</td>\n",
       "      <td>One year</td>\n",
       "      <td>No</td>\n",
       "      <td>Bank transfer (automatic)</td>\n",
       "      <td>56.15</td>\n",
       "      <td>3487.95</td>\n",
       "    </tr>\n",
       "  </tbody>\n",
       "</table>\n",
       "</div>"
      ],
      "text/plain": [
       "   customerID   BeginDate  ... MonthlyCharges TotalCharges\n",
       "0  7590-VHVEG  2020-01-01  ...          29.85        29.85\n",
       "1  5575-GNVDE  2017-04-01  ...          56.95       1889.5\n",
       "2  3668-QPYBK  2019-10-01  ...          53.85       108.15\n",
       "3  7795-CFOCW  2016-05-01  ...          42.30      1840.75\n",
       "4  9237-HQITU  2019-09-01  ...          70.70       151.65\n",
       "5  9305-CDSKC  2019-03-01  ...          99.65        820.5\n",
       "6  1452-KIOVK  2018-04-01  ...          89.10       1949.4\n",
       "7  6713-OKOMC  2019-04-01  ...          29.75        301.9\n",
       "8  7892-POOKP  2017-07-01  ...         104.80      3046.05\n",
       "9  6388-TABGU  2014-12-01  ...          56.15      3487.95\n",
       "\n",
       "[10 rows x 8 columns]"
      ]
     },
     "execution_count": 5,
     "metadata": {
      "tags": []
     },
     "output_type": "execute_result"
    }
   ],
   "source": [
    "contract.head(10)"
   ]
  },
  {
   "cell_type": "code",
   "execution_count": 6,
   "metadata": {
    "colab": {
     "base_uri": "https://localhost:8080/"
    },
    "id": "8H5n5hM9Gx3A",
    "outputId": "4e00b524-1af2-4718-932c-571c3aa02e0f"
   },
   "outputs": [
    {
     "name": "stdout",
     "output_type": "stream",
     "text": [
      "<class 'pandas.core.frame.DataFrame'>\n",
      "RangeIndex: 7043 entries, 0 to 7042\n",
      "Data columns (total 8 columns):\n",
      " #   Column            Non-Null Count  Dtype  \n",
      "---  ------            --------------  -----  \n",
      " 0   customerID        7043 non-null   object \n",
      " 1   BeginDate         7043 non-null   object \n",
      " 2   EndDate           7043 non-null   object \n",
      " 3   Type              7043 non-null   object \n",
      " 4   PaperlessBilling  7043 non-null   object \n",
      " 5   PaymentMethod     7043 non-null   object \n",
      " 6   MonthlyCharges    7043 non-null   float64\n",
      " 7   TotalCharges      7043 non-null   object \n",
      "dtypes: float64(1), object(7)\n",
      "memory usage: 440.3+ KB\n"
     ]
    }
   ],
   "source": [
    "contract.info()"
   ]
  },
  {
   "cell_type": "markdown",
   "metadata": {
    "id": "vmjSDFDPGx3A"
   },
   "source": [
    "В данной таблице хранится информация о договоре для каждого клиента (`customerID`). Сразу отметим, что пропущенных значений в этой таблице нет."
   ]
  },
  {
   "cell_type": "markdown",
   "metadata": {
    "id": "JCP1rLd4Gx3B"
   },
   "source": [
    "Посмотрим на названия колонок."
   ]
  },
  {
   "cell_type": "code",
   "execution_count": 7,
   "metadata": {
    "colab": {
     "base_uri": "https://localhost:8080/"
    },
    "id": "6QMYYfFNGx3B",
    "outputId": "9e2efc84-243d-4fd3-d5e6-298f5e49d893"
   },
   "outputs": [
    {
     "data": {
      "text/plain": [
       "Index(['customerID', 'BeginDate', 'EndDate', 'Type', 'PaperlessBilling',\n",
       "       'PaymentMethod', 'MonthlyCharges', 'TotalCharges'],\n",
       "      dtype='object')"
      ]
     },
     "execution_count": 7,
     "metadata": {
      "tags": []
     },
     "output_type": "execute_result"
    }
   ],
   "source": [
    "contract.columns"
   ]
  },
  {
   "cell_type": "markdown",
   "metadata": {
    "id": "x9VrUjaFGx3C"
   },
   "source": [
    "С названиями все хорошо, лишних пробелов ни в начале, ни в конце нет. Также нет нелатинских символов. Однако присутствуют прописные символы - переведем названия в нижний регистр, а чтобы отделить слова, поставим между ними нижнее подчеркивание."
   ]
  },
  {
   "cell_type": "code",
   "execution_count": 8,
   "metadata": {
    "id": "2_sJrtHGGx3C"
   },
   "outputs": [],
   "source": [
    "# получаем новые названия, проставляя знак '_' перед каждой неначальной заглавной буквой\n",
    "new_columns = list(map(lambda x: re.sub(r'(\\B[A-Z])', r'_\\1', x), contract.columns.values))"
   ]
  },
  {
   "cell_type": "code",
   "execution_count": 9,
   "metadata": {
    "id": "Ulj7FAGFGx3C"
   },
   "outputs": [],
   "source": [
    "# приведем все буквы к нижнему регистру\n",
    "new_columns = list(map(str.lower, new_columns))"
   ]
  },
  {
   "cell_type": "code",
   "execution_count": 10,
   "metadata": {
    "colab": {
     "base_uri": "https://localhost:8080/"
    },
    "id": "VcQb2es8Gx3D",
    "outputId": "edc16d4c-d050-4c41-e5eb-51d4b9b16df5"
   },
   "outputs": [
    {
     "data": {
      "text/plain": [
       "Index(['customer_i_d', 'begin_date', 'end_date', 'type', 'paperless_billing',\n",
       "       'payment_method', 'monthly_charges', 'total_charges'],\n",
       "      dtype='object')"
      ]
     },
     "execution_count": 10,
     "metadata": {
      "tags": []
     },
     "output_type": "execute_result"
    }
   ],
   "source": [
    "contract.columns = new_columns\n",
    "contract.columns"
   ]
  },
  {
   "cell_type": "markdown",
   "metadata": {
    "id": "K4l0PtTsGx3D"
   },
   "source": [
    "Видим, что `customerID` преобразовалось в `customer_i_d`. Подправим это вручную."
   ]
  },
  {
   "cell_type": "code",
   "execution_count": 11,
   "metadata": {
    "colab": {
     "base_uri": "https://localhost:8080/"
    },
    "id": "GppHXEIgGx3D",
    "outputId": "f09a47aa-7909-4206-98d3-486c4447aceb"
   },
   "outputs": [
    {
     "data": {
      "text/plain": [
       "Index(['customer_id', 'begin_date', 'end_date', 'type', 'paperless_billing',\n",
       "       'payment_method', 'monthly_charges', 'total_charges'],\n",
       "      dtype='object')"
      ]
     },
     "execution_count": 11,
     "metadata": {
      "tags": []
     },
     "output_type": "execute_result"
    }
   ],
   "source": [
    "contract.rename(columns={'customer_i_d': 'customer_id'}, inplace=True)\n",
    "contract.columns"
   ]
  },
  {
   "cell_type": "markdown",
   "metadata": {
    "id": "DwLnmxl9Gx3E"
   },
   "source": [
    "Поскольку у нас нет исходной информации, какая колонка какие значения хранит, мы выдвинем предположения самостоятельно, исходя из названий."
   ]
  },
  {
   "cell_type": "markdown",
   "metadata": {
    "id": "YD0WRIKgGx3E"
   },
   "source": [
    "`customer_id` - код клиента<br>\n",
    "`begin_date` - дата заключения договора<br>\n",
    "`end_date` - дата окончания договора<br>\n",
    "`type` - тип договора: оплата каждый месяц, договор на 1 год, договор на 2 года<br>\n",
    "`paperless_billing` - безбумажное выставление счетов<br>\n",
    "`payment_method` - способ расчета<br>\n",
    "`monthly_charges` - ежемесячная плата<br>\n",
    "`total_charges` - суммарная плата<br>"
   ]
  },
  {
   "cell_type": "markdown",
   "metadata": {
    "id": "7D5OZKTJGx3E"
   },
   "source": [
    "Посмотрим, что у нас нет повторяющихся клиентов."
   ]
  },
  {
   "cell_type": "code",
   "execution_count": 12,
   "metadata": {
    "colab": {
     "base_uri": "https://localhost:8080/"
    },
    "id": "LO4JD7LTGx3E",
    "outputId": "f7ef943a-25dc-445e-e3e6-7396650bedb2"
   },
   "outputs": [
    {
     "data": {
      "text/plain": [
       "4299-OPXEJ    1\n",
       "6532-YLWSI    1\n",
       "9926-PJHDQ    1\n",
       "0310-SUCIN    1\n",
       "0164-XAIRP    1\n",
       "             ..\n",
       "6292-TOSSS    1\n",
       "9919-FZDED    1\n",
       "9919-KNPOO    1\n",
       "6260-ONULR    1\n",
       "8603-IJWDN    1\n",
       "Name: customer_id, Length: 7043, dtype: int64"
      ]
     },
     "execution_count": 12,
     "metadata": {
      "tags": []
     },
     "output_type": "execute_result"
    }
   ],
   "source": [
    "contract['customer_id'].value_counts()"
   ]
  },
  {
   "cell_type": "markdown",
   "metadata": {
    "id": "siCkF7U1Gx3E"
   },
   "source": [
    "Посмотрим на данные в колонке `begin_date`"
   ]
  },
  {
   "cell_type": "code",
   "execution_count": 13,
   "metadata": {
    "colab": {
     "base_uri": "https://localhost:8080/"
    },
    "id": "kf5ce8KqGx3F",
    "outputId": "95a276ba-3866-44a3-ca8f-ea6309a9a696"
   },
   "outputs": [
    {
     "data": {
      "text/plain": [
       "2014-02-01    366\n",
       "2019-11-01    237\n",
       "2019-09-01    237\n",
       "2019-10-01    237\n",
       "2020-01-01    233\n",
       "             ... \n",
       "2020-02-01     11\n",
       "2014-01-01      7\n",
       "2013-10-01      3\n",
       "2013-12-01      3\n",
       "2013-11-01      2\n",
       "Name: begin_date, Length: 77, dtype: int64"
      ]
     },
     "execution_count": 13,
     "metadata": {
      "tags": []
     },
     "output_type": "execute_result"
    }
   ],
   "source": [
    "contract['begin_date'].value_counts()"
   ]
  },
  {
   "cell_type": "markdown",
   "metadata": {
    "id": "zpHuF8L1Gx3F"
   },
   "source": [
    "В колонке `end_date` присутствует вспомогательное значение *No*, которое указывает, что у контракта нет даты его окончания, то есть он еще не закончился."
   ]
  },
  {
   "cell_type": "code",
   "execution_count": 14,
   "metadata": {
    "colab": {
     "base_uri": "https://localhost:8080/"
    },
    "id": "Q_OZSpvLGx3F",
    "outputId": "03676aa9-179e-49d7-b788-4b1549772cd1"
   },
   "outputs": [
    {
     "data": {
      "text/plain": [
       "No                     5174\n",
       "2019-11-01 00:00:00     485\n",
       "2019-12-01 00:00:00     466\n",
       "2020-01-01 00:00:00     460\n",
       "2019-10-01 00:00:00     458\n",
       "Name: end_date, dtype: int64"
      ]
     },
     "execution_count": 14,
     "metadata": {
      "tags": []
     },
     "output_type": "execute_result"
    }
   ],
   "source": [
    "contract['end_date'].value_counts()"
   ]
  },
  {
   "cell_type": "markdown",
   "metadata": {
    "id": "L6bP77dGGx3F"
   },
   "source": [
    "Однако у нас есть еще 4 значения. Данные сейчас представлены в виде строк. Оставим пока все в таком виде. При дальнейшем анализе решим, как лучше обработать данные колонки."
   ]
  },
  {
   "cell_type": "markdown",
   "metadata": {
    "id": "dDw9yUuIGx3G"
   },
   "source": [
    "Рассмотрим остальные колонки."
   ]
  },
  {
   "cell_type": "code",
   "execution_count": 15,
   "metadata": {
    "colab": {
     "base_uri": "https://localhost:8080/"
    },
    "id": "pZceK4hiGx3G",
    "outputId": "78bb4061-50a0-478c-eeaf-d7bb6f0b81ec"
   },
   "outputs": [
    {
     "data": {
      "text/plain": [
       "Month-to-month    3875\n",
       "Two year          1695\n",
       "One year          1473\n",
       "Name: type, dtype: int64"
      ]
     },
     "execution_count": 15,
     "metadata": {
      "tags": []
     },
     "output_type": "execute_result"
    }
   ],
   "source": [
    "contract['type'].value_counts()"
   ]
  },
  {
   "cell_type": "markdown",
   "metadata": {
    "id": "m6WkniFggUIo"
   },
   "source": [
    "Посмотрим более наглядно."
   ]
  },
  {
   "cell_type": "code",
   "execution_count": 16,
   "metadata": {
    "colab": {
     "base_uri": "https://localhost:8080/",
     "height": 421
    },
    "id": "Z6Vfd3iSgYdh",
    "outputId": "0912a6e7-7bfe-49b1-806c-64726a87cbeb"
   },
   "outputs": [
    {
     "data": {
      "text/plain": [
       "<matplotlib.axes._subplots.AxesSubplot at 0x7fbf4b5a8e10>"
      ]
     },
     "execution_count": 16,
     "metadata": {
      "tags": []
     },
     "output_type": "execute_result"
    },
    {
     "data": {
      "image/png": "[encoded data removed]",
      "text/plain": [
       "<Figure size 1080x432 with 1 Axes>"
      ]
     },
     "metadata": {
      "needs_background": "light",
      "tags": []
     },
     "output_type": "display_data"
    }
   ],
   "source": [
    "(contract\n",
    "    .groupby(by='type')['customer_id']\n",
    "    .count()\n",
    "    .sort_values(ascending=False)\n",
    "    .plot(rot=0, kind='bar', color='orange', xlabel='Type of contract', ylabel='Count clients',\n",
    "          title='Count clients with different types of contract', legend=0, figsize=(15, 6))\n",
    ")"
   ]
  },
  {
   "cell_type": "markdown",
   "metadata": {
    "id": "yueabGh8Gx3G"
   },
   "source": [
    "Здесь у нас всего 3 значения. Это категориальный признак. Необходимо будет учесть это при подготовке признаков для модели."
   ]
  },
  {
   "cell_type": "code",
   "execution_count": 17,
   "metadata": {
    "colab": {
     "base_uri": "https://localhost:8080/"
    },
    "id": "tEyUweITGx3G",
    "outputId": "7ee93abd-30bb-49fd-b3cc-1e498b56d12a"
   },
   "outputs": [
    {
     "data": {
      "text/plain": [
       "Yes    4171\n",
       "No     2872\n",
       "Name: paperless_billing, dtype: int64"
      ]
     },
     "execution_count": 17,
     "metadata": {
      "tags": []
     },
     "output_type": "execute_result"
    }
   ],
   "source": [
    "contract['paperless_billing'].value_counts()"
   ]
  },
  {
   "cell_type": "markdown",
   "metadata": {
    "id": "0SuTdjrVGx3H"
   },
   "source": [
    "Также категориальный признак, здесь всего 2 значения."
   ]
  },
  {
   "cell_type": "code",
   "execution_count": 18,
   "metadata": {
    "colab": {
     "base_uri": "https://localhost:8080/"
    },
    "id": "k1jLGZm-Gx3H",
    "outputId": "a24cd302-a8b0-4a9e-f1fe-47ed3d478275"
   },
   "outputs": [
    {
     "data": {
      "text/plain": [
       "Electronic check             2365\n",
       "Mailed check                 1612\n",
       "Bank transfer (automatic)    1544\n",
       "Credit card (automatic)      1522\n",
       "Name: payment_method, dtype: int64"
      ]
     },
     "execution_count": 18,
     "metadata": {
      "tags": []
     },
     "output_type": "execute_result"
    }
   ],
   "source": [
    "contract['payment_method'].value_counts()"
   ]
  },
  {
   "cell_type": "code",
   "execution_count": 19,
   "metadata": {
    "colab": {
     "base_uri": "https://localhost:8080/",
     "height": 421
    },
    "id": "o3LEX8dkkPyY",
    "outputId": "82a580a3-6330-4232-8169-18e792525bb3"
   },
   "outputs": [
    {
     "data": {
      "text/plain": [
       "<matplotlib.axes._subplots.AxesSubplot at 0x7fbf4b51a6d0>"
      ]
     },
     "execution_count": 19,
     "metadata": {
      "tags": []
     },
     "output_type": "execute_result"
    },
    {
     "data": {
      "image/png": "[encoded data removed]",
      "text/plain": [
       "<Figure size 1080x432 with 1 Axes>"
      ]
     },
     "metadata": {
      "needs_background": "light",
      "tags": []
     },
     "output_type": "display_data"
    }
   ],
   "source": [
    "(contract\n",
    "    .groupby(by='payment_method')['customer_id']\n",
    "    .count()\n",
    "    .sort_values(ascending=False)\n",
    "    .plot(rot=0, kind='bar', color='green', xlabel='Payment method', ylabel='Count clients',\n",
    "          title='Count clients with different payment methods', legend=0, figsize=(15, 6))\n",
    ")"
   ]
  },
  {
   "cell_type": "markdown",
   "metadata": {
    "id": "rDOP8ZsiGx3H"
   },
   "source": [
    "Такая же ситуация."
   ]
  },
  {
   "cell_type": "markdown",
   "metadata": {
    "id": "GuYtiTy8Gx3H"
   },
   "source": [
    "Последние две колонки это количественные переменные."
   ]
  },
  {
   "cell_type": "markdown",
   "metadata": {
    "id": "ftRpMZhiGx3H"
   },
   "source": [
    "Переведем колонку `total_charges` в тип данных float. При этом некорректные значения принудительно заменятся на NaN. Поскольку это значение, судя по названию несет смысл (общие расходы), и нигде не сказано, что это только лишь месячные расходы умноженное на количество месяцев, то заполнить эту колонку какими-то значениями не представляется возможным. Посмотрим сколько всего пропусков получится."
   ]
  },
  {
   "cell_type": "code",
   "execution_count": 20,
   "metadata": {
    "id": "_Q0TRSXfGx3H"
   },
   "outputs": [],
   "source": [
    "contract['total_charges'] = pd.to_numeric(contract['total_charges'], errors='coerce')"
   ]
  },
  {
   "cell_type": "code",
   "execution_count": 21,
   "metadata": {
    "colab": {
     "base_uri": "https://localhost:8080/"
    },
    "id": "NFbqVto1Gx3I",
    "outputId": "c71cc59b-d69a-447f-9fd4-26dffb6e307e"
   },
   "outputs": [
    {
     "name": "stdout",
     "output_type": "stream",
     "text": [
      "<class 'pandas.core.frame.DataFrame'>\n",
      "RangeIndex: 7043 entries, 0 to 7042\n",
      "Data columns (total 8 columns):\n",
      " #   Column             Non-Null Count  Dtype  \n",
      "---  ------             --------------  -----  \n",
      " 0   customer_id        7043 non-null   object \n",
      " 1   begin_date         7043 non-null   object \n",
      " 2   end_date           7043 non-null   object \n",
      " 3   type               7043 non-null   object \n",
      " 4   paperless_billing  7043 non-null   object \n",
      " 5   payment_method     7043 non-null   object \n",
      " 6   monthly_charges    7043 non-null   float64\n",
      " 7   total_charges      7032 non-null   float64\n",
      "dtypes: float64(2), object(6)\n",
      "memory usage: 440.3+ KB\n"
     ]
    }
   ],
   "source": [
    "contract.info()"
   ]
  },
  {
   "cell_type": "markdown",
   "metadata": {
    "id": "3PNIlGBV3OUS"
   },
   "source": [
    "Пропущено всего 11 значений, не так много по сравнению с общим количесвтом строк. Удалим эти строки."
   ]
  },
  {
   "cell_type": "code",
   "execution_count": 22,
   "metadata": {
    "id": "PZ43ISAWGx3I"
   },
   "outputs": [],
   "source": [
    "contract = contract.dropna()"
   ]
  },
  {
   "cell_type": "markdown",
   "metadata": {
    "id": "3VoYf0k24fif"
   },
   "source": [
    "Проверим внесенные изменения."
   ]
  },
  {
   "cell_type": "code",
   "execution_count": 23,
   "metadata": {
    "colab": {
     "base_uri": "https://localhost:8080/"
    },
    "id": "9Xfg-aklGx3I",
    "outputId": "ce080f00-bd0a-4517-be0e-d5fc4ea808da"
   },
   "outputs": [
    {
     "name": "stdout",
     "output_type": "stream",
     "text": [
      "<class 'pandas.core.frame.DataFrame'>\n",
      "Int64Index: 7032 entries, 0 to 7042\n",
      "Data columns (total 8 columns):\n",
      " #   Column             Non-Null Count  Dtype  \n",
      "---  ------             --------------  -----  \n",
      " 0   customer_id        7032 non-null   object \n",
      " 1   begin_date         7032 non-null   object \n",
      " 2   end_date           7032 non-null   object \n",
      " 3   type               7032 non-null   object \n",
      " 4   paperless_billing  7032 non-null   object \n",
      " 5   payment_method     7032 non-null   object \n",
      " 6   monthly_charges    7032 non-null   float64\n",
      " 7   total_charges      7032 non-null   float64\n",
      "dtypes: float64(2), object(6)\n",
      "memory usage: 494.4+ KB\n"
     ]
    }
   ],
   "source": [
    "contract.info()"
   ]
  },
  {
   "cell_type": "markdown",
   "metadata": {
    "id": "VUgcrjWE3jWp"
   },
   "source": [
    "Итого, колонки `type`, `paperless_billing` и `payment_method` содержат категориальные переменные, необходимо учесть это при формировании признаков модели. `monthly_charges` и `total_charges` - количественные переменные. `begin_date` и `end_date` - это данные формата дата/время, но их необходимо обработать отдельно, сделаем это позже."
   ]
  },
  {
   "cell_type": "code",
   "execution_count": 24,
   "metadata": {
    "colab": {
     "base_uri": "https://localhost:8080/",
     "height": 204
    },
    "id": "ba1ZZEKyGx3J",
    "outputId": "4f8cd237-8a14-4ffb-ab70-574136c4fc6c"
   },
   "outputs": [
    {
     "data": {
      "text/html": [
       "<div>\n",
       "<style scoped>\n",
       "    .dataframe tbody tr th:only-of-type {\n",
       "        vertical-align: middle;\n",
       "    }\n",
       "\n",
       "    .dataframe tbody tr th {\n",
       "        vertical-align: top;\n",
       "    }\n",
       "\n",
       "    .dataframe thead th {\n",
       "        text-align: right;\n",
       "    }\n",
       "</style>\n",
       "<table border=\"1\" class=\"dataframe\">\n",
       "  <thead>\n",
       "    <tr style=\"text-align: right;\">\n",
       "      <th></th>\n",
       "      <th>customer_id</th>\n",
       "      <th>begin_date</th>\n",
       "      <th>end_date</th>\n",
       "      <th>type</th>\n",
       "      <th>paperless_billing</th>\n",
       "      <th>payment_method</th>\n",
       "      <th>monthly_charges</th>\n",
       "      <th>total_charges</th>\n",
       "    </tr>\n",
       "  </thead>\n",
       "  <tbody>\n",
       "    <tr>\n",
       "      <th>0</th>\n",
       "      <td>7590-VHVEG</td>\n",
       "      <td>2020-01-01</td>\n",
       "      <td>No</td>\n",
       "      <td>Month-to-month</td>\n",
       "      <td>Yes</td>\n",
       "      <td>Electronic check</td>\n",
       "      <td>29.85</td>\n",
       "      <td>29.85</td>\n",
       "    </tr>\n",
       "    <tr>\n",
       "      <th>1</th>\n",
       "      <td>5575-GNVDE</td>\n",
       "      <td>2017-04-01</td>\n",
       "      <td>No</td>\n",
       "      <td>One year</td>\n",
       "      <td>No</td>\n",
       "      <td>Mailed check</td>\n",
       "      <td>56.95</td>\n",
       "      <td>1889.50</td>\n",
       "    </tr>\n",
       "    <tr>\n",
       "      <th>2</th>\n",
       "      <td>3668-QPYBK</td>\n",
       "      <td>2019-10-01</td>\n",
       "      <td>2019-12-01 00:00:00</td>\n",
       "      <td>Month-to-month</td>\n",
       "      <td>Yes</td>\n",
       "      <td>Mailed check</td>\n",
       "      <td>53.85</td>\n",
       "      <td>108.15</td>\n",
       "    </tr>\n",
       "    <tr>\n",
       "      <th>3</th>\n",
       "      <td>7795-CFOCW</td>\n",
       "      <td>2016-05-01</td>\n",
       "      <td>No</td>\n",
       "      <td>One year</td>\n",
       "      <td>No</td>\n",
       "      <td>Bank transfer (automatic)</td>\n",
       "      <td>42.30</td>\n",
       "      <td>1840.75</td>\n",
       "    </tr>\n",
       "    <tr>\n",
       "      <th>4</th>\n",
       "      <td>9237-HQITU</td>\n",
       "      <td>2019-09-01</td>\n",
       "      <td>2019-11-01 00:00:00</td>\n",
       "      <td>Month-to-month</td>\n",
       "      <td>Yes</td>\n",
       "      <td>Electronic check</td>\n",
       "      <td>70.70</td>\n",
       "      <td>151.65</td>\n",
       "    </tr>\n",
       "  </tbody>\n",
       "</table>\n",
       "</div>"
      ],
      "text/plain": [
       "  customer_id  begin_date  ... monthly_charges total_charges\n",
       "0  7590-VHVEG  2020-01-01  ...           29.85         29.85\n",
       "1  5575-GNVDE  2017-04-01  ...           56.95       1889.50\n",
       "2  3668-QPYBK  2019-10-01  ...           53.85        108.15\n",
       "3  7795-CFOCW  2016-05-01  ...           42.30       1840.75\n",
       "4  9237-HQITU  2019-09-01  ...           70.70        151.65\n",
       "\n",
       "[5 rows x 8 columns]"
      ]
     },
     "execution_count": 24,
     "metadata": {
      "tags": []
     },
     "output_type": "execute_result"
    }
   ],
   "source": [
    "contract.head()"
   ]
  },
  {
   "cell_type": "markdown",
   "metadata": {
    "id": "LaWnmU4AGx3L"
   },
   "source": [
    "#### Таблица personal"
   ]
  },
  {
   "cell_type": "markdown",
   "metadata": {
    "id": "DmF57RzLGx3L"
   },
   "source": [
    "Ознакомимся соследующей таблицей - персональные данные для каждого клиента."
   ]
  },
  {
   "cell_type": "code",
   "execution_count": 25,
   "metadata": {
    "colab": {
     "base_uri": "https://localhost:8080/",
     "height": 359
    },
    "id": "xzlXvx-HGx3L",
    "outputId": "dc0bc962-a339-44de-9363-bac6e72a89ca"
   },
   "outputs": [
    {
     "data": {
      "text/html": [
       "<div>\n",
       "<style scoped>\n",
       "    .dataframe tbody tr th:only-of-type {\n",
       "        vertical-align: middle;\n",
       "    }\n",
       "\n",
       "    .dataframe tbody tr th {\n",
       "        vertical-align: top;\n",
       "    }\n",
       "\n",
       "    .dataframe thead th {\n",
       "        text-align: right;\n",
       "    }\n",
       "</style>\n",
       "<table border=\"1\" class=\"dataframe\">\n",
       "  <thead>\n",
       "    <tr style=\"text-align: right;\">\n",
       "      <th></th>\n",
       "      <th>customerID</th>\n",
       "      <th>gender</th>\n",
       "      <th>SeniorCitizen</th>\n",
       "      <th>Partner</th>\n",
       "      <th>Dependents</th>\n",
       "    </tr>\n",
       "  </thead>\n",
       "  <tbody>\n",
       "    <tr>\n",
       "      <th>0</th>\n",
       "      <td>7590-VHVEG</td>\n",
       "      <td>Female</td>\n",
       "      <td>0</td>\n",
       "      <td>Yes</td>\n",
       "      <td>No</td>\n",
       "    </tr>\n",
       "    <tr>\n",
       "      <th>1</th>\n",
       "      <td>5575-GNVDE</td>\n",
       "      <td>Male</td>\n",
       "      <td>0</td>\n",
       "      <td>No</td>\n",
       "      <td>No</td>\n",
       "    </tr>\n",
       "    <tr>\n",
       "      <th>2</th>\n",
       "      <td>3668-QPYBK</td>\n",
       "      <td>Male</td>\n",
       "      <td>0</td>\n",
       "      <td>No</td>\n",
       "      <td>No</td>\n",
       "    </tr>\n",
       "    <tr>\n",
       "      <th>3</th>\n",
       "      <td>7795-CFOCW</td>\n",
       "      <td>Male</td>\n",
       "      <td>0</td>\n",
       "      <td>No</td>\n",
       "      <td>No</td>\n",
       "    </tr>\n",
       "    <tr>\n",
       "      <th>4</th>\n",
       "      <td>9237-HQITU</td>\n",
       "      <td>Female</td>\n",
       "      <td>0</td>\n",
       "      <td>No</td>\n",
       "      <td>No</td>\n",
       "    </tr>\n",
       "    <tr>\n",
       "      <th>5</th>\n",
       "      <td>9305-CDSKC</td>\n",
       "      <td>Female</td>\n",
       "      <td>0</td>\n",
       "      <td>No</td>\n",
       "      <td>No</td>\n",
       "    </tr>\n",
       "    <tr>\n",
       "      <th>6</th>\n",
       "      <td>1452-KIOVK</td>\n",
       "      <td>Male</td>\n",
       "      <td>0</td>\n",
       "      <td>No</td>\n",
       "      <td>Yes</td>\n",
       "    </tr>\n",
       "    <tr>\n",
       "      <th>7</th>\n",
       "      <td>6713-OKOMC</td>\n",
       "      <td>Female</td>\n",
       "      <td>0</td>\n",
       "      <td>No</td>\n",
       "      <td>No</td>\n",
       "    </tr>\n",
       "    <tr>\n",
       "      <th>8</th>\n",
       "      <td>7892-POOKP</td>\n",
       "      <td>Female</td>\n",
       "      <td>0</td>\n",
       "      <td>Yes</td>\n",
       "      <td>No</td>\n",
       "    </tr>\n",
       "    <tr>\n",
       "      <th>9</th>\n",
       "      <td>6388-TABGU</td>\n",
       "      <td>Male</td>\n",
       "      <td>0</td>\n",
       "      <td>No</td>\n",
       "      <td>Yes</td>\n",
       "    </tr>\n",
       "  </tbody>\n",
       "</table>\n",
       "</div>"
      ],
      "text/plain": [
       "   customerID  gender  SeniorCitizen Partner Dependents\n",
       "0  7590-VHVEG  Female              0     Yes         No\n",
       "1  5575-GNVDE    Male              0      No         No\n",
       "2  3668-QPYBK    Male              0      No         No\n",
       "3  7795-CFOCW    Male              0      No         No\n",
       "4  9237-HQITU  Female              0      No         No\n",
       "5  9305-CDSKC  Female              0      No         No\n",
       "6  1452-KIOVK    Male              0      No        Yes\n",
       "7  6713-OKOMC  Female              0      No         No\n",
       "8  7892-POOKP  Female              0     Yes         No\n",
       "9  6388-TABGU    Male              0      No        Yes"
      ]
     },
     "execution_count": 25,
     "metadata": {
      "tags": []
     },
     "output_type": "execute_result"
    }
   ],
   "source": [
    "personal.head(10)"
   ]
  },
  {
   "cell_type": "markdown",
   "metadata": {
    "id": "5F1rpNfa4tty"
   },
   "source": [
    "Выведем общую информацию по таблице."
   ]
  },
  {
   "cell_type": "code",
   "execution_count": 26,
   "metadata": {
    "colab": {
     "base_uri": "https://localhost:8080/"
    },
    "id": "8aYERoCOGx3M",
    "outputId": "c6da52e1-ed2b-463c-c1ce-ba3deadc5c07"
   },
   "outputs": [
    {
     "name": "stdout",
     "output_type": "stream",
     "text": [
      "<class 'pandas.core.frame.DataFrame'>\n",
      "RangeIndex: 7043 entries, 0 to 7042\n",
      "Data columns (total 5 columns):\n",
      " #   Column         Non-Null Count  Dtype \n",
      "---  ------         --------------  ----- \n",
      " 0   customerID     7043 non-null   object\n",
      " 1   gender         7043 non-null   object\n",
      " 2   SeniorCitizen  7043 non-null   int64 \n",
      " 3   Partner        7043 non-null   object\n",
      " 4   Dependents     7043 non-null   object\n",
      "dtypes: int64(1), object(4)\n",
      "memory usage: 275.2+ KB\n"
     ]
    }
   ],
   "source": [
    "personal.info()"
   ]
  },
  {
   "cell_type": "markdown",
   "metadata": {
    "id": "8Bjooz95Gx3M"
   },
   "source": [
    "Также заметим, что здесь нет пропусков. Количество строк, столько же, сколько и договоров."
   ]
  },
  {
   "cell_type": "markdown",
   "metadata": {
    "id": "SrLjJVHnGx3M"
   },
   "source": [
    "Проверим названия столбцов."
   ]
  },
  {
   "cell_type": "code",
   "execution_count": 27,
   "metadata": {
    "colab": {
     "base_uri": "https://localhost:8080/"
    },
    "id": "b7LkckRPGx3M",
    "outputId": "7df10ef2-c536-4df0-f88c-51b482577bb9"
   },
   "outputs": [
    {
     "data": {
      "text/plain": [
       "Index(['customerID', 'gender', 'SeniorCitizen', 'Partner', 'Dependents'], dtype='object')"
      ]
     },
     "execution_count": 27,
     "metadata": {
      "tags": []
     },
     "output_type": "execute_result"
    }
   ],
   "source": [
    "personal.columns"
   ]
  },
  {
   "cell_type": "code",
   "execution_count": 28,
   "metadata": {
    "colab": {
     "base_uri": "https://localhost:8080/"
    },
    "id": "ez8wkp_7Gx3M",
    "outputId": "6e5622cd-2391-44db-da4b-90a64ba8cb49"
   },
   "outputs": [
    {
     "data": {
      "text/plain": [
       "Index(['customer_i_d', 'gender', 'senior_citizen', 'partner', 'dependents'], dtype='object')"
      ]
     },
     "execution_count": 28,
     "metadata": {
      "tags": []
     },
     "output_type": "execute_result"
    }
   ],
   "source": [
    "new_columns = list(map(lambda x: re.sub(r'(\\B[A-Z])', r'_\\1', x), personal.columns.values))\n",
    "new_columns = list(map(str.lower, new_columns))\n",
    "personal.columns = new_columns\n",
    "personal.columns"
   ]
  },
  {
   "cell_type": "code",
   "execution_count": 29,
   "metadata": {
    "colab": {
     "base_uri": "https://localhost:8080/"
    },
    "id": "-murS8B-Gx3N",
    "outputId": "b0279ec0-3fb5-41df-f629-2aa78ff7ddb7"
   },
   "outputs": [
    {
     "data": {
      "text/plain": [
       "Index(['customer_id', 'gender', 'senior_citizen', 'partner', 'dependents'], dtype='object')"
      ]
     },
     "execution_count": 29,
     "metadata": {
      "tags": []
     },
     "output_type": "execute_result"
    }
   ],
   "source": [
    "personal.rename(columns={'customer_i_d': 'customer_id'}, inplace=True)\n",
    "personal.columns"
   ]
  },
  {
   "cell_type": "markdown",
   "metadata": {
    "id": "9k__kLdwGx3N"
   },
   "source": [
    "Опишем, что хранится в каждой колонке."
   ]
  },
  {
   "cell_type": "markdown",
   "metadata": {
    "id": "pKbfGJM2Gx3N"
   },
   "source": [
    "`customer_id` - код клиента<br>\n",
    "`gender` - пол клиента<br>\n",
    "`senior_citizen` - является ли клиент пенсионером<br>\n",
    "`partner` - есть ли партнер<br>\n",
    "`dependents` - есть ли люди на попечительтсве<br>"
   ]
  },
  {
   "cell_type": "code",
   "execution_count": 30,
   "metadata": {
    "colab": {
     "base_uri": "https://localhost:8080/"
    },
    "id": "2O84Pn8hGx3N",
    "outputId": "bae85ad2-462d-4dd7-9dec-975c3f897707"
   },
   "outputs": [
    {
     "data": {
      "text/plain": [
       "4299-OPXEJ    1\n",
       "6532-YLWSI    1\n",
       "9926-PJHDQ    1\n",
       "0310-SUCIN    1\n",
       "0164-XAIRP    1\n",
       "             ..\n",
       "6292-TOSSS    1\n",
       "9919-FZDED    1\n",
       "9919-KNPOO    1\n",
       "6260-ONULR    1\n",
       "8603-IJWDN    1\n",
       "Name: customer_id, Length: 7043, dtype: int64"
      ]
     },
     "execution_count": 30,
     "metadata": {
      "tags": []
     },
     "output_type": "execute_result"
    }
   ],
   "source": [
    "personal['customer_id'].value_counts()"
   ]
  },
  {
   "cell_type": "markdown",
   "metadata": {
    "id": "LkxZOoK3Gx3O"
   },
   "source": [
    "У нас 7043 разных клиента, одинаковых записей в таблице нет."
   ]
  },
  {
   "cell_type": "code",
   "execution_count": 31,
   "metadata": {
    "colab": {
     "base_uri": "https://localhost:8080/"
    },
    "id": "-ySnFCL5Gx3O",
    "outputId": "7d38495a-d4e0-4c9e-c816-77f795e1a853"
   },
   "outputs": [
    {
     "data": {
      "text/plain": [
       "Male      3555\n",
       "Female    3488\n",
       "Name: gender, dtype: int64"
      ]
     },
     "execution_count": 31,
     "metadata": {
      "tags": []
     },
     "output_type": "execute_result"
    }
   ],
   "source": [
    "personal['gender'].value_counts()"
   ]
  },
  {
   "cell_type": "markdown",
   "metadata": {
    "id": "NA4tJW93Gx3O"
   },
   "source": [
    "Всего два пола - категориальная переменная."
   ]
  },
  {
   "cell_type": "markdown",
   "metadata": {
    "id": "sHT7rljoGx3P"
   },
   "source": [
    "Посмотрим остальные колонки."
   ]
  },
  {
   "cell_type": "code",
   "execution_count": 32,
   "metadata": {
    "colab": {
     "base_uri": "https://localhost:8080/"
    },
    "id": "CHuIaXtsGx3P",
    "outputId": "02eed401-09cf-4503-c857-e86ef308a3c8"
   },
   "outputs": [
    {
     "data": {
      "text/plain": [
       "0    5901\n",
       "1    1142\n",
       "Name: senior_citizen, dtype: int64"
      ]
     },
     "execution_count": 32,
     "metadata": {
      "tags": []
     },
     "output_type": "execute_result"
    }
   ],
   "source": [
    "personal['senior_citizen'].value_counts()"
   ]
  },
  {
   "cell_type": "code",
   "execution_count": 33,
   "metadata": {
    "colab": {
     "base_uri": "https://localhost:8080/"
    },
    "id": "wfurAi0oGx3P",
    "outputId": "2099f8da-5fd3-4f45-cfa0-cb4e9f1f0496"
   },
   "outputs": [
    {
     "data": {
      "text/plain": [
       "No     3641\n",
       "Yes    3402\n",
       "Name: partner, dtype: int64"
      ]
     },
     "execution_count": 33,
     "metadata": {
      "tags": []
     },
     "output_type": "execute_result"
    }
   ],
   "source": [
    "personal['partner'].value_counts()"
   ]
  },
  {
   "cell_type": "code",
   "execution_count": 34,
   "metadata": {
    "colab": {
     "base_uri": "https://localhost:8080/"
    },
    "id": "gNkJ4S7DGx3P",
    "outputId": "2ef0f736-96aa-4b5f-e6de-416446cb5786"
   },
   "outputs": [
    {
     "data": {
      "text/plain": [
       "No     4933\n",
       "Yes    2110\n",
       "Name: dependents, dtype: int64"
      ]
     },
     "execution_count": 34,
     "metadata": {
      "tags": []
     },
     "output_type": "execute_result"
    }
   ],
   "source": [
    "personal['dependents'].value_counts()"
   ]
  },
  {
   "cell_type": "markdown",
   "metadata": {
    "id": "CCpcoaw-Gx3Q"
   },
   "source": [
    "Все 3 колонки - категориальные признаки, учтем это в дальнейшем."
   ]
  },
  {
   "cell_type": "code",
   "execution_count": 35,
   "metadata": {
    "colab": {
     "base_uri": "https://localhost:8080/",
     "height": 204
    },
    "id": "qRPDcgPoGx3Q",
    "outputId": "ed4b1c29-354e-47f7-e4a7-3ca233c7367d"
   },
   "outputs": [
    {
     "data": {
      "text/html": [
       "<div>\n",
       "<style scoped>\n",
       "    .dataframe tbody tr th:only-of-type {\n",
       "        vertical-align: middle;\n",
       "    }\n",
       "\n",
       "    .dataframe tbody tr th {\n",
       "        vertical-align: top;\n",
       "    }\n",
       "\n",
       "    .dataframe thead th {\n",
       "        text-align: right;\n",
       "    }\n",
       "</style>\n",
       "<table border=\"1\" class=\"dataframe\">\n",
       "  <thead>\n",
       "    <tr style=\"text-align: right;\">\n",
       "      <th></th>\n",
       "      <th>customer_id</th>\n",
       "      <th>gender</th>\n",
       "      <th>senior_citizen</th>\n",
       "      <th>partner</th>\n",
       "      <th>dependents</th>\n",
       "    </tr>\n",
       "  </thead>\n",
       "  <tbody>\n",
       "    <tr>\n",
       "      <th>0</th>\n",
       "      <td>7590-VHVEG</td>\n",
       "      <td>Female</td>\n",
       "      <td>0</td>\n",
       "      <td>Yes</td>\n",
       "      <td>No</td>\n",
       "    </tr>\n",
       "    <tr>\n",
       "      <th>1</th>\n",
       "      <td>5575-GNVDE</td>\n",
       "      <td>Male</td>\n",
       "      <td>0</td>\n",
       "      <td>No</td>\n",
       "      <td>No</td>\n",
       "    </tr>\n",
       "    <tr>\n",
       "      <th>2</th>\n",
       "      <td>3668-QPYBK</td>\n",
       "      <td>Male</td>\n",
       "      <td>0</td>\n",
       "      <td>No</td>\n",
       "      <td>No</td>\n",
       "    </tr>\n",
       "    <tr>\n",
       "      <th>3</th>\n",
       "      <td>7795-CFOCW</td>\n",
       "      <td>Male</td>\n",
       "      <td>0</td>\n",
       "      <td>No</td>\n",
       "      <td>No</td>\n",
       "    </tr>\n",
       "    <tr>\n",
       "      <th>4</th>\n",
       "      <td>9237-HQITU</td>\n",
       "      <td>Female</td>\n",
       "      <td>0</td>\n",
       "      <td>No</td>\n",
       "      <td>No</td>\n",
       "    </tr>\n",
       "  </tbody>\n",
       "</table>\n",
       "</div>"
      ],
      "text/plain": [
       "  customer_id  gender  senior_citizen partner dependents\n",
       "0  7590-VHVEG  Female               0     Yes         No\n",
       "1  5575-GNVDE    Male               0      No         No\n",
       "2  3668-QPYBK    Male               0      No         No\n",
       "3  7795-CFOCW    Male               0      No         No\n",
       "4  9237-HQITU  Female               0      No         No"
      ]
     },
     "execution_count": 35,
     "metadata": {
      "tags": []
     },
     "output_type": "execute_result"
    }
   ],
   "source": [
    "personal.head()"
   ]
  },
  {
   "cell_type": "code",
   "execution_count": 36,
   "metadata": {
    "colab": {
     "base_uri": "https://localhost:8080/"
    },
    "id": "vJZAXMSrGx3Q",
    "outputId": "e5191df1-de59-47f0-e162-435896131027"
   },
   "outputs": [
    {
     "name": "stdout",
     "output_type": "stream",
     "text": [
      "<class 'pandas.core.frame.DataFrame'>\n",
      "RangeIndex: 7043 entries, 0 to 7042\n",
      "Data columns (total 5 columns):\n",
      " #   Column          Non-Null Count  Dtype \n",
      "---  ------          --------------  ----- \n",
      " 0   customer_id     7043 non-null   object\n",
      " 1   gender          7043 non-null   object\n",
      " 2   senior_citizen  7043 non-null   int64 \n",
      " 3   partner         7043 non-null   object\n",
      " 4   dependents      7043 non-null   object\n",
      "dtypes: int64(1), object(4)\n",
      "memory usage: 275.2+ KB\n"
     ]
    }
   ],
   "source": [
    "personal.info()"
   ]
  },
  {
   "cell_type": "markdown",
   "metadata": {
    "id": "74e-WT0MGx3R"
   },
   "source": [
    "#### Таблица internet"
   ]
  },
  {
   "cell_type": "markdown",
   "metadata": {
    "id": "OcH1DvrfGx3R"
   },
   "source": [
    "Рассмотрим таблицу `internet` - информация об интеренет услугах для каждого клиента."
   ]
  },
  {
   "cell_type": "code",
   "execution_count": 37,
   "metadata": {
    "colab": {
     "base_uri": "https://localhost:8080/",
     "height": 359
    },
    "id": "j-BJTwkkGx3R",
    "outputId": "1daa8fbb-edbe-4cad-93b3-c1a3379d0e81"
   },
   "outputs": [
    {
     "data": {
      "text/html": [
       "<div>\n",
       "<style scoped>\n",
       "    .dataframe tbody tr th:only-of-type {\n",
       "        vertical-align: middle;\n",
       "    }\n",
       "\n",
       "    .dataframe tbody tr th {\n",
       "        vertical-align: top;\n",
       "    }\n",
       "\n",
       "    .dataframe thead th {\n",
       "        text-align: right;\n",
       "    }\n",
       "</style>\n",
       "<table border=\"1\" class=\"dataframe\">\n",
       "  <thead>\n",
       "    <tr style=\"text-align: right;\">\n",
       "      <th></th>\n",
       "      <th>customerID</th>\n",
       "      <th>InternetService</th>\n",
       "      <th>OnlineSecurity</th>\n",
       "      <th>OnlineBackup</th>\n",
       "      <th>DeviceProtection</th>\n",
       "      <th>TechSupport</th>\n",
       "      <th>StreamingTV</th>\n",
       "      <th>StreamingMovies</th>\n",
       "    </tr>\n",
       "  </thead>\n",
       "  <tbody>\n",
       "    <tr>\n",
       "      <th>0</th>\n",
       "      <td>7590-VHVEG</td>\n",
       "      <td>DSL</td>\n",
       "      <td>No</td>\n",
       "      <td>Yes</td>\n",
       "      <td>No</td>\n",
       "      <td>No</td>\n",
       "      <td>No</td>\n",
       "      <td>No</td>\n",
       "    </tr>\n",
       "    <tr>\n",
       "      <th>1</th>\n",
       "      <td>5575-GNVDE</td>\n",
       "      <td>DSL</td>\n",
       "      <td>Yes</td>\n",
       "      <td>No</td>\n",
       "      <td>Yes</td>\n",
       "      <td>No</td>\n",
       "      <td>No</td>\n",
       "      <td>No</td>\n",
       "    </tr>\n",
       "    <tr>\n",
       "      <th>2</th>\n",
       "      <td>3668-QPYBK</td>\n",
       "      <td>DSL</td>\n",
       "      <td>Yes</td>\n",
       "      <td>Yes</td>\n",
       "      <td>No</td>\n",
       "      <td>No</td>\n",
       "      <td>No</td>\n",
       "      <td>No</td>\n",
       "    </tr>\n",
       "    <tr>\n",
       "      <th>3</th>\n",
       "      <td>7795-CFOCW</td>\n",
       "      <td>DSL</td>\n",
       "      <td>Yes</td>\n",
       "      <td>No</td>\n",
       "      <td>Yes</td>\n",
       "      <td>Yes</td>\n",
       "      <td>No</td>\n",
       "      <td>No</td>\n",
       "    </tr>\n",
       "    <tr>\n",
       "      <th>4</th>\n",
       "      <td>9237-HQITU</td>\n",
       "      <td>Fiber optic</td>\n",
       "      <td>No</td>\n",
       "      <td>No</td>\n",
       "      <td>No</td>\n",
       "      <td>No</td>\n",
       "      <td>No</td>\n",
       "      <td>No</td>\n",
       "    </tr>\n",
       "    <tr>\n",
       "      <th>5</th>\n",
       "      <td>9305-CDSKC</td>\n",
       "      <td>Fiber optic</td>\n",
       "      <td>No</td>\n",
       "      <td>No</td>\n",
       "      <td>Yes</td>\n",
       "      <td>No</td>\n",
       "      <td>Yes</td>\n",
       "      <td>Yes</td>\n",
       "    </tr>\n",
       "    <tr>\n",
       "      <th>6</th>\n",
       "      <td>1452-KIOVK</td>\n",
       "      <td>Fiber optic</td>\n",
       "      <td>No</td>\n",
       "      <td>Yes</td>\n",
       "      <td>No</td>\n",
       "      <td>No</td>\n",
       "      <td>Yes</td>\n",
       "      <td>No</td>\n",
       "    </tr>\n",
       "    <tr>\n",
       "      <th>7</th>\n",
       "      <td>6713-OKOMC</td>\n",
       "      <td>DSL</td>\n",
       "      <td>Yes</td>\n",
       "      <td>No</td>\n",
       "      <td>No</td>\n",
       "      <td>No</td>\n",
       "      <td>No</td>\n",
       "      <td>No</td>\n",
       "    </tr>\n",
       "    <tr>\n",
       "      <th>8</th>\n",
       "      <td>7892-POOKP</td>\n",
       "      <td>Fiber optic</td>\n",
       "      <td>No</td>\n",
       "      <td>No</td>\n",
       "      <td>Yes</td>\n",
       "      <td>Yes</td>\n",
       "      <td>Yes</td>\n",
       "      <td>Yes</td>\n",
       "    </tr>\n",
       "    <tr>\n",
       "      <th>9</th>\n",
       "      <td>6388-TABGU</td>\n",
       "      <td>DSL</td>\n",
       "      <td>Yes</td>\n",
       "      <td>Yes</td>\n",
       "      <td>No</td>\n",
       "      <td>No</td>\n",
       "      <td>No</td>\n",
       "      <td>No</td>\n",
       "    </tr>\n",
       "  </tbody>\n",
       "</table>\n",
       "</div>"
      ],
      "text/plain": [
       "   customerID InternetService  ... StreamingTV StreamingMovies\n",
       "0  7590-VHVEG             DSL  ...          No              No\n",
       "1  5575-GNVDE             DSL  ...          No              No\n",
       "2  3668-QPYBK             DSL  ...          No              No\n",
       "3  7795-CFOCW             DSL  ...          No              No\n",
       "4  9237-HQITU     Fiber optic  ...          No              No\n",
       "5  9305-CDSKC     Fiber optic  ...         Yes             Yes\n",
       "6  1452-KIOVK     Fiber optic  ...         Yes              No\n",
       "7  6713-OKOMC             DSL  ...          No              No\n",
       "8  7892-POOKP     Fiber optic  ...         Yes             Yes\n",
       "9  6388-TABGU             DSL  ...          No              No\n",
       "\n",
       "[10 rows x 8 columns]"
      ]
     },
     "execution_count": 37,
     "metadata": {
      "tags": []
     },
     "output_type": "execute_result"
    }
   ],
   "source": [
    "internet.head(10)"
   ]
  },
  {
   "cell_type": "code",
   "execution_count": 38,
   "metadata": {
    "colab": {
     "base_uri": "https://localhost:8080/"
    },
    "id": "CWtLyIPOGx3S",
    "outputId": "03a0af22-5848-49f8-9b97-a6c1a8656937"
   },
   "outputs": [
    {
     "name": "stdout",
     "output_type": "stream",
     "text": [
      "<class 'pandas.core.frame.DataFrame'>\n",
      "RangeIndex: 5517 entries, 0 to 5516\n",
      "Data columns (total 8 columns):\n",
      " #   Column            Non-Null Count  Dtype \n",
      "---  ------            --------------  ----- \n",
      " 0   customerID        5517 non-null   object\n",
      " 1   InternetService   5517 non-null   object\n",
      " 2   OnlineSecurity    5517 non-null   object\n",
      " 3   OnlineBackup      5517 non-null   object\n",
      " 4   DeviceProtection  5517 non-null   object\n",
      " 5   TechSupport       5517 non-null   object\n",
      " 6   StreamingTV       5517 non-null   object\n",
      " 7   StreamingMovies   5517 non-null   object\n",
      "dtypes: object(8)\n",
      "memory usage: 344.9+ KB\n"
     ]
    }
   ],
   "source": [
    "internet.info()"
   ]
  },
  {
   "cell_type": "markdown",
   "metadata": {
    "id": "OlDuHcJ1Gx3S"
   },
   "source": [
    "Пропусков в данной таблице нет. Однако количество клиентов, которые пользуются данной услугой (5517), меньше, чем общее количесвто клиентов (7043). Скорее всего, кто-то пользуются только услугами телефонии."
   ]
  },
  {
   "cell_type": "code",
   "execution_count": 39,
   "metadata": {
    "colab": {
     "base_uri": "https://localhost:8080/"
    },
    "id": "wxOtbvBuGx3S",
    "outputId": "867c4244-f962-4008-8bc2-8ce0764b52d5"
   },
   "outputs": [
    {
     "data": {
      "text/plain": [
       "Index(['customerID', 'InternetService', 'OnlineSecurity', 'OnlineBackup',\n",
       "       'DeviceProtection', 'TechSupport', 'StreamingTV', 'StreamingMovies'],\n",
       "      dtype='object')"
      ]
     },
     "execution_count": 39,
     "metadata": {
      "tags": []
     },
     "output_type": "execute_result"
    }
   ],
   "source": [
    "internet.columns"
   ]
  },
  {
   "cell_type": "markdown",
   "metadata": {
    "id": "X97CB5OhGx3T"
   },
   "source": [
    "Проведем вышеописанные операции над названиями колонок."
   ]
  },
  {
   "cell_type": "code",
   "execution_count": 40,
   "metadata": {
    "colab": {
     "base_uri": "https://localhost:8080/"
    },
    "id": "TyF4oUCYGx3T",
    "outputId": "749e35ef-2f4c-42f8-c8e7-8c4d60aab5d4"
   },
   "outputs": [
    {
     "data": {
      "text/plain": [
       "Index(['customer_i_d', 'internet_service', 'online_security', 'online_backup',\n",
       "       'device_protection', 'tech_support', 'streaming_t_v',\n",
       "       'streaming_movies'],\n",
       "      dtype='object')"
      ]
     },
     "execution_count": 40,
     "metadata": {
      "tags": []
     },
     "output_type": "execute_result"
    }
   ],
   "source": [
    "new_columns = list(map(lambda x: re.sub(r'(\\B[A-Z])', r'_\\1', x), internet.columns.values))\n",
    "new_columns = list(map(str.lower, new_columns))\n",
    "internet.columns = new_columns\n",
    "internet.columns"
   ]
  },
  {
   "cell_type": "code",
   "execution_count": 41,
   "metadata": {
    "colab": {
     "base_uri": "https://localhost:8080/"
    },
    "id": "gIhdurfiGx3U",
    "outputId": "18415ff9-98c1-4e91-ab81-0f19e7274d46"
   },
   "outputs": [
    {
     "data": {
      "text/plain": [
       "Index(['customer_id', 'internet_service', 'online_security', 'online_backup',\n",
       "       'device_protection', 'tech_support', 'streaming_tv',\n",
       "       'streaming_movies'],\n",
       "      dtype='object')"
      ]
     },
     "execution_count": 41,
     "metadata": {
      "tags": []
     },
     "output_type": "execute_result"
    }
   ],
   "source": [
    "internet.rename(columns={'customer_i_d': 'customer_id'}, inplace=True)\n",
    "internet.rename(columns={'streaming_t_v': 'streaming_tv'}, inplace=True)\n",
    "internet.columns"
   ]
  },
  {
   "cell_type": "markdown",
   "metadata": {
    "id": "4V8yT0tiGx3U"
   },
   "source": [
    "Определим, что хранится в колонках."
   ]
  },
  {
   "cell_type": "markdown",
   "metadata": {
    "id": "Fbg45rTCGx3V"
   },
   "source": [
    "`customer_id` - код клиента<br>\n",
    "`internet_service` - тип интернет подключения<br>\n",
    "`online_security` - подключение блокировки небезопасных сайтов<br>\n",
    "`online_backup` - подключение облачного хранилища файлов для резервного копирования данных<br>\n",
    "`device_protection` - подключение антивируса<br>\n",
    "`tech_support` - подключение выделенной линии технической поддержки<br>\n",
    "`streaming_tv` - подключение стримингового телевидения<br>\n",
    "`streaming_movies` - подключение каталога фильмов<br>"
   ]
  },
  {
   "cell_type": "code",
   "execution_count": 42,
   "metadata": {
    "colab": {
     "base_uri": "https://localhost:8080/"
    },
    "id": "Kz3ksE8tGx3V",
    "outputId": "61a27fee-8353-4ba9-f864-e6274eb4e546"
   },
   "outputs": [
    {
     "name": "stdout",
     "output_type": "stream",
     "text": [
      "Fiber optic    3096\n",
      "DSL            2421\n",
      "Name: internet_service, dtype: int64\n",
      "----------------------------------------\n",
      "No     3498\n",
      "Yes    2019\n",
      "Name: online_security, dtype: int64\n",
      "----------------------------------------\n",
      "No     3088\n",
      "Yes    2429\n",
      "Name: online_backup, dtype: int64\n",
      "----------------------------------------\n",
      "No     3095\n",
      "Yes    2422\n",
      "Name: device_protection, dtype: int64\n",
      "----------------------------------------\n",
      "No     3473\n",
      "Yes    2044\n",
      "Name: tech_support, dtype: int64\n",
      "----------------------------------------\n",
      "No     2810\n",
      "Yes    2707\n",
      "Name: streaming_tv, dtype: int64\n",
      "----------------------------------------\n",
      "No     2785\n",
      "Yes    2732\n",
      "Name: streaming_movies, dtype: int64\n"
     ]
    }
   ],
   "source": [
    "print(internet['internet_service'].value_counts())\n",
    "print('-' * 40)\n",
    "print(internet['online_security'].value_counts())\n",
    "print('-' * 40)\n",
    "print(internet['online_backup'].value_counts())\n",
    "print('-' * 40)\n",
    "print(internet['device_protection'].value_counts())\n",
    "print('-' * 40)\n",
    "print(internet['tech_support'].value_counts())\n",
    "print('-' * 40)\n",
    "print(internet['streaming_tv'].value_counts())\n",
    "print('-' * 40)\n",
    "print(internet['streaming_movies'].value_counts())"
   ]
  },
  {
   "cell_type": "code",
   "execution_count": 43,
   "metadata": {
    "colab": {
     "base_uri": "https://localhost:8080/",
     "height": 421
    },
    "id": "SMo8BfwuklBF",
    "outputId": "86c4623f-d244-42c5-8093-b71063fa0f2f"
   },
   "outputs": [
    {
     "data": {
      "text/plain": [
       "<matplotlib.axes._subplots.AxesSubplot at 0x7fbf4b51a710>"
      ]
     },
     "execution_count": 43,
     "metadata": {
      "tags": []
     },
     "output_type": "execute_result"
    },
    {
     "data": {
      "image/png": "[encoded data removed]",
      "text/plain": [
       "<Figure size 1080x432 with 1 Axes>"
      ]
     },
     "metadata": {
      "needs_background": "light",
      "tags": []
     },
     "output_type": "display_data"
    }
   ],
   "source": [
    "(internet\n",
    "    .groupby(by='internet_service')['customer_id']\n",
    "    .count()\n",
    "    .sort_values(ascending=False)\n",
    "    .plot(rot=0, kind='bar', color='purple', xlabel='Internet service', ylabel='Count clients',\n",
    "          title='Count clients with different internet services', legend=0, figsize=(15, 6))\n",
    ")"
   ]
  },
  {
   "cell_type": "markdown",
   "metadata": {
    "id": "2q1NSTrqGx3V"
   },
   "source": [
    "Как мы видим, это все категориальные переменные. Помимо типа интернет подключения, значения сводятся к *No* и *Yes*."
   ]
  },
  {
   "cell_type": "code",
   "execution_count": 44,
   "metadata": {
    "colab": {
     "base_uri": "https://localhost:8080/",
     "height": 204
    },
    "id": "_AUunS_OGx3X",
    "outputId": "45606a8a-9328-461c-afd4-a0987e13e5af"
   },
   "outputs": [
    {
     "data": {
      "text/html": [
       "<div>\n",
       "<style scoped>\n",
       "    .dataframe tbody tr th:only-of-type {\n",
       "        vertical-align: middle;\n",
       "    }\n",
       "\n",
       "    .dataframe tbody tr th {\n",
       "        vertical-align: top;\n",
       "    }\n",
       "\n",
       "    .dataframe thead th {\n",
       "        text-align: right;\n",
       "    }\n",
       "</style>\n",
       "<table border=\"1\" class=\"dataframe\">\n",
       "  <thead>\n",
       "    <tr style=\"text-align: right;\">\n",
       "      <th></th>\n",
       "      <th>customer_id</th>\n",
       "      <th>internet_service</th>\n",
       "      <th>online_security</th>\n",
       "      <th>online_backup</th>\n",
       "      <th>device_protection</th>\n",
       "      <th>tech_support</th>\n",
       "      <th>streaming_tv</th>\n",
       "      <th>streaming_movies</th>\n",
       "    </tr>\n",
       "  </thead>\n",
       "  <tbody>\n",
       "    <tr>\n",
       "      <th>0</th>\n",
       "      <td>7590-VHVEG</td>\n",
       "      <td>DSL</td>\n",
       "      <td>No</td>\n",
       "      <td>Yes</td>\n",
       "      <td>No</td>\n",
       "      <td>No</td>\n",
       "      <td>No</td>\n",
       "      <td>No</td>\n",
       "    </tr>\n",
       "    <tr>\n",
       "      <th>1</th>\n",
       "      <td>5575-GNVDE</td>\n",
       "      <td>DSL</td>\n",
       "      <td>Yes</td>\n",
       "      <td>No</td>\n",
       "      <td>Yes</td>\n",
       "      <td>No</td>\n",
       "      <td>No</td>\n",
       "      <td>No</td>\n",
       "    </tr>\n",
       "    <tr>\n",
       "      <th>2</th>\n",
       "      <td>3668-QPYBK</td>\n",
       "      <td>DSL</td>\n",
       "      <td>Yes</td>\n",
       "      <td>Yes</td>\n",
       "      <td>No</td>\n",
       "      <td>No</td>\n",
       "      <td>No</td>\n",
       "      <td>No</td>\n",
       "    </tr>\n",
       "    <tr>\n",
       "      <th>3</th>\n",
       "      <td>7795-CFOCW</td>\n",
       "      <td>DSL</td>\n",
       "      <td>Yes</td>\n",
       "      <td>No</td>\n",
       "      <td>Yes</td>\n",
       "      <td>Yes</td>\n",
       "      <td>No</td>\n",
       "      <td>No</td>\n",
       "    </tr>\n",
       "    <tr>\n",
       "      <th>4</th>\n",
       "      <td>9237-HQITU</td>\n",
       "      <td>Fiber optic</td>\n",
       "      <td>No</td>\n",
       "      <td>No</td>\n",
       "      <td>No</td>\n",
       "      <td>No</td>\n",
       "      <td>No</td>\n",
       "      <td>No</td>\n",
       "    </tr>\n",
       "  </tbody>\n",
       "</table>\n",
       "</div>"
      ],
      "text/plain": [
       "  customer_id internet_service  ... streaming_tv streaming_movies\n",
       "0  7590-VHVEG              DSL  ...           No               No\n",
       "1  5575-GNVDE              DSL  ...           No               No\n",
       "2  3668-QPYBK              DSL  ...           No               No\n",
       "3  7795-CFOCW              DSL  ...           No               No\n",
       "4  9237-HQITU      Fiber optic  ...           No               No\n",
       "\n",
       "[5 rows x 8 columns]"
      ]
     },
     "execution_count": 44,
     "metadata": {
      "tags": []
     },
     "output_type": "execute_result"
    }
   ],
   "source": [
    "internet.head()"
   ]
  },
  {
   "cell_type": "code",
   "execution_count": 45,
   "metadata": {
    "colab": {
     "base_uri": "https://localhost:8080/"
    },
    "id": "Bmr0ifURGx3X",
    "outputId": "5275a625-8e55-401b-842c-7ccb120cdbde"
   },
   "outputs": [
    {
     "name": "stdout",
     "output_type": "stream",
     "text": [
      "<class 'pandas.core.frame.DataFrame'>\n",
      "RangeIndex: 5517 entries, 0 to 5516\n",
      "Data columns (total 8 columns):\n",
      " #   Column             Non-Null Count  Dtype \n",
      "---  ------             --------------  ----- \n",
      " 0   customer_id        5517 non-null   object\n",
      " 1   internet_service   5517 non-null   object\n",
      " 2   online_security    5517 non-null   object\n",
      " 3   online_backup      5517 non-null   object\n",
      " 4   device_protection  5517 non-null   object\n",
      " 5   tech_support       5517 non-null   object\n",
      " 6   streaming_tv       5517 non-null   object\n",
      " 7   streaming_movies   5517 non-null   object\n",
      "dtypes: object(8)\n",
      "memory usage: 344.9+ KB\n"
     ]
    }
   ],
   "source": [
    "internet.info()"
   ]
  },
  {
   "cell_type": "markdown",
   "metadata": {
    "id": "ziXGv2KOGx3b"
   },
   "source": [
    "#### Таблица phone"
   ]
  },
  {
   "cell_type": "markdown",
   "metadata": {
    "id": "2f3tRa4wGx3c"
   },
   "source": [
    "Рассмотрим таблицу `phone` - информация об услугах телефонии."
   ]
  },
  {
   "cell_type": "code",
   "execution_count": 46,
   "metadata": {
    "colab": {
     "base_uri": "https://localhost:8080/",
     "height": 359
    },
    "id": "eWLzNVhpGx3c",
    "outputId": "d444bfb9-18b1-4cdb-d6fb-5bf0b3dae4c0"
   },
   "outputs": [
    {
     "data": {
      "text/html": [
       "<div>\n",
       "<style scoped>\n",
       "    .dataframe tbody tr th:only-of-type {\n",
       "        vertical-align: middle;\n",
       "    }\n",
       "\n",
       "    .dataframe tbody tr th {\n",
       "        vertical-align: top;\n",
       "    }\n",
       "\n",
       "    .dataframe thead th {\n",
       "        text-align: right;\n",
       "    }\n",
       "</style>\n",
       "<table border=\"1\" class=\"dataframe\">\n",
       "  <thead>\n",
       "    <tr style=\"text-align: right;\">\n",
       "      <th></th>\n",
       "      <th>customerID</th>\n",
       "      <th>MultipleLines</th>\n",
       "    </tr>\n",
       "  </thead>\n",
       "  <tbody>\n",
       "    <tr>\n",
       "      <th>0</th>\n",
       "      <td>5575-GNVDE</td>\n",
       "      <td>No</td>\n",
       "    </tr>\n",
       "    <tr>\n",
       "      <th>1</th>\n",
       "      <td>3668-QPYBK</td>\n",
       "      <td>No</td>\n",
       "    </tr>\n",
       "    <tr>\n",
       "      <th>2</th>\n",
       "      <td>9237-HQITU</td>\n",
       "      <td>No</td>\n",
       "    </tr>\n",
       "    <tr>\n",
       "      <th>3</th>\n",
       "      <td>9305-CDSKC</td>\n",
       "      <td>Yes</td>\n",
       "    </tr>\n",
       "    <tr>\n",
       "      <th>4</th>\n",
       "      <td>1452-KIOVK</td>\n",
       "      <td>Yes</td>\n",
       "    </tr>\n",
       "    <tr>\n",
       "      <th>5</th>\n",
       "      <td>7892-POOKP</td>\n",
       "      <td>Yes</td>\n",
       "    </tr>\n",
       "    <tr>\n",
       "      <th>6</th>\n",
       "      <td>6388-TABGU</td>\n",
       "      <td>No</td>\n",
       "    </tr>\n",
       "    <tr>\n",
       "      <th>7</th>\n",
       "      <td>9763-GRSKD</td>\n",
       "      <td>No</td>\n",
       "    </tr>\n",
       "    <tr>\n",
       "      <th>8</th>\n",
       "      <td>7469-LKBCI</td>\n",
       "      <td>No</td>\n",
       "    </tr>\n",
       "    <tr>\n",
       "      <th>9</th>\n",
       "      <td>8091-TTVAX</td>\n",
       "      <td>Yes</td>\n",
       "    </tr>\n",
       "  </tbody>\n",
       "</table>\n",
       "</div>"
      ],
      "text/plain": [
       "   customerID MultipleLines\n",
       "0  5575-GNVDE            No\n",
       "1  3668-QPYBK            No\n",
       "2  9237-HQITU            No\n",
       "3  9305-CDSKC           Yes\n",
       "4  1452-KIOVK           Yes\n",
       "5  7892-POOKP           Yes\n",
       "6  6388-TABGU            No\n",
       "7  9763-GRSKD            No\n",
       "8  7469-LKBCI            No\n",
       "9  8091-TTVAX           Yes"
      ]
     },
     "execution_count": 46,
     "metadata": {
      "tags": []
     },
     "output_type": "execute_result"
    }
   ],
   "source": [
    "phone.head(10)"
   ]
  },
  {
   "cell_type": "code",
   "execution_count": 47,
   "metadata": {
    "colab": {
     "base_uri": "https://localhost:8080/"
    },
    "id": "mqTulV_vGx3c",
    "outputId": "1dc08ca5-8ab4-48d3-9171-e5edc9fd23ad"
   },
   "outputs": [
    {
     "data": {
      "text/plain": [
       "Index(['customerID', 'MultipleLines'], dtype='object')"
      ]
     },
     "execution_count": 47,
     "metadata": {
      "tags": []
     },
     "output_type": "execute_result"
    }
   ],
   "source": [
    "phone.columns"
   ]
  },
  {
   "cell_type": "code",
   "execution_count": 48,
   "metadata": {
    "colab": {
     "base_uri": "https://localhost:8080/"
    },
    "id": "1-8AvH5aGx3c",
    "outputId": "26f7997f-56a7-4cc0-8004-62a1cbbbbc7c"
   },
   "outputs": [
    {
     "data": {
      "text/plain": [
       "Index(['customer_i_d', 'multiple_lines'], dtype='object')"
      ]
     },
     "execution_count": 48,
     "metadata": {
      "tags": []
     },
     "output_type": "execute_result"
    }
   ],
   "source": [
    "new_columns = list(map(lambda x: re.sub(r'(\\B[A-Z])', r'_\\1', x), phone.columns.values))\n",
    "new_columns = list(map(str.lower, new_columns))\n",
    "phone.columns = new_columns\n",
    "phone.columns"
   ]
  },
  {
   "cell_type": "code",
   "execution_count": 49,
   "metadata": {
    "colab": {
     "base_uri": "https://localhost:8080/"
    },
    "id": "q_obbv93Gx3c",
    "outputId": "56d57fc6-56f6-4b00-8a25-3f2a9599d19b"
   },
   "outputs": [
    {
     "data": {
      "text/plain": [
       "Index(['customer_id', 'multiple_lines'], dtype='object')"
      ]
     },
     "execution_count": 49,
     "metadata": {
      "tags": []
     },
     "output_type": "execute_result"
    }
   ],
   "source": [
    "phone.rename(columns={'customer_i_d': 'customer_id'}, inplace=True)\n",
    "phone.columns"
   ]
  },
  {
   "cell_type": "markdown",
   "metadata": {
    "id": "CFrc6kGaGx3d"
   },
   "source": [
    "Определим, что хранится в колонках."
   ]
  },
  {
   "cell_type": "markdown",
   "metadata": {
    "id": "BvgjfF1iGx3d"
   },
   "source": [
    "`customer_id` - код клиента<br>\n",
    "`multiple_lines` - подключение телефонного аппарата к нескольким линиям одновременно<br>"
   ]
  },
  {
   "cell_type": "code",
   "execution_count": 50,
   "metadata": {
    "colab": {
     "base_uri": "https://localhost:8080/"
    },
    "id": "SUwITAoiGx3d",
    "outputId": "6e008bdc-9696-4c47-ad17-11da87935f32"
   },
   "outputs": [
    {
     "name": "stdout",
     "output_type": "stream",
     "text": [
      "<class 'pandas.core.frame.DataFrame'>\n",
      "RangeIndex: 6361 entries, 0 to 6360\n",
      "Data columns (total 2 columns):\n",
      " #   Column          Non-Null Count  Dtype \n",
      "---  ------          --------------  ----- \n",
      " 0   customer_id     6361 non-null   object\n",
      " 1   multiple_lines  6361 non-null   object\n",
      "dtypes: object(2)\n",
      "memory usage: 99.5+ KB\n"
     ]
    }
   ],
   "source": [
    "phone.info()"
   ]
  },
  {
   "cell_type": "markdown",
   "metadata": {
    "id": "cgHG-UF-Gx3d"
   },
   "source": [
    "В данной таблице пропусков нет. Однако и здесь, количество пользователей меньше (6361), чем всего пользователей (7043). Кто-то пользуется и интернетом и телефоном."
   ]
  },
  {
   "cell_type": "code",
   "execution_count": 51,
   "metadata": {
    "colab": {
     "base_uri": "https://localhost:8080/"
    },
    "id": "FLnpQR2BGx3d",
    "outputId": "fd23b3e7-7479-42cf-9c97-9e0f1149e817"
   },
   "outputs": [
    {
     "name": "stdout",
     "output_type": "stream",
     "text": [
      "No     3390\n",
      "Yes    2971\n",
      "Name: multiple_lines, dtype: int64\n"
     ]
    }
   ],
   "source": [
    "print(phone['multiple_lines'].value_counts())"
   ]
  },
  {
   "cell_type": "markdown",
   "metadata": {
    "id": "CrFHIORlGx3e"
   },
   "source": [
    "Это категориальная переменная."
   ]
  },
  {
   "cell_type": "code",
   "execution_count": 52,
   "metadata": {
    "colab": {
     "base_uri": "https://localhost:8080/",
     "height": 204
    },
    "id": "SiKtGoxEGx3e",
    "outputId": "ca1d5e43-75e8-403e-d9ac-63345dd0f6b3"
   },
   "outputs": [
    {
     "data": {
      "text/html": [
       "<div>\n",
       "<style scoped>\n",
       "    .dataframe tbody tr th:only-of-type {\n",
       "        vertical-align: middle;\n",
       "    }\n",
       "\n",
       "    .dataframe tbody tr th {\n",
       "        vertical-align: top;\n",
       "    }\n",
       "\n",
       "    .dataframe thead th {\n",
       "        text-align: right;\n",
       "    }\n",
       "</style>\n",
       "<table border=\"1\" class=\"dataframe\">\n",
       "  <thead>\n",
       "    <tr style=\"text-align: right;\">\n",
       "      <th></th>\n",
       "      <th>customer_id</th>\n",
       "      <th>multiple_lines</th>\n",
       "    </tr>\n",
       "  </thead>\n",
       "  <tbody>\n",
       "    <tr>\n",
       "      <th>0</th>\n",
       "      <td>5575-GNVDE</td>\n",
       "      <td>No</td>\n",
       "    </tr>\n",
       "    <tr>\n",
       "      <th>1</th>\n",
       "      <td>3668-QPYBK</td>\n",
       "      <td>No</td>\n",
       "    </tr>\n",
       "    <tr>\n",
       "      <th>2</th>\n",
       "      <td>9237-HQITU</td>\n",
       "      <td>No</td>\n",
       "    </tr>\n",
       "    <tr>\n",
       "      <th>3</th>\n",
       "      <td>9305-CDSKC</td>\n",
       "      <td>Yes</td>\n",
       "    </tr>\n",
       "    <tr>\n",
       "      <th>4</th>\n",
       "      <td>1452-KIOVK</td>\n",
       "      <td>Yes</td>\n",
       "    </tr>\n",
       "  </tbody>\n",
       "</table>\n",
       "</div>"
      ],
      "text/plain": [
       "  customer_id multiple_lines\n",
       "0  5575-GNVDE             No\n",
       "1  3668-QPYBK             No\n",
       "2  9237-HQITU             No\n",
       "3  9305-CDSKC            Yes\n",
       "4  1452-KIOVK            Yes"
      ]
     },
     "execution_count": 52,
     "metadata": {
      "tags": []
     },
     "output_type": "execute_result"
    }
   ],
   "source": [
    "phone.head()"
   ]
  },
  {
   "cell_type": "code",
   "execution_count": 53,
   "metadata": {
    "colab": {
     "base_uri": "https://localhost:8080/"
    },
    "id": "ndFWlZWlGx3f",
    "outputId": "dbed0653-0354-4329-ff04-770c97e4cada"
   },
   "outputs": [
    {
     "name": "stdout",
     "output_type": "stream",
     "text": [
      "<class 'pandas.core.frame.DataFrame'>\n",
      "RangeIndex: 6361 entries, 0 to 6360\n",
      "Data columns (total 2 columns):\n",
      " #   Column          Non-Null Count  Dtype \n",
      "---  ------          --------------  ----- \n",
      " 0   customer_id     6361 non-null   object\n",
      " 1   multiple_lines  6361 non-null   object\n",
      "dtypes: object(2)\n",
      "memory usage: 99.5+ KB\n"
     ]
    }
   ],
   "source": [
    "phone.info()"
   ]
  },
  {
   "cell_type": "markdown",
   "metadata": {
    "id": "ZKoZ-yYTGx3f"
   },
   "source": [
    "### Анализ данных"
   ]
  },
  {
   "cell_type": "markdown",
   "metadata": {
    "id": "XfQNeaWxGx3f"
   },
   "source": [
    "Мы провели предобработку данных. Мы ознакомились с ними, убедились что нет пропущенных значений, в колонках хранятся ожидаемые типы данных. Однако стоит учитывать, что таблицы были получены из разных источников. Во всех них есть колонка customer_id код клиента. Наша задача сейчас убедиться, что эти данные можно скомпоновать в одну итоговую таблицу со всей информацией по клиенту, для каждого контракта есть информация по клиенту и т.д."
   ]
  },
  {
   "cell_type": "markdown",
   "metadata": {
    "id": "0cF6WFcSGx3f"
   },
   "source": [
    "Главной таблицей является `personal`, именно здесь хранятся персональные данные о клиентах, для которых заключается контракты. Так что если клиента нет в этой таблице, рассматривать его в таблице `contract` смысла не имеет. Также и наоборот, если нет контракта, рассматривать нечего. Объеденим эти две таблицы по столбцу *customer_id*."
   ]
  },
  {
   "cell_type": "code",
   "execution_count": 54,
   "metadata": {
    "id": "GBQUAdYIGx3f"
   },
   "outputs": [],
   "source": [
    "personal_contract = personal.merge(contract, on='customer_id', how='inner') "
   ]
  },
  {
   "cell_type": "code",
   "execution_count": 55,
   "metadata": {
    "colab": {
     "base_uri": "https://localhost:8080/",
     "height": 204
    },
    "id": "u5g6fTKZGx3f",
    "outputId": "a79f8bfd-2267-452e-85fa-f5cd60fcfc79"
   },
   "outputs": [
    {
     "data": {
      "text/html": [
       "<div>\n",
       "<style scoped>\n",
       "    .dataframe tbody tr th:only-of-type {\n",
       "        vertical-align: middle;\n",
       "    }\n",
       "\n",
       "    .dataframe tbody tr th {\n",
       "        vertical-align: top;\n",
       "    }\n",
       "\n",
       "    .dataframe thead th {\n",
       "        text-align: right;\n",
       "    }\n",
       "</style>\n",
       "<table border=\"1\" class=\"dataframe\">\n",
       "  <thead>\n",
       "    <tr style=\"text-align: right;\">\n",
       "      <th></th>\n",
       "      <th>customer_id</th>\n",
       "      <th>gender</th>\n",
       "      <th>senior_citizen</th>\n",
       "      <th>partner</th>\n",
       "      <th>dependents</th>\n",
       "      <th>begin_date</th>\n",
       "      <th>end_date</th>\n",
       "      <th>type</th>\n",
       "      <th>paperless_billing</th>\n",
       "      <th>payment_method</th>\n",
       "      <th>monthly_charges</th>\n",
       "      <th>total_charges</th>\n",
       "    </tr>\n",
       "  </thead>\n",
       "  <tbody>\n",
       "    <tr>\n",
       "      <th>0</th>\n",
       "      <td>7590-VHVEG</td>\n",
       "      <td>Female</td>\n",
       "      <td>0</td>\n",
       "      <td>Yes</td>\n",
       "      <td>No</td>\n",
       "      <td>2020-01-01</td>\n",
       "      <td>No</td>\n",
       "      <td>Month-to-month</td>\n",
       "      <td>Yes</td>\n",
       "      <td>Electronic check</td>\n",
       "      <td>29.85</td>\n",
       "      <td>29.85</td>\n",
       "    </tr>\n",
       "    <tr>\n",
       "      <th>1</th>\n",
       "      <td>5575-GNVDE</td>\n",
       "      <td>Male</td>\n",
       "      <td>0</td>\n",
       "      <td>No</td>\n",
       "      <td>No</td>\n",
       "      <td>2017-04-01</td>\n",
       "      <td>No</td>\n",
       "      <td>One year</td>\n",
       "      <td>No</td>\n",
       "      <td>Mailed check</td>\n",
       "      <td>56.95</td>\n",
       "      <td>1889.50</td>\n",
       "    </tr>\n",
       "    <tr>\n",
       "      <th>2</th>\n",
       "      <td>3668-QPYBK</td>\n",
       "      <td>Male</td>\n",
       "      <td>0</td>\n",
       "      <td>No</td>\n",
       "      <td>No</td>\n",
       "      <td>2019-10-01</td>\n",
       "      <td>2019-12-01 00:00:00</td>\n",
       "      <td>Month-to-month</td>\n",
       "      <td>Yes</td>\n",
       "      <td>Mailed check</td>\n",
       "      <td>53.85</td>\n",
       "      <td>108.15</td>\n",
       "    </tr>\n",
       "    <tr>\n",
       "      <th>3</th>\n",
       "      <td>7795-CFOCW</td>\n",
       "      <td>Male</td>\n",
       "      <td>0</td>\n",
       "      <td>No</td>\n",
       "      <td>No</td>\n",
       "      <td>2016-05-01</td>\n",
       "      <td>No</td>\n",
       "      <td>One year</td>\n",
       "      <td>No</td>\n",
       "      <td>Bank transfer (automatic)</td>\n",
       "      <td>42.30</td>\n",
       "      <td>1840.75</td>\n",
       "    </tr>\n",
       "    <tr>\n",
       "      <th>4</th>\n",
       "      <td>9237-HQITU</td>\n",
       "      <td>Female</td>\n",
       "      <td>0</td>\n",
       "      <td>No</td>\n",
       "      <td>No</td>\n",
       "      <td>2019-09-01</td>\n",
       "      <td>2019-11-01 00:00:00</td>\n",
       "      <td>Month-to-month</td>\n",
       "      <td>Yes</td>\n",
       "      <td>Electronic check</td>\n",
       "      <td>70.70</td>\n",
       "      <td>151.65</td>\n",
       "    </tr>\n",
       "  </tbody>\n",
       "</table>\n",
       "</div>"
      ],
      "text/plain": [
       "  customer_id  gender  ...  monthly_charges total_charges\n",
       "0  7590-VHVEG  Female  ...            29.85         29.85\n",
       "1  5575-GNVDE    Male  ...            56.95       1889.50\n",
       "2  3668-QPYBK    Male  ...            53.85        108.15\n",
       "3  7795-CFOCW    Male  ...            42.30       1840.75\n",
       "4  9237-HQITU  Female  ...            70.70        151.65\n",
       "\n",
       "[5 rows x 12 columns]"
      ]
     },
     "execution_count": 55,
     "metadata": {
      "tags": []
     },
     "output_type": "execute_result"
    }
   ],
   "source": [
    "personal_contract.head()"
   ]
  },
  {
   "cell_type": "markdown",
   "metadata": {
    "id": "TRDukpnZGx3g"
   },
   "source": [
    "Проверим, что после объединения у нас не появилось нигде лишних значений NaN."
   ]
  },
  {
   "cell_type": "code",
   "execution_count": 56,
   "metadata": {
    "colab": {
     "base_uri": "https://localhost:8080/"
    },
    "id": "0NB4aMTqGx3g",
    "outputId": "80aaaaab-9d79-4349-a574-1d513d30733d"
   },
   "outputs": [
    {
     "name": "stdout",
     "output_type": "stream",
     "text": [
      "<class 'pandas.core.frame.DataFrame'>\n",
      "Int64Index: 7032 entries, 0 to 7031\n",
      "Data columns (total 12 columns):\n",
      " #   Column             Non-Null Count  Dtype  \n",
      "---  ------             --------------  -----  \n",
      " 0   customer_id        7032 non-null   object \n",
      " 1   gender             7032 non-null   object \n",
      " 2   senior_citizen     7032 non-null   int64  \n",
      " 3   partner            7032 non-null   object \n",
      " 4   dependents         7032 non-null   object \n",
      " 5   begin_date         7032 non-null   object \n",
      " 6   end_date           7032 non-null   object \n",
      " 7   type               7032 non-null   object \n",
      " 8   paperless_billing  7032 non-null   object \n",
      " 9   payment_method     7032 non-null   object \n",
      " 10  monthly_charges    7032 non-null   float64\n",
      " 11  total_charges      7032 non-null   float64\n",
      "dtypes: float64(2), int64(1), object(9)\n",
      "memory usage: 714.2+ KB\n"
     ]
    }
   ],
   "source": [
    "personal_contract.info()"
   ]
  },
  {
   "cell_type": "code",
   "execution_count": 57,
   "metadata": {
    "colab": {
     "base_uri": "https://localhost:8080/"
    },
    "id": "x_O4UawkGx3g",
    "outputId": "11211912-9005-428c-d057-f3884b80dc9f"
   },
   "outputs": [
    {
     "data": {
      "text/plain": [
       "customer_id          0\n",
       "gender               0\n",
       "senior_citizen       0\n",
       "partner              0\n",
       "dependents           0\n",
       "begin_date           0\n",
       "end_date             0\n",
       "type                 0\n",
       "paperless_billing    0\n",
       "payment_method       0\n",
       "monthly_charges      0\n",
       "total_charges        0\n",
       "dtype: int64"
      ]
     },
     "execution_count": 57,
     "metadata": {
      "tags": []
     },
     "output_type": "execute_result"
    }
   ],
   "source": [
    "personal_contract.isnull().sum()"
   ]
  },
  {
   "cell_type": "markdown",
   "metadata": {
    "id": "Lkg9gne4Gx3g"
   },
   "source": [
    "Дальше в таблицах `internet` и `phone` строк меньше, чем в предыдущих таблицах, а значит будут пропущенные значения. Также стоит отметить, что сам факт нахождения в таблице означает использование этой услуги. Таким образом, если мы присоеденим эти табицы без дополнительной информации, то в дальнейшем будем некорректно обрабатывать данные. Чтобы избежать такой ситуации, заполним пропущенные колонки после объединения значением *no_info*. Таким образом, введем еще одну категорию в рассматриваемые признаки."
   ]
  },
  {
   "cell_type": "code",
   "execution_count": 58,
   "metadata": {
    "id": "ncEpDEnGGx3h"
   },
   "outputs": [],
   "source": [
    "personal_contract_internet = personal_contract.merge(internet, on='customer_id', how='left') "
   ]
  },
  {
   "cell_type": "code",
   "execution_count": 59,
   "metadata": {
    "colab": {
     "base_uri": "https://localhost:8080/"
    },
    "id": "OHbv3qP4Gx3h",
    "outputId": "425fd7b8-d7e4-48d3-c65f-40676e16b0ca"
   },
   "outputs": [
    {
     "data": {
      "text/plain": [
       "customer_id             0\n",
       "gender                  0\n",
       "senior_citizen          0\n",
       "partner                 0\n",
       "dependents              0\n",
       "begin_date              0\n",
       "end_date                0\n",
       "type                    0\n",
       "paperless_billing       0\n",
       "payment_method          0\n",
       "monthly_charges         0\n",
       "total_charges           0\n",
       "internet_service     1520\n",
       "online_security      1520\n",
       "online_backup        1520\n",
       "device_protection    1520\n",
       "tech_support         1520\n",
       "streaming_tv         1520\n",
       "streaming_movies     1520\n",
       "dtype: int64"
      ]
     },
     "execution_count": 59,
     "metadata": {
      "tags": []
     },
     "output_type": "execute_result"
    }
   ],
   "source": [
    "personal_contract_internet.isnull().sum()"
   ]
  },
  {
   "cell_type": "markdown",
   "metadata": {
    "id": "ewwfit9CGx3h"
   },
   "source": [
    "Видно что образовались NaN, заменим их на *no_info*."
   ]
  },
  {
   "cell_type": "code",
   "execution_count": 60,
   "metadata": {
    "id": "LtCqO9dnTSgf"
   },
   "outputs": [],
   "source": [
    "personal_contract_internet['internet_service'] = personal_contract_internet['internet_service'].fillna('No') # все же оставлю доп категорию\n",
    "personal_contract_internet['online_security'] = personal_contract_internet['online_security'].fillna('No')\n",
    "personal_contract_internet['online_backup'] = personal_contract_internet['online_backup'].fillna('No')\n",
    "personal_contract_internet['device_protection'] = personal_contract_internet['device_protection'].fillna('No')\n",
    "personal_contract_internet['tech_support'] = personal_contract_internet['tech_support'].fillna('No')\n",
    "personal_contract_internet['streaming_tv'] = personal_contract_internet['streaming_tv'].fillna('No')\n",
    "personal_contract_internet['streaming_movies'] = personal_contract_internet['streaming_movies'].fillna('No')"
   ]
  },
  {
   "cell_type": "markdown",
   "metadata": {
    "id": "fr3gC8lXGx3i"
   },
   "source": [
    "Тоже самое для `phone`."
   ]
  },
  {
   "cell_type": "code",
   "execution_count": 61,
   "metadata": {
    "id": "W021JpH2Gx3i"
   },
   "outputs": [],
   "source": [
    "total = personal_contract_internet.merge(phone, on='customer_id', how='left') "
   ]
  },
  {
   "cell_type": "code",
   "execution_count": 62,
   "metadata": {
    "colab": {
     "base_uri": "https://localhost:8080/"
    },
    "id": "JpHF2e-ZGx3i",
    "outputId": "a89a61df-b372-41a2-ec92-6f6675fa41a2"
   },
   "outputs": [
    {
     "data": {
      "text/plain": [
       "customer_id            0\n",
       "gender                 0\n",
       "senior_citizen         0\n",
       "partner                0\n",
       "dependents             0\n",
       "begin_date             0\n",
       "end_date               0\n",
       "type                   0\n",
       "paperless_billing      0\n",
       "payment_method         0\n",
       "monthly_charges        0\n",
       "total_charges          0\n",
       "internet_service       0\n",
       "online_security        0\n",
       "online_backup          0\n",
       "device_protection      0\n",
       "tech_support           0\n",
       "streaming_tv           0\n",
       "streaming_movies       0\n",
       "multiple_lines       680\n",
       "dtype: int64"
      ]
     },
     "execution_count": 62,
     "metadata": {
      "tags": []
     },
     "output_type": "execute_result"
    }
   ],
   "source": [
    "total.isnull().sum()"
   ]
  },
  {
   "cell_type": "code",
   "execution_count": 63,
   "metadata": {
    "id": "ssGSK9imTrLW"
   },
   "outputs": [],
   "source": [
    "total['multiple_lines'] = total['multiple_lines'].fillna('No')"
   ]
  },
  {
   "cell_type": "code",
   "execution_count": 64,
   "metadata": {
    "colab": {
     "base_uri": "https://localhost:8080/"
    },
    "id": "Q_qGRBEzGx3i",
    "outputId": "061ebb63-25ce-46ea-8fe1-515e787d0dfc"
   },
   "outputs": [
    {
     "data": {
      "text/plain": [
       "customer_id          0\n",
       "gender               0\n",
       "senior_citizen       0\n",
       "partner              0\n",
       "dependents           0\n",
       "begin_date           0\n",
       "end_date             0\n",
       "type                 0\n",
       "paperless_billing    0\n",
       "payment_method       0\n",
       "monthly_charges      0\n",
       "total_charges        0\n",
       "internet_service     0\n",
       "online_security      0\n",
       "online_backup        0\n",
       "device_protection    0\n",
       "tech_support         0\n",
       "streaming_tv         0\n",
       "streaming_movies     0\n",
       "multiple_lines       0\n",
       "dtype: int64"
      ]
     },
     "execution_count": 64,
     "metadata": {
      "tags": []
     },
     "output_type": "execute_result"
    }
   ],
   "source": [
    "total.isnull().sum()"
   ]
  },
  {
   "cell_type": "markdown",
   "metadata": {
    "id": "FVCzSVXCGx3j"
   },
   "source": [
    "В итоге мы получили одну общую таблицу со всеми признаками."
   ]
  },
  {
   "cell_type": "code",
   "execution_count": 65,
   "metadata": {
    "colab": {
     "base_uri": "https://localhost:8080/"
    },
    "id": "2KvyWzZKGx3j",
    "outputId": "c1549129-1bcd-4757-9a1e-2a8e84794788"
   },
   "outputs": [
    {
     "name": "stdout",
     "output_type": "stream",
     "text": [
      "<class 'pandas.core.frame.DataFrame'>\n",
      "Int64Index: 7032 entries, 0 to 7031\n",
      "Data columns (total 20 columns):\n",
      " #   Column             Non-Null Count  Dtype  \n",
      "---  ------             --------------  -----  \n",
      " 0   customer_id        7032 non-null   object \n",
      " 1   gender             7032 non-null   object \n",
      " 2   senior_citizen     7032 non-null   int64  \n",
      " 3   partner            7032 non-null   object \n",
      " 4   dependents         7032 non-null   object \n",
      " 5   begin_date         7032 non-null   object \n",
      " 6   end_date           7032 non-null   object \n",
      " 7   type               7032 non-null   object \n",
      " 8   paperless_billing  7032 non-null   object \n",
      " 9   payment_method     7032 non-null   object \n",
      " 10  monthly_charges    7032 non-null   float64\n",
      " 11  total_charges      7032 non-null   float64\n",
      " 12  internet_service   7032 non-null   object \n",
      " 13  online_security    7032 non-null   object \n",
      " 14  online_backup      7032 non-null   object \n",
      " 15  device_protection  7032 non-null   object \n",
      " 16  tech_support       7032 non-null   object \n",
      " 17  streaming_tv       7032 non-null   object \n",
      " 18  streaming_movies   7032 non-null   object \n",
      " 19  multiple_lines     7032 non-null   object \n",
      "dtypes: float64(2), int64(1), object(17)\n",
      "memory usage: 1.1+ MB\n"
     ]
    }
   ],
   "source": [
    "total.info()"
   ]
  },
  {
   "cell_type": "markdown",
   "metadata": {
    "id": "gBWXi3jnKGI7"
   },
   "source": [
    "## Построение и обучение модели"
   ]
  },
  {
   "cell_type": "markdown",
   "metadata": {
    "id": "J1Wn961-K9th"
   },
   "source": [
    "У нас есть таблица с данными, теперь нам необходимо найти модель, которая будет прогнозировать отток клиентов. Для этого нам необходимо выделить из данных целевой признак. У нас в данных есть колонка `end_date`. В которой хранятся либо значение даты прекращения контракта (означает, что клиент ушел), либо значени *No* (означает, что клиент не ушел, и котракт все еще действует). Перед нами задача бинарной классификации. На основе выше сказанного, создадим колонку в которой будет хранится значение 1, если клиент ушел, и 0 - если нет."
   ]
  },
  {
   "cell_type": "code",
   "execution_count": 66,
   "metadata": {
    "colab": {
     "base_uri": "https://localhost:8080/"
    },
    "id": "9FFGEVR5MZhW",
    "outputId": "a98d8825-5df0-4e48-9e98-6b64da6741de"
   },
   "outputs": [
    {
     "data": {
      "text/plain": [
       "No                     5163\n",
       "2019-11-01 00:00:00     485\n",
       "2019-12-01 00:00:00     466\n",
       "2020-01-01 00:00:00     460\n",
       "2019-10-01 00:00:00     458\n",
       "Name: end_date, dtype: int64"
      ]
     },
     "execution_count": 66,
     "metadata": {
      "tags": []
     },
     "output_type": "execute_result"
    }
   ],
   "source": [
    "total['end_date'].value_counts()"
   ]
  },
  {
   "cell_type": "code",
   "execution_count": 67,
   "metadata": {
    "id": "JWNNN_nHPP6P"
   },
   "outputs": [],
   "source": [
    "def form_outflow(row):\n",
    "    outflow = 0 if row['end_date']=='No' else 1\n",
    "    return outflow"
   ]
  },
  {
   "cell_type": "code",
   "execution_count": 68,
   "metadata": {
    "id": "aDmdaM9eMTlN"
   },
   "outputs": [],
   "source": [
    "total['outflow'] = total.apply(form_outflow, axis=1)"
   ]
  },
  {
   "cell_type": "code",
   "execution_count": 69,
   "metadata": {
    "colab": {
     "base_uri": "https://localhost:8080/",
     "height": 360
    },
    "id": "VY8IpaFOQf3Z",
    "outputId": "f990af87-3584-4eaa-fad9-aa364c0e8ab1"
   },
   "outputs": [
    {
     "data": {
      "text/html": [
       "<div>\n",
       "<style scoped>\n",
       "    .dataframe tbody tr th:only-of-type {\n",
       "        vertical-align: middle;\n",
       "    }\n",
       "\n",
       "    .dataframe tbody tr th {\n",
       "        vertical-align: top;\n",
       "    }\n",
       "\n",
       "    .dataframe thead th {\n",
       "        text-align: right;\n",
       "    }\n",
       "</style>\n",
       "<table border=\"1\" class=\"dataframe\">\n",
       "  <thead>\n",
       "    <tr style=\"text-align: right;\">\n",
       "      <th></th>\n",
       "      <th>customer_id</th>\n",
       "      <th>gender</th>\n",
       "      <th>senior_citizen</th>\n",
       "      <th>partner</th>\n",
       "      <th>dependents</th>\n",
       "      <th>begin_date</th>\n",
       "      <th>end_date</th>\n",
       "      <th>type</th>\n",
       "      <th>paperless_billing</th>\n",
       "      <th>payment_method</th>\n",
       "      <th>monthly_charges</th>\n",
       "      <th>total_charges</th>\n",
       "      <th>internet_service</th>\n",
       "      <th>online_security</th>\n",
       "      <th>online_backup</th>\n",
       "      <th>device_protection</th>\n",
       "      <th>tech_support</th>\n",
       "      <th>streaming_tv</th>\n",
       "      <th>streaming_movies</th>\n",
       "      <th>multiple_lines</th>\n",
       "      <th>outflow</th>\n",
       "    </tr>\n",
       "  </thead>\n",
       "  <tbody>\n",
       "    <tr>\n",
       "      <th>0</th>\n",
       "      <td>7590-VHVEG</td>\n",
       "      <td>Female</td>\n",
       "      <td>0</td>\n",
       "      <td>Yes</td>\n",
       "      <td>No</td>\n",
       "      <td>2020-01-01</td>\n",
       "      <td>No</td>\n",
       "      <td>Month-to-month</td>\n",
       "      <td>Yes</td>\n",
       "      <td>Electronic check</td>\n",
       "      <td>29.85</td>\n",
       "      <td>29.85</td>\n",
       "      <td>DSL</td>\n",
       "      <td>No</td>\n",
       "      <td>Yes</td>\n",
       "      <td>No</td>\n",
       "      <td>No</td>\n",
       "      <td>No</td>\n",
       "      <td>No</td>\n",
       "      <td>No</td>\n",
       "      <td>0</td>\n",
       "    </tr>\n",
       "    <tr>\n",
       "      <th>1</th>\n",
       "      <td>5575-GNVDE</td>\n",
       "      <td>Male</td>\n",
       "      <td>0</td>\n",
       "      <td>No</td>\n",
       "      <td>No</td>\n",
       "      <td>2017-04-01</td>\n",
       "      <td>No</td>\n",
       "      <td>One year</td>\n",
       "      <td>No</td>\n",
       "      <td>Mailed check</td>\n",
       "      <td>56.95</td>\n",
       "      <td>1889.50</td>\n",
       "      <td>DSL</td>\n",
       "      <td>Yes</td>\n",
       "      <td>No</td>\n",
       "      <td>Yes</td>\n",
       "      <td>No</td>\n",
       "      <td>No</td>\n",
       "      <td>No</td>\n",
       "      <td>No</td>\n",
       "      <td>0</td>\n",
       "    </tr>\n",
       "    <tr>\n",
       "      <th>2</th>\n",
       "      <td>3668-QPYBK</td>\n",
       "      <td>Male</td>\n",
       "      <td>0</td>\n",
       "      <td>No</td>\n",
       "      <td>No</td>\n",
       "      <td>2019-10-01</td>\n",
       "      <td>2019-12-01 00:00:00</td>\n",
       "      <td>Month-to-month</td>\n",
       "      <td>Yes</td>\n",
       "      <td>Mailed check</td>\n",
       "      <td>53.85</td>\n",
       "      <td>108.15</td>\n",
       "      <td>DSL</td>\n",
       "      <td>Yes</td>\n",
       "      <td>Yes</td>\n",
       "      <td>No</td>\n",
       "      <td>No</td>\n",
       "      <td>No</td>\n",
       "      <td>No</td>\n",
       "      <td>No</td>\n",
       "      <td>1</td>\n",
       "    </tr>\n",
       "    <tr>\n",
       "      <th>3</th>\n",
       "      <td>7795-CFOCW</td>\n",
       "      <td>Male</td>\n",
       "      <td>0</td>\n",
       "      <td>No</td>\n",
       "      <td>No</td>\n",
       "      <td>2016-05-01</td>\n",
       "      <td>No</td>\n",
       "      <td>One year</td>\n",
       "      <td>No</td>\n",
       "      <td>Bank transfer (automatic)</td>\n",
       "      <td>42.30</td>\n",
       "      <td>1840.75</td>\n",
       "      <td>DSL</td>\n",
       "      <td>Yes</td>\n",
       "      <td>No</td>\n",
       "      <td>Yes</td>\n",
       "      <td>Yes</td>\n",
       "      <td>No</td>\n",
       "      <td>No</td>\n",
       "      <td>No</td>\n",
       "      <td>0</td>\n",
       "    </tr>\n",
       "    <tr>\n",
       "      <th>4</th>\n",
       "      <td>9237-HQITU</td>\n",
       "      <td>Female</td>\n",
       "      <td>0</td>\n",
       "      <td>No</td>\n",
       "      <td>No</td>\n",
       "      <td>2019-09-01</td>\n",
       "      <td>2019-11-01 00:00:00</td>\n",
       "      <td>Month-to-month</td>\n",
       "      <td>Yes</td>\n",
       "      <td>Electronic check</td>\n",
       "      <td>70.70</td>\n",
       "      <td>151.65</td>\n",
       "      <td>Fiber optic</td>\n",
       "      <td>No</td>\n",
       "      <td>No</td>\n",
       "      <td>No</td>\n",
       "      <td>No</td>\n",
       "      <td>No</td>\n",
       "      <td>No</td>\n",
       "      <td>No</td>\n",
       "      <td>1</td>\n",
       "    </tr>\n",
       "  </tbody>\n",
       "</table>\n",
       "</div>"
      ],
      "text/plain": [
       "  customer_id  gender  senior_citizen  ... streaming_movies multiple_lines outflow\n",
       "0  7590-VHVEG  Female               0  ...               No             No       0\n",
       "1  5575-GNVDE    Male               0  ...               No             No       0\n",
       "2  3668-QPYBK    Male               0  ...               No             No       1\n",
       "3  7795-CFOCW    Male               0  ...               No             No       0\n",
       "4  9237-HQITU  Female               0  ...               No             No       1\n",
       "\n",
       "[5 rows x 21 columns]"
      ]
     },
     "execution_count": 69,
     "metadata": {
      "tags": []
     },
     "output_type": "execute_result"
    }
   ],
   "source": [
    "total.head()"
   ]
  },
  {
   "cell_type": "markdown",
   "metadata": {
    "id": "kpEXvDeWRdjQ"
   },
   "source": [
    "В колонке `outflow` хранится наш целевой признак."
   ]
  },
  {
   "cell_type": "markdown",
   "metadata": {
    "id": "kmQR5ZPtSzMj"
   },
   "source": [
    "Выделим отдельно признаки и целевой признак"
   ]
  },
  {
   "cell_type": "code",
   "execution_count": 70,
   "metadata": {
    "id": "I6P5Qpc8RdKh"
   },
   "outputs": [],
   "source": [
    "target = total['outflow']\n",
    "features = total.drop('outflow', axis=1)"
   ]
  },
  {
   "cell_type": "markdown",
   "metadata": {
    "id": "KfknOhz1UEw2"
   },
   "source": [
    "Помним, что у нас есть еще колонка с датой (*begin_date*). Как было выяснено при подготовке данных, там нет пропусков. Приведем для начала к верному типу."
   ]
  },
  {
   "cell_type": "code",
   "execution_count": 71,
   "metadata": {
    "id": "gh2A8-H5FaQh"
   },
   "outputs": [],
   "source": [
    "features['begin_date'] = pd.to_datetime(features['begin_date'], format='%Y-%m-%d')"
   ]
  },
  {
   "cell_type": "markdown",
   "metadata": {
    "id": "V1szNDhURQ7E"
   },
   "source": [
    "Учтем, что нам также дана дата выгрузки из базы - 1 февраля 2020"
   ]
  },
  {
   "cell_type": "code",
   "execution_count": 72,
   "metadata": {
    "id": "gMtTuntlRd4v"
   },
   "outputs": [],
   "source": [
    "load_date = '2020-02-01'\n",
    "load_date = pd.to_datetime(load_date, format='%Y-%m-%d')"
   ]
  },
  {
   "cell_type": "code",
   "execution_count": 73,
   "metadata": {
    "id": "WQKfET-uRE3P"
   },
   "outputs": [],
   "source": [
    "def form_lifetime(row):\n",
    "    lifetime = 0\n",
    "    begin_date_in_sec = 0\n",
    "    end_date_in_sec = 0\n",
    "    \n",
    "    if row['end_date'] == 'No':\n",
    "        begin_date_in_sec = row['begin_date'].timestamp()\n",
    "        end_date_in_sec = load_date.timestamp()\n",
    "    else:\n",
    "        begin_date_in_sec = row['begin_date'].timestamp()\n",
    "        end_date = pd.to_datetime(row['end_date'], format='%Y-%m-%d')\n",
    "        end_date_in_sec = end_date.timestamp()\n",
    "    \n",
    "    lifetime = end_date_in_sec - begin_date_in_sec\n",
    "    return lifetime"
   ]
  },
  {
   "cell_type": "code",
   "execution_count": 74,
   "metadata": {
    "id": "4ftvnXuzUqOa"
   },
   "outputs": [],
   "source": [
    "features['lifetime'] = features.apply(form_lifetime, axis=1)"
   ]
  },
  {
   "cell_type": "markdown",
   "metadata": {
    "id": "6wjJIInAUqrj"
   },
   "source": [
    "Удалим колонки, которые не будем использовать при обучении модели. Из *begin_date* и *end_date* получили признак *lifetime* (количественный). Также *end_date* - уже использована для целевого признака. *customer_id* - уникальный для каждого клиента, с помощью него мы соединяли таблицы, но он нам не поможет в дальнейшем."
   ]
  },
  {
   "cell_type": "code",
   "execution_count": 77,
   "metadata": {
    "id": "7DhgVUxFdiG_"
   },
   "outputs": [],
   "source": [
    "features = features.drop(['customer_id', 'begin_date', 'end_date'], axis=1)"
   ]
  },
  {
   "cell_type": "markdown",
   "metadata": {
    "id": "Iv-FwW6PVSft"
   },
   "source": [
    "В итогу получили следующую таблицу признаков."
   ]
  },
  {
   "cell_type": "code",
   "execution_count": 78,
   "metadata": {
    "colab": {
     "base_uri": "https://localhost:8080/",
     "height": 360
    },
    "id": "3wVQ_alCZFMa",
    "outputId": "4b5294f0-efcd-463b-8301-9c04cf2db9b5"
   },
   "outputs": [
    {
     "data": {
      "text/html": [
       "<div>\n",
       "<style scoped>\n",
       "    .dataframe tbody tr th:only-of-type {\n",
       "        vertical-align: middle;\n",
       "    }\n",
       "\n",
       "    .dataframe tbody tr th {\n",
       "        vertical-align: top;\n",
       "    }\n",
       "\n",
       "    .dataframe thead th {\n",
       "        text-align: right;\n",
       "    }\n",
       "</style>\n",
       "<table border=\"1\" class=\"dataframe\">\n",
       "  <thead>\n",
       "    <tr style=\"text-align: right;\">\n",
       "      <th></th>\n",
       "      <th>gender</th>\n",
       "      <th>senior_citizen</th>\n",
       "      <th>partner</th>\n",
       "      <th>dependents</th>\n",
       "      <th>type</th>\n",
       "      <th>paperless_billing</th>\n",
       "      <th>payment_method</th>\n",
       "      <th>monthly_charges</th>\n",
       "      <th>total_charges</th>\n",
       "      <th>internet_service</th>\n",
       "      <th>online_security</th>\n",
       "      <th>online_backup</th>\n",
       "      <th>device_protection</th>\n",
       "      <th>tech_support</th>\n",
       "      <th>streaming_tv</th>\n",
       "      <th>streaming_movies</th>\n",
       "      <th>multiple_lines</th>\n",
       "      <th>lifetime</th>\n",
       "    </tr>\n",
       "  </thead>\n",
       "  <tbody>\n",
       "    <tr>\n",
       "      <th>0</th>\n",
       "      <td>Female</td>\n",
       "      <td>0</td>\n",
       "      <td>Yes</td>\n",
       "      <td>No</td>\n",
       "      <td>Month-to-month</td>\n",
       "      <td>Yes</td>\n",
       "      <td>Electronic check</td>\n",
       "      <td>29.85</td>\n",
       "      <td>29.85</td>\n",
       "      <td>DSL</td>\n",
       "      <td>No</td>\n",
       "      <td>Yes</td>\n",
       "      <td>No</td>\n",
       "      <td>No</td>\n",
       "      <td>No</td>\n",
       "      <td>No</td>\n",
       "      <td>No</td>\n",
       "      <td>2678400.0</td>\n",
       "    </tr>\n",
       "    <tr>\n",
       "      <th>1</th>\n",
       "      <td>Male</td>\n",
       "      <td>0</td>\n",
       "      <td>No</td>\n",
       "      <td>No</td>\n",
       "      <td>One year</td>\n",
       "      <td>No</td>\n",
       "      <td>Mailed check</td>\n",
       "      <td>56.95</td>\n",
       "      <td>1889.50</td>\n",
       "      <td>DSL</td>\n",
       "      <td>Yes</td>\n",
       "      <td>No</td>\n",
       "      <td>Yes</td>\n",
       "      <td>No</td>\n",
       "      <td>No</td>\n",
       "      <td>No</td>\n",
       "      <td>No</td>\n",
       "      <td>89510400.0</td>\n",
       "    </tr>\n",
       "    <tr>\n",
       "      <th>2</th>\n",
       "      <td>Male</td>\n",
       "      <td>0</td>\n",
       "      <td>No</td>\n",
       "      <td>No</td>\n",
       "      <td>Month-to-month</td>\n",
       "      <td>Yes</td>\n",
       "      <td>Mailed check</td>\n",
       "      <td>53.85</td>\n",
       "      <td>108.15</td>\n",
       "      <td>DSL</td>\n",
       "      <td>Yes</td>\n",
       "      <td>Yes</td>\n",
       "      <td>No</td>\n",
       "      <td>No</td>\n",
       "      <td>No</td>\n",
       "      <td>No</td>\n",
       "      <td>No</td>\n",
       "      <td>5270400.0</td>\n",
       "    </tr>\n",
       "    <tr>\n",
       "      <th>3</th>\n",
       "      <td>Male</td>\n",
       "      <td>0</td>\n",
       "      <td>No</td>\n",
       "      <td>No</td>\n",
       "      <td>One year</td>\n",
       "      <td>No</td>\n",
       "      <td>Bank transfer (automatic)</td>\n",
       "      <td>42.30</td>\n",
       "      <td>1840.75</td>\n",
       "      <td>DSL</td>\n",
       "      <td>Yes</td>\n",
       "      <td>No</td>\n",
       "      <td>Yes</td>\n",
       "      <td>Yes</td>\n",
       "      <td>No</td>\n",
       "      <td>No</td>\n",
       "      <td>No</td>\n",
       "      <td>118454400.0</td>\n",
       "    </tr>\n",
       "    <tr>\n",
       "      <th>4</th>\n",
       "      <td>Female</td>\n",
       "      <td>0</td>\n",
       "      <td>No</td>\n",
       "      <td>No</td>\n",
       "      <td>Month-to-month</td>\n",
       "      <td>Yes</td>\n",
       "      <td>Electronic check</td>\n",
       "      <td>70.70</td>\n",
       "      <td>151.65</td>\n",
       "      <td>Fiber optic</td>\n",
       "      <td>No</td>\n",
       "      <td>No</td>\n",
       "      <td>No</td>\n",
       "      <td>No</td>\n",
       "      <td>No</td>\n",
       "      <td>No</td>\n",
       "      <td>No</td>\n",
       "      <td>5270400.0</td>\n",
       "    </tr>\n",
       "  </tbody>\n",
       "</table>\n",
       "</div>"
      ],
      "text/plain": [
       "   gender  senior_citizen partner  ... streaming_movies multiple_lines     lifetime\n",
       "0  Female               0     Yes  ...               No             No    2678400.0\n",
       "1    Male               0      No  ...               No             No   89510400.0\n",
       "2    Male               0      No  ...               No             No    5270400.0\n",
       "3    Male               0      No  ...               No             No  118454400.0\n",
       "4  Female               0      No  ...               No             No    5270400.0\n",
       "\n",
       "[5 rows x 18 columns]"
      ]
     },
     "execution_count": 78,
     "metadata": {
      "tags": []
     },
     "output_type": "execute_result"
    }
   ],
   "source": [
    "features.head()"
   ]
  },
  {
   "cell_type": "markdown",
   "metadata": {
    "id": "IOxgGCFYT9BS"
   },
   "source": [
    "В качестве модели в дальнейшем будем использовать классификатор из библиотеки CatBoost. В основе этой модели лежит градиентный бустинг."
   ]
  },
  {
   "cell_type": "markdown",
   "metadata": {
    "id": "1m8RsxAcWQcC"
   },
   "source": [
    "Зафиксируем отдельно в переменную параметр рандомизации."
   ]
  },
  {
   "cell_type": "code",
   "execution_count": 79,
   "metadata": {
    "id": "01vr_cefWbqs"
   },
   "outputs": [],
   "source": [
    "RAND_SEED = 12345"
   ]
  },
  {
   "cell_type": "markdown",
   "metadata": {
    "id": "OxDMnhXUUkBN"
   },
   "source": [
    "Выделим тренировочную, валидационную и тестовую выборки в стандартном соотношении 60:20:20. При этом используем параметр стратификации, чтобы сделать распределение долей классов в целевом признаке одинаковым для всех выборок."
   ]
  },
  {
   "cell_type": "code",
   "execution_count": 80,
   "metadata": {
    "id": "WAr0H1laTeQi"
   },
   "outputs": [],
   "source": [
    "# отделим 40% данных для проверочных выборок\n",
    "features_train, features_check, target_train, target_check = train_test_split(\n",
    "        features, target, test_size=0.4, random_state=RAND_SEED, stratify=target)"
   ]
  },
  {
   "cell_type": "code",
   "execution_count": 81,
   "metadata": {
    "id": "B1HGDQC6TfAJ"
   },
   "outputs": [],
   "source": [
    "# определим 50% данных для валидационной выборки и 50% для тестовой выборки (из проверочное выборки)\n",
    "features_valid, features_test, target_valid, target_test = train_test_split(\n",
    "    features_check, target_check, test_size=0.5, random_state=RAND_SEED, stratify=target_check)"
   ]
  },
  {
   "cell_type": "markdown",
   "metadata": {
    "id": "ewwbL1LmWOkn"
   },
   "source": [
    "В наших признаках есть количественные переменные. Все значение разных порядков. Для того чтобы они давали одинаковое влияние в обучении модели их необходимо масштабировать. Сделаем это с помощью стандартизации."
   ]
  },
  {
   "cell_type": "code",
   "execution_count": 82,
   "metadata": {
    "id": "-uXv7kEfX6-H"
   },
   "outputs": [],
   "source": [
    "numerical_cols = ['monthly_charges', 'total_charges', 'lifetime']"
   ]
  },
  {
   "cell_type": "code",
   "execution_count": 83,
   "metadata": {
    "id": "vMK-yXSBX34B"
   },
   "outputs": [],
   "source": [
    "pd.options.mode.chained_assignment = None\n",
    "\n",
    "scaler = StandardScaler()\n",
    "scaler.fit(features_train[numerical_cols])\n",
    "\n",
    "features_train[numerical_cols] = scaler.transform(features_train[numerical_cols])\n",
    "features_valid[numerical_cols] = scaler.transform(features_valid[numerical_cols])\n",
    "features_test[numerical_cols] = scaler.transform(features_test[numerical_cols])"
   ]
  },
  {
   "cell_type": "markdown",
   "metadata": {
    "id": "K94aR3WM7xI3"
   },
   "source": [
    "Заметим, что в тренировочных данных у нас присутствует дисбаланс классов в целевом признаке. Это может повлиять на качество обучения. Поэтому попробуем устранить дисбаланс путем увеличения выборки для положительных объектов."
   ]
  },
  {
   "cell_type": "code",
   "execution_count": 84,
   "metadata": {
    "colab": {
     "base_uri": "https://localhost:8080/"
    },
    "id": "wAuIvILCd-ln",
    "outputId": "aba6f401-74ed-433f-f719-295d07da7d88"
   },
   "outputs": [
    {
     "name": "stdout",
     "output_type": "stream",
     "text": [
      "0    0.734297\n",
      "1    0.265703\n",
      "Name: outflow, dtype: float64\n"
     ]
    }
   ],
   "source": [
    "print(target_train.value_counts(normalize=True))"
   ]
  },
  {
   "cell_type": "code",
   "execution_count": 85,
   "metadata": {
    "id": "LVHVrGVodeFu"
   },
   "outputs": [],
   "source": [
    "def upsample(rand_seed, features, target, repeat):\n",
    "    features_zeros = features[target == 0]\n",
    "    features_ones = features[target == 1]\n",
    "    target_zeros = target[target == 0]\n",
    "    target_ones = target[target == 1]\n",
    "\n",
    "    features_upsampled = pd.concat([features_zeros] + [features_ones] * repeat)\n",
    "    target_upsampled = pd.concat([target_zeros] + [target_ones] * repeat)\n",
    "    \n",
    "    features_upsampled, target_upsampled = shuffle(\n",
    "        features_upsampled, target_upsampled, random_state=rand_seed)\n",
    "    \n",
    "    return features_upsampled, target_upsampled"
   ]
  },
  {
   "cell_type": "code",
   "execution_count": 86,
   "metadata": {
    "id": "_6car0jEdlHj"
   },
   "outputs": [],
   "source": [
    "features_train_upsampled, target_train_upsampled = upsample(RAND_SEED, features_train, target_train, 3)"
   ]
  },
  {
   "cell_type": "code",
   "execution_count": 87,
   "metadata": {
    "colab": {
     "base_uri": "https://localhost:8080/"
    },
    "id": "OngZbNWzd-OX",
    "outputId": "5d137095-8264-4b42-fec0-246b03bd07fb"
   },
   "outputs": [
    {
     "name": "stdout",
     "output_type": "stream",
     "text": [
      "1    0.520508\n",
      "0    0.479492\n",
      "Name: outflow, dtype: float64\n"
     ]
    }
   ],
   "source": [
    "print(target_train_upsampled.value_counts(normalize=True))"
   ]
  },
  {
   "cell_type": "markdown",
   "metadata": {
    "id": "cS4bvAso8x2w"
   },
   "source": [
    "Теперь выборка у нас более-менее сбалансированная."
   ]
  },
  {
   "cell_type": "code",
   "execution_count": 88,
   "metadata": {
    "colab": {
     "base_uri": "https://localhost:8080/",
     "height": 343
    },
    "id": "tLgD423GYafB",
    "outputId": "f0ee5c73-cd93-455d-81db-e2e51a60e26f"
   },
   "outputs": [
    {
     "data": {
      "text/html": [
       "<div>\n",
       "<style scoped>\n",
       "    .dataframe tbody tr th:only-of-type {\n",
       "        vertical-align: middle;\n",
       "    }\n",
       "\n",
       "    .dataframe tbody tr th {\n",
       "        vertical-align: top;\n",
       "    }\n",
       "\n",
       "    .dataframe thead th {\n",
       "        text-align: right;\n",
       "    }\n",
       "</style>\n",
       "<table border=\"1\" class=\"dataframe\">\n",
       "  <thead>\n",
       "    <tr style=\"text-align: right;\">\n",
       "      <th></th>\n",
       "      <th>gender</th>\n",
       "      <th>senior_citizen</th>\n",
       "      <th>partner</th>\n",
       "      <th>dependents</th>\n",
       "      <th>type</th>\n",
       "      <th>paperless_billing</th>\n",
       "      <th>payment_method</th>\n",
       "      <th>monthly_charges</th>\n",
       "      <th>total_charges</th>\n",
       "      <th>internet_service</th>\n",
       "      <th>online_security</th>\n",
       "      <th>online_backup</th>\n",
       "      <th>device_protection</th>\n",
       "      <th>tech_support</th>\n",
       "      <th>streaming_tv</th>\n",
       "      <th>streaming_movies</th>\n",
       "      <th>multiple_lines</th>\n",
       "      <th>lifetime</th>\n",
       "    </tr>\n",
       "  </thead>\n",
       "  <tbody>\n",
       "    <tr>\n",
       "      <th>5579</th>\n",
       "      <td>Male</td>\n",
       "      <td>0</td>\n",
       "      <td>No</td>\n",
       "      <td>No</td>\n",
       "      <td>Month-to-month</td>\n",
       "      <td>Yes</td>\n",
       "      <td>Mailed check</td>\n",
       "      <td>-0.510851</td>\n",
       "      <td>-0.985802</td>\n",
       "      <td>DSL</td>\n",
       "      <td>No</td>\n",
       "      <td>No</td>\n",
       "      <td>Yes</td>\n",
       "      <td>No</td>\n",
       "      <td>No</td>\n",
       "      <td>No</td>\n",
       "      <td>No</td>\n",
       "      <td>-1.282000</td>\n",
       "    </tr>\n",
       "    <tr>\n",
       "      <th>1585</th>\n",
       "      <td>Female</td>\n",
       "      <td>0</td>\n",
       "      <td>Yes</td>\n",
       "      <td>Yes</td>\n",
       "      <td>Two year</td>\n",
       "      <td>No</td>\n",
       "      <td>Electronic check</td>\n",
       "      <td>-1.514851</td>\n",
       "      <td>-0.450093</td>\n",
       "      <td>No</td>\n",
       "      <td>No</td>\n",
       "      <td>No</td>\n",
       "      <td>No</td>\n",
       "      <td>No</td>\n",
       "      <td>No</td>\n",
       "      <td>No</td>\n",
       "      <td>No</td>\n",
       "      <td>1.248969</td>\n",
       "    </tr>\n",
       "    <tr>\n",
       "      <th>5655</th>\n",
       "      <td>Female</td>\n",
       "      <td>1</td>\n",
       "      <td>No</td>\n",
       "      <td>No</td>\n",
       "      <td>Month-to-month</td>\n",
       "      <td>Yes</td>\n",
       "      <td>Credit card (automatic)</td>\n",
       "      <td>0.647227</td>\n",
       "      <td>-0.625825</td>\n",
       "      <td>Fiber optic</td>\n",
       "      <td>No</td>\n",
       "      <td>No</td>\n",
       "      <td>Yes</td>\n",
       "      <td>No</td>\n",
       "      <td>No</td>\n",
       "      <td>Yes</td>\n",
       "      <td>No</td>\n",
       "      <td>-0.914688</td>\n",
       "    </tr>\n",
       "    <tr>\n",
       "      <th>1329</th>\n",
       "      <td>Male</td>\n",
       "      <td>0</td>\n",
       "      <td>No</td>\n",
       "      <td>No</td>\n",
       "      <td>One year</td>\n",
       "      <td>Yes</td>\n",
       "      <td>Mailed check</td>\n",
       "      <td>-0.983029</td>\n",
       "      <td>-0.236088</td>\n",
       "      <td>DSL</td>\n",
       "      <td>Yes</td>\n",
       "      <td>No</td>\n",
       "      <td>No</td>\n",
       "      <td>Yes</td>\n",
       "      <td>No</td>\n",
       "      <td>No</td>\n",
       "      <td>No</td>\n",
       "      <td>0.719449</td>\n",
       "    </tr>\n",
       "    <tr>\n",
       "      <th>570</th>\n",
       "      <td>Male</td>\n",
       "      <td>1</td>\n",
       "      <td>No</td>\n",
       "      <td>No</td>\n",
       "      <td>Two year</td>\n",
       "      <td>No</td>\n",
       "      <td>Bank transfer (automatic)</td>\n",
       "      <td>-0.181155</td>\n",
       "      <td>0.207366</td>\n",
       "      <td>DSL</td>\n",
       "      <td>No</td>\n",
       "      <td>Yes</td>\n",
       "      <td>No</td>\n",
       "      <td>Yes</td>\n",
       "      <td>No</td>\n",
       "      <td>No</td>\n",
       "      <td>Yes</td>\n",
       "      <td>0.597459</td>\n",
       "    </tr>\n",
       "  </tbody>\n",
       "</table>\n",
       "</div>"
      ],
      "text/plain": [
       "      gender  senior_citizen partner  ... streaming_movies multiple_lines  lifetime\n",
       "5579    Male               0      No  ...               No             No -1.282000\n",
       "1585  Female               0     Yes  ...               No             No  1.248969\n",
       "5655  Female               1      No  ...              Yes             No -0.914688\n",
       "1329    Male               0      No  ...               No             No  0.719449\n",
       "570     Male               1      No  ...               No            Yes  0.597459\n",
       "\n",
       "[5 rows x 18 columns]"
      ]
     },
     "execution_count": 88,
     "metadata": {
      "tags": []
     },
     "output_type": "execute_result"
    }
   ],
   "source": [
    "features_train.head()"
   ]
  },
  {
   "cell_type": "markdown",
   "metadata": {
    "id": "pKT4KFbs89kJ"
   },
   "source": [
    "CatBoost умеет работать с категориальными переменными по умолчанию, без дополнительной их подготовки. Выделим из таблицы названия категориальных переменных."
   ]
  },
  {
   "cell_type": "code",
   "execution_count": 89,
   "metadata": {
    "id": "8qT6BGkwZLOB"
   },
   "outputs": [],
   "source": [
    "cat_features = ['gender', 'senior_citizen', 'partner', 'dependents', 'type',\n",
    "       'paperless_billing', 'payment_method', 'internet_service', 'online_security', \n",
    "       'online_backup', 'device_protection', 'tech_support', 'streaming_tv', \n",
    "       'streaming_movies', 'multiple_lines']"
   ]
  },
  {
   "cell_type": "markdown",
   "metadata": {
    "id": "SBlRmanRXWZw"
   },
   "source": [
    "В качестве метрики возьмем значение AUC-ROC - площадь под ROC-кривой."
   ]
  },
  {
   "cell_type": "code",
   "execution_count": 90,
   "metadata": {
    "id": "QwFurHPCTfbh"
   },
   "outputs": [],
   "source": [
    "model = CatBoostClassifier(eval_metric='AUC', verbose = 3000)"
   ]
  },
  {
   "cell_type": "markdown",
   "metadata": {
    "id": "MSIuJiE5X2JT"
   },
   "source": [
    "Подготовим тренировочную выборку в виде удобном для CatBoost."
   ]
  },
  {
   "cell_type": "code",
   "execution_count": 91,
   "metadata": {
    "id": "xgt48jhiTfjs"
   },
   "outputs": [],
   "source": [
    "train_pool = Pool(data=features_train_upsampled, label=target_train_upsampled, cat_features=cat_features)"
   ]
  },
  {
   "cell_type": "markdown",
   "metadata": {
    "id": "FYvBOR52YA-t"
   },
   "source": [
    "Посмотрим на качество модели на разных значениях гиперпараметров. Для этого воспользуемся поиском по сетке."
   ]
  },
  {
   "cell_type": "code",
   "execution_count": 92,
   "metadata": {
    "id": "bazi9h_fFK-B"
   },
   "outputs": [],
   "source": [
    "grid_cbc = {'iterations': [4000, 5000],\n",
    "            'learning_rate': [0.04],\n",
    "            'depth': [2, 3]}"
   ]
  },
  {
   "cell_type": "code",
   "execution_count": 93,
   "metadata": {
    "colab": {
     "base_uri": "https://localhost:8080/"
    },
    "id": "ynIcMY1LBPkw",
    "outputId": "19c3217c-630b-4933-f24f-de5698ffa027"
   },
   "outputs": [
    {
     "name": "stdout",
     "output_type": "stream",
     "text": [
      "0:\ttest: 0.7345276\tbest: 0.7345276 (0)\ttotal: 52.8ms\tremaining: 3m 30s\n",
      "3000:\ttest: 0.9368885\tbest: 0.9369389 (2997)\ttotal: 10.4s\tremaining: 3.47s\n",
      "3999:\ttest: 0.9445486\tbest: 0.9445750 (3996)\ttotal: 13.9s\tremaining: 0us\n",
      "\n",
      "bestTest = 0.9445749966\n",
      "bestIteration = 3996\n",
      "\n",
      "Metric AUC is not calculated on train by default. To calculate this metric on train, add hints=skip_train~false to metric parameters.\n",
      "0:\tloss: 0.9445750\tbest: 0.9445750 (0)\ttotal: 14s\tremaining: 42s\n",
      "0:\ttest: 0.7345276\tbest: 0.7345276 (0)\ttotal: 3.64ms\tremaining: 18.2s\n",
      "3000:\ttest: 0.9368885\tbest: 0.9369389 (2997)\ttotal: 10.2s\tremaining: 6.8s\n",
      "4999:\ttest: 0.9483757\tbest: 0.9483757 (4999)\ttotal: 17s\tremaining: 0us\n",
      "\n",
      "bestTest = 0.9483756642\n",
      "bestIteration = 4999\n",
      "\n",
      "Metric AUC is not calculated on train by default. To calculate this metric on train, add hints=skip_train~false to metric parameters.\n",
      "0:\ttest: 0.8090242\tbest: 0.8090242 (0)\ttotal: 5.11ms\tremaining: 20.4s\n",
      "3000:\ttest: 0.9575069\tbest: 0.9575069 (3000)\ttotal: 13.3s\tremaining: 4.42s\n",
      "3999:\ttest: 0.9624801\tbest: 0.9624801 (3999)\ttotal: 17.7s\tremaining: 0us\n",
      "\n",
      "bestTest = 0.9624800975\n",
      "bestIteration = 3999\n",
      "\n",
      "Metric AUC is not calculated on train by default. To calculate this metric on train, add hints=skip_train~false to metric parameters.\n",
      "0:\ttest: 0.8090242\tbest: 0.8090242 (0)\ttotal: 4.99ms\tremaining: 24.9s\n",
      "3000:\ttest: 0.9575069\tbest: 0.9575069 (3000)\ttotal: 13.2s\tremaining: 8.79s\n",
      "4999:\ttest: 0.9665829\tbest: 0.9666069 (4997)\ttotal: 22s\tremaining: 0us\n",
      "\n",
      "bestTest = 0.9666068791\n",
      "bestIteration = 4997\n",
      "\n",
      "Metric AUC is not calculated on train by default. To calculate this metric on train, add hints=skip_train~false to metric parameters.\n",
      "3:\tloss: 0.9666069\tbest: 0.9666069 (3)\ttotal: 1m 10s\tremaining: 0us\n",
      "Estimating final quality...\n",
      "0:\ttest: 0.7960747\tbest: 0.7960747 (0)\n",
      "3000:\ttest: 0.9483607\tbest: 0.9483607 (3000)\n",
      "4999:\ttest: 0.9586532\tbest: 0.9586840 (4994)\ttotal: 1m 6s\tremaining: 0us\n"
     ]
    }
   ],
   "source": [
    "result = model.grid_search(param_grid=grid_cbc, X=train_pool, verbose=1000)"
   ]
  },
  {
   "cell_type": "markdown",
   "metadata": {
    "id": "hNqBIeL9YcZz"
   },
   "source": [
    "Посмотрим какие параметры подобрались для наилучшей модели."
   ]
  },
  {
   "cell_type": "code",
   "execution_count": 94,
   "metadata": {
    "colab": {
     "base_uri": "https://localhost:8080/"
    },
    "id": "dn_OEQXqEYOl",
    "outputId": "bb45b91e-06e9-4831-f9fc-a80b5a2743b7"
   },
   "outputs": [
    {
     "data": {
      "text/plain": [
       "{'depth': 3,\n",
       " 'eval_metric': 'AUC',\n",
       " 'iterations': 5000,\n",
       " 'learning_rate': 0.04,\n",
       " 'verbose': 3000}"
      ]
     },
     "execution_count": 94,
     "metadata": {
      "tags": []
     },
     "output_type": "execute_result"
    }
   ],
   "source": [
    "model.get_params()"
   ]
  },
  {
   "cell_type": "markdown",
   "metadata": {
    "id": "RNyKTtf9YhNX"
   },
   "source": [
    "Подготовим валидационную выборку."
   ]
  },
  {
   "cell_type": "code",
   "execution_count": 95,
   "metadata": {
    "id": "HYl02hXXTfwu"
   },
   "outputs": [],
   "source": [
    "valid_pool = Pool(data=features_valid, label=target_valid, cat_features=cat_features)"
   ]
  },
  {
   "cell_type": "markdown",
   "metadata": {
    "id": "qmPk9bVrYw8w"
   },
   "source": [
    "Мы уже можем пользоваться нашей моделью. Она уже обучена на оптимальных гиперпараметрах после grid_search. Однако, мы хотим посмотреть на качество на валидационной выборке."
   ]
  },
  {
   "cell_type": "code",
   "execution_count": 96,
   "metadata": {
    "colab": {
     "base_uri": "https://localhost:8080/"
    },
    "id": "GRiPsf4jTf99",
    "outputId": "06f902a4-1d33-4bd8-da04-aeb5bc327cd2"
   },
   "outputs": [
    {
     "name": "stdout",
     "output_type": "stream",
     "text": [
      "0:\ttest: 0.8089621\tbest: 0.8089621 (0)\ttotal: 7.95ms\tremaining: 39.7s\n",
      "400:\ttest: 0.8804953\tbest: 0.8808373 (382)\ttotal: 1.96s\tremaining: 22.5s\n",
      "800:\ttest: 0.8907008\tbest: 0.8907008 (800)\ttotal: 3.92s\tremaining: 20.6s\n",
      "1200:\ttest: 0.9019582\tbest: 0.9019582 (1198)\ttotal: 5.92s\tremaining: 18.7s\n",
      "1600:\ttest: 0.9046579\tbest: 0.9046942 (1599)\ttotal: 7.92s\tremaining: 16.8s\n",
      "2000:\ttest: 0.9084769\tbest: 0.9085753 (1901)\ttotal: 9.96s\tremaining: 14.9s\n",
      "2400:\ttest: 0.9100754\tbest: 0.9101117 (2399)\ttotal: 12s\tremaining: 13s\n",
      "2800:\ttest: 0.9112258\tbest: 0.9116896 (2732)\ttotal: 14s\tremaining: 11s\n",
      "3200:\ttest: 0.9120575\tbest: 0.9120912 (3199)\ttotal: 16s\tremaining: 8.98s\n",
      "3600:\ttest: 0.9131586\tbest: 0.9131819 (3585)\ttotal: 18s\tremaining: 7s\n",
      "4000:\ttest: 0.9135446\tbest: 0.9136405 (3742)\ttotal: 20.1s\tremaining: 5.01s\n",
      "4400:\ttest: 0.9138089\tbest: 0.9142079 (4202)\ttotal: 22.1s\tremaining: 3.01s\n",
      "4800:\ttest: 0.9146043\tbest: 0.9146199 (4798)\ttotal: 24.2s\tremaining: 1s\n",
      "4999:\ttest: 0.9148090\tbest: 0.9148479 (4984)\ttotal: 25.1s\tremaining: 0us\n",
      "\n",
      "bestTest = 0.914847863\n",
      "bestIteration = 4984\n",
      "\n",
      "Shrink model to first 4985 iterations.\n"
     ]
    },
    {
     "data": {
      "text/plain": [
       "<catboost.core.CatBoostClassifier at 0x7fbf4a2b3cd0>"
      ]
     },
     "execution_count": 96,
     "metadata": {
      "tags": []
     },
     "output_type": "execute_result"
    }
   ],
   "source": [
    "model.fit(train_pool, eval_set=valid_pool, verbose=400)"
   ]
  },
  {
   "cell_type": "markdown",
   "metadata": {
    "id": "T75VXE7ma_YH"
   },
   "source": [
    "Получим вероятности класса *1* для тестовой выборки. С помощью стандартной функции найдем значение метрики auc-roc."
   ]
  },
  {
   "cell_type": "code",
   "execution_count": 97,
   "metadata": {
    "colab": {
     "base_uri": "https://localhost:8080/"
    },
    "id": "o2AuVmh1aLPU",
    "outputId": "21c697af-a451-4c0e-af2a-48921c8a12fa"
   },
   "outputs": [
    {
     "name": "stdout",
     "output_type": "stream",
     "text": [
      "test_auc_roc = 0.9166489794016701\n"
     ]
    }
   ],
   "source": [
    "probabilities_test = model.predict_proba(features_test)\n",
    "probabilities_one_test = probabilities_test[:, 1]\n",
    "test_auc_roc = roc_auc_score(target_test, probabilities_one_test)\n",
    "print('test_auc_roc =', test_auc_roc)"
   ]
  },
  {
   "cell_type": "markdown",
   "metadata": {
    "id": "NLjTaaKfZOt2"
   },
   "source": [
    "Наше значение получилось > 0.917. Это довольно неплохой результат."
   ]
  },
  {
   "cell_type": "markdown",
   "metadata": {
    "id": "pK_nrBCDbunD"
   },
   "source": [
    "Для наглядности построим кривую ошибок. Посмотрим как она располагается относительно случайной модели."
   ]
  },
  {
   "cell_type": "code",
   "execution_count": 98,
   "metadata": {
    "colab": {
     "base_uri": "https://localhost:8080/",
     "height": 638
    },
    "id": "omnRbbn-b-gf",
    "outputId": "f4622422-e72a-4b70-82aa-8b3bbf63848e"
   },
   "outputs": [
    {
     "data": {
      "text/plain": [
       "<Figure size 576x576 with 0 Axes>"
      ]
     },
     "metadata": {
      "tags": []
     },
     "output_type": "display_data"
    },
    {
     "data": {
      "image/png": "[encoded data removed]",
      "text/plain": [
       "<Figure size 720x720 with 1 Axes>"
      ]
     },
     "metadata": {
      "needs_background": "light",
      "tags": []
     },
     "output_type": "display_data"
    }
   ],
   "source": [
    "# Построим ROC-кривую\n",
    "plt.figure(figsize=(8,8))\n",
    "\n",
    "fpr, tpr, thresholds = roc_curve(target_test, probabilities_one_test)\n",
    "\n",
    "plt.figure(figsize=(10, 10))\n",
    "\n",
    "# Наша ROC-кривая\n",
    "plt.plot(fpr, tpr)\n",
    "\n",
    "# ROC-кривая случайной модели\n",
    "plt.plot([0, 1], [0, 1], linestyle='--')\n",
    "\n",
    "plt.xlim(0, 1)\n",
    "plt.ylim(0, 1)\n",
    "\n",
    "plt.xlabel('False Positive Rate')\n",
    "plt.ylabel('True Positive Rate')\n",
    "\n",
    "plt.title('ROC-кривая')\n",
    "\n",
    "plt.show()"
   ]
  },
  {
   "cell_type": "markdown",
   "metadata": {
    "id": "nWrOIXOUdGxI"
   },
   "source": [
    "Из графика видно, что модель предсказывает качественно (кривая для найденной модели находится выше, чем кривая для случайной модели)."
   ]
  },
  {
   "cell_type": "markdown",
   "metadata": {
    "id": "x95DDGfrZZ08"
   },
   "source": [
    "Измерим также значение доли правильных ответов (*accuracy*)."
   ]
  },
  {
   "cell_type": "code",
   "execution_count": 99,
   "metadata": {
    "colab": {
     "base_uri": "https://localhost:8080/"
    },
    "id": "JZsrI56CdSRv",
    "outputId": "e008d8fa-5f27-4b1d-8cca-45b8306fae71"
   },
   "outputs": [
    {
     "name": "stdout",
     "output_type": "stream",
     "text": [
      "test_accuracy = 0.8557213930348259\n"
     ]
    }
   ],
   "source": [
    "predictions_test = model.predict(features_test)\n",
    "test_accuracy = accuracy_score(target_test, predictions_test)\n",
    "print('test_accuracy =', test_accuracy)"
   ]
  },
  {
   "cell_type": "markdown",
   "metadata": {
    "id": "O5pyS1CLd9N2"
   },
   "source": [
    "Доля правильных ответов также имеет высокий показатель."
   ]
  },
  {
   "cell_type": "markdown",
   "metadata": {
    "id": "qdS2iHS6YAM0"
   },
   "source": [
    "Также стоит посмотреть на важность принаков, которые использовались при обучении модели."
   ]
  },
  {
   "cell_type": "code",
   "execution_count": 100,
   "metadata": {
    "colab": {
     "base_uri": "https://localhost:8080/"
    },
    "id": "dQkJA0wqYAri",
    "outputId": "ed84f41c-8909-42d5-eced-93cf384b1b55"
   },
   "outputs": [
    {
     "data": {
      "text/plain": [
       "array([ 0.87030979,  0.68360905,  0.29089144,  0.73797002,  5.09924051,\n",
       "        0.83182488,  1.53025942, 11.28704696, 12.67028208,  2.06162878,\n",
       "        0.47233348,  0.49394794,  0.35375615,  0.66228004,  0.55429077,\n",
       "        0.76620424,  0.35878233, 60.27534214])"
      ]
     },
     "execution_count": 100,
     "metadata": {
      "tags": []
     },
     "output_type": "execute_result"
    }
   ],
   "source": [
    "model.feature_importances_"
   ]
  },
  {
   "cell_type": "code",
   "execution_count": 101,
   "metadata": {
    "colab": {
     "base_uri": "https://localhost:8080/"
    },
    "id": "Z098QZlmaVcp",
    "outputId": "8e2fa14f-1a34-4e94-d4fb-733a5512faf0"
   },
   "outputs": [
    {
     "data": {
      "text/plain": [
       "['gender',\n",
       " 'senior_citizen',\n",
       " 'partner',\n",
       " 'dependents',\n",
       " 'type',\n",
       " 'paperless_billing',\n",
       " 'payment_method',\n",
       " 'monthly_charges',\n",
       " 'total_charges',\n",
       " 'internet_service',\n",
       " 'online_security',\n",
       " 'online_backup',\n",
       " 'device_protection',\n",
       " 'tech_support',\n",
       " 'streaming_tv',\n",
       " 'streaming_movies',\n",
       " 'multiple_lines',\n",
       " 'lifetime']"
      ]
     },
     "execution_count": 101,
     "metadata": {
      "tags": []
     },
     "output_type": "execute_result"
    }
   ],
   "source": [
    "model.feature_names_"
   ]
  },
  {
   "cell_type": "code",
   "execution_count": 102,
   "metadata": {
    "id": "J5fqPmjLbaai"
   },
   "outputs": [],
   "source": [
    "feature_importance_data = {'feature_name': model.feature_names_, 'importance': model.feature_importances_}\n",
    "feature_importance_df = pd.DataFrame(data=feature_importance_data)"
   ]
  },
  {
   "cell_type": "code",
   "execution_count": 103,
   "metadata": {
    "colab": {
     "base_uri": "https://localhost:8080/",
     "height": 407
    },
    "id": "2xFHdOJycGcW",
    "outputId": "9aa0b240-113c-4c92-bbed-e61434e6d29e"
   },
   "outputs": [
    {
     "data": {
      "text/plain": [
       "<matplotlib.axes._subplots.AxesSubplot at 0x7fbf4a47af10>"
      ]
     },
     "execution_count": 103,
     "metadata": {
      "tags": []
     },
     "output_type": "execute_result"
    },
    {
     "data": {
      "image/png": "[encoded data removed]",
      "text/plain": [
       "<Figure size 1080x432 with 1 Axes>"
      ]
     },
     "metadata": {
      "needs_background": "light",
      "tags": []
     },
     "output_type": "display_data"
    }
   ],
   "source": [
    "(feature_importance_df\n",
    "    .sort_values(by='importance')\n",
    "    .plot(x='feature_name', y='importance', kind='barh', color='orange', title='Feature importances for best model', legend=0, figsize=(15, 6))\n",
    ")"
   ]
  },
  {
   "cell_type": "markdown",
   "metadata": {
    "id": "eu7neyfSfMSy"
   },
   "source": [
    "Как видно из графика самыми важными признакаим являются количественные. Наибольшее влияние вносит время жизни клиента, а далее идут непосредственно  признаки, касающиеся цен за услуги. Стоит отметить, что также тип договора(оплата каждый месяц, договор на 1 год, договор на 2 года) также играет непоследнюю роль, на этот признак стоит обращать внимание."
   ]
  },
  {
   "cell_type": "markdown",
   "metadata": {
    "id": "GzjsZik6Gx3k"
   },
   "source": [
    "## Вывод"
   ]
  },
  {
   "cell_type": "markdown",
   "metadata": {
    "id": "SNjizXq0Gx3k"
   },
   "source": [
    "В данной работе мы исследовали данные оператора связи и  учились прогнозировать на них отток клиентов.<br>\n",
    "В первую очередь необходимо было подготовить данные. Мы ознакомились с ними, определили какие данные хранятся в таблицах, отметили категориальные и количесвтенные переменные. Далее мы объединили все данные в единую таблицу и избавились от пропусков, которые получились в результате этой операции.<br>\n",
    "После этого мы перешли к построению и обучению модели. Выделили целевой признак - ушел/не ушел клиент, на основе одной из колонок в наших данных. Далее мы удалили лишние столбцы и разделили данные на тренировочную, валидационную и тестовые выборки. После чего отмасштабировали количесвтенные признаки и устранили дисбаланс для целевого признака на тренировочной выборке. Затем, с помощью поиска по сетке подобрали оптимальные параметры для классификатора из библиотеки CatBoost, обучили модель. В итоге получили вероятности класса 1 для тестовой выборка и посчитали значение метрики auc-roc. Для тестовой выборки она составила 0.917. Также была посчтиана доля правильных ответов, ее значение получилось 0.856."
   ]
  }
 ],
 "metadata": {
  "accelerator": "GPU",
  "colab": {
   "collapsed_sections": [],
   "name": "Telecom_final_rev2.ipynb",
   "provenance": [],
   "toc_visible": true
  },
  "kernelspec": {
   "display_name": "Python 3",
   "language": "python",
   "name": "python3"
  },
  "language_info": {
   "codemirror_mode": {
    "name": "ipython",
    "version": 3
   },
   "file_extension": ".py",
   "mimetype": "text/x-python",
   "name": "python",
   "nbconvert_exporter": "python",
   "pygments_lexer": "ipython3",
   "version": "3.8.5"
  },
  "toc": {
   "base_numbering": 1,
   "nav_menu": {},
   "number_sections": false,
   "sideBar": true,
   "skip_h1_title": false,
   "title_cell": "Table of Contents",
   "title_sidebar": "Contents",
   "toc_cell": false,
   "toc_position": {
    "height": "calc(100% - 180px)",
    "left": "10px",
    "top": "150px",
    "width": "358.391px"
   },
   "toc_section_display": true,
   "toc_window_display": true
  }
 },
 "nbformat": 4,
 "nbformat_minor": 1
}
