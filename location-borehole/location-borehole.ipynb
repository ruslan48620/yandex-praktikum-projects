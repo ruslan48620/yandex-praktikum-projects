{
 "cells": [
  {
   "cell_type": "markdown",
   "metadata": {},
   "source": [
    "# Описание проекта"
   ]
  },
  {
   "cell_type": "markdown",
   "metadata": {},
   "source": [
    "В добывающей компании «ГлавРосГосНефть» нужно решить, где бурить новую скважину.\n",
    "\n",
    "Предоставлены пробы нефти в трёх регионах: в каждом 10 000 месторождений, где измерили качество нефти и объём её запасов. Построить модель машинного обучения, которая поможет определить регион, где добыча принесёт наибольшую прибыль. Проанализировать возможную прибыль и риски техникой *Bootstrap.*\n",
    "\n",
    "Шаги для выбора локации:\n",
    "\n",
    "- В избранном регионе ищут месторождения, для каждого определяют значения признаков;\n",
    "- Строят модель и оценивают объём запасов;\n",
    "- Выбирают месторождения с самым высокими оценками значений. Количество месторождений зависит от бюджета компании и стоимости разработки одной скважины;\n",
    "- Прибыль равна суммарной прибыли отобранных месторождений."
   ]
  },
  {
   "cell_type": "markdown",
   "metadata": {},
   "source": [
    "## Описание данных"
   ]
  },
  {
   "cell_type": "markdown",
   "metadata": {},
   "source": [
    "- *id* — уникальный идентификатор скважины\n",
    "- *f0*, *f1*, *f2* — три признака точек (неважно, что они означают, но сами признаки значимы)\n",
    "- *product* — объём запасов в скважине (тыс. баррелей)"
   ]
  },
  {
   "cell_type": "markdown",
   "metadata": {},
   "source": [
    "## Оглавление"
   ]
  },
  {
   "cell_type": "markdown",
   "metadata": {},
   "source": [
    "1. [Загрузка и подготовка данных](#step1)\n",
    "2. [Обучение и проверка модели](#step2)\n",
    "3. [Подготовка к расчёту прибыли](#step3)\n",
    "4. [Расчёт прибыли и рисков](#step4)\n",
    "5. [Общий вывод](#step5)"
   ]
  },
  {
   "cell_type": "markdown",
   "metadata": {},
   "source": [
    "<a id=\"step1\"></a>\n",
    "## 1. Загрузка и подготовка данных"
   ]
  },
  {
   "cell_type": "code",
   "execution_count": 1,
   "metadata": {},
   "outputs": [],
   "source": [
    "# Подключение библиотек, необходимых модулей и алгоритмов\n",
    "import pandas as pd\n",
    "import numpy as np\n",
    "import re\n",
    "import matplotlib.pyplot as plt\n",
    "\n",
    "from sklearn.model_selection import train_test_split\n",
    "from sklearn.linear_model import LinearRegression\n",
    "from sklearn.metrics import mean_squared_error\n",
    "from numpy.random import RandomState\n",
    "\n",
    "from IPython.display import display"
   ]
  },
  {
   "cell_type": "markdown",
   "metadata": {},
   "source": [
    "Определим константные значения, которые мы будем использовать в дальнейшем."
   ]
  },
  {
   "cell_type": "code",
   "execution_count": 2,
   "metadata": {},
   "outputs": [],
   "source": [
    "# количество регионов в данном исследовании\n",
    "NUM_REGIONS = 3\n",
    "\n",
    "# Параметр рандомизиции\n",
    "RAND_SEED = 12345"
   ]
  },
  {
   "cell_type": "markdown",
   "metadata": {},
   "source": [
    "Прочитаем данные из файлов, сохраним в соответствующие переменные и выведем первые 10 строк для каждой таблицы."
   ]
  },
  {
   "cell_type": "code",
   "execution_count": 3,
   "metadata": {},
   "outputs": [
    {
     "name": "stdout",
     "output_type": "stream",
     "text": [
      "Geo_data for region 0:\n"
     ]
    },
    {
     "data": {
      "text/html": [
       "<div>\n",
       "<style scoped>\n",
       "    .dataframe tbody tr th:only-of-type {\n",
       "        vertical-align: middle;\n",
       "    }\n",
       "\n",
       "    .dataframe tbody tr th {\n",
       "        vertical-align: top;\n",
       "    }\n",
       "\n",
       "    .dataframe thead th {\n",
       "        text-align: right;\n",
       "    }\n",
       "</style>\n",
       "<table border=\"1\" class=\"dataframe\">\n",
       "  <thead>\n",
       "    <tr style=\"text-align: right;\">\n",
       "      <th></th>\n",
       "      <th>id</th>\n",
       "      <th>f0</th>\n",
       "      <th>f1</th>\n",
       "      <th>f2</th>\n",
       "      <th>product</th>\n",
       "    </tr>\n",
       "  </thead>\n",
       "  <tbody>\n",
       "    <tr>\n",
       "      <td>0</td>\n",
       "      <td>txEyH</td>\n",
       "      <td>0.705745</td>\n",
       "      <td>-0.497823</td>\n",
       "      <td>1.221170</td>\n",
       "      <td>105.280062</td>\n",
       "    </tr>\n",
       "    <tr>\n",
       "      <td>1</td>\n",
       "      <td>2acmU</td>\n",
       "      <td>1.334711</td>\n",
       "      <td>-0.340164</td>\n",
       "      <td>4.365080</td>\n",
       "      <td>73.037750</td>\n",
       "    </tr>\n",
       "    <tr>\n",
       "      <td>2</td>\n",
       "      <td>409Wp</td>\n",
       "      <td>1.022732</td>\n",
       "      <td>0.151990</td>\n",
       "      <td>1.419926</td>\n",
       "      <td>85.265647</td>\n",
       "    </tr>\n",
       "    <tr>\n",
       "      <td>3</td>\n",
       "      <td>iJLyR</td>\n",
       "      <td>-0.032172</td>\n",
       "      <td>0.139033</td>\n",
       "      <td>2.978566</td>\n",
       "      <td>168.620776</td>\n",
       "    </tr>\n",
       "    <tr>\n",
       "      <td>4</td>\n",
       "      <td>Xdl7t</td>\n",
       "      <td>1.988431</td>\n",
       "      <td>0.155413</td>\n",
       "      <td>4.751769</td>\n",
       "      <td>154.036647</td>\n",
       "    </tr>\n",
       "    <tr>\n",
       "      <td>5</td>\n",
       "      <td>wX4Hy</td>\n",
       "      <td>0.969570</td>\n",
       "      <td>0.489775</td>\n",
       "      <td>-0.735383</td>\n",
       "      <td>64.741541</td>\n",
       "    </tr>\n",
       "    <tr>\n",
       "      <td>6</td>\n",
       "      <td>tL6pL</td>\n",
       "      <td>0.645075</td>\n",
       "      <td>0.530656</td>\n",
       "      <td>1.780266</td>\n",
       "      <td>49.055285</td>\n",
       "    </tr>\n",
       "    <tr>\n",
       "      <td>7</td>\n",
       "      <td>BYPU6</td>\n",
       "      <td>-0.400648</td>\n",
       "      <td>0.808337</td>\n",
       "      <td>-5.624670</td>\n",
       "      <td>72.943292</td>\n",
       "    </tr>\n",
       "    <tr>\n",
       "      <td>8</td>\n",
       "      <td>j9Oui</td>\n",
       "      <td>0.643105</td>\n",
       "      <td>-0.551583</td>\n",
       "      <td>2.372141</td>\n",
       "      <td>113.356160</td>\n",
       "    </tr>\n",
       "    <tr>\n",
       "      <td>9</td>\n",
       "      <td>OLuZU</td>\n",
       "      <td>2.173381</td>\n",
       "      <td>0.563698</td>\n",
       "      <td>9.441852</td>\n",
       "      <td>127.910945</td>\n",
       "    </tr>\n",
       "  </tbody>\n",
       "</table>\n",
       "</div>"
      ],
      "text/plain": [
       "      id        f0        f1        f2     product\n",
       "0  txEyH  0.705745 -0.497823  1.221170  105.280062\n",
       "1  2acmU  1.334711 -0.340164  4.365080   73.037750\n",
       "2  409Wp  1.022732  0.151990  1.419926   85.265647\n",
       "3  iJLyR -0.032172  0.139033  2.978566  168.620776\n",
       "4  Xdl7t  1.988431  0.155413  4.751769  154.036647\n",
       "5  wX4Hy  0.969570  0.489775 -0.735383   64.741541\n",
       "6  tL6pL  0.645075  0.530656  1.780266   49.055285\n",
       "7  BYPU6 -0.400648  0.808337 -5.624670   72.943292\n",
       "8  j9Oui  0.643105 -0.551583  2.372141  113.356160\n",
       "9  OLuZU  2.173381  0.563698  9.441852  127.910945"
      ]
     },
     "metadata": {},
     "output_type": "display_data"
    },
    {
     "name": "stdout",
     "output_type": "stream",
     "text": [
      "------------------------------------------------------------\n",
      "Geo_data for region 1:\n"
     ]
    },
    {
     "data": {
      "text/html": [
       "<div>\n",
       "<style scoped>\n",
       "    .dataframe tbody tr th:only-of-type {\n",
       "        vertical-align: middle;\n",
       "    }\n",
       "\n",
       "    .dataframe tbody tr th {\n",
       "        vertical-align: top;\n",
       "    }\n",
       "\n",
       "    .dataframe thead th {\n",
       "        text-align: right;\n",
       "    }\n",
       "</style>\n",
       "<table border=\"1\" class=\"dataframe\">\n",
       "  <thead>\n",
       "    <tr style=\"text-align: right;\">\n",
       "      <th></th>\n",
       "      <th>id</th>\n",
       "      <th>f0</th>\n",
       "      <th>f1</th>\n",
       "      <th>f2</th>\n",
       "      <th>product</th>\n",
       "    </tr>\n",
       "  </thead>\n",
       "  <tbody>\n",
       "    <tr>\n",
       "      <td>0</td>\n",
       "      <td>kBEdx</td>\n",
       "      <td>-15.001348</td>\n",
       "      <td>-8.276000</td>\n",
       "      <td>-0.005876</td>\n",
       "      <td>3.179103</td>\n",
       "    </tr>\n",
       "    <tr>\n",
       "      <td>1</td>\n",
       "      <td>62mP7</td>\n",
       "      <td>14.272088</td>\n",
       "      <td>-3.475083</td>\n",
       "      <td>0.999183</td>\n",
       "      <td>26.953261</td>\n",
       "    </tr>\n",
       "    <tr>\n",
       "      <td>2</td>\n",
       "      <td>vyE1P</td>\n",
       "      <td>6.263187</td>\n",
       "      <td>-5.948386</td>\n",
       "      <td>5.001160</td>\n",
       "      <td>134.766305</td>\n",
       "    </tr>\n",
       "    <tr>\n",
       "      <td>3</td>\n",
       "      <td>KcrkZ</td>\n",
       "      <td>-13.081196</td>\n",
       "      <td>-11.506057</td>\n",
       "      <td>4.999415</td>\n",
       "      <td>137.945408</td>\n",
       "    </tr>\n",
       "    <tr>\n",
       "      <td>4</td>\n",
       "      <td>AHL4O</td>\n",
       "      <td>12.702195</td>\n",
       "      <td>-8.147433</td>\n",
       "      <td>5.004363</td>\n",
       "      <td>134.766305</td>\n",
       "    </tr>\n",
       "    <tr>\n",
       "      <td>5</td>\n",
       "      <td>HHckp</td>\n",
       "      <td>-3.327590</td>\n",
       "      <td>-2.205276</td>\n",
       "      <td>3.003647</td>\n",
       "      <td>84.038886</td>\n",
       "    </tr>\n",
       "    <tr>\n",
       "      <td>6</td>\n",
       "      <td>h5Ujo</td>\n",
       "      <td>-11.142655</td>\n",
       "      <td>-10.133399</td>\n",
       "      <td>4.002382</td>\n",
       "      <td>110.992147</td>\n",
       "    </tr>\n",
       "    <tr>\n",
       "      <td>7</td>\n",
       "      <td>muH9x</td>\n",
       "      <td>4.234715</td>\n",
       "      <td>-0.001354</td>\n",
       "      <td>2.004588</td>\n",
       "      <td>53.906522</td>\n",
       "    </tr>\n",
       "    <tr>\n",
       "      <td>8</td>\n",
       "      <td>YiRkx</td>\n",
       "      <td>13.355129</td>\n",
       "      <td>-0.332068</td>\n",
       "      <td>4.998647</td>\n",
       "      <td>134.766305</td>\n",
       "    </tr>\n",
       "    <tr>\n",
       "      <td>9</td>\n",
       "      <td>jG6Gi</td>\n",
       "      <td>1.069227</td>\n",
       "      <td>-11.025667</td>\n",
       "      <td>4.997844</td>\n",
       "      <td>137.945408</td>\n",
       "    </tr>\n",
       "  </tbody>\n",
       "</table>\n",
       "</div>"
      ],
      "text/plain": [
       "      id         f0         f1        f2     product\n",
       "0  kBEdx -15.001348  -8.276000 -0.005876    3.179103\n",
       "1  62mP7  14.272088  -3.475083  0.999183   26.953261\n",
       "2  vyE1P   6.263187  -5.948386  5.001160  134.766305\n",
       "3  KcrkZ -13.081196 -11.506057  4.999415  137.945408\n",
       "4  AHL4O  12.702195  -8.147433  5.004363  134.766305\n",
       "5  HHckp  -3.327590  -2.205276  3.003647   84.038886\n",
       "6  h5Ujo -11.142655 -10.133399  4.002382  110.992147\n",
       "7  muH9x   4.234715  -0.001354  2.004588   53.906522\n",
       "8  YiRkx  13.355129  -0.332068  4.998647  134.766305\n",
       "9  jG6Gi   1.069227 -11.025667  4.997844  137.945408"
      ]
     },
     "metadata": {},
     "output_type": "display_data"
    },
    {
     "name": "stdout",
     "output_type": "stream",
     "text": [
      "------------------------------------------------------------\n",
      "Geo_data for region 2:\n"
     ]
    },
    {
     "data": {
      "text/html": [
       "<div>\n",
       "<style scoped>\n",
       "    .dataframe tbody tr th:only-of-type {\n",
       "        vertical-align: middle;\n",
       "    }\n",
       "\n",
       "    .dataframe tbody tr th {\n",
       "        vertical-align: top;\n",
       "    }\n",
       "\n",
       "    .dataframe thead th {\n",
       "        text-align: right;\n",
       "    }\n",
       "</style>\n",
       "<table border=\"1\" class=\"dataframe\">\n",
       "  <thead>\n",
       "    <tr style=\"text-align: right;\">\n",
       "      <th></th>\n",
       "      <th>id</th>\n",
       "      <th>f0</th>\n",
       "      <th>f1</th>\n",
       "      <th>f2</th>\n",
       "      <th>product</th>\n",
       "    </tr>\n",
       "  </thead>\n",
       "  <tbody>\n",
       "    <tr>\n",
       "      <td>0</td>\n",
       "      <td>fwXo0</td>\n",
       "      <td>-1.146987</td>\n",
       "      <td>0.963328</td>\n",
       "      <td>-0.828965</td>\n",
       "      <td>27.758673</td>\n",
       "    </tr>\n",
       "    <tr>\n",
       "      <td>1</td>\n",
       "      <td>WJtFt</td>\n",
       "      <td>0.262778</td>\n",
       "      <td>0.269839</td>\n",
       "      <td>-2.530187</td>\n",
       "      <td>56.069697</td>\n",
       "    </tr>\n",
       "    <tr>\n",
       "      <td>2</td>\n",
       "      <td>ovLUW</td>\n",
       "      <td>0.194587</td>\n",
       "      <td>0.289035</td>\n",
       "      <td>-5.586433</td>\n",
       "      <td>62.871910</td>\n",
       "    </tr>\n",
       "    <tr>\n",
       "      <td>3</td>\n",
       "      <td>q6cA6</td>\n",
       "      <td>2.236060</td>\n",
       "      <td>-0.553760</td>\n",
       "      <td>0.930038</td>\n",
       "      <td>114.572842</td>\n",
       "    </tr>\n",
       "    <tr>\n",
       "      <td>4</td>\n",
       "      <td>WPMUX</td>\n",
       "      <td>-0.515993</td>\n",
       "      <td>1.716266</td>\n",
       "      <td>5.899011</td>\n",
       "      <td>149.600746</td>\n",
       "    </tr>\n",
       "    <tr>\n",
       "      <td>5</td>\n",
       "      <td>LzZXx</td>\n",
       "      <td>-0.758092</td>\n",
       "      <td>0.710691</td>\n",
       "      <td>2.585887</td>\n",
       "      <td>90.222465</td>\n",
       "    </tr>\n",
       "    <tr>\n",
       "      <td>6</td>\n",
       "      <td>WBHRv</td>\n",
       "      <td>-0.574891</td>\n",
       "      <td>0.317727</td>\n",
       "      <td>1.773745</td>\n",
       "      <td>45.641478</td>\n",
       "    </tr>\n",
       "    <tr>\n",
       "      <td>7</td>\n",
       "      <td>XO8fn</td>\n",
       "      <td>-1.906649</td>\n",
       "      <td>-2.458350</td>\n",
       "      <td>-0.177097</td>\n",
       "      <td>72.480640</td>\n",
       "    </tr>\n",
       "    <tr>\n",
       "      <td>8</td>\n",
       "      <td>ybmQ5</td>\n",
       "      <td>1.776292</td>\n",
       "      <td>-0.279356</td>\n",
       "      <td>3.004156</td>\n",
       "      <td>106.616832</td>\n",
       "    </tr>\n",
       "    <tr>\n",
       "      <td>9</td>\n",
       "      <td>OilcN</td>\n",
       "      <td>-1.214452</td>\n",
       "      <td>-0.439314</td>\n",
       "      <td>5.922514</td>\n",
       "      <td>52.954532</td>\n",
       "    </tr>\n",
       "  </tbody>\n",
       "</table>\n",
       "</div>"
      ],
      "text/plain": [
       "      id        f0        f1        f2     product\n",
       "0  fwXo0 -1.146987  0.963328 -0.828965   27.758673\n",
       "1  WJtFt  0.262778  0.269839 -2.530187   56.069697\n",
       "2  ovLUW  0.194587  0.289035 -5.586433   62.871910\n",
       "3  q6cA6  2.236060 -0.553760  0.930038  114.572842\n",
       "4  WPMUX -0.515993  1.716266  5.899011  149.600746\n",
       "5  LzZXx -0.758092  0.710691  2.585887   90.222465\n",
       "6  WBHRv -0.574891  0.317727  1.773745   45.641478\n",
       "7  XO8fn -1.906649 -2.458350 -0.177097   72.480640\n",
       "8  ybmQ5  1.776292 -0.279356  3.004156  106.616832\n",
       "9  OilcN -1.214452 -0.439314  5.922514   52.954532"
      ]
     },
     "metadata": {},
     "output_type": "display_data"
    },
    {
     "name": "stdout",
     "output_type": "stream",
     "text": [
      "------------------------------------------------------------\n"
     ]
    }
   ],
   "source": [
    "geo_data = []\n",
    "for i in range(NUM_REGIONS):\n",
    "    geo_data.append(pd.read_csv('/datasets/geo_data_' + str(i) + '.csv'))\n",
    "    print('Geo_data for region {}:'.format(i))\n",
    "    display(geo_data[i].head(10))\n",
    "    print(60 * '-')"
   ]
  },
  {
   "cell_type": "markdown",
   "metadata": {},
   "source": [
    "Теперь, когда мы сохранили данные, посмотрим на общую информацию для каждой таблицы"
   ]
  },
  {
   "cell_type": "code",
   "execution_count": 4,
   "metadata": {},
   "outputs": [
    {
     "name": "stdout",
     "output_type": "stream",
     "text": [
      "Region 0:\n",
      "Index(['id', 'f0', 'f1', 'f2', 'product'], dtype='object')\n",
      "------------------------------\n",
      "<class 'pandas.core.frame.DataFrame'>\n",
      "RangeIndex: 100000 entries, 0 to 99999\n",
      "Data columns (total 5 columns):\n",
      "id         100000 non-null object\n",
      "f0         100000 non-null float64\n",
      "f1         100000 non-null float64\n",
      "f2         100000 non-null float64\n",
      "product    100000 non-null float64\n",
      "dtypes: float64(4), object(1)\n",
      "memory usage: 3.8+ MB\n"
     ]
    },
    {
     "data": {
      "text/plain": [
       "None"
      ]
     },
     "metadata": {},
     "output_type": "display_data"
    },
    {
     "name": "stdout",
     "output_type": "stream",
     "text": [
      "////////////////////////////////////////////////////////////\n",
      "Region 1:\n",
      "Index(['id', 'f0', 'f1', 'f2', 'product'], dtype='object')\n",
      "------------------------------\n",
      "<class 'pandas.core.frame.DataFrame'>\n",
      "RangeIndex: 100000 entries, 0 to 99999\n",
      "Data columns (total 5 columns):\n",
      "id         100000 non-null object\n",
      "f0         100000 non-null float64\n",
      "f1         100000 non-null float64\n",
      "f2         100000 non-null float64\n",
      "product    100000 non-null float64\n",
      "dtypes: float64(4), object(1)\n",
      "memory usage: 3.8+ MB\n"
     ]
    },
    {
     "data": {
      "text/plain": [
       "None"
      ]
     },
     "metadata": {},
     "output_type": "display_data"
    },
    {
     "name": "stdout",
     "output_type": "stream",
     "text": [
      "////////////////////////////////////////////////////////////\n",
      "Region 2:\n",
      "Index(['id', 'f0', 'f1', 'f2', 'product'], dtype='object')\n",
      "------------------------------\n",
      "<class 'pandas.core.frame.DataFrame'>\n",
      "RangeIndex: 100000 entries, 0 to 99999\n",
      "Data columns (total 5 columns):\n",
      "id         100000 non-null object\n",
      "f0         100000 non-null float64\n",
      "f1         100000 non-null float64\n",
      "f2         100000 non-null float64\n",
      "product    100000 non-null float64\n",
      "dtypes: float64(4), object(1)\n",
      "memory usage: 3.8+ MB\n"
     ]
    },
    {
     "data": {
      "text/plain": [
       "None"
      ]
     },
     "metadata": {},
     "output_type": "display_data"
    },
    {
     "name": "stdout",
     "output_type": "stream",
     "text": [
      "////////////////////////////////////////////////////////////\n"
     ]
    }
   ],
   "source": [
    "for i in range(NUM_REGIONS):\n",
    "    print('Region {}:'.format(i))\n",
    "    print(geo_data[i].columns)\n",
    "    print(30 * '-')\n",
    "    display(geo_data[i].info())\n",
    "    print(60 * '/')"
   ]
  },
  {
   "cell_type": "markdown",
   "metadata": {},
   "source": [
    "### Вывод"
   ]
  },
  {
   "cell_type": "markdown",
   "metadata": {},
   "source": [
    "На данном шаге, мы загрузили и ознакомились с данными. Проверили названия столбцов на наличие лишних пробелов, нелатинских и заглавных символов. Все названия корректны, изменения не требуется. Также была проверена общая информация по таблицам - типы данных определены правильно, пропусков не наблюдается. Можно переходить к работе с моделью."
   ]
  },
  {
   "cell_type": "markdown",
   "metadata": {},
   "source": [
    "<a id=\"step2\"></a>\n",
    "## 2. Обучение и проверка модели"
   ]
  },
  {
   "cell_type": "markdown",
   "metadata": {},
   "source": [
    "На данном этапе нам необходимо обучить модель и проверить ее работу. Для этих целей нам нужно разделить наши данные на обучающую и валидационную выборки. Перед этим необходимо выделить целевой признак. В нашем случае им является `product` - объем запасов сырья в скважине. Предсказывать мы будем по трем признакам `f0`, `f1`, `f2`. Исходя из условий задачи, уникальный идентификатор скважины нам здесь не нужен, поэтому мы его удалим из признаков."
   ]
  },
  {
   "cell_type": "code",
   "execution_count": 5,
   "metadata": {},
   "outputs": [],
   "source": [
    "# Подготовка признаков\n",
    "features = []\n",
    "target = []\n",
    "for i in range(NUM_REGIONS):\n",
    "    features.append(geo_data[i].drop(['id', 'product'], axis=1))\n",
    "    target.append(geo_data[i]['product'])"
   ]
  },
  {
   "cell_type": "code",
   "execution_count": 6,
   "metadata": {},
   "outputs": [],
   "source": [
    "# Разделим на выборки\n",
    "features_train = []\n",
    "target_train = []\n",
    "\n",
    "features_valid = []\n",
    "target_valid = []\n",
    "\n",
    "for i in range(NUM_REGIONS):\n",
    "    cur_features_train, cur_features_valid, cur_target_train, cur_target_valid = train_test_split(\n",
    "            features[i], target[i], test_size=0.25, random_state=RAND_SEED)\n",
    "    \n",
    "    features_train.append(cur_features_train)\n",
    "    features_valid.append(cur_features_valid)\n",
    "    target_train.append(cur_target_train)\n",
    "    target_valid.append(cur_target_valid)"
   ]
  },
  {
   "cell_type": "code",
   "execution_count": 7,
   "metadata": {},
   "outputs": [
    {
     "data": {
      "text/html": [
       "<div>\n",
       "<style scoped>\n",
       "    .dataframe tbody tr th:only-of-type {\n",
       "        vertical-align: middle;\n",
       "    }\n",
       "\n",
       "    .dataframe tbody tr th {\n",
       "        vertical-align: top;\n",
       "    }\n",
       "\n",
       "    .dataframe thead th {\n",
       "        text-align: right;\n",
       "    }\n",
       "</style>\n",
       "<table border=\"1\" class=\"dataframe\">\n",
       "  <thead>\n",
       "    <tr style=\"text-align: right;\">\n",
       "      <th></th>\n",
       "      <th>f0</th>\n",
       "      <th>f1</th>\n",
       "      <th>f2</th>\n",
       "    </tr>\n",
       "  </thead>\n",
       "  <tbody>\n",
       "    <tr>\n",
       "      <td>27212</td>\n",
       "      <td>0.022450</td>\n",
       "      <td>0.951034</td>\n",
       "      <td>2.197333</td>\n",
       "    </tr>\n",
       "    <tr>\n",
       "      <td>7866</td>\n",
       "      <td>1.766731</td>\n",
       "      <td>0.007835</td>\n",
       "      <td>6.436602</td>\n",
       "    </tr>\n",
       "    <tr>\n",
       "      <td>62041</td>\n",
       "      <td>0.724514</td>\n",
       "      <td>0.666063</td>\n",
       "      <td>1.840177</td>\n",
       "    </tr>\n",
       "    <tr>\n",
       "      <td>70185</td>\n",
       "      <td>-1.104181</td>\n",
       "      <td>0.255268</td>\n",
       "      <td>2.026156</td>\n",
       "    </tr>\n",
       "    <tr>\n",
       "      <td>82230</td>\n",
       "      <td>-0.635263</td>\n",
       "      <td>0.747990</td>\n",
       "      <td>6.643327</td>\n",
       "    </tr>\n",
       "  </tbody>\n",
       "</table>\n",
       "</div>"
      ],
      "text/plain": [
       "             f0        f1        f2\n",
       "27212  0.022450  0.951034  2.197333\n",
       "7866   1.766731  0.007835  6.436602\n",
       "62041  0.724514  0.666063  1.840177\n",
       "70185 -1.104181  0.255268  2.026156\n",
       "82230 -0.635263  0.747990  6.643327"
      ]
     },
     "execution_count": 7,
     "metadata": {},
     "output_type": "execute_result"
    }
   ],
   "source": [
    "features_train[0].head()"
   ]
  },
  {
   "cell_type": "markdown",
   "metadata": {},
   "source": [
    "Далее для каждого региона обучим модель и сохраним предсказания для валидационной выборке."
   ]
  },
  {
   "cell_type": "code",
   "execution_count": 8,
   "metadata": {},
   "outputs": [],
   "source": [
    "predicted_valid = []\n",
    "for i in range(NUM_REGIONS):\n",
    "    model = LinearRegression()\n",
    "    model.fit(features_train[i], target_train[i])\n",
    "    cur_predicted_valid = model.predict(features_valid[i])\n",
    "    cur_predicted_valid = pd.Series(cur_predicted_valid, index=target_valid[i].index)\n",
    "    predicted_valid.append(cur_predicted_valid)"
   ]
  },
  {
   "cell_type": "code",
   "execution_count": 9,
   "metadata": {},
   "outputs": [
    {
     "name": "stdout",
     "output_type": "stream",
     "text": [
      "Region 0:\n",
      "predicted_valid:\n"
     ]
    },
    {
     "data": {
      "text/plain": [
       "71751    95.894952\n",
       "80493    77.572583\n",
       "2655     77.892640\n",
       "53233    90.175134\n",
       "91141    70.510088\n",
       "dtype: float64"
      ]
     },
     "metadata": {},
     "output_type": "display_data"
    },
    {
     "name": "stdout",
     "output_type": "stream",
     "text": [
      "------------------------------\n",
      "target_valid:\n"
     ]
    },
    {
     "data": {
      "text/plain": [
       "71751     10.038645\n",
       "80493    114.551489\n",
       "2655     132.603635\n",
       "53233    169.072125\n",
       "91141    122.325180\n",
       "Name: product, dtype: float64"
      ]
     },
     "metadata": {},
     "output_type": "display_data"
    },
    {
     "name": "stdout",
     "output_type": "stream",
     "text": [
      "////////////////////////////////////////////////////////////\n",
      "Region 1:\n",
      "predicted_valid:\n"
     ]
    },
    {
     "data": {
      "text/plain": [
       "71751    82.663314\n",
       "80493    54.431786\n",
       "2655     29.748760\n",
       "53233    53.552133\n",
       "91141     1.243856\n",
       "dtype: float64"
      ]
     },
     "metadata": {},
     "output_type": "display_data"
    },
    {
     "name": "stdout",
     "output_type": "stream",
     "text": [
      "------------------------------\n",
      "target_valid:\n"
     ]
    },
    {
     "data": {
      "text/plain": [
       "71751    80.859783\n",
       "80493    53.906522\n",
       "2655     30.132364\n",
       "53233    53.906522\n",
       "91141     0.000000\n",
       "Name: product, dtype: float64"
      ]
     },
     "metadata": {},
     "output_type": "display_data"
    },
    {
     "name": "stdout",
     "output_type": "stream",
     "text": [
      "////////////////////////////////////////////////////////////\n",
      "Region 2:\n",
      "predicted_valid:\n"
     ]
    },
    {
     "data": {
      "text/plain": [
       "71751     93.599633\n",
       "80493     75.105159\n",
       "2655      90.066809\n",
       "53233    105.162375\n",
       "91141    115.303310\n",
       "dtype: float64"
      ]
     },
     "metadata": {},
     "output_type": "display_data"
    },
    {
     "name": "stdout",
     "output_type": "stream",
     "text": [
      "------------------------------\n",
      "target_valid:\n"
     ]
    },
    {
     "data": {
      "text/plain": [
       "71751     61.212375\n",
       "80493     41.850118\n",
       "2655      57.776581\n",
       "53233    100.053761\n",
       "91141    109.897122\n",
       "Name: product, dtype: float64"
      ]
     },
     "metadata": {},
     "output_type": "display_data"
    },
    {
     "name": "stdout",
     "output_type": "stream",
     "text": [
      "////////////////////////////////////////////////////////////\n"
     ]
    }
   ],
   "source": [
    "# Выведем получившиеся результаты\n",
    "for i in range(NUM_REGIONS):\n",
    "    print('Region {}:'.format(i))\n",
    "    print('predicted_valid:')\n",
    "    display(predicted_valid[i][0:5])\n",
    "    print(30 * '-')\n",
    "    print('target_valid:')\n",
    "    display(target_valid[i].head())\n",
    "    print(60 * '/')"
   ]
  },
  {
   "cell_type": "markdown",
   "metadata": {},
   "source": [
    "Для каждой региона посчитаем средний запас предсказанного сырья и RMSE полученной модели."
   ]
  },
  {
   "cell_type": "code",
   "execution_count": 10,
   "metadata": {},
   "outputs": [
    {
     "name": "stdout",
     "output_type": "stream",
     "text": [
      "mean_predicted_valid[0] = 92.59256778438038\n",
      "rmse_model[0] = 37.5794217150813\n",
      "------------------------------------------------------------\n",
      "mean_predicted_valid[1] = 68.728546895446\n",
      "rmse_model[1] = 0.893099286775616\n",
      "------------------------------------------------------------\n",
      "mean_predicted_valid[2] = 94.96504596800489\n",
      "rmse_model[2] = 40.02970873393434\n",
      "------------------------------------------------------------\n"
     ]
    }
   ],
   "source": [
    "mean_predicted_valid = []\n",
    "rmse_model = []\n",
    "for i in range(NUM_REGIONS):\n",
    "    # посчитаем среднее значение предсказанного сырья\n",
    "    mean_predicted_valid.append(predicted_valid[i].mean())\n",
    "    print('mean_predicted_valid[{}] = {}'.format(i, mean_predicted_valid[i]))\n",
    "    \n",
    "    # посчитаем значение RMSE (квадратный корень из средней квадратичной ошибки) через вычисление MSE\n",
    "    mse = mean_squared_error(target_valid[i], predicted_valid[i])\n",
    "    rmse_model.append(mse ** 0.5)\n",
    "    print('rmse_model[{}] = {}'.format(i, rmse_model[i]))\n",
    "    \n",
    "    print(60 * '-')"
   ]
  },
  {
   "cell_type": "markdown",
   "metadata": {},
   "source": [
    "### Вывод"
   ]
  },
  {
   "cell_type": "markdown",
   "metadata": {},
   "source": [
    "На данном этапе мы выделили целевой признак, котроый мы хотим научиться предсказывать, а также значимые признаки для такого предсказания. Для каждого региона разделили выборки на обучающую и валидационную. Обучили каждую из моделей по алгоритму линейной регресии и сохранили предсказания. Далее посчитали среднее значения этих предсказаний и значение RMSE для каждой модели. Для линейной регресии, чем меньше средняя квадратичная ошибка тем лучше. Как видно из полученных результатов, самой качественной получилась модель для региона 1, значение RMSE для которой равно 0.89. Для остальных моделей видно, что RMSE уже больше по значению, следственно и правильный ответ также больше отличается от предсказания."
   ]
  },
  {
   "cell_type": "markdown",
   "metadata": {},
   "source": [
    "<a id=\"step3\"></a>\n",
    "## 3. Подготовка к расчёту прибыли"
   ]
  },
  {
   "cell_type": "markdown",
   "metadata": {},
   "source": [
    "На данном этапе подготовим данные для расчета прибыли. Сохраним ключевые значения в отдельных переменных."
   ]
  },
  {
   "cell_type": "code",
   "execution_count": 11,
   "metadata": {},
   "outputs": [],
   "source": [
    "# количество исследуемых точек при разведке региона\n",
    "NUM_FIELD_DEVELOP = 500\n",
    "# количество лучших точек для разработки\n",
    "NUM_TOP_FIELD_DEVELOP = 200\n",
    "# бюджет на разработку скажин в регионе (10 млрд руб = 10 000 000 000 руб = 10 000 000 тыс. руб = 10 * 10**6 тыс. руб)\n",
    "BUDGET_FOR_REGION = 10 * 10**6\n",
    "# доход с каждой единицы продукта (450 тыс. руб, поскольку объём указан в тысячах баррелей)\n",
    "INCOME_PER_PRODUCT_UNIT = 450\n",
    "# граница вероятности убытков\n",
    "PROB_LOSS_BOUND = 0.025"
   ]
  },
  {
   "cell_type": "markdown",
   "metadata": {},
   "source": [
    "Необходимо рассчитать достаточный объём сырья для безубыточной разработки новой скважины. В регионе у нас разрабатываются 200 скважин. Чтобы каждая скважина была безубыточна, нужно чтобы доход со всего сырья был равен бюджету на разработку скажин в регионе.<br>\n",
    "В итоге получем:<br>\n",
    "`количество скважин для разработки` * (`доход с каждой единицы продукта` * `объем сырья`) == `бюджет на разработку скажин`<br>\n",
    "200 * (450 * x) == 10 000 000"
   ]
  },
  {
   "cell_type": "code",
   "execution_count": 12,
   "metadata": {},
   "outputs": [
    {
     "name": "stdout",
     "output_type": "stream",
     "text": [
      "sufficient_raw_amount = 111.11111111111111\n"
     ]
    }
   ],
   "source": [
    "sufficient_raw_amount = (BUDGET_FOR_REGION / NUM_TOP_FIELD_DEVELOP) / INCOME_PER_PRODUCT_UNIT\n",
    "print('sufficient_raw_amount =', sufficient_raw_amount)"
   ]
  },
  {
   "cell_type": "code",
   "execution_count": 13,
   "metadata": {},
   "outputs": [
    {
     "name": "stdout",
     "output_type": "stream",
     "text": [
      "mean_target_valid[0] = 92.07859674082927\n",
      "mean_target_valid[1] = 68.72313602435997\n",
      "mean_target_valid[2] = 94.88423280885438\n"
     ]
    }
   ],
   "source": [
    "mean_target_valid = []\n",
    "\n",
    "# посчитаем средний запас сырья в каждом регионе\n",
    "for i in range(NUM_REGIONS):\n",
    "    mean_target_valid.append(target_valid[i].mean())\n",
    "    print('mean_target_valid[{}] = {}'.format(i, mean_target_valid[i]))"
   ]
  },
  {
   "cell_type": "markdown",
   "metadata": {},
   "source": [
    "### Вывод"
   ]
  },
  {
   "cell_type": "markdown",
   "metadata": {},
   "source": [
    "На данном этапе мы выполняли теоретический расчет достаточного объема сырья для безубыточной разработки новой скажины. В итоге получилось, что в среднем должно добываться порядка 111.11 тыс. баррелей. Для наших регионов средние значения сырья составляют 92.08, 68.72, 94.88. Видно, что в первом и третьем регионах данный показатель ближе минимальному теоритическому. Во втором регионе, вероятность найти скважины с нужным количеством проблемотичнее - среднее меньше практически на 25 пунктов."
   ]
  },
  {
   "cell_type": "markdown",
   "metadata": {},
   "source": [
    "<a id=\"step4\"></a>\n",
    "## 4. Расчёт прибыли и рисков "
   ]
  },
  {
   "cell_type": "markdown",
   "metadata": {},
   "source": [
    "Сейчас напишем функцию для расчета прибыли по выбранным скважинам и предсказаниями модели. Для этого выберем скважины с максимальными значениями предсказаний, просуммируем целевые значения объёма сырья, соответствующие этим предсказаниям и рассчитаем прибыль для полученного объёма сырья."
   ]
  },
  {
   "cell_type": "code",
   "execution_count": 14,
   "metadata": {},
   "outputs": [],
   "source": [
    "def calc_profit(target, predictions):\n",
    "    sorted_predictions = predictions.sort_values(ascending=False)\n",
    "    selected = target[sorted_predictions.index][:NUM_TOP_FIELD_DEVELOP]\n",
    "    revenue = selected.sum() * INCOME_PER_PRODUCT_UNIT\n",
    "    profit = revenue - BUDGET_FOR_REGION\n",
    "    return profit"
   ]
  },
  {
   "cell_type": "markdown",
   "metadata": {},
   "source": [
    "Проверим работу функции для наших регионов."
   ]
  },
  {
   "cell_type": "code",
   "execution_count": 15,
   "metadata": {},
   "outputs": [
    {
     "name": "stdout",
     "output_type": "stream",
     "text": [
      "Predicted profit for region 0: 3320826.0431398526\n",
      "Predicted profit for region 1: 2415086.6966815125\n",
      "Predicted profit for region 2: 2710349.9635998327\n"
     ]
    }
   ],
   "source": [
    "profit_region = []\n",
    "for i in range(NUM_REGIONS):\n",
    "    profit_region.append(calc_profit(target_valid[i], predicted_valid[i]))\n",
    "    print('Predicted profit for region {}: {}'.format(i, profit_region[i]))"
   ]
  },
  {
   "cell_type": "markdown",
   "metadata": {},
   "source": [
    "Функцию мы написали. Теперь перейдем к подсчету рисков и прибыли для каждого региона с помощью техники Bootstrap."
   ]
  },
  {
   "cell_type": "markdown",
   "metadata": {},
   "source": [
    "Чтобы всегда получать разные выборки при Bootstrap, необходимо использовать объект RandomState."
   ]
  },
  {
   "cell_type": "code",
   "execution_count": 16,
   "metadata": {},
   "outputs": [],
   "source": [
    "state = np.random.RandomState(12345)"
   ]
  },
  {
   "cell_type": "code",
   "execution_count": 17,
   "metadata": {},
   "outputs": [
    {
     "name": "stdout",
     "output_type": "stream",
     "text": [
      "Mean profit for region 0: 425938.5269105924\n",
      "Lower bound of confidence interval:  -102090.09483793723\n",
      "Upeer bound of confidence interval:  947976.3533583689\n",
      "Risk of loss:  0.06\n",
      "------------------------------------------------------------\n",
      "Mean profit for region 1: 518259.493697325\n",
      "Lower bound of confidence interval:  128123.23143308601\n",
      "Upeer bound of confidence interval:  953612.9820669085\n",
      "Risk of loss:  0.003\n",
      "------------------------------------------------------------\n",
      "Mean profit for region 2: 420194.00534405006\n",
      "Lower bound of confidence interval:  -115852.60916001163\n",
      "Upeer bound of confidence interval:  989629.9398445741\n",
      "Risk of loss:  0.062\n",
      "------------------------------------------------------------\n"
     ]
    }
   ],
   "source": [
    "reg_mean_profits = []\n",
    "reg_risk_loss = []\n",
    "\n",
    "# Рассмотрим для каждого региона\n",
    "for cur_reg in range(NUM_REGIONS):\n",
    "    profits = []\n",
    "    # по 1000 выборок в регионе\n",
    "    for i in range(1000):\n",
    "        # для разведки региона исследуем 500 точек\n",
    "        target_valid_subsample = target_valid[cur_reg].sample(n=NUM_FIELD_DEVELOP, replace=True, random_state=state)\n",
    "        pred_valid_subsample = predicted_valid[cur_reg][target_valid_subsample.index]\n",
    "        \n",
    "        # посчитаем прибыли для всех выборок\n",
    "        cur_profit = calc_profit(target_valid_subsample, pred_valid_subsample)\n",
    "        profits.append(cur_profit)\n",
    "    \n",
    "    # перведем в тип данных Series\n",
    "    profits = pd.Series(profits)\n",
    "    \n",
    "    # посчитаем среднюю прибыль\n",
    "    reg_mean_profits.append(profits.mean())\n",
    "    print('Mean profit for region {}: {}'.format(cur_reg, reg_mean_profits[cur_reg]))\n",
    "    \n",
    "    # найдем 95% доверительный интервал\n",
    "    lower = profits.quantile(0.025)\n",
    "    upper = profits.quantile(0.975)\n",
    "    print('Lower bound of confidence interval: ', lower)\n",
    "    print('Upeer bound of confidence interval: ', upper)\n",
    "    \n",
    "    # посчитаем риски убытков для каждого региона\n",
    "    num_neg_values = profits.agg(lambda x: sum(x < 0))\n",
    "    risk_loss = num_neg_values / len(profits)\n",
    "    reg_risk_loss.append(risk_loss)\n",
    "    print('Risk of loss: ', risk_loss)\n",
    "    \n",
    "    print('-' * 60)"
   ]
  },
  {
   "cell_type": "markdown",
   "metadata": {},
   "source": [
    "Теперь необходимо выбрать регион, в котором вероятность убытков менее 2.5%."
   ]
  },
  {
   "cell_type": "code",
   "execution_count": 18,
   "metadata": {},
   "outputs": [
    {
     "name": "stdout",
     "output_type": "stream",
     "text": [
      "[1]\n"
     ]
    }
   ],
   "source": [
    "appropriate_regs = []\n",
    "for i in range(NUM_REGIONS):\n",
    "    if reg_risk_loss[i] < PROB_LOSS_BOUND:\n",
    "        appropriate_regs.append(i)\n",
    "\n",
    "print(appropriate_regs)"
   ]
  },
  {
   "cell_type": "markdown",
   "metadata": {},
   "source": [
    "### Вывод"
   ]
  },
  {
   "cell_type": "markdown",
   "metadata": {},
   "source": [
    "На данном шаге определяли оптимально подходящий регион для разработки скважин. Для этого мы сначала написали функцию, которая по выбранным скважинам и предсказаниям моедли определяла прибыль с этих скважин. Далее с помощью техники Bootstrap на 1000 выборках определяли среднее значение прибыли для каждого региона, 95% доверительный интервал для нее, а также риски убытков.<br>\n",
    "В итоге нам необходимо было определить регион для разработки скважин. Для этого необходимым условием являлось, что вероятность убытков должна быть менее 2.5%. По нашим расчетам, единственным регионом с таким показателем является регион номер 2. Вероятность убытков здесь составляет 0,3%. Среднее значение сырья для него составляет всего 68.72 тыс баррелей. Что касается предсказаний, то модель для этого региона предсказывает с высокой точностью, величина RMSE составляет 0.89. Предсказания не будут сильно разнится с фактическими значениями, а значит модели можно доверять. Среднее значение предсказываемой прибыли по нему составляет 518259.49 тыс барелей. что больше чем у остальных регионов. Что касается теоретически рассчитанного значения достаточного объема сырья для безубыточной разработки новой скажины (111.11 тыс баррелей), и того, что для этого региона среднее щначение объема сырья менее всех, то это лишь означает что в этом регионе есть множество скважин как с маленьким объемом сырья. Но засчет того, что в это же время есть скважины с большим объемом сырья и точностью предсказания модели, это нивелирует данный факт.<br>\n",
    "С регионами 1 и 3, дело обстоит наоборот - в среднем объема сырья здесь больше, но модель предсказывает хуже. Это приводит к тому, что вероятность убытков достигает неприемлемого уровня. Также меньшее среднее значение прибыли в этих регионах также играет негативную роль в выборе их для разработки."
   ]
  },
  {
   "cell_type": "markdown",
   "metadata": {},
   "source": [
    "<a id=\"step5\"></a>\n",
    "## 5. Общий вывод"
   ]
  },
  {
   "cell_type": "markdown",
   "metadata": {},
   "source": [
    "В данном проекте мы разрабатывали модель для выбора региона с максимальным прибылью от добычи нефти. Предсказания мы строили на алгоритме линейной регресии, а в качестве параметров брали характеристики для каждой скважины. Рассмотрели, насколько точно предсказывают наши модели. Посчитали теоретическое значение достаточного объема сырья для безубыточной разработки новой скажины. Далее с помощью техники Bootstrap определили регион с минимальным значением вероятности убытков. Таким оказался регион 2."
   ]
  }
 ],
 "metadata": {
  "kernelspec": {
   "display_name": "Python 3",
   "language": "python",
   "name": "python3"
  },
  "language_info": {
   "codemirror_mode": {
    "name": "ipython",
    "version": 3
   },
   "file_extension": ".py",
   "mimetype": "text/x-python",
   "name": "python",
   "nbconvert_exporter": "python",
   "pygments_lexer": "ipython3",
   "version": "3.8.5"
  },
  "toc": {
   "base_numbering": 1,
   "nav_menu": {},
   "number_sections": false,
   "sideBar": true,
   "skip_h1_title": false,
   "title_cell": "Table of Contents",
   "title_sidebar": "Contents",
   "toc_cell": false,
   "toc_position": {},
   "toc_section_display": true,
   "toc_window_display": true
  }
 },
 "nbformat": 4,
 "nbformat_minor": 2
}
