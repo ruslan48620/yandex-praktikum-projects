{
 "cells": [
  {
   "cell_type": "markdown",
   "metadata": {},
   "source": [
    "## Описание проекта"
   ]
  },
  {
   "cell_type": "markdown",
   "metadata": {},
   "source": [
    "Компания собрала исторические данные о заказах такси в аэропортах. Чтобы привлекать больше водителей в период пиковой нагрузки, нужно спрогнозировать количество заказов такси на следующий час. Постройте модель для такого предсказания.\n",
    "\n",
    "Значение метрики *RMSE* на тестовой выборке должно быть не больше 48."
   ]
  },
  {
   "cell_type": "markdown",
   "metadata": {},
   "source": [
    "### Описание данных"
   ]
  },
  {
   "cell_type": "markdown",
   "metadata": {},
   "source": [
    "Данные лежат в файле `taxi.csv`. Количество заказов находится в столбце '*num_orders*' (от англ. *number of orders*, «число заказов»)."
   ]
  },
  {
   "cell_type": "markdown",
   "metadata": {},
   "source": [
    "## 1. Подготовка"
   ]
  },
  {
   "cell_type": "code",
   "execution_count": 1,
   "metadata": {},
   "outputs": [],
   "source": [
    "import pandas as pd\n",
    "import numpy as np\n",
    "import matplotlib.pyplot as plt\n",
    "\n",
    "from statsmodels.tsa.seasonal import seasonal_decompose\n",
    "\n",
    "from sklearn.model_selection import train_test_split\n",
    "from sklearn.preprocessing import StandardScaler\n",
    "from sklearn.metrics import mean_squared_error\n",
    "from sklearn.model_selection import GridSearchCV\n",
    "from sklearn.metrics import make_scorer\n",
    "from sklearn.model_selection import TimeSeriesSplit\n",
    "\n",
    "from sklearn.linear_model import LinearRegression\n",
    "from sklearn.ensemble import RandomForestRegressor\n",
    "\n",
    "from catboost import Pool\n",
    "from catboost import CatBoostRegressor"
   ]
  },
  {
   "cell_type": "markdown",
   "metadata": {},
   "source": [
    "Определим константные значения, которые будут использоваться при создании признаков."
   ]
  },
  {
   "cell_type": "code",
   "execution_count": 2,
   "metadata": {},
   "outputs": [],
   "source": [
    "# Количество отстающих значений\n",
    "MAX_LAG = 3\n",
    "\n",
    "# Размер окна для скользящего среднего\n",
    "ROLLING_MEAN_SIZE = 4\n",
    "\n",
    "# Параметр рандомизации\n",
    "RAND_SEED = 12345"
   ]
  },
  {
   "cell_type": "markdown",
   "metadata": {},
   "source": [
    "Прочитаем данные из файла и выведем первые 5 строк."
   ]
  },
  {
   "cell_type": "code",
   "execution_count": 3,
   "metadata": {},
   "outputs": [
    {
     "data": {
      "text/html": [
       "<div>\n",
       "<style scoped>\n",
       "    .dataframe tbody tr th:only-of-type {\n",
       "        vertical-align: middle;\n",
       "    }\n",
       "\n",
       "    .dataframe tbody tr th {\n",
       "        vertical-align: top;\n",
       "    }\n",
       "\n",
       "    .dataframe thead th {\n",
       "        text-align: right;\n",
       "    }\n",
       "</style>\n",
       "<table border=\"1\" class=\"dataframe\">\n",
       "  <thead>\n",
       "    <tr style=\"text-align: right;\">\n",
       "      <th></th>\n",
       "      <th>datetime</th>\n",
       "      <th>num_orders</th>\n",
       "    </tr>\n",
       "  </thead>\n",
       "  <tbody>\n",
       "    <tr>\n",
       "      <td>0</td>\n",
       "      <td>2018-03-01 00:00:00</td>\n",
       "      <td>9</td>\n",
       "    </tr>\n",
       "    <tr>\n",
       "      <td>1</td>\n",
       "      <td>2018-03-01 00:10:00</td>\n",
       "      <td>14</td>\n",
       "    </tr>\n",
       "    <tr>\n",
       "      <td>2</td>\n",
       "      <td>2018-03-01 00:20:00</td>\n",
       "      <td>28</td>\n",
       "    </tr>\n",
       "    <tr>\n",
       "      <td>3</td>\n",
       "      <td>2018-03-01 00:30:00</td>\n",
       "      <td>20</td>\n",
       "    </tr>\n",
       "    <tr>\n",
       "      <td>4</td>\n",
       "      <td>2018-03-01 00:40:00</td>\n",
       "      <td>32</td>\n",
       "    </tr>\n",
       "  </tbody>\n",
       "</table>\n",
       "</div>"
      ],
      "text/plain": [
       "              datetime  num_orders\n",
       "0  2018-03-01 00:00:00           9\n",
       "1  2018-03-01 00:10:00          14\n",
       "2  2018-03-01 00:20:00          28\n",
       "3  2018-03-01 00:30:00          20\n",
       "4  2018-03-01 00:40:00          32"
      ]
     },
     "execution_count": 3,
     "metadata": {},
     "output_type": "execute_result"
    }
   ],
   "source": [
    "taxi = pd.read_csv('/datasets/taxi.csv')\n",
    "taxi.head()"
   ]
  },
  {
   "cell_type": "markdown",
   "metadata": {},
   "source": [
    "Мы видим, что колонка `datetime`, это время. Также стоит заметить, что мы будем работать с временными рядами. Поэтому, еще раз считаем данные из файла, но уже сразу укажем, какую колонку возьмем для индекса. А также преобразуем эту колонку в тип datetime64."
   ]
  },
  {
   "cell_type": "code",
   "execution_count": 4,
   "metadata": {},
   "outputs": [
    {
     "data": {
      "text/html": [
       "<div>\n",
       "<style scoped>\n",
       "    .dataframe tbody tr th:only-of-type {\n",
       "        vertical-align: middle;\n",
       "    }\n",
       "\n",
       "    .dataframe tbody tr th {\n",
       "        vertical-align: top;\n",
       "    }\n",
       "\n",
       "    .dataframe thead th {\n",
       "        text-align: right;\n",
       "    }\n",
       "</style>\n",
       "<table border=\"1\" class=\"dataframe\">\n",
       "  <thead>\n",
       "    <tr style=\"text-align: right;\">\n",
       "      <th></th>\n",
       "      <th>num_orders</th>\n",
       "    </tr>\n",
       "    <tr>\n",
       "      <th>datetime</th>\n",
       "      <th></th>\n",
       "    </tr>\n",
       "  </thead>\n",
       "  <tbody>\n",
       "    <tr>\n",
       "      <td>2018-03-01 00:00:00</td>\n",
       "      <td>9</td>\n",
       "    </tr>\n",
       "    <tr>\n",
       "      <td>2018-03-01 00:10:00</td>\n",
       "      <td>14</td>\n",
       "    </tr>\n",
       "    <tr>\n",
       "      <td>2018-03-01 00:20:00</td>\n",
       "      <td>28</td>\n",
       "    </tr>\n",
       "    <tr>\n",
       "      <td>2018-03-01 00:30:00</td>\n",
       "      <td>20</td>\n",
       "    </tr>\n",
       "    <tr>\n",
       "      <td>2018-03-01 00:40:00</td>\n",
       "      <td>32</td>\n",
       "    </tr>\n",
       "  </tbody>\n",
       "</table>\n",
       "</div>"
      ],
      "text/plain": [
       "                     num_orders\n",
       "datetime                       \n",
       "2018-03-01 00:00:00           9\n",
       "2018-03-01 00:10:00          14\n",
       "2018-03-01 00:20:00          28\n",
       "2018-03-01 00:30:00          20\n",
       "2018-03-01 00:40:00          32"
      ]
     },
     "execution_count": 4,
     "metadata": {},
     "output_type": "execute_result"
    }
   ],
   "source": [
    "taxi = pd.read_csv('/datasets/taxi.csv', index_col=[0], parse_dates=[0])\n",
    "taxi.head()"
   ]
  },
  {
   "cell_type": "markdown",
   "metadata": {},
   "source": [
    "Можно заметить, что сейчс интервал нашего временного ряда равен 10 минутам."
   ]
  },
  {
   "cell_type": "markdown",
   "metadata": {},
   "source": [
    "Выведем информацию о таблице."
   ]
  },
  {
   "cell_type": "code",
   "execution_count": 5,
   "metadata": {},
   "outputs": [
    {
     "name": "stdout",
     "output_type": "stream",
     "text": [
      "<class 'pandas.core.frame.DataFrame'>\n",
      "DatetimeIndex: 26496 entries, 2018-03-01 00:00:00 to 2018-08-31 23:50:00\n",
      "Data columns (total 1 columns):\n",
      "num_orders    26496 non-null int64\n",
      "dtypes: int64(1)\n",
      "memory usage: 414.0 KB\n"
     ]
    }
   ],
   "source": [
    "taxi.info()"
   ]
  },
  {
   "cell_type": "markdown",
   "metadata": {},
   "source": [
    "У нас в таблице единственная колонка с числом заказов - `num_orders`. Сразу проверим, нет лишних пробелов в названии колонки."
   ]
  },
  {
   "cell_type": "code",
   "execution_count": 6,
   "metadata": {},
   "outputs": [
    {
     "data": {
      "text/plain": [
       "Index(['num_orders'], dtype='object')"
      ]
     },
     "execution_count": 6,
     "metadata": {},
     "output_type": "execute_result"
    }
   ],
   "source": [
    "taxi.columns"
   ]
  },
  {
   "cell_type": "markdown",
   "metadata": {},
   "source": [
    "Лишних пробелов в названии нет. Теперь посмотрим, есть ли пропуски в данных."
   ]
  },
  {
   "cell_type": "code",
   "execution_count": 7,
   "metadata": {},
   "outputs": [
    {
     "data": {
      "text/plain": [
       "num_orders    0\n",
       "dtype: int64"
      ]
     },
     "execution_count": 7,
     "metadata": {},
     "output_type": "execute_result"
    }
   ],
   "source": [
    "taxi.isnull().sum()"
   ]
  },
  {
   "cell_type": "markdown",
   "metadata": {},
   "source": [
    "Пропусков также нет. После того как мы выделили время в индекс, стоит также проверить, что время расположено в хронологическом порядке."
   ]
  },
  {
   "cell_type": "code",
   "execution_count": 8,
   "metadata": {},
   "outputs": [
    {
     "data": {
      "text/plain": [
       "True"
      ]
     },
     "execution_count": 8,
     "metadata": {},
     "output_type": "execute_result"
    }
   ],
   "source": [
    "taxi.index.is_monotonic"
   ]
  },
  {
   "cell_type": "markdown",
   "metadata": {},
   "source": [
    "Данные расположены в хронологическом порядке. Можно продолжить подготавливать данные для анализа."
   ]
  },
  {
   "cell_type": "markdown",
   "metadata": {},
   "source": [
    "Проведем ресемплирование по одному часу. Для агрегации значений возьмем суммарное значение заказов в течение этого времени. Сохраним новую таблицу в переменную taxi_h (указание, что данные ресемплированы по часам)."
   ]
  },
  {
   "cell_type": "code",
   "execution_count": 9,
   "metadata": {},
   "outputs": [
    {
     "data": {
      "text/html": [
       "<div>\n",
       "<style scoped>\n",
       "    .dataframe tbody tr th:only-of-type {\n",
       "        vertical-align: middle;\n",
       "    }\n",
       "\n",
       "    .dataframe tbody tr th {\n",
       "        vertical-align: top;\n",
       "    }\n",
       "\n",
       "    .dataframe thead th {\n",
       "        text-align: right;\n",
       "    }\n",
       "</style>\n",
       "<table border=\"1\" class=\"dataframe\">\n",
       "  <thead>\n",
       "    <tr style=\"text-align: right;\">\n",
       "      <th></th>\n",
       "      <th>num_orders</th>\n",
       "    </tr>\n",
       "    <tr>\n",
       "      <th>datetime</th>\n",
       "      <th></th>\n",
       "    </tr>\n",
       "  </thead>\n",
       "  <tbody>\n",
       "    <tr>\n",
       "      <td>2018-03-01 00:00:00</td>\n",
       "      <td>124</td>\n",
       "    </tr>\n",
       "    <tr>\n",
       "      <td>2018-03-01 01:00:00</td>\n",
       "      <td>85</td>\n",
       "    </tr>\n",
       "    <tr>\n",
       "      <td>2018-03-01 02:00:00</td>\n",
       "      <td>71</td>\n",
       "    </tr>\n",
       "    <tr>\n",
       "      <td>2018-03-01 03:00:00</td>\n",
       "      <td>66</td>\n",
       "    </tr>\n",
       "    <tr>\n",
       "      <td>2018-03-01 04:00:00</td>\n",
       "      <td>43</td>\n",
       "    </tr>\n",
       "  </tbody>\n",
       "</table>\n",
       "</div>"
      ],
      "text/plain": [
       "                     num_orders\n",
       "datetime                       \n",
       "2018-03-01 00:00:00         124\n",
       "2018-03-01 01:00:00          85\n",
       "2018-03-01 02:00:00          71\n",
       "2018-03-01 03:00:00          66\n",
       "2018-03-01 04:00:00          43"
      ]
     },
     "execution_count": 9,
     "metadata": {},
     "output_type": "execute_result"
    }
   ],
   "source": [
    "taxi_h = taxi.resample('1H').sum()\n",
    "taxi_h.head()"
   ]
  },
  {
   "cell_type": "code",
   "execution_count": 10,
   "metadata": {},
   "outputs": [
    {
     "name": "stdout",
     "output_type": "stream",
     "text": [
      "<class 'pandas.core.frame.DataFrame'>\n",
      "DatetimeIndex: 4416 entries, 2018-03-01 00:00:00 to 2018-08-31 23:00:00\n",
      "Freq: H\n",
      "Data columns (total 1 columns):\n",
      "num_orders    4416 non-null int64\n",
      "dtypes: int64(1)\n",
      "memory usage: 69.0 KB\n"
     ]
    }
   ],
   "source": [
    "taxi_h.info()"
   ]
  },
  {
   "cell_type": "markdown",
   "metadata": {},
   "source": [
    "### Вывод"
   ]
  },
  {
   "cell_type": "markdown",
   "metadata": {},
   "source": [
    "На данном шаге мы прочитали данные из файла. Определили, что это временной ряд, поэтому выделили время в индекс и сразу перевели в соответствующий тип данных. Проверили колонку с числом заказов на наличие пропусков, а также что название колонки не содержит лишних пробелов. Посмотрели, что время расположено в хронологическом порядке. Далее мы изменили временной интревал до 1 часа, в качестве агрегирующего значения взяли сумму заказов за это время."
   ]
  },
  {
   "cell_type": "markdown",
   "metadata": {},
   "source": [
    "## 2. Анализ"
   ]
  },
  {
   "cell_type": "markdown",
   "metadata": {},
   "source": [
    "В первую очередь посомтрим на тренд и сезонность. Получим их с помощью стандартной функции **seasonal_decompose()**."
   ]
  },
  {
   "cell_type": "code",
   "execution_count": 11,
   "metadata": {},
   "outputs": [],
   "source": [
    "decomposed = seasonal_decompose(taxi_h)"
   ]
  },
  {
   "cell_type": "markdown",
   "metadata": {},
   "source": [
    "Выведкем их графики. Остатки рассматривать не будем, в данном случае у нас нет информации, чтобы как-то их проанализировать."
   ]
  },
  {
   "cell_type": "code",
   "execution_count": 12,
   "metadata": {},
   "outputs": [
    {
     "data": {
      "image/png": "[encoded data removed]",
      "text/plain": [
       "<Figure size 432x576 with 2 Axes>"
      ]
     },
     "metadata": {
      "needs_background": "light"
     },
     "output_type": "display_data"
    }
   ],
   "source": [
    "plt.figure(figsize=(6, 8))\n",
    "\n",
    "plt.subplot(211)\n",
    "decomposed.trend.plot(ax=plt.gca())\n",
    "plt.title('Trend')\n",
    "\n",
    "plt.subplot(212)\n",
    "decomposed.seasonal.plot(ax=plt.gca())\n",
    "plt.title('Seasonality')\n",
    "\n",
    "plt.tight_layout()"
   ]
  },
  {
   "cell_type": "markdown",
   "metadata": {},
   "source": [
    "Из графиков видно, что у есть тренд к повышению числа заказов в течение года (с марта по август). Скорее всего сервис становится популярнее, все больше людей начинают им пользоваться. Про тренд также можно сказать что ряд нестационарный - со временем меняется среднее значение.<br>\n",
    "Сезонность имеет период много меньше месяца. Необходимо изучить ее более детально."
   ]
  },
  {
   "cell_type": "markdown",
   "metadata": {},
   "source": [
    "Выделим данные за март. И еще раз посмотри мна сезонность в течение это периода."
   ]
  },
  {
   "cell_type": "code",
   "execution_count": 13,
   "metadata": {},
   "outputs": [
    {
     "data": {
      "text/plain": [
       "<matplotlib.axes._subplots.AxesSubplot at 0x7f70f80b1650>"
      ]
     },
     "execution_count": 13,
     "metadata": {},
     "output_type": "execute_result"
    },
    {
     "data": {
      "image/png": "[encoded data removed]",
      "text/plain": [
       "<Figure size 1080x432 with 1 Axes>"
      ]
     },
     "metadata": {
      "needs_background": "light"
     },
     "output_type": "display_data"
    }
   ],
   "source": [
    "decomposed.seasonal['2018-03-01':'2018-03-31'].plot(figsize=(15, 6))"
   ]
  },
  {
   "cell_type": "markdown",
   "metadata": {},
   "source": [
    "Необходимо изучить еще более детально данную характеристику. Как видно, период измений 1 день, на нем в дальнейшем подробнее и посмотрим.<br>\n",
    "Но уже сейчас можно сказать, что временной ряд стационарный - среднее значение не менятся с временем, также как и стандартное отклонение."
   ]
  },
  {
   "cell_type": "code",
   "execution_count": 14,
   "metadata": {},
   "outputs": [
    {
     "data": {
      "text/plain": [
       "<matplotlib.axes._subplots.AxesSubplot at 0x7f70f7fdb410>"
      ]
     },
     "execution_count": 14,
     "metadata": {},
     "output_type": "execute_result"
    },
    {
     "data": {
      "image/png": "[encoded data removed]",
      "text/plain": [
       "<Figure size 1080x432 with 1 Axes>"
      ]
     },
     "metadata": {
      "needs_background": "light"
     },
     "output_type": "display_data"
    }
   ],
   "source": [
    "decomposed.seasonal['2018-03-01 00':'2018-03-02 00'].plot(figsize=(15, 6))"
   ]
  },
  {
   "cell_type": "markdown",
   "metadata": {},
   "source": [
    "Теперь видно, что в течение ночи количество заказов падает, люди в основном спят. Далее, начиная с 6:00, количество заказов растет - люди едут по делам. После, примерно с 9:00 - 17:00 заказы чуть проседают, люди в основной массе находятся на работе и учебе. После этого новый пик - все едут по личным делам. И, после нахождения там, в конце все возвращаются домой. Отдельно стоит отметить, что максимальный пик наступает ночью - в 0:00. Наилучшее время для таксистов."
   ]
  },
  {
   "cell_type": "markdown",
   "metadata": {},
   "source": [
    "Мы посомотрели на тренды и сезонность. Теперь подготовим признаки для обучения модели, с помощью которой в дальнейшем будем предсказывать количество заказов в следующий час."
   ]
  },
  {
   "cell_type": "markdown",
   "metadata": {},
   "source": [
    "Создадим функцию для создания признаков для горизонта предсказаний в один шаг."
   ]
  },
  {
   "cell_type": "code",
   "execution_count": 15,
   "metadata": {},
   "outputs": [],
   "source": [
    "def make_features(data, max_lag, rolling_mean_size):\n",
    "    data_modified = data.copy()\n",
    "    \n",
    "    data_modified['month'] = data_modified.index.month\n",
    "    data_modified['day'] = data_modified.index.day\n",
    "    data_modified['hour'] = data_modified.index.hour\n",
    "    \n",
    "    for lag in range(1, max_lag + 1):\n",
    "        data_modified['lag_{}'.format(lag)] = data_modified['num_orders'].shift(lag)\n",
    "    \n",
    "    data_modified['rolling_mean'] = data_modified['num_orders'].rolling(rolling_mean_size).mean().shift()\n",
    "    \n",
    "    return data_modified"
   ]
  },
  {
   "cell_type": "markdown",
   "metadata": {},
   "source": [
    "Параметры для функции определены ранее как константы. Количество отстающих значений возьмем равное 3, а размер скользящего окна 4."
   ]
  },
  {
   "cell_type": "code",
   "execution_count": 16,
   "metadata": {},
   "outputs": [
    {
     "name": "stdout",
     "output_type": "stream",
     "text": [
      "                     num_orders  month  day  hour  lag_1  lag_2  lag_3  \\\n",
      "datetime                                                                 \n",
      "2018-03-01 00:00:00         124      3    1     0    NaN    NaN    NaN   \n",
      "2018-03-01 01:00:00          85      3    1     1  124.0    NaN    NaN   \n",
      "2018-03-01 02:00:00          71      3    1     2   85.0  124.0    NaN   \n",
      "2018-03-01 03:00:00          66      3    1     3   71.0   85.0  124.0   \n",
      "2018-03-01 04:00:00          43      3    1     4   66.0   71.0   85.0   \n",
      "\n",
      "                     rolling_mean  \n",
      "datetime                           \n",
      "2018-03-01 00:00:00           NaN  \n",
      "2018-03-01 01:00:00           NaN  \n",
      "2018-03-01 02:00:00           NaN  \n",
      "2018-03-01 03:00:00           NaN  \n",
      "2018-03-01 04:00:00          86.5  \n"
     ]
    }
   ],
   "source": [
    "taxi_h_m = make_features(taxi_h, MAX_LAG, ROLLING_MEAN_SIZE)\n",
    "print(taxi_h_m.head())"
   ]
  },
  {
   "cell_type": "markdown",
   "metadata": {},
   "source": [
    "На основе полученной таблицы получим обучающую и тестовую выборки. При этом укажем, что не нужно перетасовывать строки. На тестовую выброку выделим 10% от исходных данных. Сразу будем оценивать результаты на тестовой сборке. Так как для временных рядов, чем больше данных для обучения, тем лучше. И если выделить валидационную выборку для оценки, модель обучать на тренировочной, и после этого проверять работу на тестовой, то качество на валидационной будет выше, чем на тестовой. Мы хотим предсказать количество заказов на 1 час вперед, а не в каких-то случайных момент в будущем."
   ]
  },
  {
   "cell_type": "code",
   "execution_count": 17,
   "metadata": {},
   "outputs": [],
   "source": [
    "train, test = train_test_split(taxi_h_m, shuffle=False, test_size=0.1)"
   ]
  },
  {
   "cell_type": "markdown",
   "metadata": {},
   "source": [
    "Удалим строки с пропущенными значениями, которые появились при формировании признаков."
   ]
  },
  {
   "cell_type": "code",
   "execution_count": 18,
   "metadata": {},
   "outputs": [],
   "source": [
    "train = train.dropna()"
   ]
  },
  {
   "cell_type": "markdown",
   "metadata": {},
   "source": [
    "Выделим признаки для обучения и целевой признак."
   ]
  },
  {
   "cell_type": "code",
   "execution_count": 19,
   "metadata": {},
   "outputs": [],
   "source": [
    "features_train = train.drop('num_orders', axis=1)\n",
    "target_train = train['num_orders']\n",
    "\n",
    "features_test = test.drop('num_orders', axis=1)\n",
    "target_test = test['num_orders']"
   ]
  },
  {
   "cell_type": "markdown",
   "metadata": {},
   "source": [
    "На данный момент, все колонки для признаков хранят числовые значения. Категориальных переменных нет. Однако, необходимо масштабировать наши количественные признаки путем стандартизации."
   ]
  },
  {
   "cell_type": "code",
   "execution_count": 20,
   "metadata": {},
   "outputs": [],
   "source": [
    "num_features = ['month', 'day', 'hour', 'lag_1', 'lag_2', 'lag_3', 'rolling_mean']"
   ]
  },
  {
   "cell_type": "code",
   "execution_count": 21,
   "metadata": {},
   "outputs": [],
   "source": [
    "pd.options.mode.chained_assignment = None\n",
    "\n",
    "scaler = StandardScaler()\n",
    "scaler.fit(features_train[num_features])\n",
    "\n",
    "features_train[num_features] = scaler.transform(features_train[num_features])\n",
    "features_test[num_features] = scaler.transform(features_test[num_features])"
   ]
  },
  {
   "cell_type": "markdown",
   "metadata": {},
   "source": [
    "Проверим резальтат для обучающей выборки."
   ]
  },
  {
   "cell_type": "code",
   "execution_count": 22,
   "metadata": {},
   "outputs": [
    {
     "data": {
      "text/html": [
       "<div>\n",
       "<style scoped>\n",
       "    .dataframe tbody tr th:only-of-type {\n",
       "        vertical-align: middle;\n",
       "    }\n",
       "\n",
       "    .dataframe tbody tr th {\n",
       "        vertical-align: top;\n",
       "    }\n",
       "\n",
       "    .dataframe thead th {\n",
       "        text-align: right;\n",
       "    }\n",
       "</style>\n",
       "<table border=\"1\" class=\"dataframe\">\n",
       "  <thead>\n",
       "    <tr style=\"text-align: right;\">\n",
       "      <th></th>\n",
       "      <th>month</th>\n",
       "      <th>day</th>\n",
       "      <th>hour</th>\n",
       "      <th>lag_1</th>\n",
       "      <th>lag_2</th>\n",
       "      <th>lag_3</th>\n",
       "      <th>rolling_mean</th>\n",
       "    </tr>\n",
       "    <tr>\n",
       "      <th>datetime</th>\n",
       "      <th></th>\n",
       "      <th></th>\n",
       "      <th></th>\n",
       "      <th></th>\n",
       "      <th></th>\n",
       "      <th></th>\n",
       "      <th></th>\n",
       "    </tr>\n",
       "  </thead>\n",
       "  <tbody>\n",
       "    <tr>\n",
       "      <td>2018-03-01 04:00:00</td>\n",
       "      <td>-1.413472</td>\n",
       "      <td>-1.593142</td>\n",
       "      <td>-1.083255</td>\n",
       "      <td>-0.317243</td>\n",
       "      <td>-0.187822</td>\n",
       "      <td>0.174631</td>\n",
       "      <td>0.277957</td>\n",
       "    </tr>\n",
       "    <tr>\n",
       "      <td>2018-03-01 05:00:00</td>\n",
       "      <td>-1.413472</td>\n",
       "      <td>-1.593142</td>\n",
       "      <td>-0.938675</td>\n",
       "      <td>-0.911959</td>\n",
       "      <td>-0.317110</td>\n",
       "      <td>-0.187505</td>\n",
       "      <td>-0.404765</td>\n",
       "    </tr>\n",
       "    <tr>\n",
       "      <td>2018-03-01 06:00:00</td>\n",
       "      <td>-1.413472</td>\n",
       "      <td>-1.593142</td>\n",
       "      <td>-0.794096</td>\n",
       "      <td>-1.868677</td>\n",
       "      <td>-0.911833</td>\n",
       "      <td>-0.316840</td>\n",
       "      <td>-1.070630</td>\n",
       "    </tr>\n",
       "    <tr>\n",
       "      <td>2018-03-01 07:00:00</td>\n",
       "      <td>-1.413472</td>\n",
       "      <td>-1.593142</td>\n",
       "      <td>-0.649516</td>\n",
       "      <td>-1.713534</td>\n",
       "      <td>-1.868562</td>\n",
       "      <td>-0.911777</td>\n",
       "      <td>-1.567922</td>\n",
       "    </tr>\n",
       "    <tr>\n",
       "      <td>2018-03-01 08:00:00</td>\n",
       "      <td>-1.413472</td>\n",
       "      <td>-1.593142</td>\n",
       "      <td>-0.504936</td>\n",
       "      <td>-1.635962</td>\n",
       "      <td>-1.713416</td>\n",
       "      <td>-1.868850</td>\n",
       "      <td>-1.997785</td>\n",
       "    </tr>\n",
       "  </tbody>\n",
       "</table>\n",
       "</div>"
      ],
      "text/plain": [
       "                        month       day      hour     lag_1     lag_2  \\\n",
       "datetime                                                                \n",
       "2018-03-01 04:00:00 -1.413472 -1.593142 -1.083255 -0.317243 -0.187822   \n",
       "2018-03-01 05:00:00 -1.413472 -1.593142 -0.938675 -0.911959 -0.317110   \n",
       "2018-03-01 06:00:00 -1.413472 -1.593142 -0.794096 -1.868677 -0.911833   \n",
       "2018-03-01 07:00:00 -1.413472 -1.593142 -0.649516 -1.713534 -1.868562   \n",
       "2018-03-01 08:00:00 -1.413472 -1.593142 -0.504936 -1.635962 -1.713416   \n",
       "\n",
       "                        lag_3  rolling_mean  \n",
       "datetime                                     \n",
       "2018-03-01 04:00:00  0.174631      0.277957  \n",
       "2018-03-01 05:00:00 -0.187505     -0.404765  \n",
       "2018-03-01 06:00:00 -0.316840     -1.070630  \n",
       "2018-03-01 07:00:00 -0.911777     -1.567922  \n",
       "2018-03-01 08:00:00 -1.868850     -1.997785  "
      ]
     },
     "execution_count": 22,
     "metadata": {},
     "output_type": "execute_result"
    }
   ],
   "source": [
    "features_train.head()"
   ]
  },
  {
   "cell_type": "markdown",
   "metadata": {},
   "source": [
    "### Вывод"
   ]
  },
  {
   "cell_type": "markdown",
   "metadata": {},
   "source": [
    "На данном шаге мы провели анализ данных. Посмотрели на тренды и сезонность временного ряда. Выснили что количество заказов в течение месяцев растет. Также посмотрели как распределяются заказы в течение одного дня. Далее выделили дополнительные признаки и выделили целевой признак. Разделили первоначальные данные на обучающую и тестовую выборки. Можно переходить к обучению и подбору наилучшей модели."
   ]
  },
  {
   "cell_type": "markdown",
   "metadata": {},
   "source": [
    "## 3. Обучение"
   ]
  },
  {
   "cell_type": "markdown",
   "metadata": {},
   "source": [
    "Обучим три разные модели на нашей тренировочной выборке. А затем выберем лучшую модель, путем оценки ее работы на тестовой выборке."
   ]
  },
  {
   "cell_type": "markdown",
   "metadata": {},
   "source": [
    "### 3.1 Линейная регрессия"
   ]
  },
  {
   "cell_type": "markdown",
   "metadata": {},
   "source": [
    "Рассмотрим модель линейной регрессии."
   ]
  },
  {
   "cell_type": "code",
   "execution_count": 23,
   "metadata": {},
   "outputs": [],
   "source": [
    "model_lr = LinearRegression()"
   ]
  },
  {
   "cell_type": "code",
   "execution_count": 24,
   "metadata": {},
   "outputs": [
    {
     "data": {
      "text/plain": [
       "LinearRegression(copy_X=True, fit_intercept=True, n_jobs=None, normalize=False)"
      ]
     },
     "execution_count": 24,
     "metadata": {},
     "output_type": "execute_result"
    }
   ],
   "source": [
    "model_lr.fit(features_train, target_train)"
   ]
  },
  {
   "cell_type": "markdown",
   "metadata": {},
   "source": [
    "### 3.2 CatBoost"
   ]
  },
  {
   "cell_type": "markdown",
   "metadata": {},
   "source": [
    "Вторая модель, которую мы посмотрим, будет модель на основе градиентного бустинга из библиотеки CatBoost."
   ]
  },
  {
   "cell_type": "code",
   "execution_count": 25,
   "metadata": {},
   "outputs": [],
   "source": [
    "model_cbr = CatBoostRegressor(loss_function='RMSE')"
   ]
  },
  {
   "cell_type": "markdown",
   "metadata": {},
   "source": [
    "Переберем несколько гиперпараметров с помощью поиска по сетке."
   ]
  },
  {
   "cell_type": "code",
   "execution_count": 26,
   "metadata": {},
   "outputs": [],
   "source": [
    "grid_cbr = {'iterations': [1000, 2000],\n",
    "            'learning_rate': [0.01, 0.1]}"
   ]
  },
  {
   "cell_type": "code",
   "execution_count": 27,
   "metadata": {},
   "outputs": [],
   "source": [
    "train_pool = Pool(data=features_train, label=target_train)"
   ]
  },
  {
   "cell_type": "code",
   "execution_count": 28,
   "metadata": {},
   "outputs": [],
   "source": [
    "tscv_cbr = TimeSeriesSplit(n_splits=5)"
   ]
  },
  {
   "cell_type": "code",
   "execution_count": 29,
   "metadata": {},
   "outputs": [
    {
     "name": "stdout",
     "output_type": "stream",
     "text": [
      "0:\tloss: 33.5557997\tbest: 33.5557997 (0)\ttotal: 29s\tremaining: 1m 27s\n",
      "1:\tloss: 34.8166578\tbest: 33.5557997 (0)\ttotal: 57.8s\tremaining: 57.8s\n",
      "2:\tloss: 32.9570733\tbest: 32.9570733 (2)\ttotal: 1m 57s\tremaining: 39.1s\n",
      "3:\tloss: 34.8166578\tbest: 32.9570733 (2)\ttotal: 2m 54s\tremaining: 0us\n",
      "Estimating final quality...\n"
     ]
    }
   ],
   "source": [
    "result = model_cbr.grid_search(param_grid=grid_cbr, X=train_pool, cv=tscv_cbr)"
   ]
  },
  {
   "cell_type": "code",
   "execution_count": 30,
   "metadata": {},
   "outputs": [
    {
     "data": {
      "text/plain": [
       "{'loss_function': 'RMSE', 'iterations': 2000, 'learning_rate': 0.01}"
      ]
     },
     "execution_count": 30,
     "metadata": {},
     "output_type": "execute_result"
    }
   ],
   "source": [
    "model_cbr.get_params()"
   ]
  },
  {
   "cell_type": "markdown",
   "metadata": {},
   "source": [
    "### 3.3 Случайный лес"
   ]
  },
  {
   "cell_type": "markdown",
   "metadata": {},
   "source": [
    "Также рассмотрим еще одну ансамблевую модель - случайный лес. Также переберем несколько разных гиперпараметров с помощью поиска по сетке."
   ]
  },
  {
   "cell_type": "code",
   "execution_count": 31,
   "metadata": {},
   "outputs": [],
   "source": [
    "model_rfr = RandomForestRegressor(random_state=RAND_SEED)"
   ]
  },
  {
   "cell_type": "code",
   "execution_count": 32,
   "metadata": {},
   "outputs": [],
   "source": [
    "grid_rfr = {'n_estimators': [1000, 2000],\n",
    "            'max_depth': [10, 20]}"
   ]
  },
  {
   "cell_type": "code",
   "execution_count": 33,
   "metadata": {},
   "outputs": [],
   "source": [
    "tscv_rfr = TimeSeriesSplit(n_splits=5)"
   ]
  },
  {
   "cell_type": "code",
   "execution_count": 34,
   "metadata": {},
   "outputs": [
    {
     "name": "stdout",
     "output_type": "stream",
     "text": [
      "Fitting 5 folds for each of 4 candidates, totalling 20 fits\n",
      "[CV] max_depth=10, n_estimators=1000 .................................\n"
     ]
    },
    {
     "name": "stderr",
     "output_type": "stream",
     "text": [
      "[Parallel(n_jobs=1)]: Using backend SequentialBackend with 1 concurrent workers.\n"
     ]
    },
    {
     "name": "stdout",
     "output_type": "stream",
     "text": [
      "[CV] .. max_depth=10, n_estimators=1000, score=-567.619, total=   4.8s\n",
      "[CV] max_depth=10, n_estimators=1000 .................................\n"
     ]
    },
    {
     "name": "stderr",
     "output_type": "stream",
     "text": [
      "[Parallel(n_jobs=1)]: Done   1 out of   1 | elapsed:    4.8s remaining:    0.0s\n"
     ]
    },
    {
     "name": "stdout",
     "output_type": "stream",
     "text": [
      "[CV] .. max_depth=10, n_estimators=1000, score=-527.596, total=   7.4s\n",
      "[CV] max_depth=10, n_estimators=1000 .................................\n"
     ]
    },
    {
     "name": "stderr",
     "output_type": "stream",
     "text": [
      "[Parallel(n_jobs=1)]: Done   2 out of   2 | elapsed:   12.2s remaining:    0.0s\n"
     ]
    },
    {
     "name": "stdout",
     "output_type": "stream",
     "text": [
      "[CV] .. max_depth=10, n_estimators=1000, score=-600.964, total=  10.0s\n",
      "[CV] max_depth=10, n_estimators=1000 .................................\n"
     ]
    },
    {
     "name": "stderr",
     "output_type": "stream",
     "text": [
      "[Parallel(n_jobs=1)]: Done   3 out of   3 | elapsed:   22.2s remaining:    0.0s\n"
     ]
    },
    {
     "name": "stdout",
     "output_type": "stream",
     "text": [
      "[CV] .. max_depth=10, n_estimators=1000, score=-652.241, total=  12.0s\n",
      "[CV] max_depth=10, n_estimators=1000 .................................\n"
     ]
    },
    {
     "name": "stderr",
     "output_type": "stream",
     "text": [
      "[Parallel(n_jobs=1)]: Done   4 out of   4 | elapsed:   34.2s remaining:    0.0s\n"
     ]
    },
    {
     "name": "stdout",
     "output_type": "stream",
     "text": [
      "[CV] . max_depth=10, n_estimators=1000, score=-1037.466, total=  12.4s\n",
      "[CV] max_depth=10, n_estimators=2000 .................................\n",
      "[CV] .. max_depth=10, n_estimators=2000, score=-565.022, total=   5.9s\n",
      "[CV] max_depth=10, n_estimators=2000 .................................\n",
      "[CV] .. max_depth=10, n_estimators=2000, score=-530.711, total=   9.1s\n",
      "[CV] max_depth=10, n_estimators=2000 .................................\n",
      "[CV] .. max_depth=10, n_estimators=2000, score=-600.728, total=  12.3s\n",
      "[CV] max_depth=10, n_estimators=2000 .................................\n",
      "[CV] .. max_depth=10, n_estimators=2000, score=-649.494, total=  15.6s\n",
      "[CV] max_depth=10, n_estimators=2000 .................................\n",
      "[CV] . max_depth=10, n_estimators=2000, score=-1040.674, total=  19.2s\n",
      "[CV] max_depth=20, n_estimators=1000 .................................\n",
      "[CV] .. max_depth=20, n_estimators=1000, score=-569.597, total=   3.4s\n",
      "[CV] max_depth=20, n_estimators=1000 .................................\n",
      "[CV] .. max_depth=20, n_estimators=1000, score=-525.637, total=   5.9s\n",
      "[CV] max_depth=20, n_estimators=1000 .................................\n",
      "[CV] .. max_depth=20, n_estimators=1000, score=-597.691, total=   9.5s\n",
      "[CV] max_depth=20, n_estimators=1000 .................................\n",
      "[CV] .. max_depth=20, n_estimators=1000, score=-638.864, total=  10.7s\n",
      "[CV] max_depth=20, n_estimators=1000 .................................\n",
      "[CV] . max_depth=20, n_estimators=1000, score=-1008.999, total=  13.6s\n",
      "[CV] max_depth=20, n_estimators=2000 .................................\n",
      "[CV] .. max_depth=20, n_estimators=2000, score=-567.308, total=   6.5s\n",
      "[CV] max_depth=20, n_estimators=2000 .................................\n",
      "[CV] .. max_depth=20, n_estimators=2000, score=-529.732, total=  11.2s\n",
      "[CV] max_depth=20, n_estimators=2000 .................................\n",
      "[CV] .. max_depth=20, n_estimators=2000, score=-595.557, total=  16.1s\n",
      "[CV] max_depth=20, n_estimators=2000 .................................\n",
      "[CV] .. max_depth=20, n_estimators=2000, score=-639.386, total=  22.4s\n",
      "[CV] max_depth=20, n_estimators=2000 .................................\n",
      "[CV] . max_depth=20, n_estimators=2000, score=-1012.878, total=  27.5s\n"
     ]
    },
    {
     "name": "stderr",
     "output_type": "stream",
     "text": [
      "[Parallel(n_jobs=1)]: Done  20 out of  20 | elapsed:  3.9min finished\n"
     ]
    },
    {
     "data": {
      "text/plain": [
       "GridSearchCV(cv=TimeSeriesSplit(max_train_size=None, n_splits=5),\n",
       "             error_score='raise-deprecating',\n",
       "             estimator=RandomForestRegressor(bootstrap=True, criterion='mse',\n",
       "                                             max_depth=None,\n",
       "                                             max_features='auto',\n",
       "                                             max_leaf_nodes=None,\n",
       "                                             min_impurity_decrease=0.0,\n",
       "                                             min_impurity_split=None,\n",
       "                                             min_samples_leaf=1,\n",
       "                                             min_samples_split=2,\n",
       "                                             min_weight_fraction_leaf=0.0,\n",
       "                                             n_estimators='warn', n_jobs=None,\n",
       "                                             oob_score=False,\n",
       "                                             random_state=12345, verbose=0,\n",
       "                                             warm_start=False),\n",
       "             iid='warn', n_jobs=None,\n",
       "             param_grid={'max_depth': [10, 20], 'n_estimators': [1000, 2000]},\n",
       "             pre_dispatch='2*n_jobs', refit=True, return_train_score=False,\n",
       "             scoring='neg_mean_squared_error', verbose=5)"
      ]
     },
     "execution_count": 34,
     "metadata": {},
     "output_type": "execute_result"
    }
   ],
   "source": [
    "model_grid_rfr = GridSearchCV(estimator=model_rfr, \n",
    "                              param_grid=grid_rfr, \n",
    "                              cv=tscv_rfr, \n",
    "                              scoring='neg_mean_squared_error', \n",
    "                              verbose=5)\n",
    "model_grid_rfr.fit(features_train, target_train)"
   ]
  },
  {
   "cell_type": "code",
   "execution_count": 35,
   "metadata": {},
   "outputs": [],
   "source": [
    "best_rfr_depth = model_grid_rfr.best_params_['max_depth']\n",
    "best_rfr_estimators = model_grid_rfr.best_params_['n_estimators']"
   ]
  },
  {
   "cell_type": "markdown",
   "metadata": {},
   "source": [
    "Мы нашли наилучшие гиперпараметры. В качестве функции потерь в данном случае мы взяли значение MSE. Это значение это квадрат RMSE, так что модель с лучших MSE, это и модель с лучшим RMSE."
   ]
  },
  {
   "cell_type": "code",
   "execution_count": 36,
   "metadata": {},
   "outputs": [],
   "source": [
    "model_rfr_best = RandomForestRegressor(n_estimators=best_rfr_estimators, max_depth=best_rfr_depth, random_state=RAND_SEED)"
   ]
  },
  {
   "cell_type": "code",
   "execution_count": 37,
   "metadata": {},
   "outputs": [
    {
     "data": {
      "text/plain": [
       "RandomForestRegressor(bootstrap=True, criterion='mse', max_depth=20,\n",
       "                      max_features='auto', max_leaf_nodes=None,\n",
       "                      min_impurity_decrease=0.0, min_impurity_split=None,\n",
       "                      min_samples_leaf=1, min_samples_split=2,\n",
       "                      min_weight_fraction_leaf=0.0, n_estimators=1000,\n",
       "                      n_jobs=None, oob_score=False, random_state=12345,\n",
       "                      verbose=0, warm_start=False)"
      ]
     },
     "execution_count": 37,
     "metadata": {},
     "output_type": "execute_result"
    }
   ],
   "source": [
    "model_rfr_best.fit(features_train, target_train)"
   ]
  },
  {
   "cell_type": "markdown",
   "metadata": {},
   "source": [
    "### Вывод"
   ]
  },
  {
   "cell_type": "markdown",
   "metadata": {},
   "source": [
    "На данном этапе мы обучили три разных модели с различными гиперпараметрами. При поиске по сетке, мы оценивали качество моделей с помощью метрик RMSE и MSE (что соответствует оwенке по RMSE). Теперь можно проверить качестов работы на тестовой выборке."
   ]
  },
  {
   "cell_type": "markdown",
   "metadata": {},
   "source": [
    "## 4. Тестирование"
   ]
  },
  {
   "cell_type": "markdown",
   "metadata": {},
   "source": [
    "### 4.1 Линейная регрессия"
   ]
  },
  {
   "cell_type": "code",
   "execution_count": 38,
   "metadata": {},
   "outputs": [],
   "source": [
    "predictions_lr = model_lr.predict(features_test)"
   ]
  },
  {
   "cell_type": "code",
   "execution_count": 39,
   "metadata": {},
   "outputs": [
    {
     "name": "stdout",
     "output_type": "stream",
     "text": [
      "rmse_lr = 52.56894910111406\n"
     ]
    }
   ],
   "source": [
    "# посчитаем значение RMSE (квадратный корень из средней квадратичной ошибки) через вычисление MSE\n",
    "mse_lr = mean_squared_error(target_test, predictions_lr)\n",
    "rmse_lr = mse_lr ** 0.5\n",
    "print('rmse_lr =', rmse_lr)"
   ]
  },
  {
   "cell_type": "markdown",
   "metadata": {},
   "source": [
    "### 4.2 CatBoost"
   ]
  },
  {
   "cell_type": "code",
   "execution_count": 40,
   "metadata": {},
   "outputs": [],
   "source": [
    "predictions_cbr = model_cbr.predict(features_test)"
   ]
  },
  {
   "cell_type": "code",
   "execution_count": 41,
   "metadata": {},
   "outputs": [
    {
     "name": "stdout",
     "output_type": "stream",
     "text": [
      "rmse_cbr = 45.93679852189139\n"
     ]
    }
   ],
   "source": [
    "# посчитаем значение RMSE (квадратный корень из средней квадратичной ошибки) через вычисление MSE\n",
    "mse_cbr = mean_squared_error(target_test, predictions_cbr)\n",
    "rmse_cbr = mse_cbr ** 0.5\n",
    "print('rmse_cbr =', rmse_cbr)"
   ]
  },
  {
   "cell_type": "markdown",
   "metadata": {},
   "source": [
    "### 4.3 Случайный лес"
   ]
  },
  {
   "cell_type": "code",
   "execution_count": 42,
   "metadata": {},
   "outputs": [],
   "source": [
    "predictions_rfr = model_rfr_best.predict(features_test)"
   ]
  },
  {
   "cell_type": "code",
   "execution_count": 43,
   "metadata": {},
   "outputs": [
    {
     "name": "stdout",
     "output_type": "stream",
     "text": [
      "rmse_rfr = 46.6928701276678\n"
     ]
    }
   ],
   "source": [
    "# посчитаем значение RMSE (квадратный корень из средней квадратичной ошибки) через вычисление MSE\n",
    "mse_rfr = mean_squared_error(target_test, predictions_rfr)\n",
    "rmse_rfr = mse_rfr ** 0.5\n",
    "print('rmse_rfr =', rmse_rfr)"
   ]
  },
  {
   "cell_type": "markdown",
   "metadata": {},
   "source": [
    "### Вывод"
   ]
  },
  {
   "cell_type": "markdown",
   "metadata": {},
   "source": [
    "На данном этапе, мы проверили обученные модели на тестовой выборке. Качество оценивали с помощью метрики RMSE.<br> \n",
    "- Линейная регрессия: &emsp; 52.56895\n",
    "- CatBoost: &emsp;&emsp;&emsp;&emsp;&emsp;&nbsp;&nbsp;&nbsp;&nbsp;&nbsp; 45.93680\n",
    "- Случайный лес: &emsp;&emsp;&emsp;&nbsp; 46.69287\n",
    "\n",
    "Лучшая модель по данному критерию является CatBoost. Данное значение меньше 48, что удовлетворяет предъявляемым требованиям."
   ]
  },
  {
   "cell_type": "markdown",
   "metadata": {},
   "source": [
    "## 5. Общий вывод"
   ]
  },
  {
   "cell_type": "markdown",
   "metadata": {},
   "source": [
    "В данной проекте мы работали с временными рядами: у нас были исторические данные количества заказов такси в определенное время. по итогу мы научились прогнозировать количество заказов такси на следующий час.<br> \n",
    "Изначально мы подготовили данные: выкачали их из фалйа, сразу определили где хранится время и выделили эту колонку в индекс. Далее мы ресеплировали наши данные по одному часу. После мы посмотрели на тренды и сезонность получившего временного ряда - как развивается служба такси в течение года и какие типичное распределение заказов в течение дня. После чего, выделили необходимые признаки, которые понядобятся для обучение модели. Далее мы выбрали разные модели и обучили их, предварительно перебрав различные гиперпараметры и выбрав наилучшие из них. В итоге мы проверили качество получившихся моделей на тестовой выборке. Лучшей моделью в нашем проекте стала CatBoost, по оценке качества метрикой RMSE (45.93680)."
   ]
  }
 ],
 "metadata": {
  "kernelspec": {
   "display_name": "Python 3",
   "language": "python",
   "name": "python3"
  },
  "language_info": {
   "codemirror_mode": {
    "name": "ipython",
    "version": 3
   },
   "file_extension": ".py",
   "mimetype": "text/x-python",
   "name": "python",
   "nbconvert_exporter": "python",
   "pygments_lexer": "ipython3",
   "version": "3.8.5"
  },
  "toc": {
   "base_numbering": 1,
   "nav_menu": {},
   "number_sections": false,
   "sideBar": true,
   "skip_h1_title": false,
   "title_cell": "Table of Contents",
   "title_sidebar": "Contents",
   "toc_cell": false,
   "toc_position": {
    "height": "calc(100% - 180px)",
    "left": "10px",
    "top": "150px",
    "width": "358.391px"
   },
   "toc_section_display": true,
   "toc_window_display": true
  }
 },
 "nbformat": 4,
 "nbformat_minor": 2
}
