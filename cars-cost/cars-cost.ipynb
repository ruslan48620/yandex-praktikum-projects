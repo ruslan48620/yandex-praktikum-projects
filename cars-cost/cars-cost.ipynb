{
 "cells": [
  {
   "cell_type": "markdown",
   "metadata": {},
   "source": [
    "## Описание проекта"
   ]
  },
  {
   "cell_type": "markdown",
   "metadata": {},
   "source": [
    "Сервис по продаже автомобилей с пробегом разрабатывает приложение для привлечения новых клиентов. В нём можно быстро узнать рыночную стоимость своего автомобиля. В вашем распоряжении исторические данные: технические характеристики, комплектации и цены автомобилей. Вам нужно построить модель для определения стоимости. \n",
    "\n",
    "Заказчику важны:\n",
    "\n",
    "- качество предсказания;\n",
    "- скорость предсказания;\n",
    "- время обучения."
   ]
  },
  {
   "cell_type": "markdown",
   "metadata": {},
   "source": [
    "## Описание данных"
   ]
  },
  {
   "cell_type": "markdown",
   "metadata": {},
   "source": [
    "**Признаки:**\n",
    "- *DateCrawled* — дата скачивания анкеты из базы\n",
    "- *VehicleType* — тип автомобильного кузова\n",
    "- *RegistrationYear* — год регистрации автомобиля\n",
    "- *Gearbox* — тип коробки передач\n",
    "- *Power* — мощность (л. с.)\n",
    "- *Model* — модель автомобиля\n",
    "- *Kilometer* — пробег (км)\n",
    "- *RegistrationMonth* — месяц регистрации автомобиля\n",
    "- *FuelType* — тип топлива\n",
    "- *Brand* — марка автомобиля\n",
    "- *NotRepaired* — была машина в ремонте или нет\n",
    "- *DateCreated* — дата создания анкеты\n",
    "- *NumberOfPictures* — количество фотографий автомобиля\n",
    "- *PostalCode* — почтовый индекс владельца анкеты (пользователя)\n",
    "- *LastSeen* — дата последней активности пользователя"
   ]
  },
  {
   "cell_type": "markdown",
   "metadata": {},
   "source": [
    "**Целевой признак:**\n",
    "- *Price* — цена (евро)"
   ]
  },
  {
   "cell_type": "markdown",
   "metadata": {},
   "source": [
    "## 1. Подготовка данных"
   ]
  },
  {
   "cell_type": "code",
   "execution_count": 1,
   "metadata": {},
   "outputs": [],
   "source": [
    "import pandas as pd\n",
    "import numpy as np\n",
    "import re\n",
    "import matplotlib.pyplot as plt\n",
    "\n",
    "from IPython.display import display\n",
    "\n",
    "from sklearn.model_selection import train_test_split\n",
    "from sklearn.preprocessing import StandardScaler\n",
    "from sklearn.metrics import mean_squared_error\n",
    "\n",
    "from sklearn.linear_model import LinearRegression\n",
    "\n",
    "from catboost import Pool\n",
    "from catboost import CatBoostRegressor\n",
    "\n",
    "import lightgbm as lgb\n",
    "from sklearn.model_selection import GridSearchCV\n",
    "from sklearn.metrics import make_scorer\n",
    "from sklearn import preprocessing"
   ]
  },
  {
   "cell_type": "markdown",
   "metadata": {},
   "source": [
    "Определим константные значения, которые будем использовать в дальнейшем."
   ]
  },
  {
   "cell_type": "code",
   "execution_count": 2,
   "metadata": {},
   "outputs": [],
   "source": [
    "# Параметр рандомизиции\n",
    "RAND_SEED = 12345"
   ]
  },
  {
   "cell_type": "markdown",
   "metadata": {},
   "source": [
    "Прочитаем данные из файла и выведем первые 5 строк."
   ]
  },
  {
   "cell_type": "code",
   "execution_count": 3,
   "metadata": {},
   "outputs": [
    {
     "data": {
      "text/html": [
       "<div>\n",
       "<style scoped>\n",
       "    .dataframe tbody tr th:only-of-type {\n",
       "        vertical-align: middle;\n",
       "    }\n",
       "\n",
       "    .dataframe tbody tr th {\n",
       "        vertical-align: top;\n",
       "    }\n",
       "\n",
       "    .dataframe thead th {\n",
       "        text-align: right;\n",
       "    }\n",
       "</style>\n",
       "<table border=\"1\" class=\"dataframe\">\n",
       "  <thead>\n",
       "    <tr style=\"text-align: right;\">\n",
       "      <th></th>\n",
       "      <th>DateCrawled</th>\n",
       "      <th>Price</th>\n",
       "      <th>VehicleType</th>\n",
       "      <th>RegistrationYear</th>\n",
       "      <th>Gearbox</th>\n",
       "      <th>Power</th>\n",
       "      <th>Model</th>\n",
       "      <th>Kilometer</th>\n",
       "      <th>RegistrationMonth</th>\n",
       "      <th>FuelType</th>\n",
       "      <th>Brand</th>\n",
       "      <th>NotRepaired</th>\n",
       "      <th>DateCreated</th>\n",
       "      <th>NumberOfPictures</th>\n",
       "      <th>PostalCode</th>\n",
       "      <th>LastSeen</th>\n",
       "    </tr>\n",
       "  </thead>\n",
       "  <tbody>\n",
       "    <tr>\n",
       "      <td>0</td>\n",
       "      <td>2016-03-24 11:52:17</td>\n",
       "      <td>480</td>\n",
       "      <td>NaN</td>\n",
       "      <td>1993</td>\n",
       "      <td>manual</td>\n",
       "      <td>0</td>\n",
       "      <td>golf</td>\n",
       "      <td>150000</td>\n",
       "      <td>0</td>\n",
       "      <td>petrol</td>\n",
       "      <td>volkswagen</td>\n",
       "      <td>NaN</td>\n",
       "      <td>2016-03-24 00:00:00</td>\n",
       "      <td>0</td>\n",
       "      <td>70435</td>\n",
       "      <td>2016-04-07 03:16:57</td>\n",
       "    </tr>\n",
       "    <tr>\n",
       "      <td>1</td>\n",
       "      <td>2016-03-24 10:58:45</td>\n",
       "      <td>18300</td>\n",
       "      <td>coupe</td>\n",
       "      <td>2011</td>\n",
       "      <td>manual</td>\n",
       "      <td>190</td>\n",
       "      <td>NaN</td>\n",
       "      <td>125000</td>\n",
       "      <td>5</td>\n",
       "      <td>gasoline</td>\n",
       "      <td>audi</td>\n",
       "      <td>yes</td>\n",
       "      <td>2016-03-24 00:00:00</td>\n",
       "      <td>0</td>\n",
       "      <td>66954</td>\n",
       "      <td>2016-04-07 01:46:50</td>\n",
       "    </tr>\n",
       "    <tr>\n",
       "      <td>2</td>\n",
       "      <td>2016-03-14 12:52:21</td>\n",
       "      <td>9800</td>\n",
       "      <td>suv</td>\n",
       "      <td>2004</td>\n",
       "      <td>auto</td>\n",
       "      <td>163</td>\n",
       "      <td>grand</td>\n",
       "      <td>125000</td>\n",
       "      <td>8</td>\n",
       "      <td>gasoline</td>\n",
       "      <td>jeep</td>\n",
       "      <td>NaN</td>\n",
       "      <td>2016-03-14 00:00:00</td>\n",
       "      <td>0</td>\n",
       "      <td>90480</td>\n",
       "      <td>2016-04-05 12:47:46</td>\n",
       "    </tr>\n",
       "    <tr>\n",
       "      <td>3</td>\n",
       "      <td>2016-03-17 16:54:04</td>\n",
       "      <td>1500</td>\n",
       "      <td>small</td>\n",
       "      <td>2001</td>\n",
       "      <td>manual</td>\n",
       "      <td>75</td>\n",
       "      <td>golf</td>\n",
       "      <td>150000</td>\n",
       "      <td>6</td>\n",
       "      <td>petrol</td>\n",
       "      <td>volkswagen</td>\n",
       "      <td>no</td>\n",
       "      <td>2016-03-17 00:00:00</td>\n",
       "      <td>0</td>\n",
       "      <td>91074</td>\n",
       "      <td>2016-03-17 17:40:17</td>\n",
       "    </tr>\n",
       "    <tr>\n",
       "      <td>4</td>\n",
       "      <td>2016-03-31 17:25:20</td>\n",
       "      <td>3600</td>\n",
       "      <td>small</td>\n",
       "      <td>2008</td>\n",
       "      <td>manual</td>\n",
       "      <td>69</td>\n",
       "      <td>fabia</td>\n",
       "      <td>90000</td>\n",
       "      <td>7</td>\n",
       "      <td>gasoline</td>\n",
       "      <td>skoda</td>\n",
       "      <td>no</td>\n",
       "      <td>2016-03-31 00:00:00</td>\n",
       "      <td>0</td>\n",
       "      <td>60437</td>\n",
       "      <td>2016-04-06 10:17:21</td>\n",
       "    </tr>\n",
       "  </tbody>\n",
       "</table>\n",
       "</div>"
      ],
      "text/plain": [
       "           DateCrawled  Price VehicleType  RegistrationYear Gearbox  Power  \\\n",
       "0  2016-03-24 11:52:17    480         NaN              1993  manual      0   \n",
       "1  2016-03-24 10:58:45  18300       coupe              2011  manual    190   \n",
       "2  2016-03-14 12:52:21   9800         suv              2004    auto    163   \n",
       "3  2016-03-17 16:54:04   1500       small              2001  manual     75   \n",
       "4  2016-03-31 17:25:20   3600       small              2008  manual     69   \n",
       "\n",
       "   Model  Kilometer  RegistrationMonth  FuelType       Brand NotRepaired  \\\n",
       "0   golf     150000                  0    petrol  volkswagen         NaN   \n",
       "1    NaN     125000                  5  gasoline        audi         yes   \n",
       "2  grand     125000                  8  gasoline        jeep         NaN   \n",
       "3   golf     150000                  6    petrol  volkswagen          no   \n",
       "4  fabia      90000                  7  gasoline       skoda          no   \n",
       "\n",
       "           DateCreated  NumberOfPictures  PostalCode             LastSeen  \n",
       "0  2016-03-24 00:00:00                 0       70435  2016-04-07 03:16:57  \n",
       "1  2016-03-24 00:00:00                 0       66954  2016-04-07 01:46:50  \n",
       "2  2016-03-14 00:00:00                 0       90480  2016-04-05 12:47:46  \n",
       "3  2016-03-17 00:00:00                 0       91074  2016-03-17 17:40:17  \n",
       "4  2016-03-31 00:00:00                 0       60437  2016-04-06 10:17:21  "
      ]
     },
     "execution_count": 3,
     "metadata": {},
     "output_type": "execute_result"
    }
   ],
   "source": [
    "autos = pd.read_csv('/datasets/autos.csv')\n",
    "autos.head()"
   ]
  },
  {
   "cell_type": "markdown",
   "metadata": {},
   "source": [
    "Посмотрим подробнее на названия столбцов."
   ]
  },
  {
   "cell_type": "code",
   "execution_count": 4,
   "metadata": {},
   "outputs": [
    {
     "data": {
      "text/plain": [
       "Index(['DateCrawled', 'Price', 'VehicleType', 'RegistrationYear', 'Gearbox',\n",
       "       'Power', 'Model', 'Kilometer', 'RegistrationMonth', 'FuelType', 'Brand',\n",
       "       'NotRepaired', 'DateCreated', 'NumberOfPictures', 'PostalCode',\n",
       "       'LastSeen'],\n",
       "      dtype='object')"
      ]
     },
     "execution_count": 4,
     "metadata": {},
     "output_type": "execute_result"
    }
   ],
   "source": [
    "autos.columns"
   ]
  },
  {
   "cell_type": "markdown",
   "metadata": {},
   "source": [
    "Видно, что названия столбцов состоят только из латинских символов и не содержат лишних пробелов в начале и в конце. Однако, они содержат заглавные буквы. Переведем названия в нижний регистр, а чтобы отделить слова, поставим между ними нижнее подчеркивание. Таким обзом, в дальнейшем мы уменьшим вероятность опечаток."
   ]
  },
  {
   "cell_type": "code",
   "execution_count": 5,
   "metadata": {},
   "outputs": [],
   "source": [
    "# получаем новые названия, проставляя знак '_' перед каждой неначальной заглавной буквой\n",
    "new_columns = list(map(lambda x: re.sub(r'(\\B[A-Z])', r'_\\1', x), autos.columns.values))"
   ]
  },
  {
   "cell_type": "code",
   "execution_count": 6,
   "metadata": {},
   "outputs": [],
   "source": [
    "# приведем все буквы к нижнему регистру\n",
    "new_columns = list(map(str.lower, new_columns))"
   ]
  },
  {
   "cell_type": "code",
   "execution_count": 7,
   "metadata": {},
   "outputs": [
    {
     "data": {
      "text/plain": [
       "Index(['date_crawled', 'price', 'vehicle_type', 'registration_year', 'gearbox',\n",
       "       'power', 'model', 'kilometer', 'registration_month', 'fuel_type',\n",
       "       'brand', 'not_repaired', 'date_created', 'number_of_pictures',\n",
       "       'postal_code', 'last_seen'],\n",
       "      dtype='object')"
      ]
     },
     "execution_count": 7,
     "metadata": {},
     "output_type": "execute_result"
    }
   ],
   "source": [
    "# поменяем названия в исходной таблице\n",
    "autos.columns = new_columns\n",
    "autos.columns"
   ]
  },
  {
   "cell_type": "markdown",
   "metadata": {},
   "source": [
    "Проверим, есть ли пустые значения в таблице."
   ]
  },
  {
   "cell_type": "code",
   "execution_count": 8,
   "metadata": {},
   "outputs": [
    {
     "data": {
      "text/plain": [
       "date_crawled              0\n",
       "price                     0\n",
       "vehicle_type          37490\n",
       "registration_year         0\n",
       "gearbox               19833\n",
       "power                     0\n",
       "model                 19705\n",
       "kilometer                 0\n",
       "registration_month        0\n",
       "fuel_type             32895\n",
       "brand                     0\n",
       "not_repaired          71154\n",
       "date_created              0\n",
       "number_of_pictures        0\n",
       "postal_code               0\n",
       "last_seen                 0\n",
       "dtype: int64"
      ]
     },
     "execution_count": 8,
     "metadata": {},
     "output_type": "execute_result"
    }
   ],
   "source": [
    "autos.isnull().sum()"
   ]
  },
  {
   "cell_type": "markdown",
   "metadata": {},
   "source": [
    "Пропущенные значения есть. Посмотрим внимательнее на данные столбцы и решим, каким образом избавиться от пропусков."
   ]
  },
  {
   "cell_type": "markdown",
   "metadata": {},
   "source": [
    "Первый столбец - это `vehicle_type` (тип автомобильного кузова)."
   ]
  },
  {
   "cell_type": "code",
   "execution_count": 9,
   "metadata": {},
   "outputs": [
    {
     "data": {
      "text/plain": [
       "sedan          91457\n",
       "small          79831\n",
       "wagon          65166\n",
       "NaN            37490\n",
       "bus            28775\n",
       "convertible    20203\n",
       "coupe          16163\n",
       "suv            11996\n",
       "other           3288\n",
       "Name: vehicle_type, dtype: int64"
      ]
     },
     "execution_count": 9,
     "metadata": {},
     "output_type": "execute_result"
    }
   ],
   "source": [
    "autos['vehicle_type'].value_counts(dropna=False)"
   ]
  },
  {
   "cell_type": "code",
   "execution_count": 10,
   "metadata": {},
   "outputs": [
    {
     "data": {
      "text/html": [
       "<div>\n",
       "<style scoped>\n",
       "    .dataframe tbody tr th:only-of-type {\n",
       "        vertical-align: middle;\n",
       "    }\n",
       "\n",
       "    .dataframe tbody tr th {\n",
       "        vertical-align: top;\n",
       "    }\n",
       "\n",
       "    .dataframe thead th {\n",
       "        text-align: right;\n",
       "    }\n",
       "</style>\n",
       "<table border=\"1\" class=\"dataframe\">\n",
       "  <thead>\n",
       "    <tr style=\"text-align: right;\">\n",
       "      <th></th>\n",
       "      <th>date_crawled</th>\n",
       "      <th>price</th>\n",
       "      <th>vehicle_type</th>\n",
       "      <th>registration_year</th>\n",
       "      <th>gearbox</th>\n",
       "      <th>power</th>\n",
       "      <th>model</th>\n",
       "      <th>kilometer</th>\n",
       "      <th>registration_month</th>\n",
       "      <th>fuel_type</th>\n",
       "      <th>brand</th>\n",
       "      <th>not_repaired</th>\n",
       "      <th>date_created</th>\n",
       "      <th>number_of_pictures</th>\n",
       "      <th>postal_code</th>\n",
       "      <th>last_seen</th>\n",
       "    </tr>\n",
       "  </thead>\n",
       "  <tbody>\n",
       "    <tr>\n",
       "      <td>0</td>\n",
       "      <td>2016-03-24 11:52:17</td>\n",
       "      <td>480</td>\n",
       "      <td>NaN</td>\n",
       "      <td>1993</td>\n",
       "      <td>manual</td>\n",
       "      <td>0</td>\n",
       "      <td>golf</td>\n",
       "      <td>150000</td>\n",
       "      <td>0</td>\n",
       "      <td>petrol</td>\n",
       "      <td>volkswagen</td>\n",
       "      <td>NaN</td>\n",
       "      <td>2016-03-24 00:00:00</td>\n",
       "      <td>0</td>\n",
       "      <td>70435</td>\n",
       "      <td>2016-04-07 03:16:57</td>\n",
       "    </tr>\n",
       "    <tr>\n",
       "      <td>16</td>\n",
       "      <td>2016-04-01 12:46:46</td>\n",
       "      <td>300</td>\n",
       "      <td>NaN</td>\n",
       "      <td>2016</td>\n",
       "      <td>NaN</td>\n",
       "      <td>60</td>\n",
       "      <td>polo</td>\n",
       "      <td>150000</td>\n",
       "      <td>0</td>\n",
       "      <td>petrol</td>\n",
       "      <td>volkswagen</td>\n",
       "      <td>NaN</td>\n",
       "      <td>2016-04-01 00:00:00</td>\n",
       "      <td>0</td>\n",
       "      <td>38871</td>\n",
       "      <td>2016-04-01 12:46:46</td>\n",
       "    </tr>\n",
       "    <tr>\n",
       "      <td>22</td>\n",
       "      <td>2016-03-23 14:52:51</td>\n",
       "      <td>2900</td>\n",
       "      <td>NaN</td>\n",
       "      <td>2018</td>\n",
       "      <td>manual</td>\n",
       "      <td>90</td>\n",
       "      <td>meriva</td>\n",
       "      <td>150000</td>\n",
       "      <td>5</td>\n",
       "      <td>petrol</td>\n",
       "      <td>opel</td>\n",
       "      <td>no</td>\n",
       "      <td>2016-03-23 00:00:00</td>\n",
       "      <td>0</td>\n",
       "      <td>49716</td>\n",
       "      <td>2016-03-31 01:16:33</td>\n",
       "    </tr>\n",
       "    <tr>\n",
       "      <td>26</td>\n",
       "      <td>2016-03-10 19:38:18</td>\n",
       "      <td>5555</td>\n",
       "      <td>NaN</td>\n",
       "      <td>2017</td>\n",
       "      <td>manual</td>\n",
       "      <td>125</td>\n",
       "      <td>c4</td>\n",
       "      <td>125000</td>\n",
       "      <td>4</td>\n",
       "      <td>NaN</td>\n",
       "      <td>citroen</td>\n",
       "      <td>no</td>\n",
       "      <td>2016-03-10 00:00:00</td>\n",
       "      <td>0</td>\n",
       "      <td>31139</td>\n",
       "      <td>2016-03-16 09:16:46</td>\n",
       "    </tr>\n",
       "    <tr>\n",
       "      <td>31</td>\n",
       "      <td>2016-03-29 16:57:02</td>\n",
       "      <td>899</td>\n",
       "      <td>NaN</td>\n",
       "      <td>2016</td>\n",
       "      <td>manual</td>\n",
       "      <td>60</td>\n",
       "      <td>clio</td>\n",
       "      <td>150000</td>\n",
       "      <td>6</td>\n",
       "      <td>petrol</td>\n",
       "      <td>renault</td>\n",
       "      <td>NaN</td>\n",
       "      <td>2016-03-29 00:00:00</td>\n",
       "      <td>0</td>\n",
       "      <td>37075</td>\n",
       "      <td>2016-03-29 17:43:07</td>\n",
       "    </tr>\n",
       "  </tbody>\n",
       "</table>\n",
       "</div>"
      ],
      "text/plain": [
       "           date_crawled  price vehicle_type  registration_year gearbox  power  \\\n",
       "0   2016-03-24 11:52:17    480          NaN               1993  manual      0   \n",
       "16  2016-04-01 12:46:46    300          NaN               2016     NaN     60   \n",
       "22  2016-03-23 14:52:51   2900          NaN               2018  manual     90   \n",
       "26  2016-03-10 19:38:18   5555          NaN               2017  manual    125   \n",
       "31  2016-03-29 16:57:02    899          NaN               2016  manual     60   \n",
       "\n",
       "     model  kilometer  registration_month fuel_type       brand not_repaired  \\\n",
       "0     golf     150000                   0    petrol  volkswagen          NaN   \n",
       "16    polo     150000                   0    petrol  volkswagen          NaN   \n",
       "22  meriva     150000                   5    petrol        opel           no   \n",
       "26      c4     125000                   4       NaN     citroen           no   \n",
       "31    clio     150000                   6    petrol     renault          NaN   \n",
       "\n",
       "           date_created  number_of_pictures  postal_code            last_seen  \n",
       "0   2016-03-24 00:00:00                   0        70435  2016-04-07 03:16:57  \n",
       "16  2016-04-01 00:00:00                   0        38871  2016-04-01 12:46:46  \n",
       "22  2016-03-23 00:00:00                   0        49716  2016-03-31 01:16:33  \n",
       "26  2016-03-10 00:00:00                   0        31139  2016-03-16 09:16:46  \n",
       "31  2016-03-29 00:00:00                   0        37075  2016-03-29 17:43:07  "
      ]
     },
     "execution_count": 10,
     "metadata": {},
     "output_type": "execute_result"
    }
   ],
   "source": [
    "autos.loc[autos['vehicle_type'].isnull()].head()"
   ]
  },
  {
   "cell_type": "markdown",
   "metadata": {},
   "source": [
    "Из таблицы видно, что пропуски могут быть для различных моделей различных марок. Также видно, что это категориальная переменная. Клиент не ввел данную информацию, значит или он не смог определить какой тип кузова, или это не имеет для него значения. У нас есть категория *other*. Под ней можно понимать что угодно, а также неопределенные значения. Так что заполним пропуски в этом столбце этим значением."
   ]
  },
  {
   "cell_type": "code",
   "execution_count": 11,
   "metadata": {},
   "outputs": [
    {
     "data": {
      "text/plain": [
       "sedan          91457\n",
       "small          79831\n",
       "wagon          65166\n",
       "other          40778\n",
       "bus            28775\n",
       "convertible    20203\n",
       "coupe          16163\n",
       "suv            11996\n",
       "Name: vehicle_type, dtype: int64"
      ]
     },
     "execution_count": 11,
     "metadata": {},
     "output_type": "execute_result"
    }
   ],
   "source": [
    "autos['vehicle_type'] = autos['vehicle_type'].fillna('other')\n",
    "autos['vehicle_type'].value_counts(dropna=False)"
   ]
  },
  {
   "cell_type": "markdown",
   "metadata": {},
   "source": [
    "Сразу же посмотрим на столбцы `model` (модель автомобиля), `fuel_type` (тип топлива)."
   ]
  },
  {
   "cell_type": "code",
   "execution_count": 12,
   "metadata": {},
   "outputs": [
    {
     "name": "stdout",
     "output_type": "stream",
     "text": [
      "model\n"
     ]
    },
    {
     "data": {
      "text/plain": [
       "golf                  29232\n",
       "other                 24421\n",
       "3er                   19761\n",
       "NaN                   19705\n",
       "polo                  13066\n",
       "                      ...  \n",
       "serie_2                   8\n",
       "serie_3                   4\n",
       "rangerover                4\n",
       "serie_1                   2\n",
       "range_rover_evoque        2\n",
       "Name: model, Length: 251, dtype: int64"
      ]
     },
     "metadata": {},
     "output_type": "display_data"
    },
    {
     "name": "stdout",
     "output_type": "stream",
     "text": [
      "------------------------------------------------------------\n",
      "fuel_type\n"
     ]
    },
    {
     "data": {
      "text/plain": [
       "petrol      216352\n",
       "gasoline     98720\n",
       "NaN          32895\n",
       "lpg           5310\n",
       "cng            565\n",
       "hybrid         233\n",
       "other          204\n",
       "electric        90\n",
       "Name: fuel_type, dtype: int64"
      ]
     },
     "metadata": {},
     "output_type": "display_data"
    }
   ],
   "source": [
    "print('model')\n",
    "display(autos['model'].value_counts(dropna=False))\n",
    "\n",
    "print('-' * 60)\n",
    "\n",
    "print('fuel_type')\n",
    "display(autos['fuel_type'].value_counts(dropna=False))"
   ]
  },
  {
   "cell_type": "markdown",
   "metadata": {},
   "source": [
    "Видно, причина здесь та же самая, что и для столбца `vehicle_type`. Таким образом, проведем аналогичную замену на значение *other*."
   ]
  },
  {
   "cell_type": "code",
   "execution_count": 13,
   "metadata": {},
   "outputs": [
    {
     "name": "stdout",
     "output_type": "stream",
     "text": [
      "model\n"
     ]
    },
    {
     "data": {
      "text/plain": [
       "other                 44126\n",
       "golf                  29232\n",
       "3er                   19761\n",
       "polo                  13066\n",
       "corsa                 12570\n",
       "                      ...  \n",
       "serie_2                   8\n",
       "serie_3                   4\n",
       "rangerover                4\n",
       "range_rover_evoque        2\n",
       "serie_1                   2\n",
       "Name: model, Length: 250, dtype: int64"
      ]
     },
     "metadata": {},
     "output_type": "display_data"
    },
    {
     "name": "stdout",
     "output_type": "stream",
     "text": [
      "------------------------------------------------------------\n",
      "fuel_type\n"
     ]
    },
    {
     "data": {
      "text/plain": [
       "petrol      216352\n",
       "gasoline     98720\n",
       "other        33099\n",
       "lpg           5310\n",
       "cng            565\n",
       "hybrid         233\n",
       "electric        90\n",
       "Name: fuel_type, dtype: int64"
      ]
     },
     "metadata": {},
     "output_type": "display_data"
    }
   ],
   "source": [
    "autos['model'] = autos['model'].fillna('other')\n",
    "print('model')\n",
    "display(autos['model'].value_counts(dropna=False))\n",
    "\n",
    "print('-' * 60)\n",
    "\n",
    "autos['fuel_type'] = autos['fuel_type'].fillna('other')\n",
    "print('fuel_type')\n",
    "display(autos['fuel_type'].value_counts(dropna=False))"
   ]
  },
  {
   "cell_type": "markdown",
   "metadata": {},
   "source": [
    "Далее посмотрим на столбец `gearbox` (тип коробки передач)."
   ]
  },
  {
   "cell_type": "code",
   "execution_count": 14,
   "metadata": {},
   "outputs": [
    {
     "data": {
      "text/plain": [
       "manual    268251\n",
       "auto       66285\n",
       "NaN        19833\n",
       "Name: gearbox, dtype: int64"
      ]
     },
     "execution_count": 14,
     "metadata": {},
     "output_type": "execute_result"
    }
   ],
   "source": [
    "autos['gearbox'].value_counts(dropna=False)"
   ]
  },
  {
   "cell_type": "markdown",
   "metadata": {},
   "source": [
    "В данном случае есть всего два значения - механическая и автоматическая. Мы не можем однозначно определить какой тип будет у машин с пропуском в данном столбце. Удалять также не стоит, значений достаточно много. Поэтому введем еще одно дополнительное значение *no_info*. Значение *other* не стоит использовать, так как это может запутать того, кто будет смотерть в измененную таблицу."
   ]
  },
  {
   "cell_type": "code",
   "execution_count": 15,
   "metadata": {},
   "outputs": [],
   "source": [
    "autos['gearbox'] = autos['gearbox'].fillna('no_info')"
   ]
  },
  {
   "cell_type": "markdown",
   "metadata": {},
   "source": [
    "Последний столбец с пропусками - `not_repaired` (была машина в ремонте или нет)."
   ]
  },
  {
   "cell_type": "code",
   "execution_count": 16,
   "metadata": {},
   "outputs": [
    {
     "data": {
      "text/plain": [
       "no     247161\n",
       "NaN     71154\n",
       "yes     36054\n",
       "Name: not_repaired, dtype: int64"
      ]
     },
     "metadata": {},
     "output_type": "display_data"
    }
   ],
   "source": [
    "display(autos['not_repaired'].value_counts(dropna=False))"
   ]
  },
  {
   "cell_type": "markdown",
   "metadata": {},
   "source": [
    "Аналогичная ситуация, как со столбцом `gearbox`. Заполним значением *no_info*."
   ]
  },
  {
   "cell_type": "code",
   "execution_count": 17,
   "metadata": {},
   "outputs": [],
   "source": [
    "autos['not_repaired'] = autos['not_repaired'].fillna('no_info')"
   ]
  },
  {
   "cell_type": "markdown",
   "metadata": {},
   "source": [
    "Проверим, что мы действильно заполнили все пропуски."
   ]
  },
  {
   "cell_type": "code",
   "execution_count": 18,
   "metadata": {},
   "outputs": [
    {
     "data": {
      "text/plain": [
       "date_crawled          0\n",
       "price                 0\n",
       "vehicle_type          0\n",
       "registration_year     0\n",
       "gearbox               0\n",
       "power                 0\n",
       "model                 0\n",
       "kilometer             0\n",
       "registration_month    0\n",
       "fuel_type             0\n",
       "brand                 0\n",
       "not_repaired          0\n",
       "date_created          0\n",
       "number_of_pictures    0\n",
       "postal_code           0\n",
       "last_seen             0\n",
       "dtype: int64"
      ]
     },
     "execution_count": 18,
     "metadata": {},
     "output_type": "execute_result"
    }
   ],
   "source": [
    "autos.isnull().sum()"
   ]
  },
  {
   "cell_type": "markdown",
   "metadata": {},
   "source": [
    "Теперь посмотрим на общую информацию по таблице."
   ]
  },
  {
   "cell_type": "code",
   "execution_count": 19,
   "metadata": {},
   "outputs": [
    {
     "name": "stdout",
     "output_type": "stream",
     "text": [
      "<class 'pandas.core.frame.DataFrame'>\n",
      "RangeIndex: 354369 entries, 0 to 354368\n",
      "Data columns (total 16 columns):\n",
      "date_crawled          354369 non-null object\n",
      "price                 354369 non-null int64\n",
      "vehicle_type          354369 non-null object\n",
      "registration_year     354369 non-null int64\n",
      "gearbox               354369 non-null object\n",
      "power                 354369 non-null int64\n",
      "model                 354369 non-null object\n",
      "kilometer             354369 non-null int64\n",
      "registration_month    354369 non-null int64\n",
      "fuel_type             354369 non-null object\n",
      "brand                 354369 non-null object\n",
      "not_repaired          354369 non-null object\n",
      "date_created          354369 non-null object\n",
      "number_of_pictures    354369 non-null int64\n",
      "postal_code           354369 non-null int64\n",
      "last_seen             354369 non-null object\n",
      "dtypes: int64(7), object(9)\n",
      "memory usage: 43.3+ MB\n"
     ]
    }
   ],
   "source": [
    "autos.info()"
   ]
  },
  {
   "cell_type": "markdown",
   "metadata": {},
   "source": [
    "Теперь проверим правильные ли типы данных у столбцов.<br>\n",
    "`date_crawled`, `date_created`, `last_seen` - это даты, а значит тип данных datatime<br>\n",
    "Остальные типы данных верные."
   ]
  },
  {
   "cell_type": "code",
   "execution_count": 20,
   "metadata": {},
   "outputs": [
    {
     "data": {
      "text/html": [
       "<div>\n",
       "<style scoped>\n",
       "    .dataframe tbody tr th:only-of-type {\n",
       "        vertical-align: middle;\n",
       "    }\n",
       "\n",
       "    .dataframe tbody tr th {\n",
       "        vertical-align: top;\n",
       "    }\n",
       "\n",
       "    .dataframe thead th {\n",
       "        text-align: right;\n",
       "    }\n",
       "</style>\n",
       "<table border=\"1\" class=\"dataframe\">\n",
       "  <thead>\n",
       "    <tr style=\"text-align: right;\">\n",
       "      <th></th>\n",
       "      <th>date_crawled</th>\n",
       "      <th>price</th>\n",
       "      <th>vehicle_type</th>\n",
       "      <th>registration_year</th>\n",
       "      <th>gearbox</th>\n",
       "      <th>power</th>\n",
       "      <th>model</th>\n",
       "      <th>kilometer</th>\n",
       "      <th>registration_month</th>\n",
       "      <th>fuel_type</th>\n",
       "      <th>brand</th>\n",
       "      <th>not_repaired</th>\n",
       "      <th>date_created</th>\n",
       "      <th>number_of_pictures</th>\n",
       "      <th>postal_code</th>\n",
       "      <th>last_seen</th>\n",
       "    </tr>\n",
       "  </thead>\n",
       "  <tbody>\n",
       "    <tr>\n",
       "      <td>0</td>\n",
       "      <td>2016-03-24 11:52:17</td>\n",
       "      <td>480</td>\n",
       "      <td>other</td>\n",
       "      <td>1993</td>\n",
       "      <td>manual</td>\n",
       "      <td>0</td>\n",
       "      <td>golf</td>\n",
       "      <td>150000</td>\n",
       "      <td>0</td>\n",
       "      <td>petrol</td>\n",
       "      <td>volkswagen</td>\n",
       "      <td>no_info</td>\n",
       "      <td>2016-03-24 00:00:00</td>\n",
       "      <td>0</td>\n",
       "      <td>70435</td>\n",
       "      <td>2016-04-07 03:16:57</td>\n",
       "    </tr>\n",
       "    <tr>\n",
       "      <td>1</td>\n",
       "      <td>2016-03-24 10:58:45</td>\n",
       "      <td>18300</td>\n",
       "      <td>coupe</td>\n",
       "      <td>2011</td>\n",
       "      <td>manual</td>\n",
       "      <td>190</td>\n",
       "      <td>other</td>\n",
       "      <td>125000</td>\n",
       "      <td>5</td>\n",
       "      <td>gasoline</td>\n",
       "      <td>audi</td>\n",
       "      <td>yes</td>\n",
       "      <td>2016-03-24 00:00:00</td>\n",
       "      <td>0</td>\n",
       "      <td>66954</td>\n",
       "      <td>2016-04-07 01:46:50</td>\n",
       "    </tr>\n",
       "    <tr>\n",
       "      <td>2</td>\n",
       "      <td>2016-03-14 12:52:21</td>\n",
       "      <td>9800</td>\n",
       "      <td>suv</td>\n",
       "      <td>2004</td>\n",
       "      <td>auto</td>\n",
       "      <td>163</td>\n",
       "      <td>grand</td>\n",
       "      <td>125000</td>\n",
       "      <td>8</td>\n",
       "      <td>gasoline</td>\n",
       "      <td>jeep</td>\n",
       "      <td>no_info</td>\n",
       "      <td>2016-03-14 00:00:00</td>\n",
       "      <td>0</td>\n",
       "      <td>90480</td>\n",
       "      <td>2016-04-05 12:47:46</td>\n",
       "    </tr>\n",
       "    <tr>\n",
       "      <td>3</td>\n",
       "      <td>2016-03-17 16:54:04</td>\n",
       "      <td>1500</td>\n",
       "      <td>small</td>\n",
       "      <td>2001</td>\n",
       "      <td>manual</td>\n",
       "      <td>75</td>\n",
       "      <td>golf</td>\n",
       "      <td>150000</td>\n",
       "      <td>6</td>\n",
       "      <td>petrol</td>\n",
       "      <td>volkswagen</td>\n",
       "      <td>no</td>\n",
       "      <td>2016-03-17 00:00:00</td>\n",
       "      <td>0</td>\n",
       "      <td>91074</td>\n",
       "      <td>2016-03-17 17:40:17</td>\n",
       "    </tr>\n",
       "    <tr>\n",
       "      <td>4</td>\n",
       "      <td>2016-03-31 17:25:20</td>\n",
       "      <td>3600</td>\n",
       "      <td>small</td>\n",
       "      <td>2008</td>\n",
       "      <td>manual</td>\n",
       "      <td>69</td>\n",
       "      <td>fabia</td>\n",
       "      <td>90000</td>\n",
       "      <td>7</td>\n",
       "      <td>gasoline</td>\n",
       "      <td>skoda</td>\n",
       "      <td>no</td>\n",
       "      <td>2016-03-31 00:00:00</td>\n",
       "      <td>0</td>\n",
       "      <td>60437</td>\n",
       "      <td>2016-04-06 10:17:21</td>\n",
       "    </tr>\n",
       "  </tbody>\n",
       "</table>\n",
       "</div>"
      ],
      "text/plain": [
       "          date_crawled  price vehicle_type  registration_year gearbox  power  \\\n",
       "0  2016-03-24 11:52:17    480        other               1993  manual      0   \n",
       "1  2016-03-24 10:58:45  18300        coupe               2011  manual    190   \n",
       "2  2016-03-14 12:52:21   9800          suv               2004    auto    163   \n",
       "3  2016-03-17 16:54:04   1500        small               2001  manual     75   \n",
       "4  2016-03-31 17:25:20   3600        small               2008  manual     69   \n",
       "\n",
       "   model  kilometer  registration_month fuel_type       brand not_repaired  \\\n",
       "0   golf     150000                   0    petrol  volkswagen      no_info   \n",
       "1  other     125000                   5  gasoline        audi          yes   \n",
       "2  grand     125000                   8  gasoline        jeep      no_info   \n",
       "3   golf     150000                   6    petrol  volkswagen           no   \n",
       "4  fabia      90000                   7  gasoline       skoda           no   \n",
       "\n",
       "          date_created  number_of_pictures  postal_code            last_seen  \n",
       "0  2016-03-24 00:00:00                   0        70435  2016-04-07 03:16:57  \n",
       "1  2016-03-24 00:00:00                   0        66954  2016-04-07 01:46:50  \n",
       "2  2016-03-14 00:00:00                   0        90480  2016-04-05 12:47:46  \n",
       "3  2016-03-17 00:00:00                   0        91074  2016-03-17 17:40:17  \n",
       "4  2016-03-31 00:00:00                   0        60437  2016-04-06 10:17:21  "
      ]
     },
     "execution_count": 20,
     "metadata": {},
     "output_type": "execute_result"
    }
   ],
   "source": [
    "autos.head()"
   ]
  },
  {
   "cell_type": "code",
   "execution_count": 21,
   "metadata": {},
   "outputs": [],
   "source": [
    "autos['date_crawled'] = pd.to_datetime(autos['date_crawled'], format='%Y-%m-%dT%H:%M:%S')\n",
    "autos['date_created'] = pd.to_datetime(autos['date_created'], format='%Y-%m-%dT%H:%M:%S')\n",
    "autos['last_seen'] = pd.to_datetime(autos['last_seen'], format='%Y-%m-%dT%H:%M:%S')"
   ]
  },
  {
   "cell_type": "code",
   "execution_count": 22,
   "metadata": {},
   "outputs": [
    {
     "name": "stdout",
     "output_type": "stream",
     "text": [
      "<class 'pandas.core.frame.DataFrame'>\n",
      "RangeIndex: 354369 entries, 0 to 354368\n",
      "Data columns (total 16 columns):\n",
      "date_crawled          354369 non-null datetime64[ns]\n",
      "price                 354369 non-null int64\n",
      "vehicle_type          354369 non-null object\n",
      "registration_year     354369 non-null int64\n",
      "gearbox               354369 non-null object\n",
      "power                 354369 non-null int64\n",
      "model                 354369 non-null object\n",
      "kilometer             354369 non-null int64\n",
      "registration_month    354369 non-null int64\n",
      "fuel_type             354369 non-null object\n",
      "brand                 354369 non-null object\n",
      "not_repaired          354369 non-null object\n",
      "date_created          354369 non-null datetime64[ns]\n",
      "number_of_pictures    354369 non-null int64\n",
      "postal_code           354369 non-null int64\n",
      "last_seen             354369 non-null datetime64[ns]\n",
      "dtypes: datetime64[ns](3), int64(7), object(6)\n",
      "memory usage: 43.3+ MB\n"
     ]
    }
   ],
   "source": [
    "autos.info()"
   ]
  },
  {
   "cell_type": "markdown",
   "metadata": {},
   "source": [
    "Мы преподготовили данные для анализа. Теперь посмотрим на адекватность значений и логические ограничения ."
   ]
  },
  {
   "cell_type": "code",
   "execution_count": 23,
   "metadata": {},
   "outputs": [],
   "source": [
    "autos_modified = autos.copy()"
   ]
  },
  {
   "cell_type": "markdown",
   "metadata": {},
   "source": [
    "Посмотрим на столбец `registration_year` (год регистрации автомобиля)"
   ]
  },
  {
   "cell_type": "code",
   "execution_count": 24,
   "metadata": {},
   "outputs": [
    {
     "data": {
      "text/plain": [
       "2000    24490\n",
       "1999    22728\n",
       "2005    22109\n",
       "2001    20124\n",
       "2006    19900\n",
       "        ...  \n",
       "3200        1\n",
       "1920        1\n",
       "1919        1\n",
       "1915        1\n",
       "8455        1\n",
       "Name: registration_year, Length: 151, dtype: int64"
      ]
     },
     "execution_count": 24,
     "metadata": {},
     "output_type": "execute_result"
    }
   ],
   "source": [
    "autos_modified['registration_year'].value_counts()"
   ]
  },
  {
   "cell_type": "markdown",
   "metadata": {},
   "source": [
    "Видно, что присутствуют года, совершенно нереальные (например, 3200 и 8455). Посмотрим, сколько таких годов, и удалим такие строки."
   ]
  },
  {
   "cell_type": "code",
   "execution_count": 25,
   "metadata": {},
   "outputs": [
    {
     "data": {
      "text/plain": [
       "1000    37\n",
       "9999    26\n",
       "5000    17\n",
       "3000     7\n",
       "1800     5\n",
       "1500     5\n",
       "6000     5\n",
       "1234     4\n",
       "2500     4\n",
       "7000     4\n",
       "1111     3\n",
       "9000     3\n",
       "4000     3\n",
       "2800     2\n",
       "4500     2\n",
       "8000     2\n",
       "2222     2\n",
       "5555     2\n",
       "5911     2\n",
       "1300     2\n",
       "1600     2\n",
       "8500     1\n",
       "2066     1\n",
       "1602     1\n",
       "9229     1\n",
       "8200     1\n",
       "5900     1\n",
       "7500     1\n",
       "2900     1\n",
       "8455     1\n",
       "4100     1\n",
       "2290     1\n",
       "7800     1\n",
       "6500     1\n",
       "3700     1\n",
       "9450     1\n",
       "1001     1\n",
       "1255     1\n",
       "1253     1\n",
       "5600     1\n",
       "3800     1\n",
       "4800     1\n",
       "7100     1\n",
       "8888     1\n",
       "5300     1\n",
       "1200     1\n",
       "3500     1\n",
       "1688     1\n",
       "2200     1\n",
       "9996     1\n",
       "3200     1\n",
       "1400     1\n",
       "1039     1\n",
       "Name: registration_year, dtype: int64"
      ]
     },
     "execution_count": 25,
     "metadata": {},
     "output_type": "execute_result"
    }
   ],
   "source": [
    "autos_modified.query('(registration_year < 1900) or (registration_year > 2021)')['registration_year'].value_counts()"
   ]
  },
  {
   "cell_type": "code",
   "execution_count": 26,
   "metadata": {},
   "outputs": [
    {
     "name": "stdout",
     "output_type": "stream",
     "text": [
      "Rows with correct years:  354198\n",
      "All rows:  354198\n"
     ]
    }
   ],
   "source": [
    "index_for_drop = autos_modified.query('(registration_year < 1900) or (registration_year > 2021)').index\n",
    "autos_modified = autos_modified.drop(index_for_drop).reset_index(drop=True)\n",
    "print('Rows with correct years: ', len(autos_modified.query('(registration_year >= 1900) and (registration_year <= 2021)')))\n",
    "print('All rows: ', autos_modified.shape[0])"
   ]
  },
  {
   "cell_type": "markdown",
   "metadata": {},
   "source": [
    "Посмотрим на столбец `registration_month` (месяц регистрации автомобиля)."
   ]
  },
  {
   "cell_type": "code",
   "execution_count": 27,
   "metadata": {},
   "outputs": [
    {
     "data": {
      "text/plain": [
       "0     37220\n",
       "3     34368\n",
       "6     31501\n",
       "4     29266\n",
       "5     29149\n",
       "7     27210\n",
       "10    26098\n",
       "12    24287\n",
       "11    24184\n",
       "9     23811\n",
       "1     23214\n",
       "8     22626\n",
       "2     21264\n",
       "Name: registration_month, dtype: int64"
      ]
     },
     "execution_count": 27,
     "metadata": {},
     "output_type": "execute_result"
    }
   ],
   "source": [
    "autos_modified['registration_month'].value_counts()"
   ]
  },
  {
   "cell_type": "markdown",
   "metadata": {},
   "source": [
    "Видно, что существует много строк с месяцем равным 0. Это неверные значения (месяца с таким номером нет), но как-то изменять их нельзя. Скорее всего это были пропуски, и автоматиески они заполнились нулями. Однозначно сейчас мы сказать это не можем. Однако в дальнейшем предсказывать по таким данным некорректно, так как таких значений достаточно много, и они будут влиять не предсказания. Удалим такие значения. "
   ]
  },
  {
   "cell_type": "code",
   "execution_count": 28,
   "metadata": {},
   "outputs": [
    {
     "name": "stdout",
     "output_type": "stream",
     "text": [
      "Rows with correct month:  316978\n",
      "All rows:  316978\n"
     ]
    }
   ],
   "source": [
    "index_for_drop = autos_modified.query('registration_month == 0').index\n",
    "autos_modified = autos_modified.drop(index_for_drop).reset_index(drop=True)\n",
    "print('Rows with correct month: ', len(autos_modified.query('registration_year != 0')))\n",
    "print('All rows: ', autos_modified.shape[0])"
   ]
  },
  {
   "cell_type": "markdown",
   "metadata": {},
   "source": [
    "Посмотрим на адекватность значений столбца `power` (мощность (л. с.))."
   ]
  },
  {
   "cell_type": "code",
   "execution_count": 29,
   "metadata": {},
   "outputs": [
    {
     "data": {
      "text/plain": [
       "0        24894\n",
       "75       21537\n",
       "60       14270\n",
       "150      13413\n",
       "140      12342\n",
       "         ...  \n",
       "1401         1\n",
       "6011         1\n",
       "10110        1\n",
       "17011        1\n",
       "7529         1\n",
       "Name: power, Length: 677, dtype: int64"
      ]
     },
     "execution_count": 29,
     "metadata": {},
     "output_type": "execute_result"
    }
   ],
   "source": [
    "autos_modified['power'].value_counts()"
   ]
  },
  {
   "cell_type": "markdown",
   "metadata": {},
   "source": [
    "Видим, что есть нереалистичные значения (например, 17011) - таких машин не бывает. Обычно в автомобиле, не более 2500 л.с. и не менее 1 л.с. Посмотрим, сколько таких значений и удалим."
   ]
  },
  {
   "cell_type": "code",
   "execution_count": 30,
   "metadata": {},
   "outputs": [
    {
     "data": {
      "text/plain": [
       "0        24894\n",
       "4700         2\n",
       "7511         2\n",
       "3500         2\n",
       "12512        2\n",
       "         ...  \n",
       "10110        1\n",
       "17011        1\n",
       "10910        1\n",
       "15020        1\n",
       "7515         1\n",
       "Name: power, Length: 79, dtype: int64"
      ]
     },
     "execution_count": 30,
     "metadata": {},
     "output_type": "execute_result"
    }
   ],
   "source": [
    "autos_modified.query('(power > 2500) or (power < 1)')['power'].value_counts()"
   ]
  },
  {
   "cell_type": "code",
   "execution_count": 31,
   "metadata": {},
   "outputs": [
    {
     "name": "stdout",
     "output_type": "stream",
     "text": [
      "Rows with correct power:  292002\n",
      "All rows:  292002\n"
     ]
    }
   ],
   "source": [
    "index_for_drop = autos_modified.query('(power > 2500) or (power < 1)').index\n",
    "autos_modified = autos_modified.drop(index_for_drop).reset_index(drop=True)\n",
    "print('Rows with correct power: ', len(autos_modified.query('(power <= 2500) and (power >= 1)')))\n",
    "print('All rows: ', autos_modified.shape[0])"
   ]
  },
  {
   "cell_type": "markdown",
   "metadata": {},
   "source": [
    "Также стоит посмотреть на наш целевой признак `price` (цена)."
   ]
  },
  {
   "cell_type": "code",
   "execution_count": 32,
   "metadata": {},
   "outputs": [
    {
     "data": {
      "text/plain": [
       "0        4980\n",
       "1500     4165\n",
       "500      3977\n",
       "2500     3526\n",
       "1200     3506\n",
       "         ... \n",
       "11149       1\n",
       "7563        1\n",
       "3977        1\n",
       "4747        1\n",
       "4994        1\n",
       "Name: price, Length: 3574, dtype: int64"
      ]
     },
     "execution_count": 32,
     "metadata": {},
     "output_type": "execute_result"
    }
   ],
   "source": [
    "autos_modified['price'].value_counts()"
   ]
  },
  {
   "cell_type": "markdown",
   "metadata": {},
   "source": [
    "Можно заметить, что для 4980 строк, значения целевого признака равно 0. Это некорректно, значит цена не была объявлена. Удалим такие строки."
   ]
  },
  {
   "cell_type": "code",
   "execution_count": 33,
   "metadata": {},
   "outputs": [
    {
     "name": "stdout",
     "output_type": "stream",
     "text": [
      "Rows with correct price:  287022\n",
      "All rows:  287022\n"
     ]
    }
   ],
   "source": [
    "index_for_drop = autos_modified.query('price == 0').index\n",
    "autos_modified = autos_modified.drop(index_for_drop).reset_index(drop=True)\n",
    "print('Rows with correct price: ', len(autos_modified.query('price != 0')))\n",
    "print('All rows: ', autos_modified.shape[0])"
   ]
  },
  {
   "cell_type": "markdown",
   "metadata": {},
   "source": [
    "Теперь подумаем, какие данные будут важны для определения стоимости автомобиля. Признаки `date_crawled` (дата скачивания анкеты из базы), `date_created` (дата создания анкеты), `postal_code` (почтовый индекс владельца анкеты), `last_seen` (дата последней активности пользователя) не важны для автомобиля, это характеристики пользователя. Поэтому удалим эти колонки."
   ]
  },
  {
   "cell_type": "code",
   "execution_count": 34,
   "metadata": {},
   "outputs": [],
   "source": [
    "autos_modified = autos_modified.drop(['date_crawled', 'date_created', 'postal_code', 'last_seen'], axis=1)"
   ]
  },
  {
   "cell_type": "code",
   "execution_count": 35,
   "metadata": {},
   "outputs": [
    {
     "name": "stdout",
     "output_type": "stream",
     "text": [
      "<class 'pandas.core.frame.DataFrame'>\n",
      "RangeIndex: 287022 entries, 0 to 287021\n",
      "Data columns (total 12 columns):\n",
      "price                 287022 non-null int64\n",
      "vehicle_type          287022 non-null object\n",
      "registration_year     287022 non-null int64\n",
      "gearbox               287022 non-null object\n",
      "power                 287022 non-null int64\n",
      "model                 287022 non-null object\n",
      "kilometer             287022 non-null int64\n",
      "registration_month    287022 non-null int64\n",
      "fuel_type             287022 non-null object\n",
      "brand                 287022 non-null object\n",
      "not_repaired          287022 non-null object\n",
      "number_of_pictures    287022 non-null int64\n",
      "dtypes: int64(6), object(6)\n",
      "memory usage: 26.3+ MB\n"
     ]
    }
   ],
   "source": [
    "autos_modified.info()"
   ]
  },
  {
   "cell_type": "markdown",
   "metadata": {},
   "source": [
    "Посмотрим на колонкe `number_of_pictures` (количество фотографий автомобиля)."
   ]
  },
  {
   "cell_type": "code",
   "execution_count": 36,
   "metadata": {},
   "outputs": [
    {
     "data": {
      "text/plain": [
       "0    287022\n",
       "Name: number_of_pictures, dtype: int64"
      ]
     },
     "execution_count": 36,
     "metadata": {},
     "output_type": "execute_result"
    }
   ],
   "source": [
    "autos_modified['number_of_pictures'].value_counts()"
   ]
  },
  {
   "cell_type": "markdown",
   "metadata": {},
   "source": [
    "Видно, что для всех строк здесь хранится только одно значение 0. А значит при предсказании оно не будет влиять ни на что. Также удалим данный столбец."
   ]
  },
  {
   "cell_type": "code",
   "execution_count": 37,
   "metadata": {},
   "outputs": [],
   "source": [
    "autos_modified = autos_modified.drop('number_of_pictures', axis=1)"
   ]
  },
  {
   "cell_type": "markdown",
   "metadata": {},
   "source": [
    "В итоге у нас получилась такая таблица."
   ]
  },
  {
   "cell_type": "code",
   "execution_count": 38,
   "metadata": {},
   "outputs": [
    {
     "name": "stdout",
     "output_type": "stream",
     "text": [
      "<class 'pandas.core.frame.DataFrame'>\n",
      "RangeIndex: 287022 entries, 0 to 287021\n",
      "Data columns (total 11 columns):\n",
      "price                 287022 non-null int64\n",
      "vehicle_type          287022 non-null object\n",
      "registration_year     287022 non-null int64\n",
      "gearbox               287022 non-null object\n",
      "power                 287022 non-null int64\n",
      "model                 287022 non-null object\n",
      "kilometer             287022 non-null int64\n",
      "registration_month    287022 non-null int64\n",
      "fuel_type             287022 non-null object\n",
      "brand                 287022 non-null object\n",
      "not_repaired          287022 non-null object\n",
      "dtypes: int64(5), object(6)\n",
      "memory usage: 24.1+ MB\n"
     ]
    }
   ],
   "source": [
    "autos_modified.info()"
   ]
  },
  {
   "cell_type": "markdown",
   "metadata": {},
   "source": [
    "На данном этапе также выделим отдельно признаки и целевой признак, которые мы будем использовать для обучения и предсказания."
   ]
  },
  {
   "cell_type": "code",
   "execution_count": 39,
   "metadata": {},
   "outputs": [],
   "source": [
    "features = autos_modified.drop('price', axis=1)\n",
    "target = autos_modified['price']"
   ]
  },
  {
   "cell_type": "markdown",
   "metadata": {},
   "source": [
    "### Вывод"
   ]
  },
  {
   "cell_type": "markdown",
   "metadata": {},
   "source": [
    "На данном этапе мы загрузили и подготовили данные. Поменяли названия колонок, чтобы использовалиь только прописные буквы и разделили слова нижним подчеркванием. Затем определили строки с пропусками и заполнили их подходящим значением. После скорректировали типы данных. Данные проверили на адекватность и оставили только корректные значения. Также определили какие признаки влияют на  определение стоимости и убрали остальные. В итоге выделили отдельно признаки и целевой признак, чтобы можно было переходить к обучению моделей."
   ]
  },
  {
   "cell_type": "markdown",
   "metadata": {},
   "source": [
    "## 2. Обучение моделей"
   ]
  },
  {
   "cell_type": "markdown",
   "metadata": {},
   "source": [
    "Выделим отдельно количественные и категориальные признаки, которые понадобятся нам в дальнейшем. В данном случае количесвтенными являются `power` и `kilometer`. Признаки `registration year` и `registration_month` являются по сути категориальными, значения обоих столбцов конечное количество категорий (после предварительной фильтрации неадекватных значений)."
   ]
  },
  {
   "cell_type": "code",
   "execution_count": 40,
   "metadata": {},
   "outputs": [],
   "source": [
    "num_features = ['power', 'kilometer']"
   ]
  },
  {
   "cell_type": "code",
   "execution_count": 41,
   "metadata": {},
   "outputs": [],
   "source": [
    "cat_features = ['vehicle_type', 'registration_year', 'gearbox', 'model',\n",
    "                'registration_month', 'fuel_type', 'brand', 'not_repaired']"
   ]
  },
  {
   "cell_type": "markdown",
   "metadata": {},
   "source": [
    "В дальнейшем мы рассмотрим три разные модели для определения стоимости автомобиля. Поскольку разные модели по разному работают с категориальными переменными, каждый раз мы будем подготавливать признаки заново. Для этого мы будем всегда использовать один и тот же параметр рандомизации и делить их в одинаковом соотношении. Конечно, можно по умолчанию преобразовать все признаки методом прямого отображения, но нам интересно посмотреть на особенности разных моделей. Также каждый раз будем проводить стандартизацию количественных признакнов после разбиения, чтобы избежать утечки данных."
   ]
  },
  {
   "cell_type": "markdown",
   "metadata": {},
   "source": [
    "### Линейная регрессия"
   ]
  },
  {
   "cell_type": "markdown",
   "metadata": {},
   "source": [
    "Линейная регрессия не умеет работать с категориальными признаками. Поэтому необходимо их преобразовать в количественные. Воспользуемся для этого методом прямого отображения (One-Hot Encoding)."
   ]
  },
  {
   "cell_type": "code",
   "execution_count": 42,
   "metadata": {},
   "outputs": [],
   "source": [
    "features_lr = pd.get_dummies(features, drop_first=True)"
   ]
  },
  {
   "cell_type": "markdown",
   "metadata": {},
   "source": [
    "Разобьем наши признаки на обучающую, валидационную и тестовые выборки."
   ]
  },
  {
   "cell_type": "code",
   "execution_count": 43,
   "metadata": {},
   "outputs": [],
   "source": [
    "# отделим 40% данных для проверочных выборок\n",
    "features_train_lr, features_check_lr, target_train_lr, target_check_lr = train_test_split(\n",
    "        features_lr, target, test_size=0.4, random_state=RAND_SEED)"
   ]
  },
  {
   "cell_type": "code",
   "execution_count": 44,
   "metadata": {},
   "outputs": [],
   "source": [
    "# определим 50% данных для валидационной выборки и 50% для тестовой выборки (из проверочное выборки)\n",
    "features_valid_lr, features_test_lr, target_valid_lr, target_test_lr = train_test_split(\n",
    "        features_check_lr, target_check_lr, test_size=0.5, random_state=RAND_SEED)"
   ]
  },
  {
   "cell_type": "markdown",
   "metadata": {},
   "source": [
    "Проведем стандартизацию количественных признаков."
   ]
  },
  {
   "cell_type": "code",
   "execution_count": 45,
   "metadata": {},
   "outputs": [],
   "source": [
    "pd.options.mode.chained_assignment = None\n",
    "\n",
    "scaler = StandardScaler()\n",
    "scaler.fit(features_train_lr[num_features])\n",
    "\n",
    "features_train_lr[num_features] = scaler.transform(features_train_lr[num_features])\n",
    "features_valid_lr[num_features] = scaler.transform(features_valid_lr[num_features])\n",
    "features_test_lr[num_features] = scaler.transform(features_test_lr[num_features])"
   ]
  },
  {
   "cell_type": "markdown",
   "metadata": {},
   "source": [
    "Соединим обучающую и валидационные выборки. Обучим на них модель. Данный шаг с разделением, а затем объединением выборок, был сделан по той причине, что в дальнейшем мы будем использовать и обучающую, и валидационную выборки, и уже на них строить окончательную модель и оценивать работу на тестовой выборке. Чтобы не было несоответсвий, мы проделали эту процедуру."
   ]
  },
  {
   "cell_type": "code",
   "execution_count": 46,
   "metadata": {},
   "outputs": [],
   "source": [
    "features_train_valid_lr = pd.concat([features_train_lr] + [features_valid_lr])\n",
    "target_train_valid_lr = pd.concat([target_train_lr] + [target_valid_lr])"
   ]
  },
  {
   "cell_type": "code",
   "execution_count": 47,
   "metadata": {},
   "outputs": [],
   "source": [
    "model_lr = LinearRegression()"
   ]
  },
  {
   "cell_type": "code",
   "execution_count": 48,
   "metadata": {},
   "outputs": [
    {
     "name": "stdout",
     "output_type": "stream",
     "text": [
      "CPU times: user 19.3 s, sys: 4.95 s, total: 24.3 s\n",
      "Wall time: 24.3 s\n"
     ]
    },
    {
     "data": {
      "text/plain": [
       "LinearRegression(copy_X=True, fit_intercept=True, n_jobs=None, normalize=False)"
      ]
     },
     "execution_count": 48,
     "metadata": {},
     "output_type": "execute_result"
    }
   ],
   "source": [
    "%%time\n",
    "model_lr.fit(features_train_valid_lr, target_train_valid_lr)"
   ]
  },
  {
   "cell_type": "code",
   "execution_count": 49,
   "metadata": {},
   "outputs": [
    {
     "name": "stdout",
     "output_type": "stream",
     "text": [
      "CPU times: user 136 ms, sys: 111 ms, total: 247 ms\n",
      "Wall time: 278 ms\n"
     ]
    }
   ],
   "source": [
    "%%time\n",
    "predictions_lr = model_lr.predict(features_test_lr)"
   ]
  },
  {
   "cell_type": "code",
   "execution_count": 50,
   "metadata": {},
   "outputs": [
    {
     "name": "stdout",
     "output_type": "stream",
     "text": [
      "rmse_lr = 2738.768703235659\n"
     ]
    }
   ],
   "source": [
    "# посчитаем значение RMSE (квадратный корень из средней квадратичной ошибки) через вычисление MSE\n",
    "mse_lr = mean_squared_error(target_test_lr, predictions_lr)\n",
    "rmse_lr = mse_lr ** 0.5\n",
    "print('rmse_lr =', rmse_lr)"
   ]
  },
  {
   "cell_type": "markdown",
   "metadata": {},
   "source": [
    "### CatBoost"
   ]
  },
  {
   "cell_type": "markdown",
   "metadata": {},
   "source": [
    "Разделим наши выборки и проведем стандартизацию. CatBoost умеет работать с категориальными признаками, проверим насколько успешно."
   ]
  },
  {
   "cell_type": "code",
   "execution_count": 51,
   "metadata": {},
   "outputs": [],
   "source": [
    "# отделим 40% данных для проверочных выборок\n",
    "features_train_cbr, features_check_cbr, target_train_cbr, target_check_cbr = train_test_split(\n",
    "        features, target, test_size=0.4, random_state=RAND_SEED)"
   ]
  },
  {
   "cell_type": "code",
   "execution_count": 52,
   "metadata": {},
   "outputs": [],
   "source": [
    "# определим 50% данных для валидационной выборки и 50% для тестовой выборки (из проверочное выборки)\n",
    "features_valid_cbr, features_test_cbr, target_valid_cbr, target_test_cbr = train_test_split(\n",
    "    features_check_cbr, target_check_cbr, test_size=0.5, random_state=RAND_SEED)"
   ]
  },
  {
   "cell_type": "code",
   "execution_count": 53,
   "metadata": {},
   "outputs": [],
   "source": [
    "pd.options.mode.chained_assignment = None\n",
    "\n",
    "scaler = StandardScaler()\n",
    "scaler.fit(features_train_cbr[num_features])\n",
    "\n",
    "features_train_cbr[num_features] = scaler.transform(features_train_cbr[num_features])\n",
    "features_valid_cbr[num_features] = scaler.transform(features_valid_cbr[num_features])\n",
    "features_test_cbr[num_features] = scaler.transform(features_test_cbr[num_features])"
   ]
  },
  {
   "cell_type": "markdown",
   "metadata": {},
   "source": [
    "С помощью поиска по сетке подберем наилучшие параметры, чтобы метрика RMSE  была минимальна."
   ]
  },
  {
   "cell_type": "code",
   "execution_count": 54,
   "metadata": {},
   "outputs": [],
   "source": [
    "model_cbr = CatBoostRegressor(loss_function='RMSE')"
   ]
  },
  {
   "cell_type": "markdown",
   "metadata": {},
   "source": [
    "Выберем значение перебираемых гиперпараметров. Возьмем лишь небольшое количество значений и введем ограничение на глубину деревьев. Этим мы скоратим время подбора лучших параметров."
   ]
  },
  {
   "cell_type": "code",
   "execution_count": 55,
   "metadata": {},
   "outputs": [],
   "source": [
    "grid_cbr = {'iterations': [1000, 2000],\n",
    "            'learning_rate': [0.9, 1],\n",
    "            'depth': [1]}"
   ]
  },
  {
   "cell_type": "markdown",
   "metadata": {},
   "source": [
    "Обучать модель будем на обучающей выборке. По умолчанию, в методе grid_search параметр search_by_train_test_split=True. Это означает что каждый раз валидационная выборка в ходе этого обучения будет браться из обучающих данных."
   ]
  },
  {
   "cell_type": "code",
   "execution_count": 56,
   "metadata": {},
   "outputs": [],
   "source": [
    "train_pool = Pool(data=features_train_cbr, label=target_train_cbr, cat_features=cat_features)"
   ]
  },
  {
   "cell_type": "code",
   "execution_count": 57,
   "metadata": {},
   "outputs": [
    {
     "name": "stdout",
     "output_type": "stream",
     "text": [
      "0:\tloss: 2174.3941759\tbest: 2174.3941759 (0)\ttotal: 1m 26s\tremaining: 4m 18s\n",
      "1:\tloss: 2171.2726648\tbest: 2171.2726648 (1)\ttotal: 2m 50s\tremaining: 2m 50s\n",
      "2:\tloss: 2165.0225041\tbest: 2165.0225041 (2)\ttotal: 5m 39s\tremaining: 1m 53s\n",
      "3:\tloss: 2162.8222367\tbest: 2162.8222367 (3)\ttotal: 8m 27s\tremaining: 0us\n",
      "Estimating final quality...\n"
     ]
    }
   ],
   "source": [
    "result = model_cbr.grid_search(param_grid=grid_cbr, X=train_pool)"
   ]
  },
  {
   "cell_type": "markdown",
   "metadata": {},
   "source": [
    "Посмотрим какие параметры подобрались для наилучшей модели, при использовани метрики RMSE."
   ]
  },
  {
   "cell_type": "code",
   "execution_count": 58,
   "metadata": {},
   "outputs": [
    {
     "data": {
      "text/plain": [
       "{'loss_function': 'RMSE', 'depth': 1, 'learning_rate': 1, 'iterations': 2000}"
      ]
     },
     "execution_count": 58,
     "metadata": {},
     "output_type": "execute_result"
    }
   ],
   "source": [
    "model_cbr.get_params()"
   ]
  },
  {
   "cell_type": "code",
   "execution_count": 59,
   "metadata": {},
   "outputs": [],
   "source": [
    "valid_pool = Pool(data=features_valid_cbr, label=target_valid_cbr, cat_features=cat_features)"
   ]
  },
  {
   "cell_type": "markdown",
   "metadata": {},
   "source": [
    "Мы уже можем пользоваться нашей моделью. Она уже обучена на оптимальных гиперпараметрах после grid_search. Однако, мы хотим замерить время обучения, с использованием валидационной выборки."
   ]
  },
  {
   "cell_type": "code",
   "execution_count": 60,
   "metadata": {},
   "outputs": [
    {
     "name": "stdout",
     "output_type": "stream",
     "text": [
      "0:\tlearn: 3566.3372338\ttest: 3556.0649942\tbest: 3556.0649942 (0)\ttotal: 169ms\tremaining: 5m 36s\n",
      "100:\tlearn: 2255.0065650\ttest: 2268.4568743\tbest: 2267.0683155 (99)\ttotal: 10.4s\tremaining: 3m 15s\n",
      "200:\tlearn: 2218.1410366\ttest: 2228.0906097\tbest: 2227.9342843 (199)\ttotal: 20.3s\tremaining: 3m 1s\n",
      "300:\tlearn: 2202.2199994\ttest: 2210.9783251\tbest: 2210.9783251 (300)\ttotal: 30.2s\tremaining: 2m 50s\n",
      "400:\tlearn: 2192.3349483\ttest: 2202.7247741\tbest: 2202.7247741 (400)\ttotal: 40.2s\tremaining: 2m 40s\n",
      "500:\tlearn: 2186.6134889\ttest: 2195.5223225\tbest: 2195.5223225 (500)\ttotal: 50.1s\tremaining: 2m 29s\n",
      "600:\tlearn: 2181.4686581\ttest: 2190.3377484\tbest: 2190.3377484 (600)\ttotal: 1m\tremaining: 2m 19s\n",
      "700:\tlearn: 2177.4256670\ttest: 2186.3283179\tbest: 2186.3283179 (700)\ttotal: 1m 9s\tremaining: 2m 9s\n",
      "800:\tlearn: 2174.6020975\ttest: 2183.5871124\tbest: 2183.5151267 (793)\ttotal: 1m 19s\tremaining: 1m 59s\n",
      "900:\tlearn: 2172.4375388\ttest: 2181.3776565\tbest: 2181.3193832 (876)\ttotal: 1m 29s\tremaining: 1m 49s\n",
      "1000:\tlearn: 2170.3954867\ttest: 2179.0498663\tbest: 2179.0352577 (999)\ttotal: 1m 39s\tremaining: 1m 39s\n",
      "1100:\tlearn: 2168.4053705\ttest: 2176.7740377\tbest: 2176.7740377 (1100)\ttotal: 1m 49s\tremaining: 1m 29s\n",
      "1200:\tlearn: 2166.5244195\ttest: 2175.0689032\tbest: 2175.0689032 (1200)\ttotal: 1m 59s\tremaining: 1m 19s\n",
      "1300:\tlearn: 2165.1019513\ttest: 2173.6627197\tbest: 2173.3376069 (1295)\ttotal: 2m 9s\tremaining: 1m 9s\n",
      "1400:\tlearn: 2164.0448385\ttest: 2172.4387334\tbest: 2172.4387334 (1400)\ttotal: 2m 19s\tremaining: 59.7s\n",
      "1500:\tlearn: 2162.6513857\ttest: 2171.0143930\tbest: 2170.9508718 (1494)\ttotal: 2m 29s\tremaining: 49.7s\n",
      "1600:\tlearn: 2161.6840601\ttest: 2169.9315349\tbest: 2169.9056650 (1599)\ttotal: 2m 39s\tremaining: 39.8s\n",
      "1700:\tlearn: 2160.7821148\ttest: 2168.8628399\tbest: 2168.8521672 (1698)\ttotal: 2m 49s\tremaining: 29.8s\n",
      "1800:\tlearn: 2159.9781334\ttest: 2168.0972206\tbest: 2167.9702493 (1790)\ttotal: 2m 59s\tremaining: 19.8s\n",
      "1900:\tlearn: 2159.0707234\ttest: 2167.1637142\tbest: 2167.1637142 (1900)\ttotal: 3m 9s\tremaining: 9.86s\n",
      "1999:\tlearn: 2158.4394870\ttest: 2166.2812890\tbest: 2166.2547438 (1990)\ttotal: 3m 19s\tremaining: 0us\n",
      "\n",
      "bestTest = 2166.254744\n",
      "bestIteration = 1990\n",
      "\n",
      "Shrink model to first 1991 iterations.\n",
      "CPU times: user 3min 6s, sys: 12.8 s, total: 3min 19s\n",
      "Wall time: 3min 22s\n"
     ]
    },
    {
     "data": {
      "text/plain": [
       "<catboost.core.CatBoostRegressor at 0x7fc405f8fc90>"
      ]
     },
     "execution_count": 60,
     "metadata": {},
     "output_type": "execute_result"
    }
   ],
   "source": [
    "%%time\n",
    "model_cbr.fit(train_pool, eval_set=valid_pool, verbose=100)"
   ]
  },
  {
   "cell_type": "markdown",
   "metadata": {},
   "source": [
    "После обучения, мы получили наилучшее значение метрики RMSE на валидационной выборке: 2166.254744"
   ]
  },
  {
   "cell_type": "markdown",
   "metadata": {},
   "source": [
    "Посмотрим на качество предсказания на тестовой выборке."
   ]
  },
  {
   "cell_type": "code",
   "execution_count": 61,
   "metadata": {},
   "outputs": [
    {
     "name": "stdout",
     "output_type": "stream",
     "text": [
      "CPU times: user 363 ms, sys: 13.4 ms, total: 376 ms\n",
      "Wall time: 366 ms\n"
     ]
    }
   ],
   "source": [
    "%%time\n",
    "predictions_cbr = model_cbr.predict(features_test_cbr)"
   ]
  },
  {
   "cell_type": "code",
   "execution_count": 62,
   "metadata": {},
   "outputs": [
    {
     "name": "stdout",
     "output_type": "stream",
     "text": [
      "rmse_cbr = 2171.0763838064086\n"
     ]
    }
   ],
   "source": [
    "# посчитаем значение RMSE (квадратный корень из средней квадратичной ошибки) через вычисление MSE\n",
    "mse_cbr = mean_squared_error(target_test_cbr, predictions_cbr)\n",
    "rmse_cbr = mse_cbr ** 0.5\n",
    "print('rmse_cbr =', rmse_cbr)"
   ]
  },
  {
   "cell_type": "markdown",
   "metadata": {},
   "source": [
    "### LightGBM"
   ]
  },
  {
   "cell_type": "markdown",
   "metadata": {},
   "source": [
    "LightGBM напрямую не умеет работать с категориальными переменными. Их необхоимо представить в виде чисел. Используем для этого LabelEncoder."
   ]
  },
  {
   "cell_type": "code",
   "execution_count": 63,
   "metadata": {},
   "outputs": [],
   "source": [
    "lbl = preprocessing.LabelEncoder()"
   ]
  },
  {
   "cell_type": "code",
   "execution_count": 64,
   "metadata": {},
   "outputs": [],
   "source": [
    "features_lgbmr = features.copy()\n",
    "features_lgbmr[cat_features] = features_lgbmr[cat_features].apply(lbl.fit_transform)"
   ]
  },
  {
   "cell_type": "markdown",
   "metadata": {},
   "source": [
    "Разделим на выборки и проведем стандартизацию количесвтенных параметров."
   ]
  },
  {
   "cell_type": "code",
   "execution_count": 65,
   "metadata": {},
   "outputs": [],
   "source": [
    "# отделим 40% данных для проверочных выборок\n",
    "features_train_lgbmr, features_check_lgbmr, target_train_lgbmr, target_check_lgbmr = train_test_split(\n",
    "        features_lgbmr, target, test_size=0.4, random_state=RAND_SEED)"
   ]
  },
  {
   "cell_type": "code",
   "execution_count": 66,
   "metadata": {},
   "outputs": [],
   "source": [
    "# определим 50% данных для валидационной выборки и 50% для тестовой выборки (из проверочное выборки)\n",
    "features_valid_lgbmr, features_test_lgbmr, target_valid_lgbmr, target_test_lgbmr = train_test_split(\n",
    "        features_check_lgbmr, target_check_lgbmr, test_size=0.5, random_state=RAND_SEED)"
   ]
  },
  {
   "cell_type": "code",
   "execution_count": 67,
   "metadata": {},
   "outputs": [],
   "source": [
    "pd.options.mode.chained_assignment = None\n",
    "\n",
    "scaler = StandardScaler()\n",
    "scaler.fit(features_train_lgbmr[num_features])\n",
    "\n",
    "features_train_lgbmr[num_features] = scaler.transform(features_train_lgbmr[num_features])\n",
    "features_valid_lgbmr[num_features] = scaler.transform(features_valid_lgbmr[num_features])\n",
    "features_test_lgbmr[num_features] = scaler.transform(features_test_lgbmr[num_features])"
   ]
  },
  {
   "cell_type": "code",
   "execution_count": 68,
   "metadata": {},
   "outputs": [],
   "source": [
    "model_lgbmr = lgb.LGBMRegressor(boosting_type='gbdt')"
   ]
  },
  {
   "cell_type": "code",
   "execution_count": 69,
   "metadata": {},
   "outputs": [],
   "source": [
    "grid_lgbmr = {'n_estimators': [1000, 2000],\n",
    "              'learning_rate': [0.9, 1],\n",
    "              'max_depth': [1]}"
   ]
  },
  {
   "cell_type": "code",
   "execution_count": 70,
   "metadata": {},
   "outputs": [
    {
     "name": "stdout",
     "output_type": "stream",
     "text": [
      "Fitting 3 folds for each of 4 candidates, totalling 12 fits\n"
     ]
    },
    {
     "name": "stderr",
     "output_type": "stream",
     "text": [
      "[Parallel(n_jobs=1)]: Using backend SequentialBackend with 1 concurrent workers.\n",
      "/opt/conda/lib/python3.7/site-packages/lightgbm/basic.py:1295: UserWarning: categorical_feature in Dataset is overridden.\n",
      "New categorical_feature is ['brand', 'fuel_type', 'gearbox', 'model', 'not_repaired', 'registration_month', 'registration_year', 'vehicle_type']\n",
      "  'New categorical_feature is {}'.format(sorted(list(categorical_feature))))\n",
      "/opt/conda/lib/python3.7/site-packages/lightgbm/basic.py:1295: UserWarning: categorical_feature in Dataset is overridden.\n",
      "New categorical_feature is ['brand', 'fuel_type', 'gearbox', 'model', 'not_repaired', 'registration_month', 'registration_year', 'vehicle_type']\n",
      "  'New categorical_feature is {}'.format(sorted(list(categorical_feature))))\n",
      "/opt/conda/lib/python3.7/site-packages/lightgbm/basic.py:1295: UserWarning: categorical_feature in Dataset is overridden.\n",
      "New categorical_feature is ['brand', 'fuel_type', 'gearbox', 'model', 'not_repaired', 'registration_month', 'registration_year', 'vehicle_type']\n",
      "  'New categorical_feature is {}'.format(sorted(list(categorical_feature))))\n",
      "/opt/conda/lib/python3.7/site-packages/lightgbm/basic.py:1295: UserWarning: categorical_feature in Dataset is overridden.\n",
      "New categorical_feature is ['brand', 'fuel_type', 'gearbox', 'model', 'not_repaired', 'registration_month', 'registration_year', 'vehicle_type']\n",
      "  'New categorical_feature is {}'.format(sorted(list(categorical_feature))))\n",
      "/opt/conda/lib/python3.7/site-packages/lightgbm/basic.py:1295: UserWarning: categorical_feature in Dataset is overridden.\n",
      "New categorical_feature is ['brand', 'fuel_type', 'gearbox', 'model', 'not_repaired', 'registration_month', 'registration_year', 'vehicle_type']\n",
      "  'New categorical_feature is {}'.format(sorted(list(categorical_feature))))\n",
      "/opt/conda/lib/python3.7/site-packages/lightgbm/basic.py:1295: UserWarning: categorical_feature in Dataset is overridden.\n",
      "New categorical_feature is ['brand', 'fuel_type', 'gearbox', 'model', 'not_repaired', 'registration_month', 'registration_year', 'vehicle_type']\n",
      "  'New categorical_feature is {}'.format(sorted(list(categorical_feature))))\n",
      "/opt/conda/lib/python3.7/site-packages/lightgbm/basic.py:1295: UserWarning: categorical_feature in Dataset is overridden.\n",
      "New categorical_feature is ['brand', 'fuel_type', 'gearbox', 'model', 'not_repaired', 'registration_month', 'registration_year', 'vehicle_type']\n",
      "  'New categorical_feature is {}'.format(sorted(list(categorical_feature))))\n",
      "/opt/conda/lib/python3.7/site-packages/lightgbm/basic.py:1295: UserWarning: categorical_feature in Dataset is overridden.\n",
      "New categorical_feature is ['brand', 'fuel_type', 'gearbox', 'model', 'not_repaired', 'registration_month', 'registration_year', 'vehicle_type']\n",
      "  'New categorical_feature is {}'.format(sorted(list(categorical_feature))))\n",
      "/opt/conda/lib/python3.7/site-packages/lightgbm/basic.py:1295: UserWarning: categorical_feature in Dataset is overridden.\n",
      "New categorical_feature is ['brand', 'fuel_type', 'gearbox', 'model', 'not_repaired', 'registration_month', 'registration_year', 'vehicle_type']\n",
      "  'New categorical_feature is {}'.format(sorted(list(categorical_feature))))\n",
      "/opt/conda/lib/python3.7/site-packages/lightgbm/basic.py:1295: UserWarning: categorical_feature in Dataset is overridden.\n",
      "New categorical_feature is ['brand', 'fuel_type', 'gearbox', 'model', 'not_repaired', 'registration_month', 'registration_year', 'vehicle_type']\n",
      "  'New categorical_feature is {}'.format(sorted(list(categorical_feature))))\n",
      "/opt/conda/lib/python3.7/site-packages/lightgbm/basic.py:1295: UserWarning: categorical_feature in Dataset is overridden.\n",
      "New categorical_feature is ['brand', 'fuel_type', 'gearbox', 'model', 'not_repaired', 'registration_month', 'registration_year', 'vehicle_type']\n",
      "  'New categorical_feature is {}'.format(sorted(list(categorical_feature))))\n",
      "/opt/conda/lib/python3.7/site-packages/lightgbm/basic.py:1295: UserWarning: categorical_feature in Dataset is overridden.\n",
      "New categorical_feature is ['brand', 'fuel_type', 'gearbox', 'model', 'not_repaired', 'registration_month', 'registration_year', 'vehicle_type']\n",
      "  'New categorical_feature is {}'.format(sorted(list(categorical_feature))))\n",
      "[Parallel(n_jobs=1)]: Done  12 out of  12 | elapsed:  4.9min finished\n",
      "/opt/conda/lib/python3.7/site-packages/lightgbm/basic.py:1295: UserWarning: categorical_feature in Dataset is overridden.\n",
      "New categorical_feature is ['brand', 'fuel_type', 'gearbox', 'model', 'not_repaired', 'registration_month', 'registration_year', 'vehicle_type']\n",
      "  'New categorical_feature is {}'.format(sorted(list(categorical_feature))))\n"
     ]
    },
    {
     "data": {
      "text/plain": [
       "GridSearchCV(cv=3, error_score='raise-deprecating',\n",
       "             estimator=LGBMRegressor(boosting_type='gbdt', class_weight=None,\n",
       "                                     colsample_bytree=1.0,\n",
       "                                     importance_type='split', learning_rate=0.1,\n",
       "                                     max_depth=-1, min_child_samples=20,\n",
       "                                     min_child_weight=0.001, min_split_gain=0.0,\n",
       "                                     n_estimators=100, n_jobs=-1, num_leaves=31,\n",
       "                                     objective=None, random_state=None,\n",
       "                                     reg_alpha=0.0, reg_lambda=0.0, silent=True,\n",
       "                                     subsample=1.0, subsample_for_bin=200000,\n",
       "                                     subsample_freq=0),\n",
       "             iid='warn', n_jobs=None,\n",
       "             param_grid={'learning_rate': [0.9, 1], 'max_depth': [1],\n",
       "                         'n_estimators': [1000, 2000]},\n",
       "             pre_dispatch='2*n_jobs', refit=True, return_train_score=False,\n",
       "             scoring=None, verbose=True)"
      ]
     },
     "execution_count": 70,
     "metadata": {},
     "output_type": "execute_result"
    }
   ],
   "source": [
    "grid = GridSearchCV(estimator=model_lgbmr, param_grid=grid_lgbmr, verbose=True, cv=3)\n",
    "grid.fit(features_train_lgbmr, target_train_lgbmr, eval_metric='rmse', categorical_feature=cat_features)"
   ]
  },
  {
   "cell_type": "code",
   "execution_count": 71,
   "metadata": {},
   "outputs": [
    {
     "name": "stdout",
     "output_type": "stream",
     "text": [
      "Best parameters found by grid search are: {'learning_rate': 1, 'max_depth': 1, 'n_estimators': 2000}\n"
     ]
    }
   ],
   "source": [
    "print('Best parameters found by grid search are:', grid.best_params_)"
   ]
  },
  {
   "cell_type": "code",
   "execution_count": 72,
   "metadata": {},
   "outputs": [],
   "source": [
    "best_lgbmr_learning_rate = grid.best_params_['learning_rate']\n",
    "best_lgbmr_estimators = grid.best_params_['n_estimators']\n",
    "best_lgbmr_max_depth = grid.best_params_['max_depth']"
   ]
  },
  {
   "cell_type": "code",
   "execution_count": 73,
   "metadata": {},
   "outputs": [],
   "source": [
    "best_model_lgbmr = lgb.LGBMRegressor(boosting_type='gbdt', \n",
    "                                     learning_rate=best_lgbmr_learning_rate, \n",
    "                                     n_estimators=best_lgbmr_estimators,\n",
    "                                     max_depth=best_lgbmr_max_depth)"
   ]
  },
  {
   "cell_type": "code",
   "execution_count": 74,
   "metadata": {},
   "outputs": [
    {
     "name": "stdout",
     "output_type": "stream",
     "text": [
      "[200]\tvalid_0's rmse: 2061.4\tvalid_0's l2: 4.24938e+06\n",
      "[400]\tvalid_0's rmse: 2053.11\tvalid_0's l2: 4.21525e+06\n",
      "[600]\tvalid_0's rmse: 2049.64\tvalid_0's l2: 4.20101e+06\n",
      "[800]\tvalid_0's rmse: 2047.04\tvalid_0's l2: 4.19038e+06\n",
      "[1000]\tvalid_0's rmse: 2045.74\tvalid_0's l2: 4.18504e+06\n",
      "[1200]\tvalid_0's rmse: 2044.34\tvalid_0's l2: 4.17932e+06\n",
      "[1400]\tvalid_0's rmse: 2043.7\tvalid_0's l2: 4.17671e+06\n",
      "[1600]\tvalid_0's rmse: 2042.91\tvalid_0's l2: 4.17347e+06\n",
      "[1800]\tvalid_0's rmse: 2042.34\tvalid_0's l2: 4.17117e+06\n",
      "[2000]\tvalid_0's rmse: 2041.73\tvalid_0's l2: 4.16866e+06\n",
      "CPU times: user 53.7 s, sys: 0 ns, total: 53.7 s\n",
      "Wall time: 54.8 s\n"
     ]
    },
    {
     "data": {
      "text/plain": [
       "LGBMRegressor(boosting_type='gbdt', class_weight=None, colsample_bytree=1.0,\n",
       "              importance_type='split', learning_rate=1, max_depth=1,\n",
       "              min_child_samples=20, min_child_weight=0.001, min_split_gain=0.0,\n",
       "              n_estimators=2000, n_jobs=-1, num_leaves=31, objective=None,\n",
       "              random_state=None, reg_alpha=0.0, reg_lambda=0.0, silent=True,\n",
       "              subsample=1.0, subsample_for_bin=200000, subsample_freq=0)"
      ]
     },
     "execution_count": 74,
     "metadata": {},
     "output_type": "execute_result"
    }
   ],
   "source": [
    "%%time\n",
    "best_model_lgbmr.fit(features_train_lgbmr, target_train_lgbmr, \n",
    "                     eval_set=[(features_valid_lgbmr, target_valid_lgbmr)],\n",
    "                     eval_metric='rmse',\n",
    "                     categorical_feature=cat_features,\n",
    "                     verbose=200)"
   ]
  },
  {
   "cell_type": "code",
   "execution_count": 75,
   "metadata": {},
   "outputs": [
    {
     "name": "stdout",
     "output_type": "stream",
     "text": [
      "CPU times: user 4.18 s, sys: 0 ns, total: 4.18 s\n",
      "Wall time: 4.21 s\n"
     ]
    }
   ],
   "source": [
    "%%time\n",
    "predictions_lgbmr = best_model_lgbmr.predict(features_test_lgbmr)"
   ]
  },
  {
   "cell_type": "code",
   "execution_count": 76,
   "metadata": {},
   "outputs": [
    {
     "name": "stdout",
     "output_type": "stream",
     "text": [
      "rmse_lgbmr = 2046.970201558827\n"
     ]
    }
   ],
   "source": [
    "# посчитаем значение RMSE (квадратный корень из средней квадратичной ошибки) через вычисление MSE\n",
    "mse_lgbmr = mean_squared_error(target_test_lgbmr, predictions_lgbmr)\n",
    "rmse_lgbmr = mse_lgbmr ** 0.5\n",
    "print('rmse_lgbmr =', rmse_lgbmr)"
   ]
  },
  {
   "cell_type": "markdown",
   "metadata": {},
   "source": [
    "### Вывод"
   ]
  },
  {
   "cell_type": "markdown",
   "metadata": {},
   "source": [
    "На данном шаге изучали модели (Линейная регрессия, CatBoost, LightGBM), подбирали для них оптимальные параметры, чтобы значение RMSE было минимальным. Затем обучали на тренировочной выборке и оценивали качество на валидационной. А затем проверяли насколько хорошо модель предсказывате на тестовых данных."
   ]
  },
  {
   "cell_type": "markdown",
   "metadata": {},
   "source": [
    "## 3. Анализ моделей"
   ]
  },
  {
   "cell_type": "markdown",
   "metadata": {},
   "source": [
    "На предыдущем шаге мы посмотрели на три разные модели. Оценили качество предсказаний на тренировочных выборках.<br>"
   ]
  },
  {
   "cell_type": "markdown",
   "metadata": {},
   "source": [
    "Значения RMSE для различных моделей:\n",
    "- Линейная регрессия: &emsp;&nbsp;&nbsp;&nbsp; 2738.768703235659 \n",
    "- CatBoost: &emsp;&emsp;&emsp;&emsp;&emsp;&emsp;&emsp;&nbsp; 2171.0763838064086\n",
    "- LightGBM: &emsp;&emsp;&emsp;&emsp;&emsp;&emsp;&emsp; 2046.970201558827"
   ]
  },
  {
   "cell_type": "markdown",
   "metadata": {},
   "source": [
    "Стоит отметить, что если рассматривать больше параметров для моделей, то результат получится лучше. Однако время поиска параметров также увеличится в разы. Мы ограничились лишь небольшим количеством проверяемых значений."
   ]
  },
  {
   "cell_type": "markdown",
   "metadata": {},
   "source": [
    "Также мы измеряли время обучения и время предсказания для каждой модели на оптимальных значениях гиперпараметров."
   ]
  },
  {
   "cell_type": "markdown",
   "metadata": {},
   "source": [
    "Время обучения для различных моделей:\n",
    "- Линейная регрессия: &emsp;&nbsp;&nbsp;&nbsp; 24.3 s\n",
    "- CatBoost: &emsp;&emsp;&emsp;&emsp;&emsp;&emsp;&emsp;&nbsp; 3min 22s\n",
    "- LightGBM: &emsp;&emsp;&emsp;&emsp;&emsp;&emsp;&emsp; 54.8 s"
   ]
  },
  {
   "cell_type": "markdown",
   "metadata": {},
   "source": [
    "Время предсказания для различных моделей:\n",
    "- Линейная регрессия: &emsp;&nbsp;&nbsp;&nbsp; 278 ms\n",
    "- CatBoost: &emsp;&emsp;&emsp;&emsp;&emsp;&emsp;&emsp;&nbsp; 366 ms\n",
    "- LightGBM: &emsp;&emsp;&emsp;&emsp;&emsp;&emsp;&emsp; 4.21 s"
   ]
  },
  {
   "cell_type": "markdown",
   "metadata": {},
   "source": [
    "### Вывод"
   ]
  },
  {
   "cell_type": "markdown",
   "metadata": {},
   "source": [
    "Мы рассмотрели значение RMSE на тестовых данных. Лучшее значение (самое близкое к 0) получилось для LightGBM. Самое высокое значение этой метрики показала линейная регрессия. Это подтверждает тот факт, что алгоритмы градиентного бустинга с подбором параметров работают качественнее, чем более простая модель без возможности сильно влиять на процесс обучения.<br>\n",
    "Также мы рассматривали время обучения и предсказания. Самое долгое время обучения показал алгоритм CatBoost. Он дольше LightGBM более чем в 3 раза. LightGBM в свою очередь обучается лишь в 2 раза дольше чем линейная регрессия, с учетом наилучшшего качества. Предсказание дольше всего выдает LightGBM - в 11 раз дольше CatBoost.<br>\n",
    "Стоит отметить, что и CatBoost, и LightGBM выдают соизмеримые качества предсказаний. Для этого необходимо лишь правильно подбирать гиперпараметры. Далее все зависит от целей использования модели. Если у нам важно скорость выдачи предсказаний, и есть достаточное время на обучение модели, то лучше использовать CatBoost. Если же наоборот предсказания нужны раньше по времени, то лучше использовать LightGBM, оно обучается быстрее, и засчет этого первые предсказания появтся раньше, чем в CatBoost.<br>\n",
    "Для нашего набора данных лучшие значения показал LightGBM. Он показал высокое качество и быстрое обучение."
   ]
  },
  {
   "cell_type": "markdown",
   "metadata": {},
   "source": [
    " ## 4. Общий вывод"
   ]
  },
  {
   "cell_type": "markdown",
   "metadata": {},
   "source": [
    "В данной работе мы изучали работу алгоритмов градиентного бустинга, таких как CatBoost и LightGBM. С их использованием, нам необходимо было построить модель для определения стоимости автомобиля.<br>\n",
    "Изначально мы подготовили данные, заполнили пропущенные значения. Далее обучили три разных модели. Для каждой по своему подготовили категориальные признаки, а также провели стандратизацию количественных значений. Измерили качество работы, использовав для этого метрику RMSE. Также измерили время обучения и предсказания В итоге проанализировав все полуенные характеристики, выбрали лучшую модель для этого набра данных. Ей оказалась LightGBM."
   ]
  }
 ],
 "metadata": {
  "kernelspec": {
   "display_name": "Python 3",
   "language": "python",
   "name": "python3"
  },
  "language_info": {
   "codemirror_mode": {
    "name": "ipython",
    "version": 3
   },
   "file_extension": ".py",
   "mimetype": "text/x-python",
   "name": "python",
   "nbconvert_exporter": "python",
   "pygments_lexer": "ipython3",
   "version": "3.8.5"
  },
  "toc": {
   "base_numbering": 1,
   "nav_menu": {
    "height": "315px",
    "width": "288px"
   },
   "number_sections": false,
   "sideBar": true,
   "skip_h1_title": false,
   "title_cell": "Table of Contents",
   "title_sidebar": "Contents",
   "toc_cell": false,
   "toc_position": {
    "height": "759px",
    "left": "32px",
    "top": "181px",
    "width": "304.391px"
   },
   "toc_section_display": true,
   "toc_window_display": true
  }
 },
 "nbformat": 4,
 "nbformat_minor": 2
}
