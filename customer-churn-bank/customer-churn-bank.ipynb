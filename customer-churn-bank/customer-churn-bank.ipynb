{
 "cells": [
  {
   "cell_type": "markdown",
   "metadata": {},
   "source": [
    "# Отток клиентов"
   ]
  },
  {
   "cell_type": "markdown",
   "metadata": {},
   "source": [
    "Из банка стали уходить клиенты. Каждый месяц. Немного, но заметно. Банковские маркетологи посчитали: сохранять текущих клиентов дешевле, чем привлекать новых.\n",
    "\n",
    "Нужно спрогнозировать, уйдёт клиент из банка в ближайшее время или нет. Предоставлены исторические данные о поведении клиентов и расторжении договоров с банком. \n",
    "\n",
    "Построить модель с предельно большим значением *F1*-меры. Нужно довести метрику до 0.59. Проверить *F1*-меру на тестовой выборке.\n",
    "\n",
    "Дополнительно измерить *AUC-ROC*, сравнить её значение с *F1*-мерой.\n",
    "\n",
    "Источник данных: [https://www.kaggle.com/barelydedicated/bank-customer-churn-modeling](https://www.kaggle.com/barelydedicated/bank-customer-churn-modeling)"
   ]
  },
  {
   "cell_type": "markdown",
   "metadata": {},
   "source": [
    "## Описание данных"
   ]
  },
  {
   "cell_type": "markdown",
   "metadata": {},
   "source": [
    "#### Признаки\n",
    "- *RowNumber* — индекс строки в данных\n",
    "- *CustomerId* — уникальный идентификатор клиента\n",
    "- *Surname* — фамилия\n",
    "- *CreditScore* — кредитный рейтинг\n",
    "- *Geography* — страна проживания\n",
    "- *Gender* — пол\n",
    "- *Age* — возраст\n",
    "- *Tenure* — количество недвижимости у клиента\n",
    "- *Balance* — баланс на счёте\n",
    "- *NumOfProducts* — количество продуктов банка, используемых клиентом\n",
    "- *HasCrCard* — наличие кредитной карты\n",
    "- *IsActiveMember* — активность клиента\n",
    "- *EstimatedSalary* — предполагаемая зарплата\n",
    "\n",
    "#### Целевой признак\n",
    "- *Exited* — факт ухода клиента"
   ]
  },
  {
   "cell_type": "markdown",
   "metadata": {},
   "source": [
    "## Оглавление"
   ]
  },
  {
   "cell_type": "markdown",
   "metadata": {},
   "source": [
    "1. [Подготовка данных](#step1)\n",
    "2. [Исследование задачи](#step2)\n",
    "3. [Борьба с дисбалансом](#step3)\n",
    "4. [Тестирование модели](#step4)\n",
    "5. [Общий вывод](#step5)"
   ]
  },
  {
   "cell_type": "markdown",
   "metadata": {},
   "source": [
    "<a id=\"step1\"></a>\n",
    "## 1. Подготовка данных"
   ]
  },
  {
   "cell_type": "markdown",
   "metadata": {},
   "source": [
    "### Предобработка данных"
   ]
  },
  {
   "cell_type": "code",
   "execution_count": 1,
   "metadata": {},
   "outputs": [],
   "source": [
    "# Подключение библиотек, необходимых модулей и алгоритмов\n",
    "import pandas as pd\n",
    "import numpy as np\n",
    "import re\n",
    "import matplotlib.pyplot as plt\n",
    "\n",
    "from sklearn.preprocessing import StandardScaler\n",
    "\n",
    "from sklearn.model_selection import train_test_split\n",
    "from sklearn.tree import DecisionTreeClassifier\n",
    "from sklearn.ensemble import RandomForestClassifier\n",
    "from sklearn.linear_model import LogisticRegression\n",
    "from sklearn.metrics import f1_score\n",
    "from sklearn.metrics import roc_auc_score\n",
    "from sklearn.metrics import accuracy_score\n",
    "from sklearn.metrics import roc_curve\n",
    "from sklearn.utils import shuffle\n",
    "\n",
    "from sklearn.model_selection import GridSearchCV\n",
    "\n",
    "from sklearn.metrics import classification_report\n",
    "from IPython.display import display\n",
    "from warnings import simplefilter"
   ]
  },
  {
   "cell_type": "code",
   "execution_count": 2,
   "metadata": {},
   "outputs": [
    {
     "data": {
      "text/html": [
       "<div>\n",
       "<style scoped>\n",
       "    .dataframe tbody tr th:only-of-type {\n",
       "        vertical-align: middle;\n",
       "    }\n",
       "\n",
       "    .dataframe tbody tr th {\n",
       "        vertical-align: top;\n",
       "    }\n",
       "\n",
       "    .dataframe thead th {\n",
       "        text-align: right;\n",
       "    }\n",
       "</style>\n",
       "<table border=\"1\" class=\"dataframe\">\n",
       "  <thead>\n",
       "    <tr style=\"text-align: right;\">\n",
       "      <th></th>\n",
       "      <th>RowNumber</th>\n",
       "      <th>CustomerId</th>\n",
       "      <th>Surname</th>\n",
       "      <th>CreditScore</th>\n",
       "      <th>Geography</th>\n",
       "      <th>Gender</th>\n",
       "      <th>Age</th>\n",
       "      <th>Tenure</th>\n",
       "      <th>Balance</th>\n",
       "      <th>NumOfProducts</th>\n",
       "      <th>HasCrCard</th>\n",
       "      <th>IsActiveMember</th>\n",
       "      <th>EstimatedSalary</th>\n",
       "      <th>Exited</th>\n",
       "    </tr>\n",
       "  </thead>\n",
       "  <tbody>\n",
       "    <tr>\n",
       "      <th>0</th>\n",
       "      <td>1</td>\n",
       "      <td>15634602</td>\n",
       "      <td>Hargrave</td>\n",
       "      <td>619</td>\n",
       "      <td>France</td>\n",
       "      <td>Female</td>\n",
       "      <td>42</td>\n",
       "      <td>2.0</td>\n",
       "      <td>0.00</td>\n",
       "      <td>1</td>\n",
       "      <td>1</td>\n",
       "      <td>1</td>\n",
       "      <td>101348.88</td>\n",
       "      <td>1</td>\n",
       "    </tr>\n",
       "    <tr>\n",
       "      <th>1</th>\n",
       "      <td>2</td>\n",
       "      <td>15647311</td>\n",
       "      <td>Hill</td>\n",
       "      <td>608</td>\n",
       "      <td>Spain</td>\n",
       "      <td>Female</td>\n",
       "      <td>41</td>\n",
       "      <td>1.0</td>\n",
       "      <td>83807.86</td>\n",
       "      <td>1</td>\n",
       "      <td>0</td>\n",
       "      <td>1</td>\n",
       "      <td>112542.58</td>\n",
       "      <td>0</td>\n",
       "    </tr>\n",
       "    <tr>\n",
       "      <th>2</th>\n",
       "      <td>3</td>\n",
       "      <td>15619304</td>\n",
       "      <td>Onio</td>\n",
       "      <td>502</td>\n",
       "      <td>France</td>\n",
       "      <td>Female</td>\n",
       "      <td>42</td>\n",
       "      <td>8.0</td>\n",
       "      <td>159660.80</td>\n",
       "      <td>3</td>\n",
       "      <td>1</td>\n",
       "      <td>0</td>\n",
       "      <td>113931.57</td>\n",
       "      <td>1</td>\n",
       "    </tr>\n",
       "    <tr>\n",
       "      <th>3</th>\n",
       "      <td>4</td>\n",
       "      <td>15701354</td>\n",
       "      <td>Boni</td>\n",
       "      <td>699</td>\n",
       "      <td>France</td>\n",
       "      <td>Female</td>\n",
       "      <td>39</td>\n",
       "      <td>1.0</td>\n",
       "      <td>0.00</td>\n",
       "      <td>2</td>\n",
       "      <td>0</td>\n",
       "      <td>0</td>\n",
       "      <td>93826.63</td>\n",
       "      <td>0</td>\n",
       "    </tr>\n",
       "    <tr>\n",
       "      <th>4</th>\n",
       "      <td>5</td>\n",
       "      <td>15737888</td>\n",
       "      <td>Mitchell</td>\n",
       "      <td>850</td>\n",
       "      <td>Spain</td>\n",
       "      <td>Female</td>\n",
       "      <td>43</td>\n",
       "      <td>2.0</td>\n",
       "      <td>125510.82</td>\n",
       "      <td>1</td>\n",
       "      <td>1</td>\n",
       "      <td>1</td>\n",
       "      <td>79084.10</td>\n",
       "      <td>0</td>\n",
       "    </tr>\n",
       "    <tr>\n",
       "      <th>5</th>\n",
       "      <td>6</td>\n",
       "      <td>15574012</td>\n",
       "      <td>Chu</td>\n",
       "      <td>645</td>\n",
       "      <td>Spain</td>\n",
       "      <td>Male</td>\n",
       "      <td>44</td>\n",
       "      <td>8.0</td>\n",
       "      <td>113755.78</td>\n",
       "      <td>2</td>\n",
       "      <td>1</td>\n",
       "      <td>0</td>\n",
       "      <td>149756.71</td>\n",
       "      <td>1</td>\n",
       "    </tr>\n",
       "    <tr>\n",
       "      <th>6</th>\n",
       "      <td>7</td>\n",
       "      <td>15592531</td>\n",
       "      <td>Bartlett</td>\n",
       "      <td>822</td>\n",
       "      <td>France</td>\n",
       "      <td>Male</td>\n",
       "      <td>50</td>\n",
       "      <td>7.0</td>\n",
       "      <td>0.00</td>\n",
       "      <td>2</td>\n",
       "      <td>1</td>\n",
       "      <td>1</td>\n",
       "      <td>10062.80</td>\n",
       "      <td>0</td>\n",
       "    </tr>\n",
       "    <tr>\n",
       "      <th>7</th>\n",
       "      <td>8</td>\n",
       "      <td>15656148</td>\n",
       "      <td>Obinna</td>\n",
       "      <td>376</td>\n",
       "      <td>Germany</td>\n",
       "      <td>Female</td>\n",
       "      <td>29</td>\n",
       "      <td>4.0</td>\n",
       "      <td>115046.74</td>\n",
       "      <td>4</td>\n",
       "      <td>1</td>\n",
       "      <td>0</td>\n",
       "      <td>119346.88</td>\n",
       "      <td>1</td>\n",
       "    </tr>\n",
       "    <tr>\n",
       "      <th>8</th>\n",
       "      <td>9</td>\n",
       "      <td>15792365</td>\n",
       "      <td>He</td>\n",
       "      <td>501</td>\n",
       "      <td>France</td>\n",
       "      <td>Male</td>\n",
       "      <td>44</td>\n",
       "      <td>4.0</td>\n",
       "      <td>142051.07</td>\n",
       "      <td>2</td>\n",
       "      <td>0</td>\n",
       "      <td>1</td>\n",
       "      <td>74940.50</td>\n",
       "      <td>0</td>\n",
       "    </tr>\n",
       "    <tr>\n",
       "      <th>9</th>\n",
       "      <td>10</td>\n",
       "      <td>15592389</td>\n",
       "      <td>H?</td>\n",
       "      <td>684</td>\n",
       "      <td>France</td>\n",
       "      <td>Male</td>\n",
       "      <td>27</td>\n",
       "      <td>2.0</td>\n",
       "      <td>134603.88</td>\n",
       "      <td>1</td>\n",
       "      <td>1</td>\n",
       "      <td>1</td>\n",
       "      <td>71725.73</td>\n",
       "      <td>0</td>\n",
       "    </tr>\n",
       "  </tbody>\n",
       "</table>\n",
       "</div>"
      ],
      "text/plain": [
       "   RowNumber  CustomerId   Surname  CreditScore Geography  Gender  Age  \\\n",
       "0          1    15634602  Hargrave          619    France  Female   42   \n",
       "1          2    15647311      Hill          608     Spain  Female   41   \n",
       "2          3    15619304      Onio          502    France  Female   42   \n",
       "3          4    15701354      Boni          699    France  Female   39   \n",
       "4          5    15737888  Mitchell          850     Spain  Female   43   \n",
       "5          6    15574012       Chu          645     Spain    Male   44   \n",
       "6          7    15592531  Bartlett          822    France    Male   50   \n",
       "7          8    15656148    Obinna          376   Germany  Female   29   \n",
       "8          9    15792365        He          501    France    Male   44   \n",
       "9         10    15592389        H?          684    France    Male   27   \n",
       "\n",
       "   Tenure    Balance  NumOfProducts  HasCrCard  IsActiveMember  \\\n",
       "0     2.0       0.00              1          1               1   \n",
       "1     1.0   83807.86              1          0               1   \n",
       "2     8.0  159660.80              3          1               0   \n",
       "3     1.0       0.00              2          0               0   \n",
       "4     2.0  125510.82              1          1               1   \n",
       "5     8.0  113755.78              2          1               0   \n",
       "6     7.0       0.00              2          1               1   \n",
       "7     4.0  115046.74              4          1               0   \n",
       "8     4.0  142051.07              2          0               1   \n",
       "9     2.0  134603.88              1          1               1   \n",
       "\n",
       "   EstimatedSalary  Exited  \n",
       "0        101348.88       1  \n",
       "1        112542.58       0  \n",
       "2        113931.57       1  \n",
       "3         93826.63       0  \n",
       "4         79084.10       0  \n",
       "5        149756.71       1  \n",
       "6         10062.80       0  \n",
       "7        119346.88       1  \n",
       "8         74940.50       0  \n",
       "9         71725.73       0  "
      ]
     },
     "execution_count": 2,
     "metadata": {},
     "output_type": "execute_result"
    }
   ],
   "source": [
    "# прочитаем данные из файла и выведем первые 10 строк\n",
    "clients = pd.read_csv('Churn.csv')\n",
    "clients.head(10)"
   ]
  },
  {
   "cell_type": "code",
   "execution_count": 3,
   "metadata": {},
   "outputs": [
    {
     "data": {
      "text/plain": [
       "Index(['RowNumber', 'CustomerId', 'Surname', 'CreditScore', 'Geography',\n",
       "       'Gender', 'Age', 'Tenure', 'Balance', 'NumOfProducts', 'HasCrCard',\n",
       "       'IsActiveMember', 'EstimatedSalary', 'Exited'],\n",
       "      dtype='object')"
      ]
     },
     "execution_count": 3,
     "metadata": {},
     "output_type": "execute_result"
    }
   ],
   "source": [
    "# выведем названия столбцов таблицы\n",
    "clients.columns"
   ]
  },
  {
   "cell_type": "markdown",
   "metadata": {},
   "source": [
    "Видно, что названия столбцов состоят только из латинских символов и не содержат лишних пробелов в начале и в конце. Однако, они содержат заглавые буквы. Переведем названия в нижний регистр, а чтобы отделить слова, поставим между ними нижнее подчеркивание."
   ]
  },
  {
   "cell_type": "code",
   "execution_count": 4,
   "metadata": {},
   "outputs": [],
   "source": [
    "# получаем новые названия, проставляя знак '_' перед каждой неначальной заглавной буквой\n",
    "new_columns = list(map(lambda x: re.sub(r'(\\B[A-Z])', r'_\\1', x), clients.columns.values))"
   ]
  },
  {
   "cell_type": "code",
   "execution_count": 5,
   "metadata": {},
   "outputs": [],
   "source": [
    "# приведем все буквы к нижнему регистру\n",
    "new_columns = list(map(str.lower, new_columns))"
   ]
  },
  {
   "cell_type": "code",
   "execution_count": 6,
   "metadata": {},
   "outputs": [
    {
     "data": {
      "text/plain": [
       "Index(['row_number', 'customer_id', 'surname', 'credit_score', 'geography',\n",
       "       'gender', 'age', 'tenure', 'balance', 'num_of_products', 'has_cr_card',\n",
       "       'is_active_member', 'estimated_salary', 'exited'],\n",
       "      dtype='object')"
      ]
     },
     "execution_count": 6,
     "metadata": {},
     "output_type": "execute_result"
    }
   ],
   "source": [
    "# поменяем названия в исходной таблице\n",
    "clients.columns = new_columns\n",
    "clients.columns"
   ]
  },
  {
   "cell_type": "markdown",
   "metadata": {},
   "source": [
    "Проверим, есть ли пустые значения в таблице."
   ]
  },
  {
   "cell_type": "code",
   "execution_count": 7,
   "metadata": {},
   "outputs": [
    {
     "data": {
      "text/plain": [
       "row_number            0\n",
       "customer_id           0\n",
       "surname               0\n",
       "credit_score          0\n",
       "geography             0\n",
       "gender                0\n",
       "age                   0\n",
       "tenure              909\n",
       "balance               0\n",
       "num_of_products       0\n",
       "has_cr_card           0\n",
       "is_active_member      0\n",
       "estimated_salary      0\n",
       "exited                0\n",
       "dtype: int64"
      ]
     },
     "execution_count": 7,
     "metadata": {},
     "output_type": "execute_result"
    }
   ],
   "source": [
    "clients.isnull().sum()"
   ]
  },
  {
   "cell_type": "code",
   "execution_count": 8,
   "metadata": {},
   "outputs": [
    {
     "data": {
      "text/plain": [
       "1.0     952\n",
       "2.0     950\n",
       "8.0     933\n",
       "3.0     928\n",
       "5.0     927\n",
       "7.0     925\n",
       "4.0     885\n",
       "9.0     882\n",
       "6.0     881\n",
       "10.0    446\n",
       "0.0     382\n",
       "Name: tenure, dtype: int64"
      ]
     },
     "execution_count": 8,
     "metadata": {},
     "output_type": "execute_result"
    }
   ],
   "source": [
    "clients['tenure'].value_counts()"
   ]
  },
  {
   "cell_type": "markdown",
   "metadata": {},
   "source": [
    "Пустые значения только в столбце `tenure` (количество недвижимости у клиента). Скорее всего, если значение пустое, то это означает, что клиент его не заполнил и у него нет недвижимости. Заменим пропущенные строки случайным 0."
   ]
  },
  {
   "cell_type": "code",
   "execution_count": 9,
   "metadata": {},
   "outputs": [],
   "source": [
    "clients.loc[clients['tenure'].isnull(), 'tenure'] = 0"
   ]
  },
  {
   "cell_type": "code",
   "execution_count": 10,
   "metadata": {},
   "outputs": [
    {
     "data": {
      "text/plain": [
       "row_number          0\n",
       "customer_id         0\n",
       "surname             0\n",
       "credit_score        0\n",
       "geography           0\n",
       "gender              0\n",
       "age                 0\n",
       "tenure              0\n",
       "balance             0\n",
       "num_of_products     0\n",
       "has_cr_card         0\n",
       "is_active_member    0\n",
       "estimated_salary    0\n",
       "exited              0\n",
       "dtype: int64"
      ]
     },
     "execution_count": 10,
     "metadata": {},
     "output_type": "execute_result"
    }
   ],
   "source": [
    "# проверим внесенные изменения\n",
    "clients.isnull().sum()"
   ]
  },
  {
   "cell_type": "markdown",
   "metadata": {},
   "source": [
    "Здесь же посмотрим, какие значения теперь хранятся в этом столбце. Изначально здесь был определен тип данных, как вещественные числа. Возможно, это было из-за присутсвия в этом столбце значение NaN."
   ]
  },
  {
   "cell_type": "code",
   "execution_count": 11,
   "metadata": {},
   "outputs": [
    {
     "name": "stdout",
     "output_type": "stream",
     "text": [
      "<class 'pandas.core.frame.DataFrame'>\n",
      "RangeIndex: 10000 entries, 0 to 9999\n",
      "Data columns (total 14 columns):\n",
      " #   Column            Non-Null Count  Dtype  \n",
      "---  ------            --------------  -----  \n",
      " 0   row_number        10000 non-null  int64  \n",
      " 1   customer_id       10000 non-null  int64  \n",
      " 2   surname           10000 non-null  object \n",
      " 3   credit_score      10000 non-null  int64  \n",
      " 4   geography         10000 non-null  object \n",
      " 5   gender            10000 non-null  object \n",
      " 6   age               10000 non-null  int64  \n",
      " 7   tenure            10000 non-null  float64\n",
      " 8   balance           10000 non-null  float64\n",
      " 9   num_of_products   10000 non-null  int64  \n",
      " 10  has_cr_card       10000 non-null  int64  \n",
      " 11  is_active_member  10000 non-null  int64  \n",
      " 12  estimated_salary  10000 non-null  float64\n",
      " 13  exited            10000 non-null  int64  \n",
      "dtypes: float64(3), int64(8), object(3)\n",
      "memory usage: 1.1+ MB\n",
      "\n"
     ]
    },
    {
     "data": {
      "text/plain": [
       "0.0     1291\n",
       "1.0      952\n",
       "2.0      950\n",
       "8.0      933\n",
       "3.0      928\n",
       "5.0      927\n",
       "7.0      925\n",
       "4.0      885\n",
       "9.0      882\n",
       "6.0      881\n",
       "10.0     446\n",
       "Name: tenure, dtype: int64"
      ]
     },
     "execution_count": 11,
     "metadata": {},
     "output_type": "execute_result"
    }
   ],
   "source": [
    "clients.info()\n",
    "print()\n",
    "clients['tenure'].value_counts()"
   ]
  },
  {
   "cell_type": "markdown",
   "metadata": {},
   "source": [
    "Действительно, здесь могут хранится только целочисленные значения."
   ]
  },
  {
   "cell_type": "code",
   "execution_count": 12,
   "metadata": {},
   "outputs": [],
   "source": [
    "clients['tenure'] = clients['tenure'].astype(int)"
   ]
  },
  {
   "cell_type": "markdown",
   "metadata": {},
   "source": [
    "Проверим таблицу на наличие дубликатов. Но сначала приведем все данные к нижнему регистру. Для этого необходимо посмотреть, где хранятся строковые значения."
   ]
  },
  {
   "cell_type": "code",
   "execution_count": 13,
   "metadata": {},
   "outputs": [
    {
     "name": "stdout",
     "output_type": "stream",
     "text": [
      "<class 'pandas.core.frame.DataFrame'>\n",
      "RangeIndex: 10000 entries, 0 to 9999\n",
      "Data columns (total 14 columns):\n",
      " #   Column            Non-Null Count  Dtype  \n",
      "---  ------            --------------  -----  \n",
      " 0   row_number        10000 non-null  int64  \n",
      " 1   customer_id       10000 non-null  int64  \n",
      " 2   surname           10000 non-null  object \n",
      " 3   credit_score      10000 non-null  int64  \n",
      " 4   geography         10000 non-null  object \n",
      " 5   gender            10000 non-null  object \n",
      " 6   age               10000 non-null  int64  \n",
      " 7   tenure            10000 non-null  int32  \n",
      " 8   balance           10000 non-null  float64\n",
      " 9   num_of_products   10000 non-null  int64  \n",
      " 10  has_cr_card       10000 non-null  int64  \n",
      " 11  is_active_member  10000 non-null  int64  \n",
      " 12  estimated_salary  10000 non-null  float64\n",
      " 13  exited            10000 non-null  int64  \n",
      "dtypes: float64(2), int32(1), int64(8), object(3)\n",
      "memory usage: 1.0+ MB\n"
     ]
    }
   ],
   "source": [
    "clients.info()"
   ]
  },
  {
   "cell_type": "markdown",
   "metadata": {},
   "source": [
    "Как видно из общей информации о таблице типы данных для столбцов определены правильно, где должны находиться числа - определены числовые типы данных, где строки - строки.\n",
    "Теперь приведем значения в столбцах `surname`, `geography`, `gender` к нижнему регистру."
   ]
  },
  {
   "cell_type": "code",
   "execution_count": 14,
   "metadata": {},
   "outputs": [],
   "source": [
    "check_cols = ['surname', 'geography', 'gender']\n",
    "for cur_col in check_cols:\n",
    "    clients[cur_col] = clients[cur_col].str.lower()"
   ]
  },
  {
   "cell_type": "code",
   "execution_count": 15,
   "metadata": {},
   "outputs": [
    {
     "data": {
      "text/plain": [
       "0"
      ]
     },
     "execution_count": 15,
     "metadata": {},
     "output_type": "execute_result"
    }
   ],
   "source": [
    "clients.duplicated().sum()"
   ]
  },
  {
   "cell_type": "markdown",
   "metadata": {},
   "source": [
    "Полностью дублирующих строк с таблице нет."
   ]
  },
  {
   "cell_type": "markdown",
   "metadata": {},
   "source": [
    "### Подготовка признаков"
   ]
  },
  {
   "cell_type": "markdown",
   "metadata": {},
   "source": [
    "Сразу же, выделим отдельно наш целевой признак. Далее в этом пункте будем подготавливать только оставшиеся признаки."
   ]
  },
  {
   "cell_type": "code",
   "execution_count": 16,
   "metadata": {},
   "outputs": [],
   "source": [
    "target = clients['exited']\n",
    "features = clients.drop('exited', axis=1)"
   ]
  },
  {
   "cell_type": "code",
   "execution_count": 17,
   "metadata": {},
   "outputs": [
    {
     "data": {
      "text/html": [
       "<div>\n",
       "<style scoped>\n",
       "    .dataframe tbody tr th:only-of-type {\n",
       "        vertical-align: middle;\n",
       "    }\n",
       "\n",
       "    .dataframe tbody tr th {\n",
       "        vertical-align: top;\n",
       "    }\n",
       "\n",
       "    .dataframe thead th {\n",
       "        text-align: right;\n",
       "    }\n",
       "</style>\n",
       "<table border=\"1\" class=\"dataframe\">\n",
       "  <thead>\n",
       "    <tr style=\"text-align: right;\">\n",
       "      <th></th>\n",
       "      <th>row_number</th>\n",
       "      <th>customer_id</th>\n",
       "      <th>surname</th>\n",
       "      <th>credit_score</th>\n",
       "      <th>geography</th>\n",
       "      <th>gender</th>\n",
       "      <th>age</th>\n",
       "      <th>tenure</th>\n",
       "      <th>balance</th>\n",
       "      <th>num_of_products</th>\n",
       "      <th>has_cr_card</th>\n",
       "      <th>is_active_member</th>\n",
       "      <th>estimated_salary</th>\n",
       "    </tr>\n",
       "  </thead>\n",
       "  <tbody>\n",
       "    <tr>\n",
       "      <th>0</th>\n",
       "      <td>1</td>\n",
       "      <td>15634602</td>\n",
       "      <td>hargrave</td>\n",
       "      <td>619</td>\n",
       "      <td>france</td>\n",
       "      <td>female</td>\n",
       "      <td>42</td>\n",
       "      <td>2</td>\n",
       "      <td>0.00</td>\n",
       "      <td>1</td>\n",
       "      <td>1</td>\n",
       "      <td>1</td>\n",
       "      <td>101348.88</td>\n",
       "    </tr>\n",
       "    <tr>\n",
       "      <th>1</th>\n",
       "      <td>2</td>\n",
       "      <td>15647311</td>\n",
       "      <td>hill</td>\n",
       "      <td>608</td>\n",
       "      <td>spain</td>\n",
       "      <td>female</td>\n",
       "      <td>41</td>\n",
       "      <td>1</td>\n",
       "      <td>83807.86</td>\n",
       "      <td>1</td>\n",
       "      <td>0</td>\n",
       "      <td>1</td>\n",
       "      <td>112542.58</td>\n",
       "    </tr>\n",
       "    <tr>\n",
       "      <th>2</th>\n",
       "      <td>3</td>\n",
       "      <td>15619304</td>\n",
       "      <td>onio</td>\n",
       "      <td>502</td>\n",
       "      <td>france</td>\n",
       "      <td>female</td>\n",
       "      <td>42</td>\n",
       "      <td>8</td>\n",
       "      <td>159660.80</td>\n",
       "      <td>3</td>\n",
       "      <td>1</td>\n",
       "      <td>0</td>\n",
       "      <td>113931.57</td>\n",
       "    </tr>\n",
       "    <tr>\n",
       "      <th>3</th>\n",
       "      <td>4</td>\n",
       "      <td>15701354</td>\n",
       "      <td>boni</td>\n",
       "      <td>699</td>\n",
       "      <td>france</td>\n",
       "      <td>female</td>\n",
       "      <td>39</td>\n",
       "      <td>1</td>\n",
       "      <td>0.00</td>\n",
       "      <td>2</td>\n",
       "      <td>0</td>\n",
       "      <td>0</td>\n",
       "      <td>93826.63</td>\n",
       "    </tr>\n",
       "    <tr>\n",
       "      <th>4</th>\n",
       "      <td>5</td>\n",
       "      <td>15737888</td>\n",
       "      <td>mitchell</td>\n",
       "      <td>850</td>\n",
       "      <td>spain</td>\n",
       "      <td>female</td>\n",
       "      <td>43</td>\n",
       "      <td>2</td>\n",
       "      <td>125510.82</td>\n",
       "      <td>1</td>\n",
       "      <td>1</td>\n",
       "      <td>1</td>\n",
       "      <td>79084.10</td>\n",
       "    </tr>\n",
       "  </tbody>\n",
       "</table>\n",
       "</div>"
      ],
      "text/plain": [
       "   row_number  customer_id   surname  credit_score geography  gender  age  \\\n",
       "0           1     15634602  hargrave           619    france  female   42   \n",
       "1           2     15647311      hill           608     spain  female   41   \n",
       "2           3     15619304      onio           502    france  female   42   \n",
       "3           4     15701354      boni           699    france  female   39   \n",
       "4           5     15737888  mitchell           850     spain  female   43   \n",
       "\n",
       "   tenure    balance  num_of_products  has_cr_card  is_active_member  \\\n",
       "0       2       0.00                1            1                 1   \n",
       "1       1   83807.86                1            0                 1   \n",
       "2       8  159660.80                3            1                 0   \n",
       "3       1       0.00                2            0                 0   \n",
       "4       2  125510.82                1            1                 1   \n",
       "\n",
       "   estimated_salary  \n",
       "0         101348.88  \n",
       "1         112542.58  \n",
       "2         113931.57  \n",
       "3          93826.63  \n",
       "4          79084.10  "
      ]
     },
     "execution_count": 17,
     "metadata": {},
     "output_type": "execute_result"
    }
   ],
   "source": [
    "# Просмотрим признаки таблицу\n",
    "features.head()"
   ]
  },
  {
   "cell_type": "markdown",
   "metadata": {},
   "source": [
    "Можно заметить, что в наших признаках есть столбец `row_number` (индекс строки в данных). Логически он не несет какой-либо важной информации, и похоже он унаследовался при выгрузке данных для анализа. Посмотрим сколько здесь значений, а также максимальное и минимальное значения."
   ]
  },
  {
   "cell_type": "code",
   "execution_count": 18,
   "metadata": {},
   "outputs": [
    {
     "name": "stdout",
     "output_type": "stream",
     "text": [
      "Column \"row_number\":\n",
      "\t Unique values: [    1     2     3 ...  9998  9999 10000]\n",
      "\t Total count: 10000\n",
      "\t Min row_number: 1\n",
      "\t Max row_number: 10000\n"
     ]
    }
   ],
   "source": [
    "print('Column \"row_number\":')\n",
    "print('\\t Unique values:', features['row_number'].unique())\n",
    "print('\\t Total count:', features['row_number'].count())\n",
    "print('\\t Min row_number:', features['row_number'].min())\n",
    "print('\\t Max row_number:', features['row_number'].max())"
   ]
  },
  {
   "cell_type": "markdown",
   "metadata": {},
   "source": [
    "Исходя из полученной информации, видно, что значений столько же, сколько и строк. Судя по названию, эти значения действительно означают только номера строк, начиная с 1. Поэтому можно удалить данный столбец, его не стоит учитывать при обучении."
   ]
  },
  {
   "cell_type": "code",
   "execution_count": 19,
   "metadata": {},
   "outputs": [],
   "source": [
    "features = features.drop('row_number', axis=1)"
   ]
  },
  {
   "cell_type": "markdown",
   "metadata": {},
   "source": [
    "Похожая ситуация со столбцом `customer_id` (уникальный идентификатор клиента). Посмотрим сколько уникальных значений в этом столбце."
   ]
  },
  {
   "cell_type": "code",
   "execution_count": 20,
   "metadata": {},
   "outputs": [
    {
     "name": "stdout",
     "output_type": "stream",
     "text": [
      "Column \"customer_id\":\n",
      "\t Total count: 10000\n"
     ]
    }
   ],
   "source": [
    "print('Column \"customer_id\":')\n",
    "print('\\t Total count:', features['customer_id'].count())"
   ]
  },
  {
   "cell_type": "markdown",
   "metadata": {},
   "source": [
    "Значений столько же, сколько и строк в таблице. Данная информация также не поможет при обучении - удалим столбец."
   ]
  },
  {
   "cell_type": "code",
   "execution_count": 21,
   "metadata": {},
   "outputs": [],
   "source": [
    "features = features.drop('customer_id', axis=1)"
   ]
  },
  {
   "cell_type": "markdown",
   "metadata": {},
   "source": [
    "Столбец с фамилиями также не несет важной информации для дальнейшего анализа. Исходя из уникальных идентификаторов клиентов, мы убедились, что клиенты даже с одинаковыми фамилиями - это разные люди. Удалим этот столбец."
   ]
  },
  {
   "cell_type": "code",
   "execution_count": 22,
   "metadata": {},
   "outputs": [],
   "source": [
    "features = features.drop('surname', axis=1)"
   ]
  },
  {
   "cell_type": "markdown",
   "metadata": {},
   "source": [
    "Преобразуем наши категориальные переменные в количественные методом прямого отображения (One-Hot Encoding). Мы выбрали именно этот метод, потому что, к примеру, у нас есть столбец `gender` (пол), и если мы будем работать с логистической регрессией, мы будем обрабатывать значения полов, как числа. Допустим складывать их, а это лишено логического смысла.<br/>\n",
    "Также учтем, что мы не хотим попасть в дамми-ловушку. Для это добавим дополнительный аргумент в функцию."
   ]
  },
  {
   "cell_type": "code",
   "execution_count": 23,
   "metadata": {},
   "outputs": [],
   "source": [
    "features = pd.get_dummies(features, drop_first=True)"
   ]
  },
  {
   "cell_type": "code",
   "execution_count": 24,
   "metadata": {},
   "outputs": [
    {
     "data": {
      "text/html": [
       "<div>\n",
       "<style scoped>\n",
       "    .dataframe tbody tr th:only-of-type {\n",
       "        vertical-align: middle;\n",
       "    }\n",
       "\n",
       "    .dataframe tbody tr th {\n",
       "        vertical-align: top;\n",
       "    }\n",
       "\n",
       "    .dataframe thead th {\n",
       "        text-align: right;\n",
       "    }\n",
       "</style>\n",
       "<table border=\"1\" class=\"dataframe\">\n",
       "  <thead>\n",
       "    <tr style=\"text-align: right;\">\n",
       "      <th></th>\n",
       "      <th>credit_score</th>\n",
       "      <th>age</th>\n",
       "      <th>tenure</th>\n",
       "      <th>balance</th>\n",
       "      <th>num_of_products</th>\n",
       "      <th>has_cr_card</th>\n",
       "      <th>is_active_member</th>\n",
       "      <th>estimated_salary</th>\n",
       "      <th>geography_germany</th>\n",
       "      <th>geography_spain</th>\n",
       "      <th>gender_male</th>\n",
       "    </tr>\n",
       "  </thead>\n",
       "  <tbody>\n",
       "    <tr>\n",
       "      <th>0</th>\n",
       "      <td>619</td>\n",
       "      <td>42</td>\n",
       "      <td>2</td>\n",
       "      <td>0.00</td>\n",
       "      <td>1</td>\n",
       "      <td>1</td>\n",
       "      <td>1</td>\n",
       "      <td>101348.88</td>\n",
       "      <td>0</td>\n",
       "      <td>0</td>\n",
       "      <td>0</td>\n",
       "    </tr>\n",
       "    <tr>\n",
       "      <th>1</th>\n",
       "      <td>608</td>\n",
       "      <td>41</td>\n",
       "      <td>1</td>\n",
       "      <td>83807.86</td>\n",
       "      <td>1</td>\n",
       "      <td>0</td>\n",
       "      <td>1</td>\n",
       "      <td>112542.58</td>\n",
       "      <td>0</td>\n",
       "      <td>1</td>\n",
       "      <td>0</td>\n",
       "    </tr>\n",
       "    <tr>\n",
       "      <th>2</th>\n",
       "      <td>502</td>\n",
       "      <td>42</td>\n",
       "      <td>8</td>\n",
       "      <td>159660.80</td>\n",
       "      <td>3</td>\n",
       "      <td>1</td>\n",
       "      <td>0</td>\n",
       "      <td>113931.57</td>\n",
       "      <td>0</td>\n",
       "      <td>0</td>\n",
       "      <td>0</td>\n",
       "    </tr>\n",
       "    <tr>\n",
       "      <th>3</th>\n",
       "      <td>699</td>\n",
       "      <td>39</td>\n",
       "      <td>1</td>\n",
       "      <td>0.00</td>\n",
       "      <td>2</td>\n",
       "      <td>0</td>\n",
       "      <td>0</td>\n",
       "      <td>93826.63</td>\n",
       "      <td>0</td>\n",
       "      <td>0</td>\n",
       "      <td>0</td>\n",
       "    </tr>\n",
       "    <tr>\n",
       "      <th>4</th>\n",
       "      <td>850</td>\n",
       "      <td>43</td>\n",
       "      <td>2</td>\n",
       "      <td>125510.82</td>\n",
       "      <td>1</td>\n",
       "      <td>1</td>\n",
       "      <td>1</td>\n",
       "      <td>79084.10</td>\n",
       "      <td>0</td>\n",
       "      <td>1</td>\n",
       "      <td>0</td>\n",
       "    </tr>\n",
       "  </tbody>\n",
       "</table>\n",
       "</div>"
      ],
      "text/plain": [
       "   credit_score  age  tenure    balance  num_of_products  has_cr_card  \\\n",
       "0           619   42       2       0.00                1            1   \n",
       "1           608   41       1   83807.86                1            0   \n",
       "2           502   42       8  159660.80                3            1   \n",
       "3           699   39       1       0.00                2            0   \n",
       "4           850   43       2  125510.82                1            1   \n",
       "\n",
       "   is_active_member  estimated_salary  geography_germany  geography_spain  \\\n",
       "0                 1         101348.88                  0                0   \n",
       "1                 1         112542.58                  0                1   \n",
       "2                 0         113931.57                  0                0   \n",
       "3                 0          93826.63                  0                0   \n",
       "4                 1          79084.10                  0                1   \n",
       "\n",
       "   gender_male  \n",
       "0            0  \n",
       "1            0  \n",
       "2            0  \n",
       "3            0  \n",
       "4            0  "
      ]
     },
     "execution_count": 24,
     "metadata": {},
     "output_type": "execute_result"
    }
   ],
   "source": [
    "# Просмотрим полученную таблицу\n",
    "features.head()"
   ]
  },
  {
   "cell_type": "markdown",
   "metadata": {},
   "source": [
    "Видно, что значения признаков в разных столбцах разных порядков. Это помешает при обучении. Чтобы решить данную проблему, масштабируем числовые данные методом стандартизации."
   ]
  },
  {
   "cell_type": "markdown",
   "metadata": {},
   "source": [
    "Для начала поймем, какие данные необходимо стандартизировать. Из всех оставшихся первоначальных столбцов отдельно стоит проверить стоблцы `has_cr_card` (наличие кредитной карты) и `is_active_member` (активность клиента), так как по описанию они похожи на бинарные признаки (0 или 1). А также столбцы `tenure` и `num_of_products`, их также можно интерпретировать как категориальные."
   ]
  },
  {
   "cell_type": "code",
   "execution_count": 25,
   "metadata": {},
   "outputs": [
    {
     "name": "stdout",
     "output_type": "stream",
     "text": [
      "1    7055\n",
      "0    2945\n",
      "Name: has_cr_card, dtype: int64\n",
      "\n",
      "1    5151\n",
      "0    4849\n",
      "Name: is_active_member, dtype: int64\n",
      "\n",
      "0     1291\n",
      "1      952\n",
      "2      950\n",
      "8      933\n",
      "3      928\n",
      "5      927\n",
      "7      925\n",
      "4      885\n",
      "9      882\n",
      "6      881\n",
      "10     446\n",
      "Name: tenure, dtype: int64\n",
      "\n",
      "1    5084\n",
      "2    4590\n",
      "3     266\n",
      "4      60\n",
      "Name: num_of_products, dtype: int64\n"
     ]
    }
   ],
   "source": [
    "print(features['has_cr_card'].value_counts())\n",
    "print()\n",
    "print(features['is_active_member'].value_counts())\n",
    "print()\n",
    "print(features['tenure'].value_counts())\n",
    "print()\n",
    "print(features['num_of_products'].value_counts())"
   ]
  },
  {
   "cell_type": "markdown",
   "metadata": {},
   "source": [
    "Действительно, эти признаки категориальные. Не будем их рассматривать при стандартизации. Для остальных выполним масштабирование. Однако, сделаем это позже, после разделения данных на выборки."
   ]
  },
  {
   "cell_type": "markdown",
   "metadata": {},
   "source": [
    "### Вывод"
   ]
  },
  {
   "cell_type": "markdown",
   "metadata": {},
   "source": [
    "На данном этапе мы загрузили и подготовили данные. Ознакомились с первоначальными данными, сохранили их в переменной `clients`. Далее последовал этап предобработки данных, мы проверили названия столбцов и привели их к подобающему виду. Далее была проведена проверка на пустые значения, соответствие типам данных и дубликаты. После проводилась подготовка признаков для алгоритмов машинного обучения. Были удалены столбцы, которые не должны повлиять на логику обучения, методом прямого кодирования мы избавились от категориальных переменных."
   ]
  },
  {
   "cell_type": "markdown",
   "metadata": {},
   "source": [
    "<a id=\"step2\"></a>\n",
    "## 2. Исследование задачи"
   ]
  },
  {
   "cell_type": "markdown",
   "metadata": {},
   "source": [
    "В данном пункте необходимо провести исследование баланса классов и обучить модель без учёта дисбаланса."
   ]
  },
  {
   "cell_type": "markdown",
   "metadata": {},
   "source": [
    "Здесь и далее, нам понадобится параметр рандомизации, чтобы работать с одним и тем же распределением данных. Определим этот параметр и сохраним его в переменной `rand_seed`."
   ]
  },
  {
   "cell_type": "code",
   "execution_count": 26,
   "metadata": {},
   "outputs": [],
   "source": [
    "rand_seed = 12345"
   ]
  },
  {
   "cell_type": "markdown",
   "metadata": {},
   "source": [
    "Для начала, разделим наши данные на выборки: обучающую, валидационую и тестовую в соотношении 3:1:1. Доли валидационной и тестовой выборок будут равны и составлять по 20 %. Поскольку функция train_test_split делит только на 2 выборки, мы разделим данные в 2 этапа - сначала 3:2,а затем вторую часть данных пополам. Чтобы доли классов 0 и 1 в разных выборках были одинаковыми, используем параметр стратификации в методе train_test_split."
   ]
  },
  {
   "cell_type": "code",
   "execution_count": 27,
   "metadata": {},
   "outputs": [],
   "source": [
    "# отделим 40% данных для проверочных выборок\n",
    "features_train, features_check, target_train, target_check = train_test_split(\n",
    "    features, target, test_size=0.4, random_state=rand_seed, stratify=target)"
   ]
  },
  {
   "cell_type": "code",
   "execution_count": 28,
   "metadata": {},
   "outputs": [],
   "source": [
    "# определим 50% данных для валидационной выборки и 50% для тестовой выборки (из проверочное выборки)\n",
    "features_valid, features_test, target_valid, target_test = train_test_split(\n",
    "    features_check, target_check, test_size=0.5, random_state=rand_seed, stratify=target_check)"
   ]
  },
  {
   "cell_type": "code",
   "execution_count": 29,
   "metadata": {},
   "outputs": [
    {
     "name": "stdout",
     "output_type": "stream",
     "text": [
      "Training:\n",
      "\t features shape: (6000, 11)\n",
      "\t target shape: (6000,)\n",
      "Validation:\n",
      "\t features shape: (2000, 11)\n",
      "\t target shape: (2000,)\n",
      "Testing:\n",
      "\t features shape: (2000, 11)\n",
      "\t target shape: (2000,)\n"
     ]
    }
   ],
   "source": [
    "# Проверим, что данные распределены правильно\n",
    "print('Training:')\n",
    "print('\\t features shape:', features_train.shape)\n",
    "print('\\t target shape:', target_train.shape)\n",
    "\n",
    "print('Validation:')\n",
    "print('\\t features shape:', features_valid.shape)\n",
    "print('\\t target shape:', target_valid.shape)\n",
    "\n",
    "print('Testing:')\n",
    "print('\\t features shape:', features_test.shape)\n",
    "print('\\t target shape:', target_test.shape)"
   ]
  },
  {
   "cell_type": "markdown",
   "metadata": {},
   "source": [
    "Мы разделили данные на обучающую, валидационную и тестовую выборки. Теперь можно выполнить масштабирование."
   ]
  },
  {
   "cell_type": "code",
   "execution_count": 30,
   "metadata": {},
   "outputs": [],
   "source": [
    "numerical_cols = ['credit_score', 'age', 'balance', 'estimated_salary']"
   ]
  },
  {
   "cell_type": "code",
   "execution_count": 31,
   "metadata": {},
   "outputs": [],
   "source": [
    "pd.options.mode.chained_assignment = None\n",
    "\n",
    "scaler = StandardScaler()\n",
    "scaler.fit(features_train[numerical_cols])\n",
    "\n",
    "features_train[numerical_cols] = scaler.transform(features_train[numerical_cols])\n",
    "features_valid[numerical_cols] = scaler.transform(features_valid[numerical_cols])\n",
    "features_test[numerical_cols] = scaler.transform(features_test[numerical_cols])"
   ]
  },
  {
   "cell_type": "code",
   "execution_count": 32,
   "metadata": {},
   "outputs": [
    {
     "name": "stdout",
     "output_type": "stream",
     "text": [
      "features_train:\n"
     ]
    },
    {
     "data": {
      "text/html": [
       "<div>\n",
       "<style scoped>\n",
       "    .dataframe tbody tr th:only-of-type {\n",
       "        vertical-align: middle;\n",
       "    }\n",
       "\n",
       "    .dataframe tbody tr th {\n",
       "        vertical-align: top;\n",
       "    }\n",
       "\n",
       "    .dataframe thead th {\n",
       "        text-align: right;\n",
       "    }\n",
       "</style>\n",
       "<table border=\"1\" class=\"dataframe\">\n",
       "  <thead>\n",
       "    <tr style=\"text-align: right;\">\n",
       "      <th></th>\n",
       "      <th>credit_score</th>\n",
       "      <th>age</th>\n",
       "      <th>tenure</th>\n",
       "      <th>balance</th>\n",
       "      <th>num_of_products</th>\n",
       "      <th>has_cr_card</th>\n",
       "      <th>is_active_member</th>\n",
       "      <th>estimated_salary</th>\n",
       "      <th>geography_germany</th>\n",
       "      <th>geography_spain</th>\n",
       "      <th>gender_male</th>\n",
       "    </tr>\n",
       "  </thead>\n",
       "  <tbody>\n",
       "    <tr>\n",
       "      <th>2837</th>\n",
       "      <td>-1.040434</td>\n",
       "      <td>0.953312</td>\n",
       "      <td>6</td>\n",
       "      <td>0.774657</td>\n",
       "      <td>1</td>\n",
       "      <td>0</td>\n",
       "      <td>1</td>\n",
       "      <td>-0.119110</td>\n",
       "      <td>1</td>\n",
       "      <td>0</td>\n",
       "      <td>0</td>\n",
       "    </tr>\n",
       "    <tr>\n",
       "      <th>9925</th>\n",
       "      <td>0.454006</td>\n",
       "      <td>-0.095244</td>\n",
       "      <td>0</td>\n",
       "      <td>1.910540</td>\n",
       "      <td>1</td>\n",
       "      <td>1</td>\n",
       "      <td>1</td>\n",
       "      <td>-0.258658</td>\n",
       "      <td>0</td>\n",
       "      <td>0</td>\n",
       "      <td>0</td>\n",
       "    </tr>\n",
       "    <tr>\n",
       "      <th>8746</th>\n",
       "      <td>0.103585</td>\n",
       "      <td>-0.476537</td>\n",
       "      <td>8</td>\n",
       "      <td>0.481608</td>\n",
       "      <td>2</td>\n",
       "      <td>0</td>\n",
       "      <td>1</td>\n",
       "      <td>1.422836</td>\n",
       "      <td>0</td>\n",
       "      <td>0</td>\n",
       "      <td>1</td>\n",
       "    </tr>\n",
       "    <tr>\n",
       "      <th>660</th>\n",
       "      <td>-0.184996</td>\n",
       "      <td>0.190726</td>\n",
       "      <td>0</td>\n",
       "      <td>0.088439</td>\n",
       "      <td>1</td>\n",
       "      <td>1</td>\n",
       "      <td>1</td>\n",
       "      <td>-1.160427</td>\n",
       "      <td>1</td>\n",
       "      <td>0</td>\n",
       "      <td>0</td>\n",
       "    </tr>\n",
       "    <tr>\n",
       "      <th>3610</th>\n",
       "      <td>-0.720933</td>\n",
       "      <td>1.620574</td>\n",
       "      <td>1</td>\n",
       "      <td>0.879129</td>\n",
       "      <td>1</td>\n",
       "      <td>1</td>\n",
       "      <td>0</td>\n",
       "      <td>0.113236</td>\n",
       "      <td>0</td>\n",
       "      <td>0</td>\n",
       "      <td>0</td>\n",
       "    </tr>\n",
       "  </tbody>\n",
       "</table>\n",
       "</div>"
      ],
      "text/plain": [
       "      credit_score       age  tenure   balance  num_of_products  has_cr_card  \\\n",
       "2837     -1.040434  0.953312       6  0.774657                1            0   \n",
       "9925      0.454006 -0.095244       0  1.910540                1            1   \n",
       "8746      0.103585 -0.476537       8  0.481608                2            0   \n",
       "660      -0.184996  0.190726       0  0.088439                1            1   \n",
       "3610     -0.720933  1.620574       1  0.879129                1            1   \n",
       "\n",
       "      is_active_member  estimated_salary  geography_germany  geography_spain  \\\n",
       "2837                 1         -0.119110                  1                0   \n",
       "9925                 1         -0.258658                  0                0   \n",
       "8746                 1          1.422836                  0                0   \n",
       "660                  1         -1.160427                  1                0   \n",
       "3610                 0          0.113236                  0                0   \n",
       "\n",
       "      gender_male  \n",
       "2837            0  \n",
       "9925            0  \n",
       "8746            1  \n",
       "660             0  \n",
       "3610            0  "
      ]
     },
     "metadata": {},
     "output_type": "display_data"
    },
    {
     "name": "stdout",
     "output_type": "stream",
     "text": [
      "features_valid\n"
     ]
    },
    {
     "data": {
      "text/html": [
       "<div>\n",
       "<style scoped>\n",
       "    .dataframe tbody tr th:only-of-type {\n",
       "        vertical-align: middle;\n",
       "    }\n",
       "\n",
       "    .dataframe tbody tr th {\n",
       "        vertical-align: top;\n",
       "    }\n",
       "\n",
       "    .dataframe thead th {\n",
       "        text-align: right;\n",
       "    }\n",
       "</style>\n",
       "<table border=\"1\" class=\"dataframe\">\n",
       "  <thead>\n",
       "    <tr style=\"text-align: right;\">\n",
       "      <th></th>\n",
       "      <th>credit_score</th>\n",
       "      <th>age</th>\n",
       "      <th>tenure</th>\n",
       "      <th>balance</th>\n",
       "      <th>num_of_products</th>\n",
       "      <th>has_cr_card</th>\n",
       "      <th>is_active_member</th>\n",
       "      <th>estimated_salary</th>\n",
       "      <th>geography_germany</th>\n",
       "      <th>geography_spain</th>\n",
       "      <th>gender_male</th>\n",
       "    </tr>\n",
       "  </thead>\n",
       "  <tbody>\n",
       "    <tr>\n",
       "      <th>6612</th>\n",
       "      <td>-1.524838</td>\n",
       "      <td>2.383160</td>\n",
       "      <td>3</td>\n",
       "      <td>1.011655</td>\n",
       "      <td>1</td>\n",
       "      <td>0</td>\n",
       "      <td>1</td>\n",
       "      <td>0.010275</td>\n",
       "      <td>0</td>\n",
       "      <td>0</td>\n",
       "      <td>0</td>\n",
       "    </tr>\n",
       "    <tr>\n",
       "      <th>519</th>\n",
       "      <td>0.587990</td>\n",
       "      <td>1.811221</td>\n",
       "      <td>6</td>\n",
       "      <td>0.213192</td>\n",
       "      <td>1</td>\n",
       "      <td>0</td>\n",
       "      <td>1</td>\n",
       "      <td>0.453089</td>\n",
       "      <td>0</td>\n",
       "      <td>0</td>\n",
       "      <td>1</td>\n",
       "    </tr>\n",
       "    <tr>\n",
       "      <th>1609</th>\n",
       "      <td>-0.318980</td>\n",
       "      <td>-0.381213</td>\n",
       "      <td>8</td>\n",
       "      <td>0.893896</td>\n",
       "      <td>1</td>\n",
       "      <td>1</td>\n",
       "      <td>0</td>\n",
       "      <td>-0.603508</td>\n",
       "      <td>0</td>\n",
       "      <td>0</td>\n",
       "      <td>0</td>\n",
       "    </tr>\n",
       "    <tr>\n",
       "      <th>3475</th>\n",
       "      <td>1.226991</td>\n",
       "      <td>-0.762506</td>\n",
       "      <td>4</td>\n",
       "      <td>-0.240363</td>\n",
       "      <td>2</td>\n",
       "      <td>1</td>\n",
       "      <td>1</td>\n",
       "      <td>-1.621460</td>\n",
       "      <td>0</td>\n",
       "      <td>0</td>\n",
       "      <td>1</td>\n",
       "    </tr>\n",
       "    <tr>\n",
       "      <th>2707</th>\n",
       "      <td>-0.133464</td>\n",
       "      <td>-0.095244</td>\n",
       "      <td>3</td>\n",
       "      <td>0.447305</td>\n",
       "      <td>1</td>\n",
       "      <td>0</td>\n",
       "      <td>0</td>\n",
       "      <td>0.338574</td>\n",
       "      <td>0</td>\n",
       "      <td>0</td>\n",
       "      <td>0</td>\n",
       "    </tr>\n",
       "  </tbody>\n",
       "</table>\n",
       "</div>"
      ],
      "text/plain": [
       "      credit_score       age  tenure   balance  num_of_products  has_cr_card  \\\n",
       "6612     -1.524838  2.383160       3  1.011655                1            0   \n",
       "519       0.587990  1.811221       6  0.213192                1            0   \n",
       "1609     -0.318980 -0.381213       8  0.893896                1            1   \n",
       "3475      1.226991 -0.762506       4 -0.240363                2            1   \n",
       "2707     -0.133464 -0.095244       3  0.447305                1            0   \n",
       "\n",
       "      is_active_member  estimated_salary  geography_germany  geography_spain  \\\n",
       "6612                 1          0.010275                  0                0   \n",
       "519                  1          0.453089                  0                0   \n",
       "1609                 0         -0.603508                  0                0   \n",
       "3475                 1         -1.621460                  0                0   \n",
       "2707                 0          0.338574                  0                0   \n",
       "\n",
       "      gender_male  \n",
       "6612            0  \n",
       "519             1  \n",
       "1609            0  \n",
       "3475            1  \n",
       "2707            0  "
      ]
     },
     "metadata": {},
     "output_type": "display_data"
    },
    {
     "name": "stdout",
     "output_type": "stream",
     "text": [
      "features_test\n"
     ]
    },
    {
     "data": {
      "text/html": [
       "<div>\n",
       "<style scoped>\n",
       "    .dataframe tbody tr th:only-of-type {\n",
       "        vertical-align: middle;\n",
       "    }\n",
       "\n",
       "    .dataframe tbody tr th {\n",
       "        vertical-align: top;\n",
       "    }\n",
       "\n",
       "    .dataframe thead th {\n",
       "        text-align: right;\n",
       "    }\n",
       "</style>\n",
       "<table border=\"1\" class=\"dataframe\">\n",
       "  <thead>\n",
       "    <tr style=\"text-align: right;\">\n",
       "      <th></th>\n",
       "      <th>credit_score</th>\n",
       "      <th>age</th>\n",
       "      <th>tenure</th>\n",
       "      <th>balance</th>\n",
       "      <th>num_of_products</th>\n",
       "      <th>has_cr_card</th>\n",
       "      <th>is_active_member</th>\n",
       "      <th>estimated_salary</th>\n",
       "      <th>geography_germany</th>\n",
       "      <th>geography_spain</th>\n",
       "      <th>gender_male</th>\n",
       "    </tr>\n",
       "  </thead>\n",
       "  <tbody>\n",
       "    <tr>\n",
       "      <th>657</th>\n",
       "      <td>-0.504497</td>\n",
       "      <td>1.429928</td>\n",
       "      <td>1</td>\n",
       "      <td>0.873883</td>\n",
       "      <td>2</td>\n",
       "      <td>1</td>\n",
       "      <td>1</td>\n",
       "      <td>1.725255</td>\n",
       "      <td>1</td>\n",
       "      <td>0</td>\n",
       "      <td>0</td>\n",
       "    </tr>\n",
       "    <tr>\n",
       "      <th>2083</th>\n",
       "      <td>-1.195031</td>\n",
       "      <td>-1.429769</td>\n",
       "      <td>1</td>\n",
       "      <td>-1.219673</td>\n",
       "      <td>1</td>\n",
       "      <td>1</td>\n",
       "      <td>1</td>\n",
       "      <td>1.203665</td>\n",
       "      <td>0</td>\n",
       "      <td>0</td>\n",
       "      <td>1</td>\n",
       "    </tr>\n",
       "    <tr>\n",
       "      <th>3234</th>\n",
       "      <td>-1.267176</td>\n",
       "      <td>0.762665</td>\n",
       "      <td>1</td>\n",
       "      <td>-1.219673</td>\n",
       "      <td>1</td>\n",
       "      <td>1</td>\n",
       "      <td>0</td>\n",
       "      <td>-1.374743</td>\n",
       "      <td>0</td>\n",
       "      <td>0</td>\n",
       "      <td>1</td>\n",
       "    </tr>\n",
       "    <tr>\n",
       "      <th>1551</th>\n",
       "      <td>0.825039</td>\n",
       "      <td>1.239281</td>\n",
       "      <td>7</td>\n",
       "      <td>-1.219673</td>\n",
       "      <td>2</td>\n",
       "      <td>0</td>\n",
       "      <td>1</td>\n",
       "      <td>0.382306</td>\n",
       "      <td>0</td>\n",
       "      <td>1</td>\n",
       "      <td>0</td>\n",
       "    </tr>\n",
       "    <tr>\n",
       "      <th>2344</th>\n",
       "      <td>0.660135</td>\n",
       "      <td>0.953312</td>\n",
       "      <td>4</td>\n",
       "      <td>0.267087</td>\n",
       "      <td>1</td>\n",
       "      <td>1</td>\n",
       "      <td>0</td>\n",
       "      <td>-1.613578</td>\n",
       "      <td>1</td>\n",
       "      <td>0</td>\n",
       "      <td>0</td>\n",
       "    </tr>\n",
       "  </tbody>\n",
       "</table>\n",
       "</div>"
      ],
      "text/plain": [
       "      credit_score       age  tenure   balance  num_of_products  has_cr_card  \\\n",
       "657      -0.504497  1.429928       1  0.873883                2            1   \n",
       "2083     -1.195031 -1.429769       1 -1.219673                1            1   \n",
       "3234     -1.267176  0.762665       1 -1.219673                1            1   \n",
       "1551      0.825039  1.239281       7 -1.219673                2            0   \n",
       "2344      0.660135  0.953312       4  0.267087                1            1   \n",
       "\n",
       "      is_active_member  estimated_salary  geography_germany  geography_spain  \\\n",
       "657                  1          1.725255                  1                0   \n",
       "2083                 1          1.203665                  0                0   \n",
       "3234                 0         -1.374743                  0                0   \n",
       "1551                 1          0.382306                  0                1   \n",
       "2344                 0         -1.613578                  1                0   \n",
       "\n",
       "      gender_male  \n",
       "657             0  \n",
       "2083            1  \n",
       "3234            1  \n",
       "1551            0  \n",
       "2344            0  "
      ]
     },
     "metadata": {},
     "output_type": "display_data"
    }
   ],
   "source": [
    "# проверим значения признаков\n",
    "print('features_train:')\n",
    "display(features_train.head())\n",
    "print('features_valid')\n",
    "display(features_valid.head())\n",
    "print('features_test')\n",
    "display(features_test.head())"
   ]
  },
  {
   "cell_type": "markdown",
   "metadata": {},
   "source": [
    "Рассмотрим какой баланс классов в обучающей выборке."
   ]
  },
  {
   "cell_type": "code",
   "execution_count": 33,
   "metadata": {},
   "outputs": [
    {
     "name": "stdout",
     "output_type": "stream",
     "text": [
      "0    0.796333\n",
      "1    0.203667\n",
      "Name: exited, dtype: float64\n"
     ]
    }
   ],
   "source": [
    "print(target_train.value_counts(normalize=True))"
   ]
  },
  {
   "cell_type": "markdown",
   "metadata": {},
   "source": [
    "Видно, что на данный момент здесь присутсвует явный дисбаланс классов. Отрицательных ответов почти 80%, в то время как положительных ответов всего 20%. Попробуем обучить модель на таких данных."
   ]
  },
  {
   "cell_type": "markdown",
   "metadata": {},
   "source": [
    "Сейчас необходимо исследовать различные модели с разными гиперпараметрами и выбрать ту, для которой F1-мера будет наибольшей. Также для каждого случая необходимо рассмотреть значение меры AUC-ROC.<br/>\n",
    "Перед нами задача бинарной классификации. В качества моделей будем рассматривать решающее дерево, случайный лес и логистическую регрессию."
   ]
  },
  {
   "cell_type": "markdown",
   "metadata": {},
   "source": [
    "- Решающее дерево.<br/>\n",
    "В качестве исследуемых гиперпараметров возьмем максимальную глубину дерева (`max_depth`) в диапазоне от 2 до 20. Сохраним модель и ее гиперпараметры для самой высокой F1-меры."
   ]
  },
  {
   "cell_type": "code",
   "execution_count": 34,
   "metadata": {},
   "outputs": [],
   "source": [
    "check_dtc_params = {'max_depth': range (2, 10, 1)}"
   ]
  },
  {
   "cell_type": "code",
   "execution_count": 35,
   "metadata": {},
   "outputs": [],
   "source": [
    "# С помощью поиска по сетке (GridSearchCV) мы найдем параметры для наилучшей модели для критерия f1-меры\n",
    "def find_best_dtc(rand_seed, check_class_weight, features_train, target_train):\n",
    "    clf = DecisionTreeClassifier(class_weight=check_class_weight, random_state=rand_seed)\n",
    "\n",
    "    grid = GridSearchCV(clf, check_dtc_params, cv=5, scoring='f1')\n",
    "    grid.fit(features_train, target_train)\n",
    "\n",
    "    best_dtc_depth = grid.best_params_['max_depth']\n",
    "    \n",
    "    return best_dtc_depth"
   ]
  },
  {
   "cell_type": "code",
   "execution_count": 36,
   "metadata": {},
   "outputs": [
    {
     "name": "stdout",
     "output_type": "stream",
     "text": [
      "best_dtc_depth = 7\n",
      "\n",
      "Wall time: 725 ms\n"
     ]
    }
   ],
   "source": [
    "%%time\n",
    "\n",
    "check_class_weight = None\n",
    "best_dtc_depth = find_best_dtc(rand_seed, check_class_weight, features_train, target_train)\n",
    "print('best_dtc_depth =', best_dtc_depth)\n",
    "print()"
   ]
  },
  {
   "cell_type": "code",
   "execution_count": 37,
   "metadata": {},
   "outputs": [
    {
     "name": "stdout",
     "output_type": "stream",
     "text": [
      "dtc_train_f1_score = 0.6115288220551378\n",
      "dtc_valid_f1_score = 0.5924855491329479\n",
      "dtc_auc_roc = 0.8247056360232534\n"
     ]
    }
   ],
   "source": [
    "# Измерим значение AUC-ROC\n",
    "model = DecisionTreeClassifier(\n",
    "        max_depth=best_dtc_depth,\n",
    "        random_state=rand_seed\n",
    ")\n",
    "model.fit(features_train, target_train)\n",
    "\n",
    "predicted_train = model.predict(features_train)\n",
    "dtc_train_f1_score = f1_score(target_train, predicted_train)\n",
    "print('dtc_train_f1_score =', dtc_train_f1_score)\n",
    "\n",
    "predicted_valid = model.predict(features_valid)\n",
    "dtc_valid_f1_score = f1_score(target_valid, predicted_valid)\n",
    "print('dtc_valid_f1_score =', dtc_valid_f1_score)\n",
    "\n",
    "probabilities_valid = model.predict_proba(features_valid)\n",
    "probabilities_one_valid = probabilities_valid[:, 1]\n",
    "dtc_auc_roc = roc_auc_score(target_valid, probabilities_one_valid)\n",
    "print('dtc_auc_roc =', dtc_auc_roc)"
   ]
  },
  {
   "cell_type": "markdown",
   "metadata": {},
   "source": [
    "- Случайный лес.<br/>\n",
    "В качестве исследуемых гиперпараметров возьмем те же, что и для решающего дерева: `max_depth`. Также добавим исследование по количеству оценщиков (`n_estimators`), который будет изменяться в диапазоне от 50 до 150. Сохраним модель и ее гиперпараметры для самой высокой F1-меры."
   ]
  },
  {
   "cell_type": "code",
   "execution_count": 38,
   "metadata": {},
   "outputs": [],
   "source": [
    "check_rfc_params = {'n_estimators': range (50, 150, 10),\n",
    "                    'max_depth': range (2, 40, 5)}"
   ]
  },
  {
   "cell_type": "code",
   "execution_count": 39,
   "metadata": {},
   "outputs": [],
   "source": [
    "simplefilter(action='ignore', category=FutureWarning)"
   ]
  },
  {
   "cell_type": "code",
   "execution_count": 40,
   "metadata": {},
   "outputs": [],
   "source": [
    "# С помощью поиска по сетке (GridSearchCV) мы найдем параметры для наилучшей модели для критерия f1-меры\n",
    "def find_best_rfc(rand_seed, check_class_weight, features_train, target_train):\n",
    "    clf = RandomForestClassifier(class_weight=check_class_weight, random_state=rand_seed)\n",
    "\n",
    "    grid = GridSearchCV(clf, check_rfc_params, cv=5, scoring='f1')\n",
    "    grid.fit(features_train, target_train)\n",
    "\n",
    "    best_rfc_depth=grid.best_params_['max_depth']\n",
    "    best_rfc_estimators=grid.best_params_['n_estimators']\n",
    "    \n",
    "    return best_rfc_depth, best_rfc_estimators"
   ]
  },
  {
   "cell_type": "code",
   "execution_count": 41,
   "metadata": {},
   "outputs": [
    {
     "name": "stdout",
     "output_type": "stream",
     "text": [
      "best_rfc_depth = 22\n",
      "best_rfc_estimators = 60\n",
      "\n",
      "Wall time: 4min 6s\n"
     ]
    }
   ],
   "source": [
    "%%time\n",
    "\n",
    "\n",
    "check_class_weight = None\n",
    "best_rfc_depth, best_rfc_estimators = find_best_rfc(rand_seed, check_class_weight, features_train, target_train)\n",
    "print('best_rfc_depth =', best_rfc_depth)\n",
    "print('best_rfc_estimators =', best_rfc_estimators)\n",
    "print()"
   ]
  },
  {
   "cell_type": "code",
   "execution_count": 42,
   "metadata": {},
   "outputs": [
    {
     "name": "stdout",
     "output_type": "stream",
     "text": [
      "rfc_train_f1_score = 0.9991809991809992\n",
      "rfc_valid_f1_score = 0.6135693215339233\n",
      "rfc_auc_roc = 0.8623725243866391\n"
     ]
    }
   ],
   "source": [
    "# Измерим значение AUC-ROC\n",
    "model = RandomForestClassifier(\n",
    "        n_estimators=best_rfc_estimators,\n",
    "        max_depth=best_rfc_depth,\n",
    "        random_state=rand_seed\n",
    ")\n",
    "model.fit(features_train, target_train)\n",
    "\n",
    "predicted_train = model.predict(features_train)\n",
    "rfc_train_f1_score = f1_score(target_train, predicted_train)\n",
    "print('rfc_train_f1_score =', rfc_train_f1_score)\n",
    "\n",
    "predicted_valid = model.predict(features_valid)\n",
    "rfc_valid_f1_score = f1_score(target_valid, predicted_valid)\n",
    "print('rfc_valid_f1_score =', rfc_valid_f1_score)\n",
    "\n",
    "probabilities_valid = model.predict_proba(features_valid)\n",
    "probabilities_one_valid = probabilities_valid[:, 1]\n",
    "rfc_auc_roc = roc_auc_score(target_valid, probabilities_one_valid)\n",
    "print('rfc_auc_roc =', rfc_auc_roc)"
   ]
  },
  {
   "cell_type": "markdown",
   "metadata": {},
   "source": [
    "- Логистическая регрессия.<br/>\n",
    "В данном случае рассмотрим работу модели для гиперпараметров по умолчанию."
   ]
  },
  {
   "cell_type": "code",
   "execution_count": 43,
   "metadata": {},
   "outputs": [
    {
     "name": "stdout",
     "output_type": "stream",
     "text": [
      "lr_train_f1_score = 0.3171912832929782\n",
      "lr_valid_f1_score = 0.3076923076923077\n",
      "lr_auc_roc = 0.7875498817617498\n"
     ]
    }
   ],
   "source": [
    "# Измерим значение AUC-ROC\n",
    "model = LogisticRegression(\n",
    "        solver='liblinear',\n",
    "        random_state=rand_seed\n",
    ")\n",
    "model.fit(features_train, target_train)\n",
    "\n",
    "predicted_train = model.predict(features_train)\n",
    "lr_train_f1_score = f1_score(target_train, predicted_train)\n",
    "print('lr_train_f1_score =', lr_train_f1_score)\n",
    "\n",
    "lr_predicted_valid = model.predict(features_valid)\n",
    "lr_valid_f1_score = f1_score(target_valid, lr_predicted_valid)\n",
    "print('lr_valid_f1_score =', lr_valid_f1_score)\n",
    "\n",
    "lr_probabilities_valid = model.predict_proba(features_valid)\n",
    "lr_probabilities_one_valid = lr_probabilities_valid[:, 1]\n",
    "lr_auc_roc = roc_auc_score(target_valid, lr_probabilities_one_valid)\n",
    "print('lr_auc_roc =', lr_auc_roc)"
   ]
  },
  {
   "cell_type": "code",
   "execution_count": 44,
   "metadata": {},
   "outputs": [
    {
     "name": "stdout",
     "output_type": "stream",
     "text": [
      "dtc_valid_f1_score = 0.5924855491329479\n",
      "rfc_valid_f1_score = 0.6135693215339233\n",
      "lr_valid_f1_score = 0.3076923076923077\n"
     ]
    }
   ],
   "source": [
    "print('dtc_valid_f1_score =', dtc_valid_f1_score)\n",
    "print('rfc_valid_f1_score =', rfc_valid_f1_score)\n",
    "print('lr_valid_f1_score =', lr_valid_f1_score)"
   ]
  },
  {
   "cell_type": "markdown",
   "metadata": {},
   "source": [
    "### Вывод"
   ]
  },
  {
   "cell_type": "markdown",
   "metadata": {},
   "source": [
    "На данном этап мы определили, что в наших данных присутсвует дисбаланс классов - отрицательных ответов много больше чем положительных (80 на 20). Для этих даных мы провели обучение различных моделей, подобрали гиперпараметры, чтобы значение f1-меры было наибольшим. Для каждой модели с наилучшим показателем мы посчитали значение AUC-ROC, чтобы понять как сильно наша модель отличается от случайной. Лучшее значение f1-меры (0.61357) удалось получить на модели случайного леса (глубина = 22, количество оценщиков = 60). Значение AUC-ROC для этой же модели равно 0.86237. Данное значение достаточно высокое. Оно показывает, что наша модель предсказывает лучше, чем для случайного алгоритма. Среднее гармоническое полноты и точности (f1-мера), также довольно высокое, что показывает, что качество прогноза положительного класса на хорошем уровне. Однако, значение f1-меры можно еще повысить, если попытаться устранить дисбаланс в ответах.<br>\n",
    "Высокое значение AUC-ROC и высокое значение f1-меры говорит нам, что наша модель предсказывает качественно, и при других значениях порога классификации модель также будет это делать на высоком уровне."
   ]
  },
  {
   "cell_type": "markdown",
   "metadata": {},
   "source": [
    "<a id=\"step3\"></a>\n",
    "## 3. Борьба с дисбалансом"
   ]
  },
  {
   "cell_type": "markdown",
   "metadata": {},
   "source": [
    "Как видно из исследования, в наших данных присутствует дисбаланс классов. Это влияет на наши модели и, соответственно, на качество обучения. Попробуем устранить дисбаланс путем увеличения выборки. Для этого напишем функцию."
   ]
  },
  {
   "cell_type": "code",
   "execution_count": 45,
   "metadata": {},
   "outputs": [],
   "source": [
    "def upsample(rand_seed, features, target, repeat):\n",
    "    features_zeros = features[target == 0]\n",
    "    features_ones = features[target == 1]\n",
    "    target_zeros = target[target == 0]\n",
    "    target_ones = target[target == 1]\n",
    "\n",
    "    features_upsampled = pd.concat([features_zeros] + [features_ones] * repeat)\n",
    "    target_upsampled = pd.concat([target_zeros] + [target_ones] * repeat)\n",
    "    \n",
    "    features_upsampled, target_upsampled = shuffle(\n",
    "        features_upsampled, target_upsampled, random_state=rand_seed)\n",
    "    \n",
    "    return features_upsampled, target_upsampled"
   ]
  },
  {
   "cell_type": "markdown",
   "metadata": {},
   "source": [
    "Также попробуем разобраться с дисбалансом путем уменьшения выборки отрицательных ответов. Реализуем функцию"
   ]
  },
  {
   "cell_type": "code",
   "execution_count": 46,
   "metadata": {},
   "outputs": [],
   "source": [
    "def downsample(rand_seed, features, target, fraction):\n",
    "    features_zeros = features[target == 0]\n",
    "    features_ones = features[target == 1]\n",
    "    target_zeros = target[target == 0]\n",
    "    target_ones = target[target == 1]\n",
    "\n",
    "    features_downsampled = pd.concat(\n",
    "        [features_zeros.sample(frac=fraction, random_state=rand_seed)] + [features_ones])\n",
    "    target_downsampled = pd.concat(\n",
    "        [target_zeros.sample(frac=fraction, random_state=rand_seed)] + [target_ones])\n",
    "    \n",
    "    features_downsampled, target_downsampled = shuffle(\n",
    "        features_downsampled, target_downsampled, random_state=rand_seed)\n",
    "    \n",
    "    return features_downsampled, target_downsampled"
   ]
  },
  {
   "cell_type": "markdown",
   "metadata": {},
   "source": [
    "Модифицируем наши данные для тренировки. Увеличим количество положительных объектов в 4 раза, чтобы и отрицательных, и положительных было примерно поровну."
   ]
  },
  {
   "cell_type": "code",
   "execution_count": 47,
   "metadata": {},
   "outputs": [],
   "source": [
    "features_train_upsampled, target_train_upsampled = upsample(rand_seed, features_train, target_train, 4)"
   ]
  },
  {
   "cell_type": "markdown",
   "metadata": {},
   "source": [
    "Уменьшим количество отрицательных объектов в 4 раза."
   ]
  },
  {
   "cell_type": "code",
   "execution_count": 48,
   "metadata": {},
   "outputs": [],
   "source": [
    "features_train_downsampled, target_train_downsampled = downsample(rand_seed, features_train, target_train, 0.25)"
   ]
  },
  {
   "cell_type": "markdown",
   "metadata": {},
   "source": [
    "Проверим, как сейчас баланс объектов в тренировочной выборке."
   ]
  },
  {
   "cell_type": "code",
   "execution_count": 49,
   "metadata": {},
   "outputs": [
    {
     "name": "stdout",
     "output_type": "stream",
     "text": [
      "1    0.50569\n",
      "0    0.49431\n",
      "Name: exited, dtype: float64\n"
     ]
    }
   ],
   "source": [
    "print(target_train_upsampled.value_counts(normalize=True))"
   ]
  },
  {
   "cell_type": "code",
   "execution_count": 50,
   "metadata": {},
   "outputs": [
    {
     "name": "stdout",
     "output_type": "stream",
     "text": [
      "1    0.505795\n",
      "0    0.494205\n",
      "Name: exited, dtype: float64\n"
     ]
    }
   ],
   "source": [
    "print(target_train_downsampled.value_counts(normalize=True))"
   ]
  },
  {
   "cell_type": "markdown",
   "metadata": {},
   "source": [
    "Теперь проверим, как изменились наши лучшие показатели F1-меры. Для каждой модели также укажем параметр веса класса, это тоже поможет восполнить дисбаланс."
   ]
  },
  {
   "cell_type": "markdown",
   "metadata": {},
   "source": [
    "Первым опять рассмотрим дерево решений:"
   ]
  },
  {
   "cell_type": "code",
   "execution_count": 51,
   "metadata": {},
   "outputs": [
    {
     "name": "stdout",
     "output_type": "stream",
     "text": [
      "best_dtc_depth_up_b = 9\n",
      "\n",
      "dtc_train_up_f1_score = 0.8471720818291215\n",
      "dtc_valid_up_f1_score = 0.5424710424710425\n",
      "dtc_auc_roc_up = 0.7832891479456104\n",
      "\n",
      "Wall time: 1.22 s\n"
     ]
    }
   ],
   "source": [
    "%%time\n",
    "\n",
    "\n",
    "check_class_weight_b = 'balanced'\n",
    "best_dtc_depth_up_b = find_best_dtc(rand_seed, check_class_weight_b, features_train_upsampled, target_train_upsampled)\n",
    "print('best_dtc_depth_up_b =', best_dtc_depth_up_b)\n",
    "print()\n",
    "\n",
    "# проверка полученных значений\n",
    "model = DecisionTreeClassifier(\n",
    "        max_depth=best_dtc_depth_up_b,\n",
    "        class_weight=check_class_weight_b,\n",
    "        random_state=rand_seed\n",
    ")\n",
    "model.fit(features_train_upsampled, target_train_upsampled)\n",
    "\n",
    "dtc_predicted_train_up = model.predict(features_train_upsampled)\n",
    "dtc_train_up_f1_score = f1_score(target_train_upsampled, dtc_predicted_train_up)\n",
    "print('dtc_train_up_f1_score =', dtc_train_up_f1_score)\n",
    "\n",
    "dtc_predicted_up_valid = model.predict(features_valid)\n",
    "dtc_valid_up_f1_score = f1_score(target_valid, dtc_predicted_up_valid)\n",
    "print('dtc_valid_up_f1_score =', dtc_valid_up_f1_score)\n",
    "\n",
    "dtc_probabilities_up_valid = model.predict_proba(features_valid)\n",
    "dtc_probabilities_up_one_valid = dtc_probabilities_up_valid[:, 1]\n",
    "dtc_auc_roc_up = roc_auc_score(target_valid, dtc_probabilities_up_one_valid)\n",
    "print('dtc_auc_roc_up =', dtc_auc_roc_up)\n",
    "print()"
   ]
  },
  {
   "cell_type": "code",
   "execution_count": 52,
   "metadata": {},
   "outputs": [
    {
     "name": "stdout",
     "output_type": "stream",
     "text": [
      "best_dtc_depth_down_b = 6\n",
      "\n",
      "dtc_train_down_f1_score = 0.8055207026348807\n",
      "dtc_valid_down_f1_score = 0.5911602209944751\n",
      "dtc_auc_roc_down = 0.8524300423687062\n",
      "\n",
      "Wall time: 535 ms\n"
     ]
    }
   ],
   "source": [
    "%%time\n",
    "\n",
    "\n",
    "check_class_weight_b = 'balanced'\n",
    "best_dtc_depth_down_b = find_best_dtc(rand_seed, check_class_weight_b, features_train_downsampled, target_train_downsampled)\n",
    "print('best_dtc_depth_down_b =', best_dtc_depth_down_b)\n",
    "print()\n",
    "\n",
    "# проверка полученных значений\n",
    "model = DecisionTreeClassifier(\n",
    "        max_depth=best_dtc_depth_down_b,\n",
    "        class_weight=check_class_weight_b,\n",
    "        random_state=rand_seed\n",
    ")\n",
    "model.fit(features_train_downsampled, target_train_downsampled)\n",
    "\n",
    "dtc_predicted_train_down = model.predict(features_train_downsampled)\n",
    "dtc_train_down_f1_score = f1_score(target_train_downsampled, dtc_predicted_train_down)\n",
    "print('dtc_train_down_f1_score =', dtc_train_down_f1_score)\n",
    "\n",
    "dtc_predicted_down_valid = model.predict(features_valid)\n",
    "dtc_valid_down_f1_score = f1_score(target_valid, dtc_predicted_down_valid)\n",
    "print('dtc_valid_down_f1_score =', dtc_valid_down_f1_score)\n",
    "\n",
    "dtc_probabilities_down_valid = model.predict_proba(features_valid)\n",
    "dtc_probabilities_down_one_valid = dtc_probabilities_down_valid[:, 1]\n",
    "dtc_auc_roc_down = roc_auc_score(target_valid, dtc_probabilities_down_one_valid)\n",
    "print('dtc_auc_roc_down =', dtc_auc_roc_down)\n",
    "print()"
   ]
  },
  {
   "cell_type": "markdown",
   "metadata": {},
   "source": [
    "Далее случайный лес. Также с применением уже написанной функции для поиска наилучшей модели."
   ]
  },
  {
   "cell_type": "code",
   "execution_count": 53,
   "metadata": {},
   "outputs": [
    {
     "name": "stdout",
     "output_type": "stream",
     "text": [
      "best_rfc_depth_up_b = 22\n",
      "best_rfc_estimators_up_b = 140\n",
      "\n",
      "rfc_train_up_f1_score = 1.0\n",
      "rfc_valid_up_f1_score = 0.6223404255319148\n",
      "rfc_auc_roc_up = 0.8642584860577397\n",
      "\n",
      "Wall time: 6min 33s\n"
     ]
    }
   ],
   "source": [
    "%%time\n",
    "\n",
    "\n",
    "check_class_weight_b = 'balanced'\n",
    "best_rfc_depth_up_b, best_rfc_estimators_up_b = find_best_rfc(rand_seed, check_class_weight_b, \n",
    "                                                              features_train_upsampled, target_train_upsampled)\n",
    "print('best_rfc_depth_up_b =', best_rfc_depth_up_b)\n",
    "print('best_rfc_estimators_up_b =', best_rfc_estimators_up_b)\n",
    "print()\n",
    "\n",
    "# проверка полученных значений\n",
    "model = RandomForestClassifier(\n",
    "        n_estimators=best_rfc_estimators_up_b,\n",
    "        max_depth=best_rfc_depth_up_b,\n",
    "        class_weight=check_class_weight_b,\n",
    "        random_state=rand_seed\n",
    ")\n",
    "model.fit(features_train_upsampled, target_train_upsampled)\n",
    "\n",
    "rfc_predicted_train_up = model.predict(features_train_upsampled)\n",
    "rfc_train_up_f1_score = f1_score(target_train_upsampled, rfc_predicted_train_up)\n",
    "print('rfc_train_up_f1_score =', rfc_train_up_f1_score)\n",
    "\n",
    "rfc_predicted_up_valid = model.predict(features_valid)\n",
    "rfc_valid_up_f1_score = f1_score(target_valid, rfc_predicted_up_valid)\n",
    "print('rfc_valid_up_f1_score =', rfc_valid_up_f1_score)\n",
    "\n",
    "rfc_probabilities_up_valid = model.predict_proba(features_valid)\n",
    "rfc_probabilities_up_one_valid = rfc_probabilities_up_valid[:, 1]\n",
    "rfc_auc_roc_up = roc_auc_score(target_valid, rfc_probabilities_up_one_valid)\n",
    "print('rfc_auc_roc_up =', rfc_auc_roc_up)\n",
    "print()"
   ]
  },
  {
   "cell_type": "code",
   "execution_count": 54,
   "metadata": {},
   "outputs": [
    {
     "name": "stdout",
     "output_type": "stream",
     "text": [
      "best_rfc_depth_down_b = 7\n",
      "best_rfc_estimators_down_b = 60\n",
      "\n",
      "rfc_train_down_f1_score = 0.8378262729995722\n",
      "rfc_valid_down_f1_score = 0.6304558680892337\n",
      "rfc_auc_roc_down = 0.8682982929352644\n",
      "\n",
      "Wall time: 2min 52s\n"
     ]
    }
   ],
   "source": [
    "%%time\n",
    "\n",
    "\n",
    "check_class_weight_b = 'balanced'\n",
    "best_rfc_depth_down_b, best_rfc_estimators_down_b = find_best_rfc(rand_seed, check_class_weight_b, \n",
    "                                                                  features_train_downsampled, target_train_downsampled)\n",
    "print('best_rfc_depth_down_b =', best_rfc_depth_down_b)\n",
    "print('best_rfc_estimators_down_b =', best_rfc_estimators_down_b)\n",
    "print()\n",
    "\n",
    "# проверка полученных значений\n",
    "model = RandomForestClassifier(\n",
    "        n_estimators=best_rfc_estimators_down_b,\n",
    "        max_depth=best_rfc_depth_down_b,\n",
    "        class_weight=check_class_weight_b,\n",
    "        random_state=rand_seed\n",
    ")\n",
    "model.fit(features_train_downsampled, target_train_downsampled)\n",
    "\n",
    "rfc_predicted_train_down = model.predict(features_train_downsampled)\n",
    "rfc_train_down_f1_score = f1_score(target_train_downsampled, rfc_predicted_train_down)\n",
    "print('rfc_train_down_f1_score =', rfc_train_down_f1_score)\n",
    "\n",
    "rfc_predicted_down_valid = model.predict(features_valid)\n",
    "rfc_valid_down_f1_score = f1_score(target_valid, rfc_predicted_down_valid)\n",
    "print('rfc_valid_down_f1_score =', rfc_valid_down_f1_score)\n",
    "\n",
    "rfc_probabilities_down_valid = model.predict_proba(features_valid)\n",
    "rfc_probabilities_down_one_valid = rfc_probabilities_down_valid[:, 1]\n",
    "rfc_auc_roc_down = roc_auc_score(target_valid, rfc_probabilities_down_one_valid)\n",
    "print('rfc_auc_roc_down =', rfc_auc_roc_down)\n",
    "print()"
   ]
  },
  {
   "cell_type": "markdown",
   "metadata": {},
   "source": [
    "Проверим логистическую регрессию на сбалансированных данных."
   ]
  },
  {
   "cell_type": "code",
   "execution_count": 55,
   "metadata": {},
   "outputs": [
    {
     "name": "stdout",
     "output_type": "stream",
     "text": [
      "lr_valid_up_f1_score = 0.5289982425307558\n",
      "lr_auc_roc_up = 0.7937573898906297\n",
      "Wall time: 44.9 ms\n"
     ]
    }
   ],
   "source": [
    "%%time\n",
    "\n",
    "\n",
    "check_class_weight_b = 'balanced'\n",
    "model = LogisticRegression(\n",
    "        solver='liblinear',\n",
    "        class_weight=check_class_weight_b,\n",
    "        random_state=rand_seed\n",
    ")\n",
    "model.fit(features_train_upsampled, target_train_upsampled)\n",
    "\n",
    "lr_predicted_up_valid = model.predict(features_valid)\n",
    "lr_valid_up_f1_score = f1_score(target_valid, lr_predicted_up_valid)\n",
    "print('lr_valid_up_f1_score =', lr_valid_up_f1_score)\n",
    "\n",
    "lr_probabilities_up_valid = model.predict_proba(features_valid)\n",
    "lr_probabilities_up_one_valid = lr_probabilities_up_valid[:, 1]\n",
    "lr_auc_roc_up = roc_auc_score(target_valid, lr_probabilities_up_one_valid)\n",
    "print('lr_auc_roc_up =', lr_auc_roc_up)"
   ]
  },
  {
   "cell_type": "code",
   "execution_count": 56,
   "metadata": {},
   "outputs": [
    {
     "name": "stdout",
     "output_type": "stream",
     "text": [
      "lr_valid_down_f1_score = 0.525217391304348\n",
      "lr_auc_roc_down = 0.7927243447630309\n",
      "Wall time: 32.9 ms\n"
     ]
    }
   ],
   "source": [
    "%%time\n",
    "\n",
    "\n",
    "check_class_weight_b = 'balanced'\n",
    "model = LogisticRegression(\n",
    "        solver='liblinear',\n",
    "        class_weight=check_class_weight_b,\n",
    "        random_state=rand_seed\n",
    ")\n",
    "model.fit(features_train_downsampled, target_train_downsampled)\n",
    "\n",
    "lr_predicted_down_valid = model.predict(features_valid)\n",
    "lr_valid_down_f1_score = f1_score(target_valid, lr_predicted_down_valid)\n",
    "print('lr_valid_down_f1_score =', lr_valid_down_f1_score)\n",
    "\n",
    "lr_probabilities_down_valid = model.predict_proba(features_valid)\n",
    "lr_probabilities_down_one_valid = lr_probabilities_down_valid[:, 1]\n",
    "lr_auc_roc_down = roc_auc_score(target_valid, lr_probabilities_down_one_valid)\n",
    "print('lr_auc_roc_down =', lr_auc_roc_down)"
   ]
  },
  {
   "cell_type": "code",
   "execution_count": 57,
   "metadata": {},
   "outputs": [
    {
     "data": {
      "image/png": "[encoded data removed]",
      "text/plain": [
       "<Figure size 720x720 with 1 Axes>"
      ]
     },
     "metadata": {
      "needs_background": "light"
     },
     "output_type": "display_data"
    }
   ],
   "source": [
    "# Построим ROC-кривые\n",
    "\n",
    "dtc_fpr_up, dtc_tpr_up, dtc_thresholds_up = roc_curve(target_valid, dtc_probabilities_up_one_valid)\n",
    "dtc_fpr_down, dtc_tpr_down, dtc_thresholds_down = roc_curve(target_valid, dtc_probabilities_down_one_valid)\n",
    "\n",
    "rfc_fpr_up, rfc_tpr_up, rfc_thresholds_up = roc_curve(target_valid, rfc_probabilities_up_one_valid)\n",
    "rfc_fpr_down, rfc_tpr_down, rfc_thresholds_down = roc_curve(target_valid, rfc_probabilities_down_one_valid)\n",
    "\n",
    "lr_fpr_up, lr_tpr_up, lr_thresholds_up = roc_curve(target_valid, lr_probabilities_up_one_valid)\n",
    "lr_fpr_down, lr_tpr_down, lr_thresholds_down = roc_curve(target_valid, lr_probabilities_down_one_valid)\n",
    "\n",
    "plt.figure(figsize=(10, 10))\n",
    "\n",
    "# Наши ROC-кривая\n",
    "plt.plot(dtc_fpr_up, dtc_tpr_up, label='dtc_up')\n",
    "plt.plot(dtc_fpr_down, dtc_tpr_down, label='dtc_down')\n",
    "\n",
    "plt.plot(rfc_fpr_up, rfc_tpr_up, label='rfc_up')\n",
    "plt.plot(rfc_fpr_down, rfc_tpr_down, label='rfc_down')\n",
    "\n",
    "plt.plot(lr_fpr_up, lr_tpr_up, label='lr_up')\n",
    "plt.plot(lr_fpr_down, lr_tpr_down, label='lr_down')\n",
    "\n",
    "# ROC-кривая случайной модели\n",
    "plt.plot([0, 1], [0, 1], linestyle='--')\n",
    "\n",
    "plt.legend(loc='best')\n",
    "\n",
    "plt.xlim(0, 1)\n",
    "plt.ylim(0, 1)\n",
    "\n",
    "plt.xlabel('False Positive Rate')\n",
    "plt.ylabel('True Positive Rate')\n",
    "\n",
    "plt.title('ROC-кривая')\n",
    "\n",
    "plt.show()"
   ]
  },
  {
   "cell_type": "code",
   "execution_count": 58,
   "metadata": {},
   "outputs": [
    {
     "name": "stdout",
     "output_type": "stream",
     "text": [
      "dtc_valid_up_f1_score = 0.5424710424710425\n",
      "dtc_valid_down_f1_score = 0.5911602209944751\n",
      "\n",
      "rfc_valid_up_f1_score = 0.6223404255319148\n",
      "rfc_valid_down_f1_score = 0.6304558680892337\n",
      "\n",
      "lr_valid_up_f1_score = 0.5289982425307558\n",
      "lr_valid_down_f1_score = 0.525217391304348\n"
     ]
    }
   ],
   "source": [
    "print('dtc_valid_up_f1_score =', dtc_valid_up_f1_score)\n",
    "print('dtc_valid_down_f1_score =', dtc_valid_down_f1_score)\n",
    "print()\n",
    "print('rfc_valid_up_f1_score =', rfc_valid_up_f1_score)\n",
    "print('rfc_valid_down_f1_score =', rfc_valid_down_f1_score)\n",
    "print()\n",
    "print('lr_valid_up_f1_score =', lr_valid_up_f1_score)\n",
    "print('lr_valid_down_f1_score =', lr_valid_down_f1_score)"
   ]
  },
  {
   "cell_type": "markdown",
   "metadata": {},
   "source": [
    "### Вывод"
   ]
  },
  {
   "cell_type": "markdown",
   "metadata": {},
   "source": [
    "На данном этапе мы устранили дисбаланс классов. Мы изменили параметр веса классов для каждой из моделей - сделали классы сбалансированными. Также мы рассмотрели варианты увеличения положительной выборки и уменьшения отрицательной. Применили их для каждой модели, использую ранее написанные функции для этого. В конечном счете, мы получили максимальное значение f1-меры 0,63046 на модели случаного леса (глубина = 7, количество оценщиков = 60) при уменьшении выборки отрицательных классов. Цель достичь показателя f1-меры на валидационной выборки выше 0.59 достигнута.<br>\n",
    "Также были построены ROC-кривые для каждой из лучших моделей. На графике видно, что ROC-кривая для модели случайного леса при уменьшении выборки отрицательных классов находится ближе всего к 1. Что подтверждает, что данная модель является лучшей из представленных."
   ]
  },
  {
   "cell_type": "markdown",
   "metadata": {},
   "source": [
    "<a id=\"step4\"></a>\n",
    "## 4. Тестирование модели"
   ]
  },
  {
   "cell_type": "markdown",
   "metadata": {},
   "source": [
    "Сейчас проверим нашу модель на тестовых данных. Применим, определенные ранее параметры к модели случайного леса на обучающих данных с уменьшенной выборкой отрицательных классов. Также учтем валидационные данные."
   ]
  },
  {
   "cell_type": "code",
   "execution_count": 59,
   "metadata": {},
   "outputs": [],
   "source": [
    "features_train_valid = pd.concat([features_train_downsampled] + [features_valid])\n",
    "target_train_valid = pd.concat([target_train_downsampled] + [target_valid])"
   ]
  },
  {
   "cell_type": "code",
   "execution_count": 60,
   "metadata": {},
   "outputs": [
    {
     "name": "stdout",
     "output_type": "stream",
     "text": [
      "rfc_test_f1_score = 0.6036585365853658\n",
      "rfc_test_auc_roc = 0.8539309725750402\n"
     ]
    }
   ],
   "source": [
    "model = RandomForestClassifier(\n",
    "        n_estimators=best_rfc_estimators_down_b,\n",
    "        max_depth=best_rfc_depth_down_b,\n",
    "        class_weight='balanced',\n",
    "        random_state=rand_seed\n",
    ")\n",
    "model.fit(features_train_valid, target_train_valid)\n",
    "\n",
    "predicted_test = model.predict(features_test)\n",
    "rfc_test_f1_score = f1_score(target_test, predicted_test)\n",
    "print('rfc_test_f1_score =', rfc_test_f1_score)\n",
    "\n",
    "probabilities_test = model.predict_proba(features_test)\n",
    "probabilities_one_test = probabilities_test[:, 1]\n",
    "rfc_test_auc_roc = roc_auc_score(target_test, probabilities_one_test)\n",
    "print('rfc_test_auc_roc =', rfc_test_auc_roc)"
   ]
  },
  {
   "cell_type": "code",
   "execution_count": 61,
   "metadata": {},
   "outputs": [
    {
     "data": {
      "text/plain": [
       "<Figure size 576x576 with 0 Axes>"
      ]
     },
     "metadata": {},
     "output_type": "display_data"
    },
    {
     "data": {
      "image/png": "[encoded data removed]",
      "text/plain": [
       "<Figure size 720x720 with 1 Axes>"
      ]
     },
     "metadata": {
      "needs_background": "light"
     },
     "output_type": "display_data"
    }
   ],
   "source": [
    "# Построим ROC-кривую\n",
    "\n",
    "plt.figure(figsize=(8,8))\n",
    "\n",
    "fpr, tpr, thresholds = roc_curve(target_test, probabilities_one_test)\n",
    "\n",
    "plt.figure(figsize=(10, 10))\n",
    "\n",
    "# Наша ROC-кривая\n",
    "plt.plot(fpr, tpr)\n",
    "\n",
    "# ROC-кривая случайной модели\n",
    "plt.plot([0, 1], [0, 1], linestyle='--')\n",
    "\n",
    "plt.xlim(0, 1)\n",
    "plt.ylim(0, 1)\n",
    "\n",
    "plt.xlabel('False Positive Rate')\n",
    "plt.ylabel('True Positive Rate')\n",
    "\n",
    "plt.title('ROC-кривая')\n",
    "\n",
    "plt.show()"
   ]
  },
  {
   "cell_type": "markdown",
   "metadata": {},
   "source": [
    "### Вывод"
   ]
  },
  {
   "cell_type": "markdown",
   "metadata": {},
   "source": [
    "Мы проверили нашу модель на тестовых данных. Результат f1-меры удовлетворяет требованиям (0.60366 > 0.59). Также мы построили кривую ошибок. Из графика видно, что модель предсказывает качественно (кривая для найденной модели находится выше, чем кривая для случайной модели)."
   ]
  },
  {
   "cell_type": "markdown",
   "metadata": {},
   "source": [
    "<a id=\"step5\"></a>\n",
    "## 5. Общий вывод"
   ]
  },
  {
   "cell_type": "markdown",
   "metadata": {},
   "source": [
    "В данной работе мы исследовали данные о поведении клиентов и расторжении договоров с банком. Необходимо было построить модель, которая позволила бы спрогнозировать, уйдет клиент из банка в ближайшее время или нет.<br>\n",
    "Первоначально было произведена предподготовка данных для анализа. После выполнялся этап подготовки параметров для обучения. Были удалены незначащие параметры, категориальные параметры, по мере необходимости, были переведены в количественные, числовые же параметры были масштабированы методом стандартизации.<br>\n",
    "Данные были разбиты на обучающую, валидационную и тестовую выборки. Было определено, что в первоначальных классах присутствует дисбаланс в количестве положительных и отрицательных ответов. Произведена проверка, какое максимальное значение f1-меры на таких данных можно достигнуть.<br>\n",
    "После чего, была поставлена цель улучшить это значение, путем устранения дисбаланса. Были применены различные способы борьбы с дисбалансом. Наиболее успешным оказался - уменьшение выборки отрицательных объектов. Что в первом, что во втором исследовании наилучшей оказалесь модель случайного леса. Максимальное значение f1-меры, которого удалось достигнуть на валидационной выборке, равняятся 0,63046.<br>\n",
    "После определения наилучшей модели, была произведена ее проверка на тестовых данных. F1-мера = 0.60366, значение AUC-ROC = 0.85393. Также была построена кривая ошибок (ROC-кривая), которая показала, что модель является более качественной, чем случайная, и что ее можно использовать в дальнейшем для предсказания ухода клиентов."
   ]
  }
 ],
 "metadata": {
  "kernelspec": {
   "display_name": "Python 3",
   "language": "python",
   "name": "python3"
  },
  "language_info": {
   "codemirror_mode": {
    "name": "ipython",
    "version": 3
   },
   "file_extension": ".py",
   "mimetype": "text/x-python",
   "name": "python",
   "nbconvert_exporter": "python",
   "pygments_lexer": "ipython3",
   "version": "3.8.5"
  },
  "toc": {
   "base_numbering": 1,
   "nav_menu": {},
   "number_sections": false,
   "sideBar": true,
   "skip_h1_title": false,
   "title_cell": "Table of Contents",
   "title_sidebar": "Contents",
   "toc_cell": false,
   "toc_position": {},
   "toc_section_display": true,
   "toc_window_display": true
  }
 },
 "nbformat": 4,
 "nbformat_minor": 2
}
