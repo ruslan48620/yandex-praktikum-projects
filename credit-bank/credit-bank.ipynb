{
 "cells": [
  {
   "cell_type": "markdown",
   "metadata": {
    "id": "49ToKpYdJtS3"
   },
   "source": [
    "# Исследование надёжности заёмщиков"
   ]
  },
  {
   "cell_type": "markdown",
   "metadata": {
    "id": "cqkPI21GJtTA"
   },
   "source": [
    "Заказчик — кредитный отдел банка. Нужно разобраться, влияет ли семейное положение и количество детей клиента на факт погашения кредита в срок. Входные данные от банка — статистика о платёжеспособности клиентов.\n",
    "\n",
    "Результаты исследования будут учтены при построении модели кредитного скоринга — специальной системы, которая оценивает способность потенциального заёмщика вернуть кредит банку."
   ]
  },
  {
   "cell_type": "markdown",
   "metadata": {
    "id": "dLOqdO6bJtTB"
   },
   "source": [
    "## Описание данных"
   ]
  },
  {
   "cell_type": "markdown",
   "metadata": {
    "id": "Oaa0v2eJJtTB"
   },
   "source": [
    "- *children* — количество детей в семье\n",
    "- *days_employed* — общий трудовой стаж в днях\n",
    "- *dob_years* — возраст клиента в годах\n",
    "- *education* — уровень образования клиента\n",
    "- *education_id* — идентификатор уровня образования\n",
    "- *family_status* — семейное положение\n",
    "- *family_status_id* — идентификатор семейного положения\n",
    "- *gender* — пол клиента\n",
    "- *income_type* — тип занятости\n",
    "- *debt* — имел ли задолженность по возврату кредитов\n",
    "- *total_income* — ежемесячный доход\n",
    "- *purpose* — цель получения кредита"
   ]
  },
  {
   "cell_type": "markdown",
   "metadata": {
    "id": "-GnxBhNPJtTD"
   },
   "source": [
    "## Оглавление"
   ]
  },
  {
   "cell_type": "markdown",
   "metadata": {
    "id": "Ac2q0uhCJtTD"
   },
   "source": [
    "1. [Открытие и изучение файла](#step1)\n",
    "2. [Предобработка данных](#step2)\n",
    "    1. [Обработка пропусков](#step2_1)\n",
    "    2. [Замена типов данных](#step2_2)\n",
    "    3. [Обработка дубликатов](#step2_3)\n",
    "    4. [Лемматизация целей кредита](#step2_4)\n",
    "    5. [Категоризация данных](#step2_5)\n",
    "    6. [Обработка артефактов](#step2_6)\n",
    "3. [Анализ влияния параметров на возврат кредита в срок](#step3)\n",
    "4. [Общий вывод](#step4)"
   ]
  },
  {
   "cell_type": "markdown",
   "metadata": {
    "id": "ASySj-cVJtTE"
   },
   "source": [
    "<a id=\"step1\"></a>\n",
    "## 1. Открытие и изучение файла"
   ]
  },
  {
   "cell_type": "markdown",
   "metadata": {
    "id": "XOCkfrCVoNdv"
   },
   "source": [
    "Подготовка к лемматизации."
   ]
  },
  {
   "cell_type": "code",
   "execution_count": 1,
   "metadata": {
    "colab": {
     "base_uri": "https://localhost:8080/"
    },
    "executionInfo": {
     "elapsed": 3499,
     "status": "ok",
     "timestamp": 1633114106449,
     "user": {
      "displayName": "Руслан Муштаков",
      "photoUrl": "https://lh3.googleusercontent.com/a/default-user=s64",
      "userId": "06846086149309682337"
     },
     "user_tz": -180
    },
    "id": "VPgAjvwtMsO9",
    "outputId": "d74e21db-894c-4498-ef4b-ff791abb3316"
   },
   "outputs": [
    {
     "name": "stdout",
     "output_type": "stream",
     "text": [
      "Collecting pymystem3==0.1.10\n",
      "  Downloading pymystem3-0.1.10-py3-none-any.whl (10 kB)\n",
      "Requirement already satisfied: requests in /usr/local/lib/python3.7/dist-packages (from pymystem3==0.1.10) (2.23.0)\n",
      "Requirement already satisfied: idna<3,>=2.5 in /usr/local/lib/python3.7/dist-packages (from requests->pymystem3==0.1.10) (2.10)\n",
      "Requirement already satisfied: chardet<4,>=3.0.2 in /usr/local/lib/python3.7/dist-packages (from requests->pymystem3==0.1.10) (3.0.4)\n",
      "Requirement already satisfied: certifi>=2017.4.17 in /usr/local/lib/python3.7/dist-packages (from requests->pymystem3==0.1.10) (2021.5.30)\n",
      "Requirement already satisfied: urllib3!=1.25.0,!=1.25.1,<1.26,>=1.21.1 in /usr/local/lib/python3.7/dist-packages (from requests->pymystem3==0.1.10) (1.24.3)\n",
      "Installing collected packages: pymystem3\n",
      "  Attempting uninstall: pymystem3\n",
      "    Found existing installation: pymystem3 0.2.0\n",
      "    Uninstalling pymystem3-0.2.0:\n",
      "      Successfully uninstalled pymystem3-0.2.0\n",
      "Successfully installed pymystem3-0.1.10\n"
     ]
    }
   ],
   "source": [
    "!pip install pymystem3==0.1.10"
   ]
  },
  {
   "cell_type": "code",
   "execution_count": 2,
   "metadata": {
    "colab": {
     "base_uri": "https://localhost:8080/"
    },
    "executionInfo": {
     "elapsed": 8045,
     "status": "ok",
     "timestamp": 1633114114482,
     "user": {
      "displayName": "Руслан Муштаков",
      "photoUrl": "https://lh3.googleusercontent.com/a/default-user=s64",
      "userId": "06846086149309682337"
     },
     "user_tz": -180
    },
    "id": "snda-xpEoMWr",
    "outputId": "5bc27f7e-e742-4c56-e4e3-8b8db4e51eb3"
   },
   "outputs": [
    {
     "name": "stdout",
     "output_type": "stream",
     "text": [
      "--2021-10-01 18:48:25--  http://download.cdn.yandex.net/mystem/mystem-3.0-linux3.1-64bit.tar.gz\n",
      "Resolving download.cdn.yandex.net (download.cdn.yandex.net)... 5.45.205.244, 5.45.205.245, 5.45.205.241, ...\n",
      "Connecting to download.cdn.yandex.net (download.cdn.yandex.net)|5.45.205.244|:80... connected.\n",
      "HTTP request sent, awaiting response... 302 Found\n",
      "Location: http://cache-man01i.cdn.yandex.net/download.cdn.yandex.net/mystem/mystem-3.0-linux3.1-64bit.tar.gz [following]\n",
      "--2021-10-01 18:48:27--  http://cache-man01i.cdn.yandex.net/download.cdn.yandex.net/mystem/mystem-3.0-linux3.1-64bit.tar.gz\n",
      "Resolving cache-man01i.cdn.yandex.net (cache-man01i.cdn.yandex.net)... 5.45.205.221, 2a02:6b8::3:221\n",
      "Connecting to cache-man01i.cdn.yandex.net (cache-man01i.cdn.yandex.net)|5.45.205.221|:80... connected.\n",
      "HTTP request sent, awaiting response... 200 OK\n",
      "Length: 16457938 (16M) [application/octet-stream]\n",
      "Saving to: ‘mystem-3.0-linux3.1-64bit.tar.gz’\n",
      "\n",
      "mystem-3.0-linux3.1 100%[===================>]  15.70M  4.96MB/s    in 4.1s    \n",
      "\n",
      "2021-10-01 18:48:32 (3.86 MB/s) - ‘mystem-3.0-linux3.1-64bit.tar.gz’ saved [16457938/16457938]\n",
      "\n",
      "mystem\n",
      "cp: cannot create regular file '/root/.local/bin/mystem': No such file or directory\n"
     ]
    }
   ],
   "source": [
    "!wget http://download.cdn.yandex.net/mystem/mystem-3.0-linux3.1-64bit.tar.gz\n",
    "!tar -xvf mystem-3.0-linux3.1-64bit.tar.gz\n",
    "!cp mystem /root/.local/bin/mystem"
   ]
  },
  {
   "cell_type": "code",
   "execution_count": 3,
   "metadata": {
    "executionInfo": {
     "elapsed": 7,
     "status": "ok",
     "timestamp": 1633114114483,
     "user": {
      "displayName": "Руслан Муштаков",
      "photoUrl": "https://lh3.googleusercontent.com/a/default-user=s64",
      "userId": "06846086149309682337"
     },
     "user_tz": -180
    },
    "id": "lxs3MoGnJtTE"
   },
   "outputs": [],
   "source": [
    "# Подключение необходимых библиотек\n",
    "import pandas as pd\n",
    "\n",
    "# для лемматизации\n",
    "from pymystem3 import Mystem"
   ]
  },
  {
   "cell_type": "markdown",
   "metadata": {
    "id": "NRwcaS9QJtTF"
   },
   "source": [
    "Прочитаем данные из файла."
   ]
  },
  {
   "cell_type": "code",
   "execution_count": 4,
   "metadata": {
    "colab": {
     "base_uri": "https://localhost:8080/"
    },
    "executionInfo": {
     "elapsed": 24477,
     "status": "ok",
     "timestamp": 1633114138954,
     "user": {
      "displayName": "Руслан Муштаков",
      "photoUrl": "https://lh3.googleusercontent.com/a/default-user=s64",
      "userId": "06846086149309682337"
     },
     "user_tz": -180
    },
    "id": "b9_gY-I2WHVE",
    "outputId": "b469cead-6232-4685-8508-26948530278a"
   },
   "outputs": [
    {
     "name": "stdout",
     "output_type": "stream",
     "text": [
      "Mounted at /content/drive\n"
     ]
    }
   ],
   "source": [
    "from google.colab import drive\n",
    "drive.mount('/content/drive')"
   ]
  },
  {
   "cell_type": "code",
   "execution_count": 5,
   "metadata": {
    "executionInfo": {
     "elapsed": 3224,
     "status": "ok",
     "timestamp": 1633114142169,
     "user": {
      "displayName": "Руслан Муштаков",
      "photoUrl": "https://lh3.googleusercontent.com/a/default-user=s64",
      "userId": "06846086149309682337"
     },
     "user_tz": -180
    },
    "id": "oHvuV3mRJtTG"
   },
   "outputs": [],
   "source": [
    "clients = pd.read_csv('/content/drive/MyDrive/Colab Notebooks/1.1 Data_preprocessing/data.csv')"
   ]
  },
  {
   "cell_type": "markdown",
   "metadata": {
    "id": "yPcAw5W8JtTG"
   },
   "source": [
    "Просмотрим какие есть колонки, типы данных в них, количество строк."
   ]
  },
  {
   "cell_type": "code",
   "execution_count": 6,
   "metadata": {
    "colab": {
     "base_uri": "https://localhost:8080/"
    },
    "executionInfo": {
     "elapsed": 35,
     "status": "ok",
     "timestamp": 1633114142172,
     "user": {
      "displayName": "Руслан Муштаков",
      "photoUrl": "https://lh3.googleusercontent.com/a/default-user=s64",
      "userId": "06846086149309682337"
     },
     "user_tz": -180
    },
    "id": "JRAWhkMBJtTH",
    "outputId": "79cef4ef-04c0-4a5e-d7f1-83a7ae8873b8"
   },
   "outputs": [
    {
     "name": "stdout",
     "output_type": "stream",
     "text": [
      "<class 'pandas.core.frame.DataFrame'>\n",
      "RangeIndex: 21525 entries, 0 to 21524\n",
      "Data columns (total 12 columns):\n",
      " #   Column            Non-Null Count  Dtype  \n",
      "---  ------            --------------  -----  \n",
      " 0   children          21525 non-null  int64  \n",
      " 1   days_employed     19351 non-null  float64\n",
      " 2   dob_years         21525 non-null  int64  \n",
      " 3   education         21525 non-null  object \n",
      " 4   education_id      21525 non-null  int64  \n",
      " 5   family_status     21525 non-null  object \n",
      " 6   family_status_id  21525 non-null  int64  \n",
      " 7   gender            21525 non-null  object \n",
      " 8   income_type       21525 non-null  object \n",
      " 9   debt              21525 non-null  int64  \n",
      " 10  total_income      19351 non-null  float64\n",
      " 11  purpose           21525 non-null  object \n",
      "dtypes: float64(2), int64(5), object(5)\n",
      "memory usage: 2.0+ MB\n"
     ]
    }
   ],
   "source": [
    "clients.info()"
   ]
  },
  {
   "cell_type": "markdown",
   "metadata": {
    "id": "hMpYMckpJtTH"
   },
   "source": [
    "Узнаем какие столбцы есть в таблице. Также проверим, что нет лишних пробелов в названиях."
   ]
  },
  {
   "cell_type": "code",
   "execution_count": 7,
   "metadata": {
    "colab": {
     "base_uri": "https://localhost:8080/"
    },
    "executionInfo": {
     "elapsed": 32,
     "status": "ok",
     "timestamp": 1633114142173,
     "user": {
      "displayName": "Руслан Муштаков",
      "photoUrl": "https://lh3.googleusercontent.com/a/default-user=s64",
      "userId": "06846086149309682337"
     },
     "user_tz": -180
    },
    "id": "8El5vCx_JtTI",
    "outputId": "3cc7644c-427f-4eeb-a6e0-8943c8b9c0cb"
   },
   "outputs": [
    {
     "data": {
      "text/plain": [
       "Index(['children', 'days_employed', 'dob_years', 'education', 'education_id',\n",
       "       'family_status', 'family_status_id', 'gender', 'income_type', 'debt',\n",
       "       'total_income', 'purpose'],\n",
       "      dtype='object')"
      ]
     },
     "execution_count": 7,
     "metadata": {},
     "output_type": "execute_result"
    }
   ],
   "source": [
    "clients.columns"
   ]
  },
  {
   "cell_type": "markdown",
   "metadata": {
    "id": "8TY2O0aaJtTI"
   },
   "source": [
    "Выведем первые 10 строк таблицы, чтобы сформировать первичное представление о таблице."
   ]
  },
  {
   "cell_type": "code",
   "execution_count": 8,
   "metadata": {
    "colab": {
     "base_uri": "https://localhost:8080/",
     "height": 359
    },
    "executionInfo": {
     "elapsed": 28,
     "status": "ok",
     "timestamp": 1633114142175,
     "user": {
      "displayName": "Руслан Муштаков",
      "photoUrl": "https://lh3.googleusercontent.com/a/default-user=s64",
      "userId": "06846086149309682337"
     },
     "user_tz": -180
    },
    "id": "yMUiV84PJtTI",
    "outputId": "adcf123e-2b96-4dc6-e44d-7b1fe4cb0dac"
   },
   "outputs": [
    {
     "data": {
      "text/html": [
       "<div>\n",
       "<style scoped>\n",
       "    .dataframe tbody tr th:only-of-type {\n",
       "        vertical-align: middle;\n",
       "    }\n",
       "\n",
       "    .dataframe tbody tr th {\n",
       "        vertical-align: top;\n",
       "    }\n",
       "\n",
       "    .dataframe thead th {\n",
       "        text-align: right;\n",
       "    }\n",
       "</style>\n",
       "<table border=\"1\" class=\"dataframe\">\n",
       "  <thead>\n",
       "    <tr style=\"text-align: right;\">\n",
       "      <th></th>\n",
       "      <th>children</th>\n",
       "      <th>days_employed</th>\n",
       "      <th>dob_years</th>\n",
       "      <th>education</th>\n",
       "      <th>education_id</th>\n",
       "      <th>family_status</th>\n",
       "      <th>family_status_id</th>\n",
       "      <th>gender</th>\n",
       "      <th>income_type</th>\n",
       "      <th>debt</th>\n",
       "      <th>total_income</th>\n",
       "      <th>purpose</th>\n",
       "    </tr>\n",
       "  </thead>\n",
       "  <tbody>\n",
       "    <tr>\n",
       "      <th>0</th>\n",
       "      <td>1</td>\n",
       "      <td>-8437.673028</td>\n",
       "      <td>42</td>\n",
       "      <td>высшее</td>\n",
       "      <td>0</td>\n",
       "      <td>женат / замужем</td>\n",
       "      <td>0</td>\n",
       "      <td>F</td>\n",
       "      <td>сотрудник</td>\n",
       "      <td>0</td>\n",
       "      <td>253875.639453</td>\n",
       "      <td>покупка жилья</td>\n",
       "    </tr>\n",
       "    <tr>\n",
       "      <th>1</th>\n",
       "      <td>1</td>\n",
       "      <td>-4024.803754</td>\n",
       "      <td>36</td>\n",
       "      <td>среднее</td>\n",
       "      <td>1</td>\n",
       "      <td>женат / замужем</td>\n",
       "      <td>0</td>\n",
       "      <td>F</td>\n",
       "      <td>сотрудник</td>\n",
       "      <td>0</td>\n",
       "      <td>112080.014102</td>\n",
       "      <td>приобретение автомобиля</td>\n",
       "    </tr>\n",
       "    <tr>\n",
       "      <th>2</th>\n",
       "      <td>0</td>\n",
       "      <td>-5623.422610</td>\n",
       "      <td>33</td>\n",
       "      <td>Среднее</td>\n",
       "      <td>1</td>\n",
       "      <td>женат / замужем</td>\n",
       "      <td>0</td>\n",
       "      <td>M</td>\n",
       "      <td>сотрудник</td>\n",
       "      <td>0</td>\n",
       "      <td>145885.952297</td>\n",
       "      <td>покупка жилья</td>\n",
       "    </tr>\n",
       "    <tr>\n",
       "      <th>3</th>\n",
       "      <td>3</td>\n",
       "      <td>-4124.747207</td>\n",
       "      <td>32</td>\n",
       "      <td>среднее</td>\n",
       "      <td>1</td>\n",
       "      <td>женат / замужем</td>\n",
       "      <td>0</td>\n",
       "      <td>M</td>\n",
       "      <td>сотрудник</td>\n",
       "      <td>0</td>\n",
       "      <td>267628.550329</td>\n",
       "      <td>дополнительное образование</td>\n",
       "    </tr>\n",
       "    <tr>\n",
       "      <th>4</th>\n",
       "      <td>0</td>\n",
       "      <td>340266.072047</td>\n",
       "      <td>53</td>\n",
       "      <td>среднее</td>\n",
       "      <td>1</td>\n",
       "      <td>гражданский брак</td>\n",
       "      <td>1</td>\n",
       "      <td>F</td>\n",
       "      <td>пенсионер</td>\n",
       "      <td>0</td>\n",
       "      <td>158616.077870</td>\n",
       "      <td>сыграть свадьбу</td>\n",
       "    </tr>\n",
       "    <tr>\n",
       "      <th>5</th>\n",
       "      <td>0</td>\n",
       "      <td>-926.185831</td>\n",
       "      <td>27</td>\n",
       "      <td>высшее</td>\n",
       "      <td>0</td>\n",
       "      <td>гражданский брак</td>\n",
       "      <td>1</td>\n",
       "      <td>M</td>\n",
       "      <td>компаньон</td>\n",
       "      <td>0</td>\n",
       "      <td>255763.565419</td>\n",
       "      <td>покупка жилья</td>\n",
       "    </tr>\n",
       "    <tr>\n",
       "      <th>6</th>\n",
       "      <td>0</td>\n",
       "      <td>-2879.202052</td>\n",
       "      <td>43</td>\n",
       "      <td>высшее</td>\n",
       "      <td>0</td>\n",
       "      <td>женат / замужем</td>\n",
       "      <td>0</td>\n",
       "      <td>F</td>\n",
       "      <td>компаньон</td>\n",
       "      <td>0</td>\n",
       "      <td>240525.971920</td>\n",
       "      <td>операции с жильем</td>\n",
       "    </tr>\n",
       "    <tr>\n",
       "      <th>7</th>\n",
       "      <td>0</td>\n",
       "      <td>-152.779569</td>\n",
       "      <td>50</td>\n",
       "      <td>СРЕДНЕЕ</td>\n",
       "      <td>1</td>\n",
       "      <td>женат / замужем</td>\n",
       "      <td>0</td>\n",
       "      <td>M</td>\n",
       "      <td>сотрудник</td>\n",
       "      <td>0</td>\n",
       "      <td>135823.934197</td>\n",
       "      <td>образование</td>\n",
       "    </tr>\n",
       "    <tr>\n",
       "      <th>8</th>\n",
       "      <td>2</td>\n",
       "      <td>-6929.865299</td>\n",
       "      <td>35</td>\n",
       "      <td>ВЫСШЕЕ</td>\n",
       "      <td>0</td>\n",
       "      <td>гражданский брак</td>\n",
       "      <td>1</td>\n",
       "      <td>F</td>\n",
       "      <td>сотрудник</td>\n",
       "      <td>0</td>\n",
       "      <td>95856.832424</td>\n",
       "      <td>на проведение свадьбы</td>\n",
       "    </tr>\n",
       "    <tr>\n",
       "      <th>9</th>\n",
       "      <td>0</td>\n",
       "      <td>-2188.756445</td>\n",
       "      <td>41</td>\n",
       "      <td>среднее</td>\n",
       "      <td>1</td>\n",
       "      <td>женат / замужем</td>\n",
       "      <td>0</td>\n",
       "      <td>M</td>\n",
       "      <td>сотрудник</td>\n",
       "      <td>0</td>\n",
       "      <td>144425.938277</td>\n",
       "      <td>покупка жилья для семьи</td>\n",
       "    </tr>\n",
       "  </tbody>\n",
       "</table>\n",
       "</div>"
      ],
      "text/plain": [
       "   children  days_employed  ...   total_income                     purpose\n",
       "0         1   -8437.673028  ...  253875.639453               покупка жилья\n",
       "1         1   -4024.803754  ...  112080.014102     приобретение автомобиля\n",
       "2         0   -5623.422610  ...  145885.952297               покупка жилья\n",
       "3         3   -4124.747207  ...  267628.550329  дополнительное образование\n",
       "4         0  340266.072047  ...  158616.077870             сыграть свадьбу\n",
       "5         0    -926.185831  ...  255763.565419               покупка жилья\n",
       "6         0   -2879.202052  ...  240525.971920           операции с жильем\n",
       "7         0    -152.779569  ...  135823.934197                 образование\n",
       "8         2   -6929.865299  ...   95856.832424       на проведение свадьбы\n",
       "9         0   -2188.756445  ...  144425.938277     покупка жилья для семьи\n",
       "\n",
       "[10 rows x 12 columns]"
      ]
     },
     "execution_count": 8,
     "metadata": {},
     "output_type": "execute_result"
    }
   ],
   "source": [
    "clients.head(10)"
   ]
  },
  {
   "cell_type": "markdown",
   "metadata": {
    "id": "0UFeqLEcJtTJ"
   },
   "source": [
    "### Вывод"
   ]
  },
  {
   "cell_type": "markdown",
   "metadata": {
    "id": "BhdfXGCgJtTJ"
   },
   "source": [
    "В таблице 12 колонок и 21525 строк. Названия колонок приведены в правильную форму (на одном языке, без лишних пробелов, в одном регистре). В колонках `days_employed` и `total_income` есть пропущенные значения. Как видно из info, для данных колонок количество пропусков у них одинаковое (количество строк с ненулевыми данными по 19351). Таким образом, можно предположить, что это не случайность. Возможно, что данные обрабатывались вместе (трудовой стаж и ежемесячный доход - связанные параметры), и при обработке что-то пошло не так."
   ]
  },
  {
   "cell_type": "markdown",
   "metadata": {
    "id": "F7JJaraUJtTJ"
   },
   "source": [
    "<a id=\"step2\"></a>\n",
    "## 2. Предобработка данных"
   ]
  },
  {
   "cell_type": "markdown",
   "metadata": {
    "id": "t-AxXEyqJtTK"
   },
   "source": [
    "<a id=\"step2_1\"></a>\n",
    "### 2.1. Обработка пропусков"
   ]
  },
  {
   "cell_type": "markdown",
   "metadata": {
    "id": "m0mKKaxRJtTK"
   },
   "source": [
    "Определим, где есть пустые значения."
   ]
  },
  {
   "cell_type": "code",
   "execution_count": 9,
   "metadata": {
    "colab": {
     "base_uri": "https://localhost:8080/"
    },
    "executionInfo": {
     "elapsed": 27,
     "status": "ok",
     "timestamp": 1633114142177,
     "user": {
      "displayName": "Руслан Муштаков",
      "photoUrl": "https://lh3.googleusercontent.com/a/default-user=s64",
      "userId": "06846086149309682337"
     },
     "user_tz": -180
    },
    "id": "M-SuA5QYJtTK",
    "outputId": "1c880840-c29b-4930-c80b-dc892c04165c"
   },
   "outputs": [
    {
     "data": {
      "text/plain": [
       "children               0\n",
       "days_employed       2174\n",
       "dob_years              0\n",
       "education              0\n",
       "education_id           0\n",
       "family_status          0\n",
       "family_status_id       0\n",
       "gender                 0\n",
       "income_type            0\n",
       "debt                   0\n",
       "total_income        2174\n",
       "purpose                0\n",
       "dtype: int64"
      ]
     },
     "execution_count": 9,
     "metadata": {},
     "output_type": "execute_result"
    }
   ],
   "source": [
    "clients.isnull().sum()"
   ]
  },
  {
   "cell_type": "markdown",
   "metadata": {
    "id": "Lft1UIW_JtTL"
   },
   "source": [
    "Проанализируем столбцы `days_employed` и `total_income`. Поскольку количество пропусков равно, можно предположить, что это одни и те же строки. Проверим данное предположение."
   ]
  },
  {
   "cell_type": "code",
   "execution_count": 10,
   "metadata": {
    "colab": {
     "base_uri": "https://localhost:8080/"
    },
    "executionInfo": {
     "elapsed": 22,
     "status": "ok",
     "timestamp": 1633114142178,
     "user": {
      "displayName": "Руслан Муштаков",
      "photoUrl": "https://lh3.googleusercontent.com/a/default-user=s64",
      "userId": "06846086149309682337"
     },
     "user_tz": -180
    },
    "id": "PCdHOP6mJtTL",
    "outputId": "2fc40d35-0ea0-4bd4-8311-8b847306bd8c"
   },
   "outputs": [
    {
     "data": {
      "text/plain": [
       "children            2174\n",
       "days_employed          0\n",
       "dob_years           2174\n",
       "education           2174\n",
       "education_id        2174\n",
       "family_status       2174\n",
       "family_status_id    2174\n",
       "gender              2174\n",
       "income_type         2174\n",
       "debt                2174\n",
       "total_income           0\n",
       "purpose             2174\n",
       "dtype: int64"
      ]
     },
     "execution_count": 10,
     "metadata": {},
     "output_type": "execute_result"
    }
   ],
   "source": [
    "clients[clients['days_employed'].isnull() & clients['total_income'].isnull()].count()"
   ]
  },
  {
   "cell_type": "markdown",
   "metadata": {
    "id": "Xk2URCdhJtTL"
   },
   "source": [
    "Действительно, строки одни и те же. Предположение верно - пропуски взаимосвязаны. При следующей выгрузке данных необходимо обратить на это внимание. Теперь необходимо их заполнить."
   ]
  },
  {
   "cell_type": "markdown",
   "metadata": {
    "id": "WwqwdFRDJtTM"
   },
   "source": [
    "Сначала рассмотрим столбец `total_income` (ежемесячный доход). Данный параметр более всего зависит от уровня образования."
   ]
  },
  {
   "cell_type": "code",
   "execution_count": 11,
   "metadata": {
    "colab": {
     "base_uri": "https://localhost:8080/"
    },
    "executionInfo": {
     "elapsed": 21,
     "status": "ok",
     "timestamp": 1633114142179,
     "user": {
      "displayName": "Руслан Муштаков",
      "photoUrl": "https://lh3.googleusercontent.com/a/default-user=s64",
      "userId": "06846086149309682337"
     },
     "user_tz": -180
    },
    "id": "LeLy9RWHJtTM",
    "outputId": "51d839e0-fe12-43f1-fd59-15b5d786eb21"
   },
   "outputs": [
    {
     "data": {
      "text/plain": [
       "array(['высшее', 'среднее', 'Среднее', 'СРЕДНЕЕ', 'ВЫСШЕЕ',\n",
       "       'неоконченное высшее', 'начальное', 'Высшее',\n",
       "       'НЕОКОНЧЕННОЕ ВЫСШЕЕ', 'Неоконченное высшее', 'НАЧАЛЬНОЕ',\n",
       "       'Начальное', 'Ученая степень', 'УЧЕНАЯ СТЕПЕНЬ', 'ученая степень'],\n",
       "      dtype=object)"
      ]
     },
     "execution_count": 11,
     "metadata": {},
     "output_type": "execute_result"
    }
   ],
   "source": [
    "clients['education'].unique()"
   ]
  },
  {
   "cell_type": "markdown",
   "metadata": {
    "id": "nSAFpxBIJtTM"
   },
   "source": [
    "Для того, чтобы корректно работать с параметром `education`, приведем все значения в этом столбце к нижнему регистру."
   ]
  },
  {
   "cell_type": "code",
   "execution_count": 12,
   "metadata": {
    "executionInfo": {
     "elapsed": 22,
     "status": "ok",
     "timestamp": 1633114142182,
     "user": {
      "displayName": "Руслан Муштаков",
      "photoUrl": "https://lh3.googleusercontent.com/a/default-user=s64",
      "userId": "06846086149309682337"
     },
     "user_tz": -180
    },
    "id": "Z9ArwAmkJtTM"
   },
   "outputs": [],
   "source": [
    "clients['education'] = clients['education'].str.lower()"
   ]
  },
  {
   "cell_type": "markdown",
   "metadata": {
    "id": "0vgCl7HdJtTN"
   },
   "source": [
    "Найдем средние значения ежемесячного дохода для каждого уровня образования и сохраним их в отдельную таблицу."
   ]
  },
  {
   "cell_type": "code",
   "execution_count": 13,
   "metadata": {
    "colab": {
     "base_uri": "https://localhost:8080/"
    },
    "executionInfo": {
     "elapsed": 23,
     "status": "ok",
     "timestamp": 1633114142183,
     "user": {
      "displayName": "Руслан Муштаков",
      "photoUrl": "https://lh3.googleusercontent.com/a/default-user=s64",
      "userId": "06846086149309682337"
     },
     "user_tz": -180
    },
    "id": "GvxynTepJtTN",
    "outputId": "d1088813-9759-44e2-dcdf-50a83b7451cc"
   },
   "outputs": [
    {
     "data": {
      "text/plain": [
       "education\n",
       "высшее                 207142.515219\n",
       "начальное              132155.513626\n",
       "неоконченное высшее    181534.022774\n",
       "среднее                153715.643971\n",
       "ученая степень         174750.155792\n",
       "Name: total_income, dtype: float64"
      ]
     },
     "execution_count": 13,
     "metadata": {},
     "output_type": "execute_result"
    }
   ],
   "source": [
    "mean_education_income = clients.groupby('education')['total_income'].mean()\n",
    "mean_education_income"
   ]
  },
  {
   "cell_type": "markdown",
   "metadata": {
    "id": "cm3JhvaGJtTP"
   },
   "source": [
    "Теперь можно заполнить пропуски. Для этого подойдут посчитанные средние значения по каждому уровню образования."
   ]
  },
  {
   "cell_type": "code",
   "execution_count": 14,
   "metadata": {
    "executionInfo": {
     "elapsed": 32,
     "status": "ok",
     "timestamp": 1633114143549,
     "user": {
      "displayName": "Руслан Муштаков",
      "photoUrl": "https://lh3.googleusercontent.com/a/default-user=s64",
      "userId": "06846086149309682337"
     },
     "user_tz": -180
    },
    "id": "7F20_JarJtTQ"
   },
   "outputs": [],
   "source": [
    "clients.loc[clients['total_income'].isnull(), 'total_income'] = clients['education'].map(mean_education_income)"
   ]
  },
  {
   "cell_type": "markdown",
   "metadata": {
    "id": "c0hReWkBJtTQ"
   },
   "source": [
    "Cтаж работы зависит скорее от возраста, и для каждого человека будет высчитываться индивидуально. Предположим, что человек начал работать в 18 лет. Также, было замечено, что в данной колонке хранятся странные значения - обработаем их позже, а пока добавим в таблицу значение количества дней со знаком минус."
   ]
  },
  {
   "cell_type": "code",
   "execution_count": 15,
   "metadata": {
    "executionInfo": {
     "elapsed": 31,
     "status": "ok",
     "timestamp": 1633114143551,
     "user": {
      "displayName": "Руслан Муштаков",
      "photoUrl": "https://lh3.googleusercontent.com/a/default-user=s64",
      "userId": "06846086149309682337"
     },
     "user_tz": -180
    },
    "id": "qKpar5JhJtTR"
   },
   "outputs": [],
   "source": [
    "clients.loc[clients['days_employed'].isnull(), 'days_employed'] = (clients['dob_years'] - 18) * 365 * (-1)"
   ]
  },
  {
   "cell_type": "markdown",
   "metadata": {
    "id": "HjXGZ3JjJtTR"
   },
   "source": [
    "Финальная проверка, что во всех столбцах, все значения заполнены"
   ]
  },
  {
   "cell_type": "code",
   "execution_count": 16,
   "metadata": {
    "colab": {
     "base_uri": "https://localhost:8080/"
    },
    "executionInfo": {
     "elapsed": 31,
     "status": "ok",
     "timestamp": 1633114143552,
     "user": {
      "displayName": "Руслан Муштаков",
      "photoUrl": "https://lh3.googleusercontent.com/a/default-user=s64",
      "userId": "06846086149309682337"
     },
     "user_tz": -180
    },
    "id": "JNMleId1JtTS",
    "outputId": "22c2eed2-2c76-4064-f6dc-39d913e1f413"
   },
   "outputs": [
    {
     "name": "stdout",
     "output_type": "stream",
     "text": [
      "<class 'pandas.core.frame.DataFrame'>\n",
      "RangeIndex: 21525 entries, 0 to 21524\n",
      "Data columns (total 12 columns):\n",
      " #   Column            Non-Null Count  Dtype  \n",
      "---  ------            --------------  -----  \n",
      " 0   children          21525 non-null  int64  \n",
      " 1   days_employed     21525 non-null  float64\n",
      " 2   dob_years         21525 non-null  int64  \n",
      " 3   education         21525 non-null  object \n",
      " 4   education_id      21525 non-null  int64  \n",
      " 5   family_status     21525 non-null  object \n",
      " 6   family_status_id  21525 non-null  int64  \n",
      " 7   gender            21525 non-null  object \n",
      " 8   income_type       21525 non-null  object \n",
      " 9   debt              21525 non-null  int64  \n",
      " 10  total_income      21525 non-null  float64\n",
      " 11  purpose           21525 non-null  object \n",
      "dtypes: float64(2), int64(5), object(5)\n",
      "memory usage: 2.0+ MB\n"
     ]
    }
   ],
   "source": [
    "clients.info()"
   ]
  },
  {
   "cell_type": "markdown",
   "metadata": {
    "id": "H33e8sMpJtTT"
   },
   "source": [
    "#### Вывод"
   ]
  },
  {
   "cell_type": "markdown",
   "metadata": {
    "id": "Qhxh6NgyJtTT"
   },
   "source": [
    "Пропуски присутствуют в двух колонках - `days_employed` и `total_income` - причем они в одних и тех же строках. Скорее всего они возникли при обработке первоначальных данных. На данном этапе все пропущенные значения были заполнены. Значения в столбце `total_income` (ежемесячный доход) зависят от уровня образования, поэтому данные были сгруппированы по данному параметру, и далее были посчитанны средние значения дохода для каждой группы. Стаж зависит от возраста, в данном случае было решено считать стаж, из расчета на то, что клиент начал работать в 18 лет. Данное число переведено в дни, и добавлено в таблицу со знаком минус (из-за особенностей значений в данном столбце). В дальнейшем значения этого столбца будут обработаны на адекватность."
   ]
  },
  {
   "cell_type": "markdown",
   "metadata": {
    "id": "3l4X5684JtTU"
   },
   "source": [
    "<a id=\"step2_2\"></a>\n",
    "### 2.2. Замена типа данных"
   ]
  },
  {
   "cell_type": "markdown",
   "metadata": {
    "id": "b2gl1yd0JtTV"
   },
   "source": [
    "`days_employed` — общий трудовой стаж в днях -> количество дней всегда должно быть целым числом."
   ]
  },
  {
   "cell_type": "code",
   "execution_count": 17,
   "metadata": {
    "executionInfo": {
     "elapsed": 32,
     "status": "ok",
     "timestamp": 1633114143556,
     "user": {
      "displayName": "Руслан Муштаков",
      "photoUrl": "https://lh3.googleusercontent.com/a/default-user=s64",
      "userId": "06846086149309682337"
     },
     "user_tz": -180
    },
    "id": "iqW4_pvAJtTV"
   },
   "outputs": [],
   "source": [
    "clients['days_employed'] = clients['days_employed'].astype(int)"
   ]
  },
  {
   "cell_type": "markdown",
   "metadata": {
    "id": "_fELsAgvJtTV"
   },
   "source": [
    "`total_income` - ежемесячный доход -> могут быть сотые доли денег, но в данном случае лучше сократить дробную часть."
   ]
  },
  {
   "cell_type": "code",
   "execution_count": 18,
   "metadata": {
    "executionInfo": {
     "elapsed": 32,
     "status": "ok",
     "timestamp": 1633114143557,
     "user": {
      "displayName": "Руслан Муштаков",
      "photoUrl": "https://lh3.googleusercontent.com/a/default-user=s64",
      "userId": "06846086149309682337"
     },
     "user_tz": -180
    },
    "id": "rovJIHnyJtTV"
   },
   "outputs": [],
   "source": [
    "clients['total_income'] = clients['total_income'].astype(int)"
   ]
  },
  {
   "cell_type": "markdown",
   "metadata": {
    "id": "lvtIz_iwJtTV"
   },
   "source": [
    "Проверка соответствия значений в столбце и их типу данных"
   ]
  },
  {
   "cell_type": "code",
   "execution_count": 19,
   "metadata": {
    "colab": {
     "base_uri": "https://localhost:8080/"
    },
    "executionInfo": {
     "elapsed": 32,
     "status": "ok",
     "timestamp": 1633114143558,
     "user": {
      "displayName": "Руслан Муштаков",
      "photoUrl": "https://lh3.googleusercontent.com/a/default-user=s64",
      "userId": "06846086149309682337"
     },
     "user_tz": -180
    },
    "id": "j-jC2_CZJtTW",
    "outputId": "8f3225ed-01a6-4d88-b113-f6094247d375"
   },
   "outputs": [
    {
     "name": "stdout",
     "output_type": "stream",
     "text": [
      "<class 'pandas.core.frame.DataFrame'>\n",
      "RangeIndex: 21525 entries, 0 to 21524\n",
      "Data columns (total 12 columns):\n",
      " #   Column            Non-Null Count  Dtype \n",
      "---  ------            --------------  ----- \n",
      " 0   children          21525 non-null  int64 \n",
      " 1   days_employed     21525 non-null  int64 \n",
      " 2   dob_years         21525 non-null  int64 \n",
      " 3   education         21525 non-null  object\n",
      " 4   education_id      21525 non-null  int64 \n",
      " 5   family_status     21525 non-null  object\n",
      " 6   family_status_id  21525 non-null  int64 \n",
      " 7   gender            21525 non-null  object\n",
      " 8   income_type       21525 non-null  object\n",
      " 9   debt              21525 non-null  int64 \n",
      " 10  total_income      21525 non-null  int64 \n",
      " 11  purpose           21525 non-null  object\n",
      "dtypes: int64(7), object(5)\n",
      "memory usage: 2.0+ MB\n"
     ]
    }
   ],
   "source": [
    "clients.info()"
   ]
  },
  {
   "cell_type": "markdown",
   "metadata": {
    "id": "bhYQM9F7JtTW"
   },
   "source": [
    "#### Вывод"
   ]
  },
  {
   "cell_type": "markdown",
   "metadata": {
    "id": "oFAlbO2VJtTW"
   },
   "source": [
    "Для столбцов `days_employed` и `total_income` были изменены типы данных: float64 -> int64. Был использован метод astype(), потому что это один из способов перевести тип именно в int."
   ]
  },
  {
   "cell_type": "markdown",
   "metadata": {
    "id": "9e0WOChJJtTW"
   },
   "source": [
    "<a id=\"step2_3\"></a>\n",
    "### 2.3. Обработка дубликатов"
   ]
  },
  {
   "cell_type": "markdown",
   "metadata": {
    "id": "nkzRCfRzJtTX"
   },
   "source": [
    "Стандартным методом получаем количество дубликатов."
   ]
  },
  {
   "cell_type": "code",
   "execution_count": 20,
   "metadata": {
    "colab": {
     "base_uri": "https://localhost:8080/"
    },
    "executionInfo": {
     "elapsed": 32,
     "status": "ok",
     "timestamp": 1633114143559,
     "user": {
      "displayName": "Руслан Муштаков",
      "photoUrl": "https://lh3.googleusercontent.com/a/default-user=s64",
      "userId": "06846086149309682337"
     },
     "user_tz": -180
    },
    "id": "pJQX8TWcJtTX",
    "outputId": "1b2e1e29-dddb-4ffe-c67f-ead2ec852fdb"
   },
   "outputs": [
    {
     "data": {
      "text/plain": [
       "71"
      ]
     },
     "execution_count": 20,
     "metadata": {},
     "output_type": "execute_result"
    }
   ],
   "source": [
    "clients.duplicated().sum()"
   ]
  },
  {
   "cell_type": "markdown",
   "metadata": {
    "id": "gdQOOwhPJtTX"
   },
   "source": [
    "Сначала приведем все столбцы со строковыми значениями к нижнему регистру. *(Учтем, что значения в столбце education уже приведены к нижнему регистру)*"
   ]
  },
  {
   "cell_type": "code",
   "execution_count": 21,
   "metadata": {
    "executionInfo": {
     "elapsed": 32,
     "status": "ok",
     "timestamp": 1633114143560,
     "user": {
      "displayName": "Руслан Муштаков",
      "photoUrl": "https://lh3.googleusercontent.com/a/default-user=s64",
      "userId": "06846086149309682337"
     },
     "user_tz": -180
    },
    "id": "fS0GKOJkJtTX"
   },
   "outputs": [],
   "source": [
    "str_columns = ['family_status', 'gender', 'income_type', 'purpose']\n",
    "clients[str_columns] = clients[str_columns].apply(lambda x: x.str.lower())"
   ]
  },
  {
   "cell_type": "code",
   "execution_count": 22,
   "metadata": {
    "colab": {
     "base_uri": "https://localhost:8080/"
    },
    "executionInfo": {
     "elapsed": 32,
     "status": "ok",
     "timestamp": 1633114143561,
     "user": {
      "displayName": "Руслан Муштаков",
      "photoUrl": "https://lh3.googleusercontent.com/a/default-user=s64",
      "userId": "06846086149309682337"
     },
     "user_tz": -180
    },
    "id": "G-2wf-IWJtTY",
    "outputId": "9fc48649-53a9-4642-a1cb-0c8949de608f"
   },
   "outputs": [
    {
     "data": {
      "text/plain": [
       "71"
      ]
     },
     "execution_count": 22,
     "metadata": {},
     "output_type": "execute_result"
    }
   ],
   "source": [
    "clients.duplicated().sum()"
   ]
  },
  {
   "cell_type": "markdown",
   "metadata": {
    "id": "duqP_2suJtTY"
   },
   "source": [
    "Проверка, какие строки дубликаты есть в таблице."
   ]
  },
  {
   "cell_type": "code",
   "execution_count": 23,
   "metadata": {
    "colab": {
     "base_uri": "https://localhost:8080/",
     "height": 0
    },
    "executionInfo": {
     "elapsed": 31,
     "status": "ok",
     "timestamp": 1633114143562,
     "user": {
      "displayName": "Руслан Муштаков",
      "photoUrl": "https://lh3.googleusercontent.com/a/default-user=s64",
      "userId": "06846086149309682337"
     },
     "user_tz": -180
    },
    "id": "VyfmhCRVJtTY",
    "outputId": "bfe83706-9b9c-432d-c2e6-1cd8180e11ef"
   },
   "outputs": [
    {
     "data": {
      "text/html": [
       "<div>\n",
       "<style scoped>\n",
       "    .dataframe tbody tr th:only-of-type {\n",
       "        vertical-align: middle;\n",
       "    }\n",
       "\n",
       "    .dataframe tbody tr th {\n",
       "        vertical-align: top;\n",
       "    }\n",
       "\n",
       "    .dataframe thead th {\n",
       "        text-align: right;\n",
       "    }\n",
       "</style>\n",
       "<table border=\"1\" class=\"dataframe\">\n",
       "  <thead>\n",
       "    <tr style=\"text-align: right;\">\n",
       "      <th></th>\n",
       "      <th>children</th>\n",
       "      <th>days_employed</th>\n",
       "      <th>dob_years</th>\n",
       "      <th>education</th>\n",
       "      <th>education_id</th>\n",
       "      <th>family_status</th>\n",
       "      <th>family_status_id</th>\n",
       "      <th>gender</th>\n",
       "      <th>income_type</th>\n",
       "      <th>debt</th>\n",
       "      <th>total_income</th>\n",
       "      <th>purpose</th>\n",
       "      <th>dupl_status</th>\n",
       "    </tr>\n",
       "  </thead>\n",
       "  <tbody>\n",
       "    <tr>\n",
       "      <th>2849</th>\n",
       "      <td>0</td>\n",
       "      <td>-8395</td>\n",
       "      <td>41</td>\n",
       "      <td>среднее</td>\n",
       "      <td>1</td>\n",
       "      <td>женат / замужем</td>\n",
       "      <td>0</td>\n",
       "      <td>f</td>\n",
       "      <td>сотрудник</td>\n",
       "      <td>0</td>\n",
       "      <td>153715</td>\n",
       "      <td>покупка жилья для семьи</td>\n",
       "      <td>True</td>\n",
       "    </tr>\n",
       "    <tr>\n",
       "      <th>3290</th>\n",
       "      <td>0</td>\n",
       "      <td>-14600</td>\n",
       "      <td>58</td>\n",
       "      <td>среднее</td>\n",
       "      <td>1</td>\n",
       "      <td>гражданский брак</td>\n",
       "      <td>1</td>\n",
       "      <td>f</td>\n",
       "      <td>пенсионер</td>\n",
       "      <td>0</td>\n",
       "      <td>153715</td>\n",
       "      <td>сыграть свадьбу</td>\n",
       "      <td>True</td>\n",
       "    </tr>\n",
       "    <tr>\n",
       "      <th>4182</th>\n",
       "      <td>1</td>\n",
       "      <td>-5840</td>\n",
       "      <td>34</td>\n",
       "      <td>высшее</td>\n",
       "      <td>0</td>\n",
       "      <td>гражданский брак</td>\n",
       "      <td>1</td>\n",
       "      <td>f</td>\n",
       "      <td>сотрудник</td>\n",
       "      <td>0</td>\n",
       "      <td>207142</td>\n",
       "      <td>свадьба</td>\n",
       "      <td>True</td>\n",
       "    </tr>\n",
       "    <tr>\n",
       "      <th>4851</th>\n",
       "      <td>0</td>\n",
       "      <td>-15330</td>\n",
       "      <td>60</td>\n",
       "      <td>среднее</td>\n",
       "      <td>1</td>\n",
       "      <td>гражданский брак</td>\n",
       "      <td>1</td>\n",
       "      <td>f</td>\n",
       "      <td>пенсионер</td>\n",
       "      <td>0</td>\n",
       "      <td>153715</td>\n",
       "      <td>свадьба</td>\n",
       "      <td>True</td>\n",
       "    </tr>\n",
       "    <tr>\n",
       "      <th>5557</th>\n",
       "      <td>0</td>\n",
       "      <td>-14600</td>\n",
       "      <td>58</td>\n",
       "      <td>среднее</td>\n",
       "      <td>1</td>\n",
       "      <td>гражданский брак</td>\n",
       "      <td>1</td>\n",
       "      <td>f</td>\n",
       "      <td>пенсионер</td>\n",
       "      <td>0</td>\n",
       "      <td>153715</td>\n",
       "      <td>сыграть свадьбу</td>\n",
       "      <td>True</td>\n",
       "    </tr>\n",
       "    <tr>\n",
       "      <th>6312</th>\n",
       "      <td>0</td>\n",
       "      <td>-4380</td>\n",
       "      <td>30</td>\n",
       "      <td>среднее</td>\n",
       "      <td>1</td>\n",
       "      <td>женат / замужем</td>\n",
       "      <td>0</td>\n",
       "      <td>m</td>\n",
       "      <td>сотрудник</td>\n",
       "      <td>0</td>\n",
       "      <td>153715</td>\n",
       "      <td>строительство жилой недвижимости</td>\n",
       "      <td>True</td>\n",
       "    </tr>\n",
       "    <tr>\n",
       "      <th>7808</th>\n",
       "      <td>0</td>\n",
       "      <td>-14235</td>\n",
       "      <td>57</td>\n",
       "      <td>среднее</td>\n",
       "      <td>1</td>\n",
       "      <td>гражданский брак</td>\n",
       "      <td>1</td>\n",
       "      <td>f</td>\n",
       "      <td>пенсионер</td>\n",
       "      <td>0</td>\n",
       "      <td>153715</td>\n",
       "      <td>на проведение свадьбы</td>\n",
       "      <td>True</td>\n",
       "    </tr>\n",
       "    <tr>\n",
       "      <th>7921</th>\n",
       "      <td>0</td>\n",
       "      <td>-16790</td>\n",
       "      <td>64</td>\n",
       "      <td>высшее</td>\n",
       "      <td>0</td>\n",
       "      <td>гражданский брак</td>\n",
       "      <td>1</td>\n",
       "      <td>f</td>\n",
       "      <td>пенсионер</td>\n",
       "      <td>0</td>\n",
       "      <td>207142</td>\n",
       "      <td>на проведение свадьбы</td>\n",
       "      <td>True</td>\n",
       "    </tr>\n",
       "    <tr>\n",
       "      <th>7938</th>\n",
       "      <td>0</td>\n",
       "      <td>-19345</td>\n",
       "      <td>71</td>\n",
       "      <td>среднее</td>\n",
       "      <td>1</td>\n",
       "      <td>гражданский брак</td>\n",
       "      <td>1</td>\n",
       "      <td>f</td>\n",
       "      <td>пенсионер</td>\n",
       "      <td>0</td>\n",
       "      <td>153715</td>\n",
       "      <td>на проведение свадьбы</td>\n",
       "      <td>True</td>\n",
       "    </tr>\n",
       "    <tr>\n",
       "      <th>8583</th>\n",
       "      <td>0</td>\n",
       "      <td>-14600</td>\n",
       "      <td>58</td>\n",
       "      <td>высшее</td>\n",
       "      <td>0</td>\n",
       "      <td>не женат / не замужем</td>\n",
       "      <td>4</td>\n",
       "      <td>f</td>\n",
       "      <td>пенсионер</td>\n",
       "      <td>0</td>\n",
       "      <td>207142</td>\n",
       "      <td>дополнительное образование</td>\n",
       "      <td>True</td>\n",
       "    </tr>\n",
       "  </tbody>\n",
       "</table>\n",
       "</div>"
      ],
      "text/plain": [
       "      children  days_employed  ...                           purpose dupl_status\n",
       "2849         0          -8395  ...           покупка жилья для семьи        True\n",
       "3290         0         -14600  ...                   сыграть свадьбу        True\n",
       "4182         1          -5840  ...                           свадьба        True\n",
       "4851         0         -15330  ...                           свадьба        True\n",
       "5557         0         -14600  ...                   сыграть свадьбу        True\n",
       "6312         0          -4380  ...  строительство жилой недвижимости        True\n",
       "7808         0         -14235  ...             на проведение свадьбы        True\n",
       "7921         0         -16790  ...             на проведение свадьбы        True\n",
       "7938         0         -19345  ...             на проведение свадьбы        True\n",
       "8583         0         -14600  ...        дополнительное образование        True\n",
       "\n",
       "[10 rows x 13 columns]"
      ]
     },
     "execution_count": 23,
     "metadata": {},
     "output_type": "execute_result"
    }
   ],
   "source": [
    "clients_dupl = clients.copy()\n",
    "clients_dupl['dupl_status'] = clients_dupl.duplicated()\n",
    "clients_dupl.loc[clients_dupl['dupl_status'] == True].head(10)"
   ]
  },
  {
   "cell_type": "markdown",
   "metadata": {
    "id": "KWBWkRoXJtTZ"
   },
   "source": [
    "Удаляем дубликаты."
   ]
  },
  {
   "cell_type": "code",
   "execution_count": 24,
   "metadata": {
    "colab": {
     "base_uri": "https://localhost:8080/"
    },
    "executionInfo": {
     "elapsed": 32,
     "status": "ok",
     "timestamp": 1633114143565,
     "user": {
      "displayName": "Руслан Муштаков",
      "photoUrl": "https://lh3.googleusercontent.com/a/default-user=s64",
      "userId": "06846086149309682337"
     },
     "user_tz": -180
    },
    "id": "SVmft-_6JtTZ",
    "outputId": "7c6b4cd6-d12e-4cca-f667-da300c70f342"
   },
   "outputs": [
    {
     "data": {
      "text/plain": [
       "0"
      ]
     },
     "execution_count": 24,
     "metadata": {},
     "output_type": "execute_result"
    }
   ],
   "source": [
    "clients = clients.drop_duplicates().reset_index(drop=True)\n",
    "clients.duplicated().sum()"
   ]
  },
  {
   "cell_type": "markdown",
   "metadata": {
    "id": "HXX44hE2JtTZ"
   },
   "source": [
    "#### Вывод"
   ]
  },
  {
   "cell_type": "markdown",
   "metadata": {
    "id": "uAzXxheKJtTZ"
   },
   "source": [
    "Для нахождения дубликатов использовался стандартный метод их поиска. Преждевременно значения столбцов со строковыми значениями были приведены к нижнему регистру. Дубликаты в данной таблице могли появиться, если человек несколько раз подавал заявку на кредит."
   ]
  },
  {
   "cell_type": "markdown",
   "metadata": {
    "id": "QKkRSl6zJtTa"
   },
   "source": [
    "<a id=\"step2_4\"></a>\n",
    "### 2.4. Лемматизация целей кредита"
   ]
  },
  {
   "cell_type": "markdown",
   "metadata": {
    "id": "BuM3dzfMJtTa"
   },
   "source": [
    "Проведем лемматизация для колонки `purpose`."
   ]
  },
  {
   "cell_type": "markdown",
   "metadata": {
    "id": "8WSpZ8AIJtTa"
   },
   "source": [
    "Получим лемматизатор для слов на русском."
   ]
  },
  {
   "cell_type": "code",
   "execution_count": 25,
   "metadata": {
    "colab": {
     "base_uri": "https://localhost:8080/"
    },
    "executionInfo": {
     "elapsed": 6369,
     "status": "ok",
     "timestamp": 1633114149903,
     "user": {
      "displayName": "Руслан Муштаков",
      "photoUrl": "https://lh3.googleusercontent.com/a/default-user=s64",
      "userId": "06846086149309682337"
     },
     "user_tz": -180
    },
    "id": "m0MZSyVvJtTa",
    "outputId": "218e1af9-37f5-47fb-9bbb-60107e475d5e"
   },
   "outputs": [
    {
     "name": "stderr",
     "output_type": "stream",
     "text": [
      "Installing mystem to /root/.local/bin/mystem from http://download.cdn.yandex.net/mystem/mystem-3.0-linux3.1-64bit.tar.gz\n"
     ]
    }
   ],
   "source": [
    "m = Mystem()"
   ]
  },
  {
   "cell_type": "markdown",
   "metadata": {
    "id": "qzP5_ZqPJtTa"
   },
   "source": [
    "Подготовим колонку для лемматизированных строк."
   ]
  },
  {
   "cell_type": "code",
   "execution_count": 26,
   "metadata": {
    "executionInfo": {
     "elapsed": 18,
     "status": "ok",
     "timestamp": 1633114149909,
     "user": {
      "displayName": "Руслан Муштаков",
      "photoUrl": "https://lh3.googleusercontent.com/a/default-user=s64",
      "userId": "06846086149309682337"
     },
     "user_tz": -180
    },
    "id": "IqK2T2yMJtTb"
   },
   "outputs": [],
   "source": [
    "clients['lemm_purpose'] = ''"
   ]
  },
  {
   "cell_type": "markdown",
   "metadata": {
    "id": "WtqV38DzJtTb"
   },
   "source": [
    "Реализуем функцию, чтобы получать строки после обработки лемматизатором."
   ]
  },
  {
   "cell_type": "code",
   "execution_count": 27,
   "metadata": {
    "executionInfo": {
     "elapsed": 16,
     "status": "ok",
     "timestamp": 1633114149910,
     "user": {
      "displayName": "Руслан Муштаков",
      "photoUrl": "https://lh3.googleusercontent.com/a/default-user=s64",
      "userId": "06846086149309682337"
     },
     "user_tz": -180
    },
    "id": "3CPAbchbJtTb"
   },
   "outputs": [],
   "source": [
    "def set_lemm_purpose(row):\n",
    "    return ' '.join(m.lemmatize(row['purpose']))"
   ]
  },
  {
   "cell_type": "markdown",
   "metadata": {
    "id": "N8CIARo8JtTb"
   },
   "source": [
    "Проверим работу лемматизатора на первой строке."
   ]
  },
  {
   "cell_type": "code",
   "execution_count": 28,
   "metadata": {
    "colab": {
     "base_uri": "https://localhost:8080/"
    },
    "executionInfo": {
     "elapsed": 1581,
     "status": "ok",
     "timestamp": 1633114151477,
     "user": {
      "displayName": "Руслан Муштаков",
      "photoUrl": "https://lh3.googleusercontent.com/a/default-user=s64",
      "userId": "06846086149309682337"
     },
     "user_tz": -180
    },
    "id": "df-L_uTeJtTb",
    "outputId": "6c8bbe27-84dd-43e9-84f0-9bb7e5a8ca08"
   },
   "outputs": [
    {
     "name": "stdout",
     "output_type": "stream",
     "text": [
      "покупка жилья\n",
      "['покупка', ' ', 'жилье', '\\n']\n"
     ]
    }
   ],
   "source": [
    "print(clients.loc[0, 'purpose'])\n",
    "print(m.lemmatize(clients.loc[0, 'purpose']))"
   ]
  },
  {
   "cell_type": "markdown",
   "metadata": {
    "id": "lm9SKZN6JtTc"
   },
   "source": [
    "Выполним непосредственно лемматизацию."
   ]
  },
  {
   "cell_type": "code",
   "execution_count": 29,
   "metadata": {
    "colab": {
     "base_uri": "https://localhost:8080/"
    },
    "executionInfo": {
     "elapsed": 5507,
     "status": "ok",
     "timestamp": 1633114156975,
     "user": {
      "displayName": "Руслан Муштаков",
      "photoUrl": "https://lh3.googleusercontent.com/a/default-user=s64",
      "userId": "06846086149309682337"
     },
     "user_tz": -180
    },
    "id": "z1I08-S_JtTc",
    "outputId": "dc36f479-df50-40c2-e560-432cb5528455"
   },
   "outputs": [
    {
     "name": "stdout",
     "output_type": "stream",
     "text": [
      "CPU times: user 2.41 s, sys: 631 ms, total: 3.04 s\n",
      "Wall time: 5.29 s\n"
     ]
    }
   ],
   "source": [
    "%%time\n",
    "\n",
    "clients['lemm_purpose'] = clients.apply(set_lemm_purpose, axis=1)"
   ]
  },
  {
   "cell_type": "markdown",
   "metadata": {
    "id": "pDVR5VAkJtTd"
   },
   "source": [
    "Посмотрим в созданной колонке уникальные значения и их количество."
   ]
  },
  {
   "cell_type": "code",
   "execution_count": 30,
   "metadata": {
    "colab": {
     "base_uri": "https://localhost:8080/"
    },
    "executionInfo": {
     "elapsed": 188,
     "status": "ok",
     "timestamp": 1633114156977,
     "user": {
      "displayName": "Руслан Муштаков",
      "photoUrl": "https://lh3.googleusercontent.com/a/default-user=s64",
      "userId": "06846086149309682337"
     },
     "user_tz": -180
    },
    "id": "tyQL9C71JtTd",
    "outputId": "d6ec8626-7337-451c-ee0d-0ef1ee25d406"
   },
   "outputs": [
    {
     "data": {
      "text/plain": [
       "автомобиль \\n                                    972\n",
       "свадьба \\n                                       791\n",
       "на   проведение   свадьба \\n                     768\n",
       "сыграть   свадьба \\n                             765\n",
       "операция   с   недвижимость \\n                   675\n",
       "покупка   коммерческий   недвижимость \\n         661\n",
       "операция   с   жилье \\n                          652\n",
       "покупка   жилье   для   сдача \\n                 651\n",
       "операция   с   коммерческий   недвижимость \\n    650\n",
       "покупка   жилье \\n                               646\n",
       "жилье \\n                                         646\n",
       "покупка   жилье   для   семья \\n                 638\n",
       "строительство   собственный   недвижимость \\n    635\n",
       "недвижимость \\n                                  633\n",
       "операция   со   свой   недвижимость \\n           627\n",
       "строительство   жилой   недвижимость \\n          624\n",
       "покупка   недвижимость \\n                        621\n",
       "покупка   свой   жилье \\n                        620\n",
       "строительство   недвижимость \\n                  619\n",
       "ремонт   жилье \\n                                607\n",
       "покупка   жилой   недвижимость \\n                606\n",
       "на   покупка   свой   автомобиль \\n              505\n",
       "заниматься   высокий   образование \\n            496\n",
       "сделка   с   подержанный   автомобиль \\n         486\n",
       "на   покупка   подержать   автомобиль \\n         478\n",
       "свой   автомобиль \\n                             478\n",
       "на   покупка   автомобиль \\n                     471\n",
       "приобретение   автомобиль \\n                     461\n",
       "дополнительный   образование \\n                  460\n",
       "сделка   с   автомобиль \\n                       455\n",
       "высокий   образование \\n                         452\n",
       "образование \\n                                   447\n",
       "получение   дополнительный   образование \\n      446\n",
       "получение   образование \\n                       442\n",
       "профильный   образование \\n                      436\n",
       "получение   высокий   образование \\n             426\n",
       "заниматься   образование \\n                      408\n",
       "Name: lemm_purpose, dtype: int64"
      ]
     },
     "execution_count": 30,
     "metadata": {},
     "output_type": "execute_result"
    }
   ],
   "source": [
    "clients['lemm_purpose'].value_counts()"
   ]
  },
  {
   "cell_type": "markdown",
   "metadata": {
    "id": "46WdGUfdJtTd"
   },
   "source": [
    "Проанализировав вывод, видно что некоторые цели очень похожи по формулировке, а значит их можно выделить в одну группу. Таким образом, выделим все цели по группам: *автомобиль*, *свадьба*, *недвижимость*, *жилье*, *образование*. Заменим в столбце `lemm_purpose` различные цели на выделенные нами группы."
   ]
  },
  {
   "cell_type": "code",
   "execution_count": 31,
   "metadata": {
    "executionInfo": {
     "elapsed": 186,
     "status": "ok",
     "timestamp": 1633114156978,
     "user": {
      "displayName": "Руслан Муштаков",
      "photoUrl": "https://lh3.googleusercontent.com/a/default-user=s64",
      "userId": "06846086149309682337"
     },
     "user_tz": -180
    },
    "id": "Axto9XwCJtTd"
   },
   "outputs": [],
   "source": [
    "def modify_lemm_purpose(row):\n",
    "    if 'автомобиль' in row['lemm_purpose']:\n",
    "        return 'автомобиль'\n",
    "    if 'свадьба' in row['lemm_purpose']:\n",
    "        return 'свадьба'\n",
    "    if 'недвижимость' in row['lemm_purpose']:\n",
    "        return 'недвижимость'\n",
    "    if 'жилье' in row['lemm_purpose']:\n",
    "        return 'жилье'\n",
    "    if 'образование' in row['lemm_purpose']:\n",
    "        return 'образование'"
   ]
  },
  {
   "cell_type": "code",
   "execution_count": 32,
   "metadata": {
    "executionInfo": {
     "elapsed": 185,
     "status": "ok",
     "timestamp": 1633114156979,
     "user": {
      "displayName": "Руслан Муштаков",
      "photoUrl": "https://lh3.googleusercontent.com/a/default-user=s64",
      "userId": "06846086149309682337"
     },
     "user_tz": -180
    },
    "id": "GWiknBoJJtTe"
   },
   "outputs": [],
   "source": [
    "clients['lemm_purpose'] = clients.apply(modify_lemm_purpose, axis=1)"
   ]
  },
  {
   "cell_type": "markdown",
   "metadata": {
    "id": "jSOUhmSGJtTg"
   },
   "source": [
    "Проверим результат."
   ]
  },
  {
   "cell_type": "code",
   "execution_count": 33,
   "metadata": {
    "colab": {
     "base_uri": "https://localhost:8080/"
    },
    "executionInfo": {
     "elapsed": 188,
     "status": "ok",
     "timestamp": 1633114156983,
     "user": {
      "displayName": "Руслан Муштаков",
      "photoUrl": "https://lh3.googleusercontent.com/a/default-user=s64",
      "userId": "06846086149309682337"
     },
     "user_tz": -180
    },
    "id": "kKA6w8uEJtTg",
    "outputId": "7594e52b-3e5f-4be7-8ae3-79d4f3fa7753"
   },
   "outputs": [
    {
     "data": {
      "text/plain": [
       "недвижимость    6351\n",
       "жилье           4460\n",
       "автомобиль      4306\n",
       "образование     4013\n",
       "свадьба         2324\n",
       "Name: lemm_purpose, dtype: int64"
      ]
     },
     "execution_count": 33,
     "metadata": {},
     "output_type": "execute_result"
    }
   ],
   "source": [
    "clients['lemm_purpose'].value_counts()"
   ]
  },
  {
   "cell_type": "markdown",
   "metadata": {
    "id": "0izKeEMVJtTg"
   },
   "source": [
    "Лемматизиция призвана распознать неявные дубликаты. Удалим столбец `purpose`, так как мы уже перенесли информацию в колонку `lemm_purpose`. После проверим, появились ли дубликаты в связи с последними манипуляциями."
   ]
  },
  {
   "cell_type": "code",
   "execution_count": 34,
   "metadata": {
    "executionInfo": {
     "elapsed": 188,
     "status": "ok",
     "timestamp": 1633114156985,
     "user": {
      "displayName": "Руслан Муштаков",
      "photoUrl": "https://lh3.googleusercontent.com/a/default-user=s64",
      "userId": "06846086149309682337"
     },
     "user_tz": -180
    },
    "id": "L2deEwJRxEyY"
   },
   "outputs": [],
   "source": [
    "clients = clients.drop('purpose', axis=1)"
   ]
  },
  {
   "cell_type": "code",
   "execution_count": 35,
   "metadata": {
    "colab": {
     "base_uri": "https://localhost:8080/"
    },
    "executionInfo": {
     "elapsed": 184,
     "status": "ok",
     "timestamp": 1633114156986,
     "user": {
      "displayName": "Руслан Муштаков",
      "photoUrl": "https://lh3.googleusercontent.com/a/default-user=s64",
      "userId": "06846086149309682337"
     },
     "user_tz": -180
    },
    "id": "_whUtRI3JtTg",
    "outputId": "3b2e5a62-ca6f-45fd-ef09-337bd5928c7c"
   },
   "outputs": [
    {
     "data": {
      "text/plain": [
       "244"
      ]
     },
     "execution_count": 35,
     "metadata": {},
     "output_type": "execute_result"
    }
   ],
   "source": [
    "clients.duplicated().sum()"
   ]
  },
  {
   "cell_type": "code",
   "execution_count": 36,
   "metadata": {
    "colab": {
     "base_uri": "https://localhost:8080/"
    },
    "executionInfo": {
     "elapsed": 182,
     "status": "ok",
     "timestamp": 1633114156987,
     "user": {
      "displayName": "Руслан Муштаков",
      "photoUrl": "https://lh3.googleusercontent.com/a/default-user=s64",
      "userId": "06846086149309682337"
     },
     "user_tz": -180
    },
    "id": "G1Imq7uS1-m6",
    "outputId": "c6e333d8-63df-48a0-93f5-a298dcb62bb0"
   },
   "outputs": [
    {
     "data": {
      "text/plain": [
       "0"
      ]
     },
     "execution_count": 36,
     "metadata": {},
     "output_type": "execute_result"
    }
   ],
   "source": [
    "clients = clients.drop_duplicates().reset_index(drop=True)\n",
    "clients.duplicated().sum()"
   ]
  },
  {
   "cell_type": "markdown",
   "metadata": {
    "id": "Dzfzo8mdJtTh"
   },
   "source": [
    "#### Вывод"
   ]
  },
  {
   "cell_type": "markdown",
   "metadata": {
    "id": "MYT5n8tWJtTh"
   },
   "source": [
    "Лемматизация проводилсь по столбцу `purpose` (цель получения кредита). Был добавлен новый столбец `lemm_purpose`. Далее были проанализированы значения в этом столбце и выделены по смыслу общие группы целей, которыми были заменены предыдущие значения. Леммы выбирались исходя из смысла строк, полученных после лемматизации. Были проанализированы и выбраны главные слова в строках. Например, \"операция   с   жилье\" и \"покупка   жилье   для   сдача\", главным словом здесь является жилье. Именно оно является объектом для кредита. Не важно, что клиент будет делать с целевым объектом, главное сам объект."
   ]
  },
  {
   "cell_type": "markdown",
   "metadata": {
    "id": "uM9WGbrTJtTh"
   },
   "source": [
    "<a id=\"step2_5\"></a>\n",
    "### 2.5. Категоризация данных"
   ]
  },
  {
   "cell_type": "markdown",
   "metadata": {
    "id": "7NmrybONJtTh"
   },
   "source": [
    "В таблице есть дублируемая информация, например столбцы `education` (уровень образования клиента) и `education_id` (идентификатор уровня образования)."
   ]
  },
  {
   "cell_type": "code",
   "execution_count": 37,
   "metadata": {
    "colab": {
     "base_uri": "https://localhost:8080/",
     "height": 0
    },
    "executionInfo": {
     "elapsed": 180,
     "status": "ok",
     "timestamp": 1633114156988,
     "user": {
      "displayName": "Руслан Муштаков",
      "photoUrl": "https://lh3.googleusercontent.com/a/default-user=s64",
      "userId": "06846086149309682337"
     },
     "user_tz": -180
    },
    "id": "Io09vdE4JtTi",
    "outputId": "5f8603fe-41b4-449c-a71a-75f03885817c"
   },
   "outputs": [
    {
     "data": {
      "text/html": [
       "<div>\n",
       "<style scoped>\n",
       "    .dataframe tbody tr th:only-of-type {\n",
       "        vertical-align: middle;\n",
       "    }\n",
       "\n",
       "    .dataframe tbody tr th {\n",
       "        vertical-align: top;\n",
       "    }\n",
       "\n",
       "    .dataframe thead th {\n",
       "        text-align: right;\n",
       "    }\n",
       "</style>\n",
       "<table border=\"1\" class=\"dataframe\">\n",
       "  <thead>\n",
       "    <tr style=\"text-align: right;\">\n",
       "      <th></th>\n",
       "      <th>education_id</th>\n",
       "      <th>education</th>\n",
       "    </tr>\n",
       "  </thead>\n",
       "  <tbody>\n",
       "    <tr>\n",
       "      <th>0</th>\n",
       "      <td>0</td>\n",
       "      <td>высшее</td>\n",
       "    </tr>\n",
       "    <tr>\n",
       "      <th>1</th>\n",
       "      <td>1</td>\n",
       "      <td>среднее</td>\n",
       "    </tr>\n",
       "    <tr>\n",
       "      <th>2</th>\n",
       "      <td>1</td>\n",
       "      <td>среднее</td>\n",
       "    </tr>\n",
       "    <tr>\n",
       "      <th>3</th>\n",
       "      <td>1</td>\n",
       "      <td>среднее</td>\n",
       "    </tr>\n",
       "    <tr>\n",
       "      <th>4</th>\n",
       "      <td>1</td>\n",
       "      <td>среднее</td>\n",
       "    </tr>\n",
       "    <tr>\n",
       "      <th>5</th>\n",
       "      <td>0</td>\n",
       "      <td>высшее</td>\n",
       "    </tr>\n",
       "    <tr>\n",
       "      <th>6</th>\n",
       "      <td>0</td>\n",
       "      <td>высшее</td>\n",
       "    </tr>\n",
       "    <tr>\n",
       "      <th>7</th>\n",
       "      <td>1</td>\n",
       "      <td>среднее</td>\n",
       "    </tr>\n",
       "    <tr>\n",
       "      <th>8</th>\n",
       "      <td>0</td>\n",
       "      <td>высшее</td>\n",
       "    </tr>\n",
       "    <tr>\n",
       "      <th>9</th>\n",
       "      <td>1</td>\n",
       "      <td>среднее</td>\n",
       "    </tr>\n",
       "  </tbody>\n",
       "</table>\n",
       "</div>"
      ],
      "text/plain": [
       "   education_id education\n",
       "0             0    высшее\n",
       "1             1   среднее\n",
       "2             1   среднее\n",
       "3             1   среднее\n",
       "4             1   среднее\n",
       "5             0    высшее\n",
       "6             0    высшее\n",
       "7             1   среднее\n",
       "8             0    высшее\n",
       "9             1   среднее"
      ]
     },
     "execution_count": 37,
     "metadata": {},
     "output_type": "execute_result"
    }
   ],
   "source": [
    "education_table = clients[['education_id', 'education']]\n",
    "education_table.head(10)"
   ]
  },
  {
   "cell_type": "markdown",
   "metadata": {
    "id": "BmXaP2EEJtTi"
   },
   "source": [
    "В новой таблице есть дубликаты - удалим."
   ]
  },
  {
   "cell_type": "code",
   "execution_count": 38,
   "metadata": {
    "colab": {
     "base_uri": "https://localhost:8080/",
     "height": 0
    },
    "executionInfo": {
     "elapsed": 179,
     "status": "ok",
     "timestamp": 1633114156990,
     "user": {
      "displayName": "Руслан Муштаков",
      "photoUrl": "https://lh3.googleusercontent.com/a/default-user=s64",
      "userId": "06846086149309682337"
     },
     "user_tz": -180
    },
    "id": "PUd2dj8vJtTi",
    "outputId": "28a72bc0-057a-4cc0-ce65-4d6269c7259e"
   },
   "outputs": [
    {
     "data": {
      "text/html": [
       "<div>\n",
       "<style scoped>\n",
       "    .dataframe tbody tr th:only-of-type {\n",
       "        vertical-align: middle;\n",
       "    }\n",
       "\n",
       "    .dataframe tbody tr th {\n",
       "        vertical-align: top;\n",
       "    }\n",
       "\n",
       "    .dataframe thead th {\n",
       "        text-align: right;\n",
       "    }\n",
       "</style>\n",
       "<table border=\"1\" class=\"dataframe\">\n",
       "  <thead>\n",
       "    <tr style=\"text-align: right;\">\n",
       "      <th></th>\n",
       "      <th>education_id</th>\n",
       "      <th>education</th>\n",
       "    </tr>\n",
       "  </thead>\n",
       "  <tbody>\n",
       "    <tr>\n",
       "      <th>0</th>\n",
       "      <td>0</td>\n",
       "      <td>высшее</td>\n",
       "    </tr>\n",
       "    <tr>\n",
       "      <th>1</th>\n",
       "      <td>1</td>\n",
       "      <td>среднее</td>\n",
       "    </tr>\n",
       "    <tr>\n",
       "      <th>2</th>\n",
       "      <td>2</td>\n",
       "      <td>неоконченное высшее</td>\n",
       "    </tr>\n",
       "    <tr>\n",
       "      <th>3</th>\n",
       "      <td>3</td>\n",
       "      <td>начальное</td>\n",
       "    </tr>\n",
       "    <tr>\n",
       "      <th>4</th>\n",
       "      <td>4</td>\n",
       "      <td>ученая степень</td>\n",
       "    </tr>\n",
       "  </tbody>\n",
       "</table>\n",
       "</div>"
      ],
      "text/plain": [
       "   education_id            education\n",
       "0             0               высшее\n",
       "1             1              среднее\n",
       "2             2  неоконченное высшее\n",
       "3             3            начальное\n",
       "4             4       ученая степень"
      ]
     },
     "execution_count": 38,
     "metadata": {},
     "output_type": "execute_result"
    }
   ],
   "source": [
    "education_table = education_table.drop_duplicates().reset_index(drop=True)\n",
    "education_table"
   ]
  },
  {
   "cell_type": "markdown",
   "metadata": {
    "id": "NmQ9roWxJtTj"
   },
   "source": [
    "Также столбцы `family_status` (семейное положение) и `family_status_id` (идентификатор семейного положения) дублируют информацию."
   ]
  },
  {
   "cell_type": "code",
   "execution_count": 39,
   "metadata": {
    "colab": {
     "base_uri": "https://localhost:8080/",
     "height": 0
    },
    "executionInfo": {
     "elapsed": 178,
     "status": "ok",
     "timestamp": 1633114156992,
     "user": {
      "displayName": "Руслан Муштаков",
      "photoUrl": "https://lh3.googleusercontent.com/a/default-user=s64",
      "userId": "06846086149309682337"
     },
     "user_tz": -180
    },
    "id": "vaDDVLWXJtTj",
    "outputId": "bc8e80c5-17ff-4af9-e5c5-06c1e404770e"
   },
   "outputs": [
    {
     "data": {
      "text/html": [
       "<div>\n",
       "<style scoped>\n",
       "    .dataframe tbody tr th:only-of-type {\n",
       "        vertical-align: middle;\n",
       "    }\n",
       "\n",
       "    .dataframe tbody tr th {\n",
       "        vertical-align: top;\n",
       "    }\n",
       "\n",
       "    .dataframe thead th {\n",
       "        text-align: right;\n",
       "    }\n",
       "</style>\n",
       "<table border=\"1\" class=\"dataframe\">\n",
       "  <thead>\n",
       "    <tr style=\"text-align: right;\">\n",
       "      <th></th>\n",
       "      <th>family_status_id</th>\n",
       "      <th>family_status</th>\n",
       "    </tr>\n",
       "  </thead>\n",
       "  <tbody>\n",
       "    <tr>\n",
       "      <th>0</th>\n",
       "      <td>0</td>\n",
       "      <td>женат / замужем</td>\n",
       "    </tr>\n",
       "    <tr>\n",
       "      <th>1</th>\n",
       "      <td>1</td>\n",
       "      <td>гражданский брак</td>\n",
       "    </tr>\n",
       "    <tr>\n",
       "      <th>2</th>\n",
       "      <td>2</td>\n",
       "      <td>вдовец / вдова</td>\n",
       "    </tr>\n",
       "    <tr>\n",
       "      <th>3</th>\n",
       "      <td>3</td>\n",
       "      <td>в разводе</td>\n",
       "    </tr>\n",
       "    <tr>\n",
       "      <th>4</th>\n",
       "      <td>4</td>\n",
       "      <td>не женат / не замужем</td>\n",
       "    </tr>\n",
       "  </tbody>\n",
       "</table>\n",
       "</div>"
      ],
      "text/plain": [
       "   family_status_id          family_status\n",
       "0                 0        женат / замужем\n",
       "1                 1       гражданский брак\n",
       "2                 2         вдовец / вдова\n",
       "3                 3              в разводе\n",
       "4                 4  не женат / не замужем"
      ]
     },
     "execution_count": 39,
     "metadata": {},
     "output_type": "execute_result"
    }
   ],
   "source": [
    "family_status_table = clients[['family_status_id', 'family_status']]\n",
    "family_status_table = family_status_table.drop_duplicates().reset_index(drop=True)\n",
    "family_status_table"
   ]
  },
  {
   "cell_type": "code",
   "execution_count": 40,
   "metadata": {
    "colab": {
     "base_uri": "https://localhost:8080/",
     "height": 0
    },
    "executionInfo": {
     "elapsed": 178,
     "status": "ok",
     "timestamp": 1633114156994,
     "user": {
      "displayName": "Руслан Муштаков",
      "photoUrl": "https://lh3.googleusercontent.com/a/default-user=s64",
      "userId": "06846086149309682337"
     },
     "user_tz": -180
    },
    "id": "Yp27HraKJtTj",
    "outputId": "3542c0e9-fba9-4c16-d508-64925a0170a4"
   },
   "outputs": [
    {
     "data": {
      "text/html": [
       "<div>\n",
       "<style scoped>\n",
       "    .dataframe tbody tr th:only-of-type {\n",
       "        vertical-align: middle;\n",
       "    }\n",
       "\n",
       "    .dataframe tbody tr th {\n",
       "        vertical-align: top;\n",
       "    }\n",
       "\n",
       "    .dataframe thead th {\n",
       "        text-align: right;\n",
       "    }\n",
       "</style>\n",
       "<table border=\"1\" class=\"dataframe\">\n",
       "  <thead>\n",
       "    <tr style=\"text-align: right;\">\n",
       "      <th></th>\n",
       "      <th>children</th>\n",
       "      <th>days_employed</th>\n",
       "      <th>dob_years</th>\n",
       "      <th>education</th>\n",
       "      <th>education_id</th>\n",
       "      <th>family_status</th>\n",
       "      <th>family_status_id</th>\n",
       "      <th>gender</th>\n",
       "      <th>income_type</th>\n",
       "      <th>debt</th>\n",
       "      <th>total_income</th>\n",
       "      <th>lemm_purpose</th>\n",
       "    </tr>\n",
       "  </thead>\n",
       "  <tbody>\n",
       "    <tr>\n",
       "      <th>0</th>\n",
       "      <td>1</td>\n",
       "      <td>-8437</td>\n",
       "      <td>42</td>\n",
       "      <td>высшее</td>\n",
       "      <td>0</td>\n",
       "      <td>женат / замужем</td>\n",
       "      <td>0</td>\n",
       "      <td>f</td>\n",
       "      <td>сотрудник</td>\n",
       "      <td>0</td>\n",
       "      <td>253875</td>\n",
       "      <td>жилье</td>\n",
       "    </tr>\n",
       "    <tr>\n",
       "      <th>1</th>\n",
       "      <td>1</td>\n",
       "      <td>-4024</td>\n",
       "      <td>36</td>\n",
       "      <td>среднее</td>\n",
       "      <td>1</td>\n",
       "      <td>женат / замужем</td>\n",
       "      <td>0</td>\n",
       "      <td>f</td>\n",
       "      <td>сотрудник</td>\n",
       "      <td>0</td>\n",
       "      <td>112080</td>\n",
       "      <td>автомобиль</td>\n",
       "    </tr>\n",
       "    <tr>\n",
       "      <th>2</th>\n",
       "      <td>0</td>\n",
       "      <td>-5623</td>\n",
       "      <td>33</td>\n",
       "      <td>среднее</td>\n",
       "      <td>1</td>\n",
       "      <td>женат / замужем</td>\n",
       "      <td>0</td>\n",
       "      <td>m</td>\n",
       "      <td>сотрудник</td>\n",
       "      <td>0</td>\n",
       "      <td>145885</td>\n",
       "      <td>жилье</td>\n",
       "    </tr>\n",
       "    <tr>\n",
       "      <th>3</th>\n",
       "      <td>3</td>\n",
       "      <td>-4124</td>\n",
       "      <td>32</td>\n",
       "      <td>среднее</td>\n",
       "      <td>1</td>\n",
       "      <td>женат / замужем</td>\n",
       "      <td>0</td>\n",
       "      <td>m</td>\n",
       "      <td>сотрудник</td>\n",
       "      <td>0</td>\n",
       "      <td>267628</td>\n",
       "      <td>образование</td>\n",
       "    </tr>\n",
       "    <tr>\n",
       "      <th>4</th>\n",
       "      <td>0</td>\n",
       "      <td>340266</td>\n",
       "      <td>53</td>\n",
       "      <td>среднее</td>\n",
       "      <td>1</td>\n",
       "      <td>гражданский брак</td>\n",
       "      <td>1</td>\n",
       "      <td>f</td>\n",
       "      <td>пенсионер</td>\n",
       "      <td>0</td>\n",
       "      <td>158616</td>\n",
       "      <td>свадьба</td>\n",
       "    </tr>\n",
       "  </tbody>\n",
       "</table>\n",
       "</div>"
      ],
      "text/plain": [
       "   children  days_employed  dob_years  ... debt  total_income lemm_purpose\n",
       "0         1          -8437         42  ...    0        253875        жилье\n",
       "1         1          -4024         36  ...    0        112080   автомобиль\n",
       "2         0          -5623         33  ...    0        145885        жилье\n",
       "3         3          -4124         32  ...    0        267628  образование\n",
       "4         0         340266         53  ...    0        158616      свадьба\n",
       "\n",
       "[5 rows x 12 columns]"
      ]
     },
     "execution_count": 40,
     "metadata": {},
     "output_type": "execute_result"
    }
   ],
   "source": [
    "clients.head()"
   ]
  },
  {
   "cell_type": "markdown",
   "metadata": {
    "id": "YgbCktz5JtTj"
   },
   "source": [
    "Таким же образом обработаем столбцы `income_type` и `lemm_purpose`. В этим столбцах хранятся строковые значения, а это увеличивает объем памяти для хранения и может вызвать опечатки при работе."
   ]
  },
  {
   "cell_type": "code",
   "execution_count": 41,
   "metadata": {
    "colab": {
     "base_uri": "https://localhost:8080/"
    },
    "executionInfo": {
     "elapsed": 178,
     "status": "ok",
     "timestamp": 1633114156996,
     "user": {
      "displayName": "Руслан Муштаков",
      "photoUrl": "https://lh3.googleusercontent.com/a/default-user=s64",
      "userId": "06846086149309682337"
     },
     "user_tz": -180
    },
    "id": "tNkHNbztJtTk",
    "outputId": "d916d0a5-114b-4c66-8c7f-8e8ec8eba63c"
   },
   "outputs": [
    {
     "data": {
      "text/plain": [
       "сотрудник          10951\n",
       "компаньон           5045\n",
       "пенсионер           3755\n",
       "госслужащий         1453\n",
       "безработный            2\n",
       "предприниматель        2\n",
       "в декрете              1\n",
       "студент                1\n",
       "Name: income_type, dtype: int64"
      ]
     },
     "execution_count": 41,
     "metadata": {},
     "output_type": "execute_result"
    }
   ],
   "source": [
    "clients['income_type'].value_counts()"
   ]
  },
  {
   "cell_type": "markdown",
   "metadata": {
    "id": "BwN7-2QMJtTk"
   },
   "source": [
    "Создадим собственный словарь для типов занятости."
   ]
  },
  {
   "cell_type": "code",
   "execution_count": 42,
   "metadata": {
    "executionInfo": {
     "elapsed": 181,
     "status": "ok",
     "timestamp": 1633114157000,
     "user": {
      "displayName": "Руслан Муштаков",
      "photoUrl": "https://lh3.googleusercontent.com/a/default-user=s64",
      "userId": "06846086149309682337"
     },
     "user_tz": -180
    },
    "id": "hLTUEyV7JtTk"
   },
   "outputs": [],
   "source": [
    "income_type_dict = {\n",
    "    'сотрудник': 0,\n",
    "    'компаньон': 1,\n",
    "    'пенсионер': 2,\n",
    "    'госслужащий': 3,\n",
    "    'предприниматель': 4,\n",
    "    'безработный': 5,\n",
    "    'студент': 6,\n",
    "    'в декрете': 7\n",
    "}"
   ]
  },
  {
   "cell_type": "markdown",
   "metadata": {
    "id": "44fDuF8uJtTl"
   },
   "source": [
    "Добавим в таблицу столбец для идентификаторов типов занятости."
   ]
  },
  {
   "cell_type": "code",
   "execution_count": 43,
   "metadata": {
    "executionInfo": {
     "elapsed": 181,
     "status": "ok",
     "timestamp": 1633114157001,
     "user": {
      "displayName": "Руслан Муштаков",
      "photoUrl": "https://lh3.googleusercontent.com/a/default-user=s64",
      "userId": "06846086149309682337"
     },
     "user_tz": -180
    },
    "id": "v7ogf9b_JtTl"
   },
   "outputs": [],
   "source": [
    "clients['income_type_id'] = 0"
   ]
  },
  {
   "cell_type": "code",
   "execution_count": 44,
   "metadata": {
    "executionInfo": {
     "elapsed": 181,
     "status": "ok",
     "timestamp": 1633114157002,
     "user": {
      "displayName": "Руслан Муштаков",
      "photoUrl": "https://lh3.googleusercontent.com/a/default-user=s64",
      "userId": "06846086149309682337"
     },
     "user_tz": -180
    },
    "id": "uFuHtAEw2iNM"
   },
   "outputs": [],
   "source": [
    "clients['income_type_id'] = clients['income_type'].map(income_type_dict)"
   ]
  },
  {
   "cell_type": "code",
   "execution_count": 45,
   "metadata": {
    "colab": {
     "base_uri": "https://localhost:8080/",
     "height": 0
    },
    "executionInfo": {
     "elapsed": 184,
     "status": "ok",
     "timestamp": 1633114157005,
     "user": {
      "displayName": "Руслан Муштаков",
      "photoUrl": "https://lh3.googleusercontent.com/a/default-user=s64",
      "userId": "06846086149309682337"
     },
     "user_tz": -180
    },
    "id": "uCDDrIgHJtTl",
    "outputId": "75683fec-c8c8-43b7-8cf7-5fe3936de178"
   },
   "outputs": [
    {
     "data": {
      "text/html": [
       "<div>\n",
       "<style scoped>\n",
       "    .dataframe tbody tr th:only-of-type {\n",
       "        vertical-align: middle;\n",
       "    }\n",
       "\n",
       "    .dataframe tbody tr th {\n",
       "        vertical-align: top;\n",
       "    }\n",
       "\n",
       "    .dataframe thead th {\n",
       "        text-align: right;\n",
       "    }\n",
       "</style>\n",
       "<table border=\"1\" class=\"dataframe\">\n",
       "  <thead>\n",
       "    <tr style=\"text-align: right;\">\n",
       "      <th></th>\n",
       "      <th>children</th>\n",
       "      <th>days_employed</th>\n",
       "      <th>dob_years</th>\n",
       "      <th>education</th>\n",
       "      <th>education_id</th>\n",
       "      <th>family_status</th>\n",
       "      <th>family_status_id</th>\n",
       "      <th>gender</th>\n",
       "      <th>income_type</th>\n",
       "      <th>debt</th>\n",
       "      <th>total_income</th>\n",
       "      <th>lemm_purpose</th>\n",
       "      <th>income_type_id</th>\n",
       "    </tr>\n",
       "  </thead>\n",
       "  <tbody>\n",
       "    <tr>\n",
       "      <th>0</th>\n",
       "      <td>1</td>\n",
       "      <td>-8437</td>\n",
       "      <td>42</td>\n",
       "      <td>высшее</td>\n",
       "      <td>0</td>\n",
       "      <td>женат / замужем</td>\n",
       "      <td>0</td>\n",
       "      <td>f</td>\n",
       "      <td>сотрудник</td>\n",
       "      <td>0</td>\n",
       "      <td>253875</td>\n",
       "      <td>жилье</td>\n",
       "      <td>0</td>\n",
       "    </tr>\n",
       "    <tr>\n",
       "      <th>1</th>\n",
       "      <td>1</td>\n",
       "      <td>-4024</td>\n",
       "      <td>36</td>\n",
       "      <td>среднее</td>\n",
       "      <td>1</td>\n",
       "      <td>женат / замужем</td>\n",
       "      <td>0</td>\n",
       "      <td>f</td>\n",
       "      <td>сотрудник</td>\n",
       "      <td>0</td>\n",
       "      <td>112080</td>\n",
       "      <td>автомобиль</td>\n",
       "      <td>0</td>\n",
       "    </tr>\n",
       "    <tr>\n",
       "      <th>2</th>\n",
       "      <td>0</td>\n",
       "      <td>-5623</td>\n",
       "      <td>33</td>\n",
       "      <td>среднее</td>\n",
       "      <td>1</td>\n",
       "      <td>женат / замужем</td>\n",
       "      <td>0</td>\n",
       "      <td>m</td>\n",
       "      <td>сотрудник</td>\n",
       "      <td>0</td>\n",
       "      <td>145885</td>\n",
       "      <td>жилье</td>\n",
       "      <td>0</td>\n",
       "    </tr>\n",
       "    <tr>\n",
       "      <th>3</th>\n",
       "      <td>3</td>\n",
       "      <td>-4124</td>\n",
       "      <td>32</td>\n",
       "      <td>среднее</td>\n",
       "      <td>1</td>\n",
       "      <td>женат / замужем</td>\n",
       "      <td>0</td>\n",
       "      <td>m</td>\n",
       "      <td>сотрудник</td>\n",
       "      <td>0</td>\n",
       "      <td>267628</td>\n",
       "      <td>образование</td>\n",
       "      <td>0</td>\n",
       "    </tr>\n",
       "    <tr>\n",
       "      <th>4</th>\n",
       "      <td>0</td>\n",
       "      <td>340266</td>\n",
       "      <td>53</td>\n",
       "      <td>среднее</td>\n",
       "      <td>1</td>\n",
       "      <td>гражданский брак</td>\n",
       "      <td>1</td>\n",
       "      <td>f</td>\n",
       "      <td>пенсионер</td>\n",
       "      <td>0</td>\n",
       "      <td>158616</td>\n",
       "      <td>свадьба</td>\n",
       "      <td>2</td>\n",
       "    </tr>\n",
       "  </tbody>\n",
       "</table>\n",
       "</div>"
      ],
      "text/plain": [
       "   children  days_employed  ...  lemm_purpose income_type_id\n",
       "0         1          -8437  ...         жилье              0\n",
       "1         1          -4024  ...    автомобиль              0\n",
       "2         0          -5623  ...         жилье              0\n",
       "3         3          -4124  ...   образование              0\n",
       "4         0         340266  ...       свадьба              2\n",
       "\n",
       "[5 rows x 13 columns]"
      ]
     },
     "execution_count": 45,
     "metadata": {},
     "output_type": "execute_result"
    }
   ],
   "source": [
    "clients.head()"
   ]
  },
  {
   "cell_type": "markdown",
   "metadata": {
    "id": "HMX-6TAVJtTl"
   },
   "source": [
    "Выделим типы занятости в отдельную таблицу"
   ]
  },
  {
   "cell_type": "code",
   "execution_count": 46,
   "metadata": {
    "colab": {
     "base_uri": "https://localhost:8080/",
     "height": 0
    },
    "executionInfo": {
     "elapsed": 183,
     "status": "ok",
     "timestamp": 1633114157006,
     "user": {
      "displayName": "Руслан Муштаков",
      "photoUrl": "https://lh3.googleusercontent.com/a/default-user=s64",
      "userId": "06846086149309682337"
     },
     "user_tz": -180
    },
    "id": "1nD9l5W1JtTn",
    "outputId": "a98c213e-ae7d-40b9-c208-8377556048fc"
   },
   "outputs": [
    {
     "data": {
      "text/html": [
       "<div>\n",
       "<style scoped>\n",
       "    .dataframe tbody tr th:only-of-type {\n",
       "        vertical-align: middle;\n",
       "    }\n",
       "\n",
       "    .dataframe tbody tr th {\n",
       "        vertical-align: top;\n",
       "    }\n",
       "\n",
       "    .dataframe thead th {\n",
       "        text-align: right;\n",
       "    }\n",
       "</style>\n",
       "<table border=\"1\" class=\"dataframe\">\n",
       "  <thead>\n",
       "    <tr style=\"text-align: right;\">\n",
       "      <th></th>\n",
       "      <th>income_type_id</th>\n",
       "      <th>income_type</th>\n",
       "    </tr>\n",
       "  </thead>\n",
       "  <tbody>\n",
       "    <tr>\n",
       "      <th>0</th>\n",
       "      <td>0</td>\n",
       "      <td>сотрудник</td>\n",
       "    </tr>\n",
       "    <tr>\n",
       "      <th>1</th>\n",
       "      <td>2</td>\n",
       "      <td>пенсионер</td>\n",
       "    </tr>\n",
       "    <tr>\n",
       "      <th>2</th>\n",
       "      <td>1</td>\n",
       "      <td>компаньон</td>\n",
       "    </tr>\n",
       "    <tr>\n",
       "      <th>3</th>\n",
       "      <td>3</td>\n",
       "      <td>госслужащий</td>\n",
       "    </tr>\n",
       "    <tr>\n",
       "      <th>4</th>\n",
       "      <td>5</td>\n",
       "      <td>безработный</td>\n",
       "    </tr>\n",
       "    <tr>\n",
       "      <th>5</th>\n",
       "      <td>4</td>\n",
       "      <td>предприниматель</td>\n",
       "    </tr>\n",
       "    <tr>\n",
       "      <th>6</th>\n",
       "      <td>6</td>\n",
       "      <td>студент</td>\n",
       "    </tr>\n",
       "    <tr>\n",
       "      <th>7</th>\n",
       "      <td>7</td>\n",
       "      <td>в декрете</td>\n",
       "    </tr>\n",
       "  </tbody>\n",
       "</table>\n",
       "</div>"
      ],
      "text/plain": [
       "   income_type_id      income_type\n",
       "0               0        сотрудник\n",
       "1               2        пенсионер\n",
       "2               1        компаньон\n",
       "3               3      госслужащий\n",
       "4               5      безработный\n",
       "5               4  предприниматель\n",
       "6               6          студент\n",
       "7               7        в декрете"
      ]
     },
     "execution_count": 46,
     "metadata": {},
     "output_type": "execute_result"
    }
   ],
   "source": [
    "income_type_table = clients[['income_type_id', 'income_type']]\n",
    "income_type_table = income_type_table.drop_duplicates().reset_index(drop=True)\n",
    "income_type_table"
   ]
  },
  {
   "cell_type": "markdown",
   "metadata": {
    "id": "o3ajWq3T30Yb"
   },
   "source": [
    "Сделаем то же самое для столбца `lemm_purpose`"
   ]
  },
  {
   "cell_type": "code",
   "execution_count": 47,
   "metadata": {
    "executionInfo": {
     "elapsed": 184,
     "status": "ok",
     "timestamp": 1633114157008,
     "user": {
      "displayName": "Руслан Муштаков",
      "photoUrl": "https://lh3.googleusercontent.com/a/default-user=s64",
      "userId": "06846086149309682337"
     },
     "user_tz": -180
    },
    "id": "f9B7yGio4FQ1"
   },
   "outputs": [],
   "source": [
    "purpose_dict = {\n",
    "    'недвижимость': 0,\n",
    "    'жилье': 1,\n",
    "    'автомобиль': 2,\n",
    "    'образование': 3,\n",
    "    'свадьба': 4\n",
    "}"
   ]
  },
  {
   "cell_type": "code",
   "execution_count": 48,
   "metadata": {
    "executionInfo": {
     "elapsed": 184,
     "status": "ok",
     "timestamp": 1633114157009,
     "user": {
      "displayName": "Руслан Муштаков",
      "photoUrl": "https://lh3.googleusercontent.com/a/default-user=s64",
      "userId": "06846086149309682337"
     },
     "user_tz": -180
    },
    "id": "JMnWIj074Ig7"
   },
   "outputs": [],
   "source": [
    "clients['purpose_id'] = 0"
   ]
  },
  {
   "cell_type": "code",
   "execution_count": 49,
   "metadata": {
    "executionInfo": {
     "elapsed": 184,
     "status": "ok",
     "timestamp": 1633114157010,
     "user": {
      "displayName": "Руслан Муштаков",
      "photoUrl": "https://lh3.googleusercontent.com/a/default-user=s64",
      "userId": "06846086149309682337"
     },
     "user_tz": -180
    },
    "id": "T5ux2q9G4LI9"
   },
   "outputs": [],
   "source": [
    "clients['purpose_id'] = clients['lemm_purpose'].map(purpose_dict)"
   ]
  },
  {
   "cell_type": "code",
   "execution_count": 50,
   "metadata": {
    "colab": {
     "base_uri": "https://localhost:8080/",
     "height": 0
    },
    "executionInfo": {
     "elapsed": 184,
     "status": "ok",
     "timestamp": 1633114157011,
     "user": {
      "displayName": "Руслан Муштаков",
      "photoUrl": "https://lh3.googleusercontent.com/a/default-user=s64",
      "userId": "06846086149309682337"
     },
     "user_tz": -180
    },
    "id": "InR1Lxek4QZx",
    "outputId": "0b2a0dc3-e315-45af-c1a8-65e6889d37ca"
   },
   "outputs": [
    {
     "data": {
      "text/html": [
       "<div>\n",
       "<style scoped>\n",
       "    .dataframe tbody tr th:only-of-type {\n",
       "        vertical-align: middle;\n",
       "    }\n",
       "\n",
       "    .dataframe tbody tr th {\n",
       "        vertical-align: top;\n",
       "    }\n",
       "\n",
       "    .dataframe thead th {\n",
       "        text-align: right;\n",
       "    }\n",
       "</style>\n",
       "<table border=\"1\" class=\"dataframe\">\n",
       "  <thead>\n",
       "    <tr style=\"text-align: right;\">\n",
       "      <th></th>\n",
       "      <th>children</th>\n",
       "      <th>days_employed</th>\n",
       "      <th>dob_years</th>\n",
       "      <th>education</th>\n",
       "      <th>education_id</th>\n",
       "      <th>family_status</th>\n",
       "      <th>family_status_id</th>\n",
       "      <th>gender</th>\n",
       "      <th>income_type</th>\n",
       "      <th>debt</th>\n",
       "      <th>total_income</th>\n",
       "      <th>lemm_purpose</th>\n",
       "      <th>income_type_id</th>\n",
       "      <th>purpose_id</th>\n",
       "    </tr>\n",
       "  </thead>\n",
       "  <tbody>\n",
       "    <tr>\n",
       "      <th>0</th>\n",
       "      <td>1</td>\n",
       "      <td>-8437</td>\n",
       "      <td>42</td>\n",
       "      <td>высшее</td>\n",
       "      <td>0</td>\n",
       "      <td>женат / замужем</td>\n",
       "      <td>0</td>\n",
       "      <td>f</td>\n",
       "      <td>сотрудник</td>\n",
       "      <td>0</td>\n",
       "      <td>253875</td>\n",
       "      <td>жилье</td>\n",
       "      <td>0</td>\n",
       "      <td>1</td>\n",
       "    </tr>\n",
       "    <tr>\n",
       "      <th>1</th>\n",
       "      <td>1</td>\n",
       "      <td>-4024</td>\n",
       "      <td>36</td>\n",
       "      <td>среднее</td>\n",
       "      <td>1</td>\n",
       "      <td>женат / замужем</td>\n",
       "      <td>0</td>\n",
       "      <td>f</td>\n",
       "      <td>сотрудник</td>\n",
       "      <td>0</td>\n",
       "      <td>112080</td>\n",
       "      <td>автомобиль</td>\n",
       "      <td>0</td>\n",
       "      <td>2</td>\n",
       "    </tr>\n",
       "    <tr>\n",
       "      <th>2</th>\n",
       "      <td>0</td>\n",
       "      <td>-5623</td>\n",
       "      <td>33</td>\n",
       "      <td>среднее</td>\n",
       "      <td>1</td>\n",
       "      <td>женат / замужем</td>\n",
       "      <td>0</td>\n",
       "      <td>m</td>\n",
       "      <td>сотрудник</td>\n",
       "      <td>0</td>\n",
       "      <td>145885</td>\n",
       "      <td>жилье</td>\n",
       "      <td>0</td>\n",
       "      <td>1</td>\n",
       "    </tr>\n",
       "    <tr>\n",
       "      <th>3</th>\n",
       "      <td>3</td>\n",
       "      <td>-4124</td>\n",
       "      <td>32</td>\n",
       "      <td>среднее</td>\n",
       "      <td>1</td>\n",
       "      <td>женат / замужем</td>\n",
       "      <td>0</td>\n",
       "      <td>m</td>\n",
       "      <td>сотрудник</td>\n",
       "      <td>0</td>\n",
       "      <td>267628</td>\n",
       "      <td>образование</td>\n",
       "      <td>0</td>\n",
       "      <td>3</td>\n",
       "    </tr>\n",
       "    <tr>\n",
       "      <th>4</th>\n",
       "      <td>0</td>\n",
       "      <td>340266</td>\n",
       "      <td>53</td>\n",
       "      <td>среднее</td>\n",
       "      <td>1</td>\n",
       "      <td>гражданский брак</td>\n",
       "      <td>1</td>\n",
       "      <td>f</td>\n",
       "      <td>пенсионер</td>\n",
       "      <td>0</td>\n",
       "      <td>158616</td>\n",
       "      <td>свадьба</td>\n",
       "      <td>2</td>\n",
       "      <td>4</td>\n",
       "    </tr>\n",
       "  </tbody>\n",
       "</table>\n",
       "</div>"
      ],
      "text/plain": [
       "   children  days_employed  dob_years  ... lemm_purpose  income_type_id purpose_id\n",
       "0         1          -8437         42  ...        жилье               0          1\n",
       "1         1          -4024         36  ...   автомобиль               0          2\n",
       "2         0          -5623         33  ...        жилье               0          1\n",
       "3         3          -4124         32  ...  образование               0          3\n",
       "4         0         340266         53  ...      свадьба               2          4\n",
       "\n",
       "[5 rows x 14 columns]"
      ]
     },
     "execution_count": 50,
     "metadata": {},
     "output_type": "execute_result"
    }
   ],
   "source": [
    "clients.head()"
   ]
  },
  {
   "cell_type": "code",
   "execution_count": 51,
   "metadata": {
    "colab": {
     "base_uri": "https://localhost:8080/",
     "height": 0
    },
    "executionInfo": {
     "elapsed": 182,
     "status": "ok",
     "timestamp": 1633114157012,
     "user": {
      "displayName": "Руслан Муштаков",
      "photoUrl": "https://lh3.googleusercontent.com/a/default-user=s64",
      "userId": "06846086149309682337"
     },
     "user_tz": -180
    },
    "id": "LRcITlVcJtTn",
    "outputId": "468019f1-dbc8-44b6-c42e-32ff7bcc6a59"
   },
   "outputs": [
    {
     "data": {
      "text/html": [
       "<div>\n",
       "<style scoped>\n",
       "    .dataframe tbody tr th:only-of-type {\n",
       "        vertical-align: middle;\n",
       "    }\n",
       "\n",
       "    .dataframe tbody tr th {\n",
       "        vertical-align: top;\n",
       "    }\n",
       "\n",
       "    .dataframe thead th {\n",
       "        text-align: right;\n",
       "    }\n",
       "</style>\n",
       "<table border=\"1\" class=\"dataframe\">\n",
       "  <thead>\n",
       "    <tr style=\"text-align: right;\">\n",
       "      <th></th>\n",
       "      <th>purpose_id</th>\n",
       "      <th>lemm_purpose</th>\n",
       "    </tr>\n",
       "  </thead>\n",
       "  <tbody>\n",
       "    <tr>\n",
       "      <th>0</th>\n",
       "      <td>1</td>\n",
       "      <td>жилье</td>\n",
       "    </tr>\n",
       "    <tr>\n",
       "      <th>1</th>\n",
       "      <td>2</td>\n",
       "      <td>автомобиль</td>\n",
       "    </tr>\n",
       "    <tr>\n",
       "      <th>2</th>\n",
       "      <td>3</td>\n",
       "      <td>образование</td>\n",
       "    </tr>\n",
       "    <tr>\n",
       "      <th>3</th>\n",
       "      <td>4</td>\n",
       "      <td>свадьба</td>\n",
       "    </tr>\n",
       "    <tr>\n",
       "      <th>4</th>\n",
       "      <td>0</td>\n",
       "      <td>недвижимость</td>\n",
       "    </tr>\n",
       "  </tbody>\n",
       "</table>\n",
       "</div>"
      ],
      "text/plain": [
       "   purpose_id  lemm_purpose\n",
       "0           1         жилье\n",
       "1           2    автомобиль\n",
       "2           3   образование\n",
       "3           4       свадьба\n",
       "4           0  недвижимость"
      ]
     },
     "execution_count": 51,
     "metadata": {},
     "output_type": "execute_result"
    }
   ],
   "source": [
    "purpose_table = clients[['purpose_id', 'lemm_purpose']]\n",
    "purpose_table = purpose_table.drop_duplicates().reset_index(drop=True)\n",
    "purpose_table"
   ]
  },
  {
   "cell_type": "markdown",
   "metadata": {
    "id": "4c7DYcCW4o5V"
   },
   "source": [
    "Удалим лишние столбцы в первоначальной таблице: `education`, `family_status`, `income_type`, `lemm_purpose`"
   ]
  },
  {
   "cell_type": "code",
   "execution_count": 52,
   "metadata": {
    "executionInfo": {
     "elapsed": 183,
     "status": "ok",
     "timestamp": 1633114157015,
     "user": {
      "displayName": "Руслан Муштаков",
      "photoUrl": "https://lh3.googleusercontent.com/a/default-user=s64",
      "userId": "06846086149309682337"
     },
     "user_tz": -180
    },
    "id": "tIEDuwUV5H4u"
   },
   "outputs": [],
   "source": [
    "clients = clients.drop(['education', 'family_status', 'income_type', 'lemm_purpose'], axis=1)"
   ]
  },
  {
   "cell_type": "code",
   "execution_count": 53,
   "metadata": {
    "colab": {
     "base_uri": "https://localhost:8080/",
     "height": 0
    },
    "executionInfo": {
     "elapsed": 184,
     "status": "ok",
     "timestamp": 1633114157016,
     "user": {
      "displayName": "Руслан Муштаков",
      "photoUrl": "https://lh3.googleusercontent.com/a/default-user=s64",
      "userId": "06846086149309682337"
     },
     "user_tz": -180
    },
    "id": "ncb5RJsE5Jgs",
    "outputId": "02393456-45b2-425d-d7bb-9b2ca135f8b7"
   },
   "outputs": [
    {
     "data": {
      "text/html": [
       "<div>\n",
       "<style scoped>\n",
       "    .dataframe tbody tr th:only-of-type {\n",
       "        vertical-align: middle;\n",
       "    }\n",
       "\n",
       "    .dataframe tbody tr th {\n",
       "        vertical-align: top;\n",
       "    }\n",
       "\n",
       "    .dataframe thead th {\n",
       "        text-align: right;\n",
       "    }\n",
       "</style>\n",
       "<table border=\"1\" class=\"dataframe\">\n",
       "  <thead>\n",
       "    <tr style=\"text-align: right;\">\n",
       "      <th></th>\n",
       "      <th>children</th>\n",
       "      <th>days_employed</th>\n",
       "      <th>dob_years</th>\n",
       "      <th>education_id</th>\n",
       "      <th>family_status_id</th>\n",
       "      <th>gender</th>\n",
       "      <th>debt</th>\n",
       "      <th>total_income</th>\n",
       "      <th>income_type_id</th>\n",
       "      <th>purpose_id</th>\n",
       "    </tr>\n",
       "  </thead>\n",
       "  <tbody>\n",
       "    <tr>\n",
       "      <th>0</th>\n",
       "      <td>1</td>\n",
       "      <td>-8437</td>\n",
       "      <td>42</td>\n",
       "      <td>0</td>\n",
       "      <td>0</td>\n",
       "      <td>f</td>\n",
       "      <td>0</td>\n",
       "      <td>253875</td>\n",
       "      <td>0</td>\n",
       "      <td>1</td>\n",
       "    </tr>\n",
       "    <tr>\n",
       "      <th>1</th>\n",
       "      <td>1</td>\n",
       "      <td>-4024</td>\n",
       "      <td>36</td>\n",
       "      <td>1</td>\n",
       "      <td>0</td>\n",
       "      <td>f</td>\n",
       "      <td>0</td>\n",
       "      <td>112080</td>\n",
       "      <td>0</td>\n",
       "      <td>2</td>\n",
       "    </tr>\n",
       "    <tr>\n",
       "      <th>2</th>\n",
       "      <td>0</td>\n",
       "      <td>-5623</td>\n",
       "      <td>33</td>\n",
       "      <td>1</td>\n",
       "      <td>0</td>\n",
       "      <td>m</td>\n",
       "      <td>0</td>\n",
       "      <td>145885</td>\n",
       "      <td>0</td>\n",
       "      <td>1</td>\n",
       "    </tr>\n",
       "    <tr>\n",
       "      <th>3</th>\n",
       "      <td>3</td>\n",
       "      <td>-4124</td>\n",
       "      <td>32</td>\n",
       "      <td>1</td>\n",
       "      <td>0</td>\n",
       "      <td>m</td>\n",
       "      <td>0</td>\n",
       "      <td>267628</td>\n",
       "      <td>0</td>\n",
       "      <td>3</td>\n",
       "    </tr>\n",
       "    <tr>\n",
       "      <th>4</th>\n",
       "      <td>0</td>\n",
       "      <td>340266</td>\n",
       "      <td>53</td>\n",
       "      <td>1</td>\n",
       "      <td>1</td>\n",
       "      <td>f</td>\n",
       "      <td>0</td>\n",
       "      <td>158616</td>\n",
       "      <td>2</td>\n",
       "      <td>4</td>\n",
       "    </tr>\n",
       "  </tbody>\n",
       "</table>\n",
       "</div>"
      ],
      "text/plain": [
       "   children  days_employed  dob_years  ...  total_income  income_type_id purpose_id\n",
       "0         1          -8437         42  ...        253875               0          1\n",
       "1         1          -4024         36  ...        112080               0          2\n",
       "2         0          -5623         33  ...        145885               0          1\n",
       "3         3          -4124         32  ...        267628               0          3\n",
       "4         0         340266         53  ...        158616               2          4\n",
       "\n",
       "[5 rows x 10 columns]"
      ]
     },
     "execution_count": 53,
     "metadata": {},
     "output_type": "execute_result"
    }
   ],
   "source": [
    "clients.head()"
   ]
  },
  {
   "cell_type": "markdown",
   "metadata": {
    "id": "mEr-RKtz5WUa"
   },
   "source": [
    "#### Вывод"
   ]
  },
  {
   "cell_type": "markdown",
   "metadata": {
    "id": "xutP_rhY5ZNa"
   },
   "source": [
    "При категоризации данных необходимо учитывать, что длинные и сложные значения в столбцах могут привести к ошибкам при запросах к таблице или непосредственно работы с ней. Нет необходимости дублировать информацию в одной и той же таблице. Если можно поставить идентификатор к категории, то в основной таблице можно оставить только его, а соотношение идентификатора к категории вынести в отдельную таблицу."
   ]
  },
  {
   "cell_type": "markdown",
   "metadata": {
    "id": "2L8xEfg-JtTo"
   },
   "source": [
    "<a id=\"step2_6\"></a>\n",
    "### 2.6. Обработка артефактов"
   ]
  },
  {
   "cell_type": "markdown",
   "metadata": {
    "id": "G-k2NKucJtTo"
   },
   "source": [
    "После обработки таблицы, необходимо также обработать артефакты в данных. Найти значения, которые не отражают действительность, проанализировать их и устранить. Посмотрим внимательнее на столбцы `children`, `days_employed`, `dob_years`, `gender`, `debt`, `total_income`. Остальные параметры уже проверены."
   ]
  },
  {
   "cell_type": "code",
   "execution_count": 54,
   "metadata": {
    "colab": {
     "base_uri": "https://localhost:8080/"
    },
    "executionInfo": {
     "elapsed": 183,
     "status": "ok",
     "timestamp": 1633114157017,
     "user": {
      "displayName": "Руслан Муштаков",
      "photoUrl": "https://lh3.googleusercontent.com/a/default-user=s64",
      "userId": "06846086149309682337"
     },
     "user_tz": -180
    },
    "id": "fCI6kd0sJtTo",
    "outputId": "93604fd6-0c31-4a3b-9713-87f905925e16"
   },
   "outputs": [
    {
     "data": {
      "text/plain": [
       " 0     13892\n",
       " 1      4773\n",
       " 2      2043\n",
       " 3       329\n",
       " 20       76\n",
       "-1        47\n",
       " 4        41\n",
       " 5         9\n",
       "Name: children, dtype: int64"
      ]
     },
     "execution_count": 54,
     "metadata": {},
     "output_type": "execute_result"
    }
   ],
   "source": [
    "clients['children'].value_counts()"
   ]
  },
  {
   "cell_type": "markdown",
   "metadata": {
    "id": "ZgqP61HVJtTp"
   },
   "source": [
    "Здесь есть несколько неправдоподобных значений: 20 и -1. Скорее всего это опечатки пользователей при вводе данных. Заменим эти значения на на более вероятные 2 и 1."
   ]
  },
  {
   "cell_type": "code",
   "execution_count": 55,
   "metadata": {
    "colab": {
     "base_uri": "https://localhost:8080/"
    },
    "executionInfo": {
     "elapsed": 181,
     "status": "ok",
     "timestamp": 1633114157018,
     "user": {
      "displayName": "Руслан Муштаков",
      "photoUrl": "https://lh3.googleusercontent.com/a/default-user=s64",
      "userId": "06846086149309682337"
     },
     "user_tz": -180
    },
    "id": "jbc9ovxKJtTp",
    "outputId": "b8ae8b86-8d37-45bf-e26c-52cf22231569"
   },
   "outputs": [
    {
     "data": {
      "text/plain": [
       "0    13892\n",
       "1     4820\n",
       "2     2119\n",
       "3      329\n",
       "4       41\n",
       "5        9\n",
       "Name: children, dtype: int64"
      ]
     },
     "execution_count": 55,
     "metadata": {},
     "output_type": "execute_result"
    }
   ],
   "source": [
    "clients['children'] = clients['children'].replace(-1, 1)\n",
    "clients['children'] = clients['children'].replace(20, 2)\n",
    "clients['children'].value_counts()"
   ]
  },
  {
   "cell_type": "markdown",
   "metadata": {
    "id": "sfrT6JSEJtTp"
   },
   "source": [
    "Ранее было замечено, что много значений в столбце с общим трудовым стажем в днях - отрицательные. Если посмотреть на диапазон этих значений и проверить адекватность (выразив эти числа в годах), то можно увидеть, что эти значения вполне могут описывать реальность. Возможно, пользователи по ошибке ввели такое значения в ячейку. Можно предположить, что в ячейке уже стояло значение '-' по умолчанию."
   ]
  },
  {
   "cell_type": "code",
   "execution_count": 56,
   "metadata": {
    "colab": {
     "base_uri": "https://localhost:8080/"
    },
    "executionInfo": {
     "elapsed": 179,
     "status": "ok",
     "timestamp": 1633114157019,
     "user": {
      "displayName": "Руслан Муштаков",
      "photoUrl": "https://lh3.googleusercontent.com/a/default-user=s64",
      "userId": "06846086149309682337"
     },
     "user_tz": -180
    },
    "id": "1gYVL70BJtTp",
    "outputId": "7b1a1885-5f5c-4e09-a888-5955d4a035df"
   },
   "outputs": [
    {
     "name": "stdout",
     "output_type": "stream",
     "text": [
      "Count days employed with values below zero: 17755\n",
      "Negative minimum of days employed: 20075\n",
      "Negative minimum of years employed: 55\n",
      "Negative maximum of days employed: 24\n",
      "Negative maximum of years employed: 0\n"
     ]
    }
   ],
   "source": [
    "print('Count days employed with values below zero:', clients.loc[clients['days_employed'] < 0]['days_employed'].count())\n",
    "\n",
    "negative_min_days = clients.loc[clients['days_employed'] < 0]['days_employed'].min()\n",
    "print('Negative minimum of days employed:', -negative_min_days)\n",
    "print('Negative minimum of years employed:', -negative_min_days // 365)\n",
    "\n",
    "negative_max_days = clients.loc[clients['days_employed'] < 0]['days_employed'].max()\n",
    "print('Negative maximum of days employed:', -negative_max_days)\n",
    "print('Negative maximum of years employed:', -negative_max_days // 365)"
   ]
  },
  {
   "cell_type": "markdown",
   "metadata": {
    "id": "o0pCADSRJtTq"
   },
   "source": [
    "Рассмотрим положительные значения этого столбца. Некоторые значения превышают адекватную оценку дней работы."
   ]
  },
  {
   "cell_type": "code",
   "execution_count": 57,
   "metadata": {
    "colab": {
     "base_uri": "https://localhost:8080/"
    },
    "executionInfo": {
     "elapsed": 177,
     "status": "ok",
     "timestamp": 1633114157020,
     "user": {
      "displayName": "Руслан Муштаков",
      "photoUrl": "https://lh3.googleusercontent.com/a/default-user=s64",
      "userId": "06846086149309682337"
     },
     "user_tz": -180
    },
    "id": "RxrD68ckJtTq",
    "outputId": "dee173e1-1518-4325-8411-d00bf5a05f14"
   },
   "outputs": [
    {
     "name": "stdout",
     "output_type": "stream",
     "text": [
      "Count days employed with values above zero: 3455\n",
      "Positive minimum of days employed: 6570\n",
      "Positive minimum of years employed: 18\n",
      "Positive maximum of days employed: 401755\n",
      "Positive maximum of years employed: 1100\n"
     ]
    }
   ],
   "source": [
    "print('Count days employed with values above zero:', clients.loc[clients['days_employed'] > 0]['days_employed'].count())\n",
    "\n",
    "positive_min_days = clients.loc[clients['days_employed'] > 0]['days_employed'].min()\n",
    "print('Positive minimum of days employed:', positive_min_days)\n",
    "print('Positive minimum of years employed:', positive_min_days // 365)\n",
    "\n",
    "positive_max_days = clients.loc[clients['days_employed'] > 0]['days_employed'].max()\n",
    "print('Positive maximum of days employed:', positive_max_days)\n",
    "print('Positive maximum of years employed:', positive_max_days // 365)"
   ]
  },
  {
   "cell_type": "markdown",
   "metadata": {
    "id": "gmaPIJEy8_QE"
   },
   "source": [
    "Если посмотреть внимательнее, то можно заметить, что большинство таких строк, это те, у кого тип занятости пенсионеры."
   ]
  },
  {
   "cell_type": "code",
   "execution_count": 58,
   "metadata": {
    "colab": {
     "base_uri": "https://localhost:8080/"
    },
    "executionInfo": {
     "elapsed": 174,
     "status": "ok",
     "timestamp": 1633114157020,
     "user": {
      "displayName": "Руслан Муштаков",
      "photoUrl": "https://lh3.googleusercontent.com/a/default-user=s64",
      "userId": "06846086149309682337"
     },
     "user_tz": -180
    },
    "id": "vazoVHeB9NRR",
    "outputId": "c94ef54f-d530-4f2f-a4b5-e60d795c4482"
   },
   "outputs": [
    {
     "data": {
      "text/plain": [
       "2    3446\n",
       "0       5\n",
       "5       2\n",
       "1       2\n",
       "Name: income_type_id, dtype: int64"
      ]
     },
     "execution_count": 58,
     "metadata": {},
     "output_type": "execute_result"
    }
   ],
   "source": [
    "clients.loc[clients['days_employed'] > 0]['income_type_id'].value_counts()"
   ]
  },
  {
   "cell_type": "code",
   "execution_count": 59,
   "metadata": {
    "colab": {
     "base_uri": "https://localhost:8080/",
     "height": 297
    },
    "executionInfo": {
     "elapsed": 171,
     "status": "ok",
     "timestamp": 1633114157021,
     "user": {
      "displayName": "Руслан Муштаков",
      "photoUrl": "https://lh3.googleusercontent.com/a/default-user=s64",
      "userId": "06846086149309682337"
     },
     "user_tz": -180
    },
    "id": "2Gx60VbB9jqZ",
    "outputId": "19de64cb-2558-4f7b-cecb-2013cdf9eec2"
   },
   "outputs": [
    {
     "data": {
      "text/html": [
       "<div>\n",
       "<style scoped>\n",
       "    .dataframe tbody tr th:only-of-type {\n",
       "        vertical-align: middle;\n",
       "    }\n",
       "\n",
       "    .dataframe tbody tr th {\n",
       "        vertical-align: top;\n",
       "    }\n",
       "\n",
       "    .dataframe thead th {\n",
       "        text-align: right;\n",
       "    }\n",
       "</style>\n",
       "<table border=\"1\" class=\"dataframe\">\n",
       "  <thead>\n",
       "    <tr style=\"text-align: right;\">\n",
       "      <th></th>\n",
       "      <th>income_type_id</th>\n",
       "      <th>income_type</th>\n",
       "    </tr>\n",
       "  </thead>\n",
       "  <tbody>\n",
       "    <tr>\n",
       "      <th>0</th>\n",
       "      <td>0</td>\n",
       "      <td>сотрудник</td>\n",
       "    </tr>\n",
       "    <tr>\n",
       "      <th>1</th>\n",
       "      <td>2</td>\n",
       "      <td>пенсионер</td>\n",
       "    </tr>\n",
       "    <tr>\n",
       "      <th>2</th>\n",
       "      <td>1</td>\n",
       "      <td>компаньон</td>\n",
       "    </tr>\n",
       "    <tr>\n",
       "      <th>3</th>\n",
       "      <td>3</td>\n",
       "      <td>госслужащий</td>\n",
       "    </tr>\n",
       "    <tr>\n",
       "      <th>4</th>\n",
       "      <td>5</td>\n",
       "      <td>безработный</td>\n",
       "    </tr>\n",
       "    <tr>\n",
       "      <th>5</th>\n",
       "      <td>4</td>\n",
       "      <td>предприниматель</td>\n",
       "    </tr>\n",
       "    <tr>\n",
       "      <th>6</th>\n",
       "      <td>6</td>\n",
       "      <td>студент</td>\n",
       "    </tr>\n",
       "    <tr>\n",
       "      <th>7</th>\n",
       "      <td>7</td>\n",
       "      <td>в декрете</td>\n",
       "    </tr>\n",
       "  </tbody>\n",
       "</table>\n",
       "</div>"
      ],
      "text/plain": [
       "   income_type_id      income_type\n",
       "0               0        сотрудник\n",
       "1               2        пенсионер\n",
       "2               1        компаньон\n",
       "3               3      госслужащий\n",
       "4               5      безработный\n",
       "5               4  предприниматель\n",
       "6               6          студент\n",
       "7               7        в декрете"
      ]
     },
     "execution_count": 59,
     "metadata": {},
     "output_type": "execute_result"
    }
   ],
   "source": [
    "income_type_table"
   ]
  },
  {
   "cell_type": "code",
   "execution_count": 60,
   "metadata": {
    "colab": {
     "base_uri": "https://localhost:8080/"
    },
    "executionInfo": {
     "elapsed": 171,
     "status": "ok",
     "timestamp": 1633114157022,
     "user": {
      "displayName": "Руслан Муштаков",
      "photoUrl": "https://lh3.googleusercontent.com/a/default-user=s64",
      "userId": "06846086149309682337"
     },
     "user_tz": -180
    },
    "id": "7-PO7CFP9vdI",
    "outputId": "9a7ad4f5-f26e-4a46-ec60-eac367aec386"
   },
   "outputs": [
    {
     "data": {
      "text/plain": [
       "4     340266\n",
       "18    400281\n",
       "24    338551\n",
       "25    363548\n",
       "30    335581\n",
       "Name: days_employed, dtype: int64"
      ]
     },
     "execution_count": 60,
     "metadata": {},
     "output_type": "execute_result"
    }
   ],
   "source": [
    "clients.loc[(clients['days_employed'] > 0) & (clients['income_type_id'] == 2)]['days_employed'].head()"
   ]
  },
  {
   "cell_type": "markdown",
   "metadata": {
    "id": "qtLJ4c9G-Ieo"
   },
   "source": [
    "Также посмотрим на оставшиеся строки, с положительным значением трудового стажа."
   ]
  },
  {
   "cell_type": "code",
   "execution_count": 61,
   "metadata": {
    "colab": {
     "base_uri": "https://localhost:8080/",
     "height": 328
    },
    "executionInfo": {
     "elapsed": 169,
     "status": "ok",
     "timestamp": 1633114157023,
     "user": {
      "displayName": "Руслан Муштаков",
      "photoUrl": "https://lh3.googleusercontent.com/a/default-user=s64",
      "userId": "06846086149309682337"
     },
     "user_tz": -180
    },
    "id": "3HYZ-YjXJtTr",
    "outputId": "852b8339-35e5-4cf4-b28f-f8ab328b794f"
   },
   "outputs": [
    {
     "data": {
      "text/html": [
       "<div>\n",
       "<style scoped>\n",
       "    .dataframe tbody tr th:only-of-type {\n",
       "        vertical-align: middle;\n",
       "    }\n",
       "\n",
       "    .dataframe tbody tr th {\n",
       "        vertical-align: top;\n",
       "    }\n",
       "\n",
       "    .dataframe thead th {\n",
       "        text-align: right;\n",
       "    }\n",
       "</style>\n",
       "<table border=\"1\" class=\"dataframe\">\n",
       "  <thead>\n",
       "    <tr style=\"text-align: right;\">\n",
       "      <th></th>\n",
       "      <th>children</th>\n",
       "      <th>days_employed</th>\n",
       "      <th>dob_years</th>\n",
       "      <th>education_id</th>\n",
       "      <th>family_status_id</th>\n",
       "      <th>gender</th>\n",
       "      <th>debt</th>\n",
       "      <th>total_income</th>\n",
       "      <th>income_type_id</th>\n",
       "      <th>purpose_id</th>\n",
       "    </tr>\n",
       "  </thead>\n",
       "  <tbody>\n",
       "    <tr>\n",
       "      <th>1886</th>\n",
       "      <td>0</td>\n",
       "      <td>6570</td>\n",
       "      <td>0</td>\n",
       "      <td>0</td>\n",
       "      <td>4</td>\n",
       "      <td>f</td>\n",
       "      <td>0</td>\n",
       "      <td>207142</td>\n",
       "      <td>0</td>\n",
       "      <td>1</td>\n",
       "    </tr>\n",
       "    <tr>\n",
       "      <th>3125</th>\n",
       "      <td>1</td>\n",
       "      <td>337524</td>\n",
       "      <td>31</td>\n",
       "      <td>1</td>\n",
       "      <td>0</td>\n",
       "      <td>m</td>\n",
       "      <td>1</td>\n",
       "      <td>59956</td>\n",
       "      <td>5</td>\n",
       "      <td>1</td>\n",
       "    </tr>\n",
       "    <tr>\n",
       "      <th>4051</th>\n",
       "      <td>1</td>\n",
       "      <td>6570</td>\n",
       "      <td>0</td>\n",
       "      <td>1</td>\n",
       "      <td>1</td>\n",
       "      <td>m</td>\n",
       "      <td>0</td>\n",
       "      <td>153715</td>\n",
       "      <td>1</td>\n",
       "      <td>1</td>\n",
       "    </tr>\n",
       "    <tr>\n",
       "      <th>4994</th>\n",
       "      <td>0</td>\n",
       "      <td>6570</td>\n",
       "      <td>0</td>\n",
       "      <td>1</td>\n",
       "      <td>0</td>\n",
       "      <td>f</td>\n",
       "      <td>0</td>\n",
       "      <td>153715</td>\n",
       "      <td>1</td>\n",
       "      <td>0</td>\n",
       "    </tr>\n",
       "    <tr>\n",
       "      <th>8523</th>\n",
       "      <td>0</td>\n",
       "      <td>6570</td>\n",
       "      <td>0</td>\n",
       "      <td>1</td>\n",
       "      <td>0</td>\n",
       "      <td>f</td>\n",
       "      <td>0</td>\n",
       "      <td>153715</td>\n",
       "      <td>0</td>\n",
       "      <td>0</td>\n",
       "    </tr>\n",
       "    <tr>\n",
       "      <th>12296</th>\n",
       "      <td>3</td>\n",
       "      <td>6570</td>\n",
       "      <td>0</td>\n",
       "      <td>1</td>\n",
       "      <td>0</td>\n",
       "      <td>m</td>\n",
       "      <td>0</td>\n",
       "      <td>153715</td>\n",
       "      <td>0</td>\n",
       "      <td>0</td>\n",
       "    </tr>\n",
       "    <tr>\n",
       "      <th>13615</th>\n",
       "      <td>0</td>\n",
       "      <td>6570</td>\n",
       "      <td>0</td>\n",
       "      <td>1</td>\n",
       "      <td>1</td>\n",
       "      <td>f</td>\n",
       "      <td>0</td>\n",
       "      <td>153715</td>\n",
       "      <td>0</td>\n",
       "      <td>4</td>\n",
       "    </tr>\n",
       "    <tr>\n",
       "      <th>14651</th>\n",
       "      <td>0</td>\n",
       "      <td>395302</td>\n",
       "      <td>45</td>\n",
       "      <td>0</td>\n",
       "      <td>1</td>\n",
       "      <td>f</td>\n",
       "      <td>0</td>\n",
       "      <td>202722</td>\n",
       "      <td>5</td>\n",
       "      <td>1</td>\n",
       "    </tr>\n",
       "    <tr>\n",
       "      <th>19557</th>\n",
       "      <td>0</td>\n",
       "      <td>6570</td>\n",
       "      <td>0</td>\n",
       "      <td>1</td>\n",
       "      <td>0</td>\n",
       "      <td>f</td>\n",
       "      <td>0</td>\n",
       "      <td>153715</td>\n",
       "      <td>0</td>\n",
       "      <td>1</td>\n",
       "    </tr>\n",
       "  </tbody>\n",
       "</table>\n",
       "</div>"
      ],
      "text/plain": [
       "       children  days_employed  ...  income_type_id  purpose_id\n",
       "1886          0           6570  ...               0           1\n",
       "3125          1         337524  ...               5           1\n",
       "4051          1           6570  ...               1           1\n",
       "4994          0           6570  ...               1           0\n",
       "8523          0           6570  ...               0           0\n",
       "12296         3           6570  ...               0           0\n",
       "13615         0           6570  ...               0           4\n",
       "14651         0         395302  ...               5           1\n",
       "19557         0           6570  ...               0           1\n",
       "\n",
       "[9 rows x 10 columns]"
      ]
     },
     "execution_count": 61,
     "metadata": {},
     "output_type": "execute_result"
    }
   ],
   "source": [
    "clients.loc[(clients['days_employed'] > 0) & (clients['income_type_id'] != 2)]"
   ]
  },
  {
   "cell_type": "markdown",
   "metadata": {
    "id": "ymCz2wEE_MM4"
   },
   "source": [
    "Можно заметить, что неадекватное значение дней трудового стажа (очень большое значение) у категории безработных."
   ]
  },
  {
   "cell_type": "markdown",
   "metadata": {
    "id": "XHPW3K9b_gYx"
   },
   "source": [
    "Касаемо текущих положительных значений (пенсионеры и пара безработных), значения в столбце со стажем имеют 6 разрядов. Скорее всего старшие два разряда - это указатель на какую-то дополнительную информацию. Они могли появиться из-за неправильной обработки таблицы (к примеру, значение этого показателся склеилось со стажем). Для этих случаев - отбросим старшие разряды, для случаев с отрицательным значением - сделаем их положительными."
   ]
  },
  {
   "cell_type": "code",
   "execution_count": 62,
   "metadata": {
    "executionInfo": {
     "elapsed": 168,
     "status": "ok",
     "timestamp": 1633114157024,
     "user": {
      "displayName": "Руслан Муштаков",
      "photoUrl": "https://lh3.googleusercontent.com/a/default-user=s64",
      "userId": "06846086149309682337"
     },
     "user_tz": -180
    },
    "id": "4T6VtOBZACNq"
   },
   "outputs": [],
   "source": [
    "def modify_days_employed(row):\n",
    "    if row['days_employed'] < 0:\n",
    "        return row['days_employed'] * (-1)\n",
    "    elif row['days_employed'] > 0 and row['income_type_id'] in [2, 5]:\n",
    "        return row['days_employed'] % 10000\n",
    "    else:\n",
    "        return row['days_employed']"
   ]
  },
  {
   "cell_type": "code",
   "execution_count": 63,
   "metadata": {
    "executionInfo": {
     "elapsed": 1399,
     "status": "ok",
     "timestamp": 1633114158255,
     "user": {
      "displayName": "Руслан Муштаков",
      "photoUrl": "https://lh3.googleusercontent.com/a/default-user=s64",
      "userId": "06846086149309682337"
     },
     "user_tz": -180
    },
    "id": "qjWzyMo6JtTr"
   },
   "outputs": [],
   "source": [
    "clients['days_employed'] = clients.apply(modify_days_employed, axis=1)"
   ]
  },
  {
   "cell_type": "code",
   "execution_count": 64,
   "metadata": {
    "colab": {
     "base_uri": "https://localhost:8080/",
     "height": 204
    },
    "executionInfo": {
     "elapsed": 156,
     "status": "ok",
     "timestamp": 1633114158257,
     "user": {
      "displayName": "Руслан Муштаков",
      "photoUrl": "https://lh3.googleusercontent.com/a/default-user=s64",
      "userId": "06846086149309682337"
     },
     "user_tz": -180
    },
    "id": "hTHfVMAzBQxz",
    "outputId": "8975726d-349b-4660-fd71-47a38c7ae748"
   },
   "outputs": [
    {
     "data": {
      "text/html": [
       "<div>\n",
       "<style scoped>\n",
       "    .dataframe tbody tr th:only-of-type {\n",
       "        vertical-align: middle;\n",
       "    }\n",
       "\n",
       "    .dataframe tbody tr th {\n",
       "        vertical-align: top;\n",
       "    }\n",
       "\n",
       "    .dataframe thead th {\n",
       "        text-align: right;\n",
       "    }\n",
       "</style>\n",
       "<table border=\"1\" class=\"dataframe\">\n",
       "  <thead>\n",
       "    <tr style=\"text-align: right;\">\n",
       "      <th></th>\n",
       "      <th>children</th>\n",
       "      <th>days_employed</th>\n",
       "      <th>dob_years</th>\n",
       "      <th>education_id</th>\n",
       "      <th>family_status_id</th>\n",
       "      <th>gender</th>\n",
       "      <th>debt</th>\n",
       "      <th>total_income</th>\n",
       "      <th>income_type_id</th>\n",
       "      <th>purpose_id</th>\n",
       "    </tr>\n",
       "  </thead>\n",
       "  <tbody>\n",
       "    <tr>\n",
       "      <th>0</th>\n",
       "      <td>1</td>\n",
       "      <td>8437</td>\n",
       "      <td>42</td>\n",
       "      <td>0</td>\n",
       "      <td>0</td>\n",
       "      <td>f</td>\n",
       "      <td>0</td>\n",
       "      <td>253875</td>\n",
       "      <td>0</td>\n",
       "      <td>1</td>\n",
       "    </tr>\n",
       "    <tr>\n",
       "      <th>1</th>\n",
       "      <td>1</td>\n",
       "      <td>4024</td>\n",
       "      <td>36</td>\n",
       "      <td>1</td>\n",
       "      <td>0</td>\n",
       "      <td>f</td>\n",
       "      <td>0</td>\n",
       "      <td>112080</td>\n",
       "      <td>0</td>\n",
       "      <td>2</td>\n",
       "    </tr>\n",
       "    <tr>\n",
       "      <th>2</th>\n",
       "      <td>0</td>\n",
       "      <td>5623</td>\n",
       "      <td>33</td>\n",
       "      <td>1</td>\n",
       "      <td>0</td>\n",
       "      <td>m</td>\n",
       "      <td>0</td>\n",
       "      <td>145885</td>\n",
       "      <td>0</td>\n",
       "      <td>1</td>\n",
       "    </tr>\n",
       "    <tr>\n",
       "      <th>3</th>\n",
       "      <td>3</td>\n",
       "      <td>4124</td>\n",
       "      <td>32</td>\n",
       "      <td>1</td>\n",
       "      <td>0</td>\n",
       "      <td>m</td>\n",
       "      <td>0</td>\n",
       "      <td>267628</td>\n",
       "      <td>0</td>\n",
       "      <td>3</td>\n",
       "    </tr>\n",
       "    <tr>\n",
       "      <th>4</th>\n",
       "      <td>0</td>\n",
       "      <td>266</td>\n",
       "      <td>53</td>\n",
       "      <td>1</td>\n",
       "      <td>1</td>\n",
       "      <td>f</td>\n",
       "      <td>0</td>\n",
       "      <td>158616</td>\n",
       "      <td>2</td>\n",
       "      <td>4</td>\n",
       "    </tr>\n",
       "  </tbody>\n",
       "</table>\n",
       "</div>"
      ],
      "text/plain": [
       "   children  days_employed  dob_years  ...  total_income  income_type_id purpose_id\n",
       "0         1           8437         42  ...        253875               0          1\n",
       "1         1           4024         36  ...        112080               0          2\n",
       "2         0           5623         33  ...        145885               0          1\n",
       "3         3           4124         32  ...        267628               0          3\n",
       "4         0            266         53  ...        158616               2          4\n",
       "\n",
       "[5 rows x 10 columns]"
      ]
     },
     "execution_count": 64,
     "metadata": {},
     "output_type": "execute_result"
    }
   ],
   "source": [
    "clients.head()"
   ]
  },
  {
   "cell_type": "code",
   "execution_count": 65,
   "metadata": {
    "colab": {
     "base_uri": "https://localhost:8080/"
    },
    "executionInfo": {
     "elapsed": 155,
     "status": "ok",
     "timestamp": 1633114158258,
     "user": {
      "displayName": "Руслан Муштаков",
      "photoUrl": "https://lh3.googleusercontent.com/a/default-user=s64",
      "userId": "06846086149309682337"
     },
     "user_tz": -180
    },
    "id": "5hltu3g9JtTr",
    "outputId": "ec9d7802-c946-4a55-a4c4-dfb72b7db1bd"
   },
   "outputs": [
    {
     "name": "stdout",
     "output_type": "stream",
     "text": [
      "Minimum days_employed:  0\n",
      "Maximum days_employed:  20075\n"
     ]
    }
   ],
   "source": [
    "print('Minimum days_employed: ', clients['days_employed'].min())\n",
    "print('Maximum days_employed: ', clients['days_employed'].max())"
   ]
  },
  {
   "cell_type": "markdown",
   "metadata": {
    "id": "XVdHnANDBnSS"
   },
   "source": [
    "Рассмотрим значение возраста клиента в годах. Видно, что некоторые клиенты не указали свой реальный возраст (он равен 0)."
   ]
  },
  {
   "cell_type": "code",
   "execution_count": 66,
   "metadata": {
    "colab": {
     "base_uri": "https://localhost:8080/"
    },
    "executionInfo": {
     "elapsed": 150,
     "status": "ok",
     "timestamp": 1633114158259,
     "user": {
      "displayName": "Руслан Муштаков",
      "photoUrl": "https://lh3.googleusercontent.com/a/default-user=s64",
      "userId": "06846086149309682337"
     },
     "user_tz": -180
    },
    "id": "x-zMFIDRJtTs",
    "outputId": "69d9ab3f-da8e-42e4-8a8f-24b9e1fec977"
   },
   "outputs": [
    {
     "name": "stdout",
     "output_type": "stream",
     "text": [
      "Minimum dob_years:  0\n",
      "Maximum dob_years:  75\n"
     ]
    }
   ],
   "source": [
    "print('Minimum dob_years: ', clients['dob_years'].min())\n",
    "print('Maximum dob_years: ', clients['dob_years'].max())"
   ]
  },
  {
   "cell_type": "markdown",
   "metadata": {
    "id": "4OycJOtcCM4C"
   },
   "source": [
    "Заменим такой возраст на стаж работа человека + 18 лет (возраст с которого можно работать)."
   ]
  },
  {
   "cell_type": "code",
   "execution_count": 67,
   "metadata": {
    "executionInfo": {
     "elapsed": 145,
     "status": "ok",
     "timestamp": 1633114158260,
     "user": {
      "displayName": "Руслан Муштаков",
      "photoUrl": "https://lh3.googleusercontent.com/a/default-user=s64",
      "userId": "06846086149309682337"
     },
     "user_tz": -180
    },
    "id": "E3Nd6lgUCcGl"
   },
   "outputs": [],
   "source": [
    "clients.loc[clients['dob_years'] == 0, 'dob_years'] = clients['days_employed'] // 365 + 18"
   ]
  },
  {
   "cell_type": "code",
   "execution_count": 68,
   "metadata": {
    "colab": {
     "base_uri": "https://localhost:8080/"
    },
    "executionInfo": {
     "elapsed": 144,
     "status": "ok",
     "timestamp": 1633114158260,
     "user": {
      "displayName": "Руслан Муштаков",
      "photoUrl": "https://lh3.googleusercontent.com/a/default-user=s64",
      "userId": "06846086149309682337"
     },
     "user_tz": -180
    },
    "id": "P_DNh8JIDlp1",
    "outputId": "a5bec767-c4de-444d-f40f-c6a11804f44a"
   },
   "outputs": [
    {
     "name": "stdout",
     "output_type": "stream",
     "text": [
      "Modified minimum dob_years:  18\n",
      "Modified maximum dob_years:  75\n"
     ]
    }
   ],
   "source": [
    "print('Modified minimum dob_years: ', clients['dob_years'].min())\n",
    "print('Modified maximum dob_years: ', clients['dob_years'].max())"
   ]
  },
  {
   "cell_type": "markdown",
   "metadata": {
    "id": "Y9GwA-alDunI"
   },
   "source": [
    "В столбце пол клиента есть одно значение, не подходящее под общепринятые обозначения."
   ]
  },
  {
   "cell_type": "code",
   "execution_count": 69,
   "metadata": {
    "colab": {
     "base_uri": "https://localhost:8080/"
    },
    "executionInfo": {
     "elapsed": 145,
     "status": "ok",
     "timestamp": 1633114158264,
     "user": {
      "displayName": "Руслан Муштаков",
      "photoUrl": "https://lh3.googleusercontent.com/a/default-user=s64",
      "userId": "06846086149309682337"
     },
     "user_tz": -180
    },
    "id": "mpnDB37XDzyC",
    "outputId": "f5182a84-eed2-4d65-c473-09265930a67c"
   },
   "outputs": [
    {
     "data": {
      "text/plain": [
       "f      13988\n",
       "m       7221\n",
       "xna        1\n",
       "Name: gender, dtype: int64"
      ]
     },
     "execution_count": 69,
     "metadata": {},
     "output_type": "execute_result"
    }
   ],
   "source": [
    "clients['gender'].value_counts()"
   ]
  },
  {
   "cell_type": "markdown",
   "metadata": {
    "id": "hAxlH5nKD2md"
   },
   "source": [
    "Заменим пол на женский, так как он более вероятный."
   ]
  },
  {
   "cell_type": "code",
   "execution_count": 70,
   "metadata": {
    "executionInfo": {
     "elapsed": 143,
     "status": "ok",
     "timestamp": 1633114158266,
     "user": {
      "displayName": "Руслан Муштаков",
      "photoUrl": "https://lh3.googleusercontent.com/a/default-user=s64",
      "userId": "06846086149309682337"
     },
     "user_tz": -180
    },
    "id": "Rt3f_fcYD8Mj"
   },
   "outputs": [],
   "source": [
    "clients['gender'] = clients['gender'].replace('xna', 'f')"
   ]
  },
  {
   "cell_type": "code",
   "execution_count": 71,
   "metadata": {
    "colab": {
     "base_uri": "https://localhost:8080/"
    },
    "executionInfo": {
     "elapsed": 144,
     "status": "ok",
     "timestamp": 1633114158268,
     "user": {
      "displayName": "Руслан Муштаков",
      "photoUrl": "https://lh3.googleusercontent.com/a/default-user=s64",
      "userId": "06846086149309682337"
     },
     "user_tz": -180
    },
    "id": "xbZhpMsPJtTs",
    "outputId": "ce98f2da-cc7b-43c8-d1b6-0256d0c1ef4d"
   },
   "outputs": [
    {
     "data": {
      "text/plain": [
       "f    13989\n",
       "m     7221\n",
       "Name: gender, dtype: int64"
      ]
     },
     "execution_count": 71,
     "metadata": {},
     "output_type": "execute_result"
    }
   ],
   "source": [
    "clients['gender'].value_counts()"
   ]
  },
  {
   "cell_type": "markdown",
   "metadata": {
    "id": "iQ3GLRuxECzt"
   },
   "source": [
    "В столбце задолженности - без подозрительных значений."
   ]
  },
  {
   "cell_type": "code",
   "execution_count": 72,
   "metadata": {
    "colab": {
     "base_uri": "https://localhost:8080/"
    },
    "executionInfo": {
     "elapsed": 138,
     "status": "ok",
     "timestamp": 1633114158269,
     "user": {
      "displayName": "Руслан Муштаков",
      "photoUrl": "https://lh3.googleusercontent.com/a/default-user=s64",
      "userId": "06846086149309682337"
     },
     "user_tz": -180
    },
    "id": "-GvqoRuUJtTs",
    "outputId": "256cb648-27a3-4358-f691-0c61556f81f8"
   },
   "outputs": [
    {
     "data": {
      "text/plain": [
       "0    19470\n",
       "1     1740\n",
       "Name: debt, dtype: int64"
      ]
     },
     "execution_count": 72,
     "metadata": {},
     "output_type": "execute_result"
    }
   ],
   "source": [
    "clients['debt'].value_counts()"
   ]
  },
  {
   "cell_type": "markdown",
   "metadata": {
    "id": "UNS9TNFnEQeP"
   },
   "source": [
    "В столбце с доходом, проверим, что нет отрицательных значний, при этом верхней границы нет."
   ]
  },
  {
   "cell_type": "code",
   "execution_count": 73,
   "metadata": {
    "colab": {
     "base_uri": "https://localhost:8080/"
    },
    "executionInfo": {
     "elapsed": 135,
     "status": "ok",
     "timestamp": 1633114158270,
     "user": {
      "displayName": "Руслан Муштаков",
      "photoUrl": "https://lh3.googleusercontent.com/a/default-user=s64",
      "userId": "06846086149309682337"
     },
     "user_tz": -180
    },
    "id": "7CK1FJdUJtTs",
    "outputId": "6c1a77f0-8424-4005-b666-88f97b4a8d7a"
   },
   "outputs": [
    {
     "name": "stdout",
     "output_type": "stream",
     "text": [
      "Minimum total_income:  20667\n",
      "Maximum total_income:  2265604\n"
     ]
    }
   ],
   "source": [
    "print('Minimum total_income: ', clients['total_income'].min())\n",
    "print('Maximum total_income: ', clients['total_income'].max())"
   ]
  },
  {
   "cell_type": "markdown",
   "metadata": {
    "id": "3SfTnZaKJtTt"
   },
   "source": [
    "#### Вывод"
   ]
  },
  {
   "cell_type": "markdown",
   "metadata": {
    "id": "WTOF5IdNJtTt"
   },
   "source": [
    "На данном шаге были проанализированы различные артефакты. Все некорректные значения были обработаны. В итоге мы получили таблицу, пригодную для анализа данных."
   ]
  },
  {
   "cell_type": "markdown",
   "metadata": {
    "id": "VC_0wj0QJtTt"
   },
   "source": [
    "<a id=\"step3\"></a>\n",
    "## 3. Анализ влияния параметров на возврат кредита в срок"
   ]
  },
  {
   "cell_type": "markdown",
   "metadata": {
    "id": "czbFd5tTJtTt"
   },
   "source": [
    "### 3.1. Есть ли зависимость между наличием детей и возвратом кредита в срок?"
   ]
  },
  {
   "cell_type": "markdown",
   "metadata": {
    "id": "qw4Ol4mAZfWR"
   },
   "source": [
    "Вычислим долю людей невернувших кредит от количества детей."
   ]
  },
  {
   "cell_type": "code",
   "execution_count": 74,
   "metadata": {
    "colab": {
     "base_uri": "https://localhost:8080/"
    },
    "executionInfo": {
     "elapsed": 133,
     "status": "ok",
     "timestamp": 1633114158271,
     "user": {
      "displayName": "Руслан Муштаков",
      "photoUrl": "https://lh3.googleusercontent.com/a/default-user=s64",
      "userId": "06846086149309682337"
     },
     "user_tz": -180
    },
    "id": "P2N7-itpJtTt",
    "outputId": "1e1b0949-24f4-49c3-c9be-3cd4c7d66d9f"
   },
   "outputs": [
    {
     "data": {
      "text/plain": [
       "children\n",
       "0    0.076447\n",
       "1    0.092324\n",
       "2    0.095328\n",
       "3    0.082067\n",
       "4    0.097561\n",
       "5    0.000000\n",
       "Name: debt, dtype: float64"
      ]
     },
     "execution_count": 74,
     "metadata": {},
     "output_type": "execute_result"
    }
   ],
   "source": [
    "child_debt_table = clients.groupby('children')['debt'].mean()\n",
    "child_debt_table"
   ]
  },
  {
   "cell_type": "markdown",
   "metadata": {
    "id": "olnQNXFbZx22"
   },
   "source": [
    "Для клиентов у которых 5 детей получилось, что должников нет. Проверим - выведем на экран всех таких клиентов."
   ]
  },
  {
   "cell_type": "code",
   "execution_count": 75,
   "metadata": {
    "colab": {
     "base_uri": "https://localhost:8080/",
     "height": 328
    },
    "executionInfo": {
     "elapsed": 131,
     "status": "ok",
     "timestamp": 1633114158272,
     "user": {
      "displayName": "Руслан Муштаков",
      "photoUrl": "https://lh3.googleusercontent.com/a/default-user=s64",
      "userId": "06846086149309682337"
     },
     "user_tz": -180
    },
    "id": "CBTrmj0pJtTu",
    "outputId": "38f4c833-4454-4d88-d40b-37c90e8ce51e"
   },
   "outputs": [
    {
     "data": {
      "text/html": [
       "<div>\n",
       "<style scoped>\n",
       "    .dataframe tbody tr th:only-of-type {\n",
       "        vertical-align: middle;\n",
       "    }\n",
       "\n",
       "    .dataframe tbody tr th {\n",
       "        vertical-align: top;\n",
       "    }\n",
       "\n",
       "    .dataframe thead th {\n",
       "        text-align: right;\n",
       "    }\n",
       "</style>\n",
       "<table border=\"1\" class=\"dataframe\">\n",
       "  <thead>\n",
       "    <tr style=\"text-align: right;\">\n",
       "      <th></th>\n",
       "      <th>children</th>\n",
       "      <th>days_employed</th>\n",
       "      <th>dob_years</th>\n",
       "      <th>education_id</th>\n",
       "      <th>family_status_id</th>\n",
       "      <th>gender</th>\n",
       "      <th>debt</th>\n",
       "      <th>total_income</th>\n",
       "      <th>income_type_id</th>\n",
       "      <th>purpose_id</th>\n",
       "    </tr>\n",
       "  </thead>\n",
       "  <tbody>\n",
       "    <tr>\n",
       "      <th>3966</th>\n",
       "      <td>5</td>\n",
       "      <td>8760</td>\n",
       "      <td>42</td>\n",
       "      <td>1</td>\n",
       "      <td>1</td>\n",
       "      <td>m</td>\n",
       "      <td>0</td>\n",
       "      <td>153715</td>\n",
       "      <td>0</td>\n",
       "      <td>2</td>\n",
       "    </tr>\n",
       "    <tr>\n",
       "      <th>4382</th>\n",
       "      <td>5</td>\n",
       "      <td>3248</td>\n",
       "      <td>36</td>\n",
       "      <td>1</td>\n",
       "      <td>0</td>\n",
       "      <td>f</td>\n",
       "      <td>0</td>\n",
       "      <td>168460</td>\n",
       "      <td>1</td>\n",
       "      <td>0</td>\n",
       "    </tr>\n",
       "    <tr>\n",
       "      <th>7823</th>\n",
       "      <td>5</td>\n",
       "      <td>773</td>\n",
       "      <td>36</td>\n",
       "      <td>1</td>\n",
       "      <td>0</td>\n",
       "      <td>f</td>\n",
       "      <td>0</td>\n",
       "      <td>48772</td>\n",
       "      <td>0</td>\n",
       "      <td>1</td>\n",
       "    </tr>\n",
       "    <tr>\n",
       "      <th>15650</th>\n",
       "      <td>5</td>\n",
       "      <td>418</td>\n",
       "      <td>31</td>\n",
       "      <td>1</td>\n",
       "      <td>0</td>\n",
       "      <td>f</td>\n",
       "      <td>0</td>\n",
       "      <td>77552</td>\n",
       "      <td>0</td>\n",
       "      <td>2</td>\n",
       "    </tr>\n",
       "    <tr>\n",
       "      <th>15742</th>\n",
       "      <td>5</td>\n",
       "      <td>2286</td>\n",
       "      <td>37</td>\n",
       "      <td>1</td>\n",
       "      <td>0</td>\n",
       "      <td>f</td>\n",
       "      <td>0</td>\n",
       "      <td>256698</td>\n",
       "      <td>0</td>\n",
       "      <td>0</td>\n",
       "    </tr>\n",
       "    <tr>\n",
       "      <th>16029</th>\n",
       "      <td>5</td>\n",
       "      <td>387</td>\n",
       "      <td>35</td>\n",
       "      <td>1</td>\n",
       "      <td>1</td>\n",
       "      <td>f</td>\n",
       "      <td>0</td>\n",
       "      <td>126102</td>\n",
       "      <td>3</td>\n",
       "      <td>4</td>\n",
       "    </tr>\n",
       "    <tr>\n",
       "      <th>20157</th>\n",
       "      <td>5</td>\n",
       "      <td>268</td>\n",
       "      <td>38</td>\n",
       "      <td>3</td>\n",
       "      <td>0</td>\n",
       "      <td>f</td>\n",
       "      <td>0</td>\n",
       "      <td>212545</td>\n",
       "      <td>0</td>\n",
       "      <td>3</td>\n",
       "    </tr>\n",
       "    <tr>\n",
       "      <th>20538</th>\n",
       "      <td>5</td>\n",
       "      <td>2386</td>\n",
       "      <td>35</td>\n",
       "      <td>1</td>\n",
       "      <td>0</td>\n",
       "      <td>f</td>\n",
       "      <td>0</td>\n",
       "      <td>204241</td>\n",
       "      <td>1</td>\n",
       "      <td>1</td>\n",
       "    </tr>\n",
       "    <tr>\n",
       "      <th>20848</th>\n",
       "      <td>5</td>\n",
       "      <td>1690</td>\n",
       "      <td>59</td>\n",
       "      <td>1</td>\n",
       "      <td>0</td>\n",
       "      <td>m</td>\n",
       "      <td>0</td>\n",
       "      <td>269068</td>\n",
       "      <td>0</td>\n",
       "      <td>0</td>\n",
       "    </tr>\n",
       "  </tbody>\n",
       "</table>\n",
       "</div>"
      ],
      "text/plain": [
       "       children  days_employed  ...  income_type_id  purpose_id\n",
       "3966          5           8760  ...               0           2\n",
       "4382          5           3248  ...               1           0\n",
       "7823          5            773  ...               0           1\n",
       "15650         5            418  ...               0           2\n",
       "15742         5           2286  ...               0           0\n",
       "16029         5            387  ...               3           4\n",
       "20157         5            268  ...               0           3\n",
       "20538         5           2386  ...               1           1\n",
       "20848         5           1690  ...               0           0\n",
       "\n",
       "[9 rows x 10 columns]"
      ]
     },
     "execution_count": 75,
     "metadata": {},
     "output_type": "execute_result"
    }
   ],
   "source": [
    "clients.loc[clients['children'] == 5]"
   ]
  },
  {
   "cell_type": "markdown",
   "metadata": {
    "id": "Dk5U1numJtTu"
   },
   "source": [
    "#### Вывод"
   ]
  },
  {
   "cell_type": "markdown",
   "metadata": {
    "id": "Isfc-SlpJtTu"
   },
   "source": [
    "Как видно из таблицы доля невернувших кредит зависит от количества детей у заемщика. Если у клиента есть хотя бы один ребенок, то вероятность не возврата кредита возрастает, с 7.6% до 9.2%. Среди клентов с детьми выделяются те, у кого 3 детей. Они возвращают кредит чаще, по сравнению с другими. При этом, если детей много (больше 4), кредит с большой вероятностью будет возвращен в срок, так как у заемщика высокий уровень ответственности при таком семейном положении. Данный результат говорит прежде всего о том, что при выборе заемщика, лучше всего отдавать предпочтение семьям без детей, а также многодетным семьям. Наличие детей может повлиять на своевременный возврат денег."
   ]
  },
  {
   "cell_type": "markdown",
   "metadata": {
    "id": "zDdic7HwJtTx"
   },
   "source": [
    "### 3.2. Есть ли зависимость между семейным положением и возвратом кредита в срок?"
   ]
  },
  {
   "cell_type": "markdown",
   "metadata": {
    "id": "FyuPRErJcT92"
   },
   "source": [
    "Выделим данные в отдельную таблицу."
   ]
  },
  {
   "cell_type": "code",
   "execution_count": 76,
   "metadata": {
    "executionInfo": {
     "elapsed": 131,
     "status": "ok",
     "timestamp": 1633114158274,
     "user": {
      "displayName": "Руслан Муштаков",
      "photoUrl": "https://lh3.googleusercontent.com/a/default-user=s64",
      "userId": "06846086149309682337"
     },
     "user_tz": -180
    },
    "id": "zoW4cnM_JtTx"
   },
   "outputs": [],
   "source": [
    "family_debt_table = clients[['family_status_id', 'debt']]\n",
    "\n",
    "family_debt_table = family_debt_table.merge(family_status_table, on='family_status_id', how='left')\n",
    "family_debt_table = family_debt_table[['family_status', 'debt']]"
   ]
  },
  {
   "cell_type": "code",
   "execution_count": 77,
   "metadata": {
    "colab": {
     "base_uri": "https://localhost:8080/"
    },
    "executionInfo": {
     "elapsed": 135,
     "status": "ok",
     "timestamp": 1633114158278,
     "user": {
      "displayName": "Руслан Муштаков",
      "photoUrl": "https://lh3.googleusercontent.com/a/default-user=s64",
      "userId": "06846086149309682337"
     },
     "user_tz": -180
    },
    "id": "uB3PDOt1JtTy",
    "outputId": "ea8f8644-255c-4479-df19-2f148e4a93fc"
   },
   "outputs": [
    {
     "data": {
      "text/plain": [
       "family_status\n",
       "в разводе                0.071249\n",
       "вдовец / вдова           0.066456\n",
       "гражданский брак         0.093969\n",
       "женат / замужем          0.076556\n",
       "не женат / не замужем    0.098138\n",
       "Name: debt, dtype: float64"
      ]
     },
     "execution_count": 77,
     "metadata": {},
     "output_type": "execute_result"
    }
   ],
   "source": [
    "family_debt_grouped_table = family_debt_table.groupby('family_status')['debt'].mean()\n",
    "family_debt_grouped_table"
   ]
  },
  {
   "cell_type": "markdown",
   "metadata": {
    "id": "w3OAgwYoJtTy"
   },
   "source": [
    "#### Вывод"
   ]
  },
  {
   "cell_type": "markdown",
   "metadata": {
    "id": "nEuT5opNJtTy"
   },
   "source": [
    "Были изучены доли должников в зависимости от семейного положения. Наиболее надежными в этом плане являются клиенты являющиеся вдовцами или вдовами, находящиеся в разводе или наоброт у которых есть семья. Это категории с высокой социальной ответственностью. К клиентам, не состоящих в отношениях или проживающий в гражданском браке, стоит отнестись c дополнительным вниманием, потому что для них доля задолженности по кредиту несколько выше."
   ]
  },
  {
   "cell_type": "markdown",
   "metadata": {
    "id": "s5eEGcNeJtTz"
   },
   "source": [
    "### 3.3. Есть ли зависимость между уровнем дохода и возвратом кредита в срок?"
   ]
  },
  {
   "cell_type": "markdown",
   "metadata": {
    "id": "EOrFpZ36c9Rt"
   },
   "source": [
    "Разобьем значения столбца по квантилям на три равные части (условно: бедные, средний класс, богатые)."
   ]
  },
  {
   "cell_type": "code",
   "execution_count": 78,
   "metadata": {
    "executionInfo": {
     "elapsed": 136,
     "status": "ok",
     "timestamp": 1633114158285,
     "user": {
      "displayName": "Руслан Муштаков",
      "photoUrl": "https://lh3.googleusercontent.com/a/default-user=s64",
      "userId": "06846086149309682337"
     },
     "user_tz": -180
    },
    "id": "pJBL5dPuJtTz"
   },
   "outputs": [],
   "source": [
    "income = pd.qcut(clients['total_income'], 3)"
   ]
  },
  {
   "cell_type": "markdown",
   "metadata": {
    "id": "7wTj3ubydFle"
   },
   "source": [
    "С помощью сводной таблицы получим доли должников в зависимости от достатка."
   ]
  },
  {
   "cell_type": "code",
   "execution_count": 79,
   "metadata": {
    "colab": {
     "base_uri": "https://localhost:8080/",
     "height": 173
    },
    "executionInfo": {
     "elapsed": 142,
     "status": "ok",
     "timestamp": 1633114158292,
     "user": {
      "displayName": "Руслан Муштаков",
      "photoUrl": "https://lh3.googleusercontent.com/a/default-user=s64",
      "userId": "06846086149309682337"
     },
     "user_tz": -180
    },
    "id": "q_TS3yxHdD8g",
    "outputId": "431998b2-17b6-4e83-be08-682c0d3ae19a"
   },
   "outputs": [
    {
     "data": {
      "text/html": [
       "<div>\n",
       "<style scoped>\n",
       "    .dataframe tbody tr th:only-of-type {\n",
       "        vertical-align: middle;\n",
       "    }\n",
       "\n",
       "    .dataframe tbody tr th {\n",
       "        vertical-align: top;\n",
       "    }\n",
       "\n",
       "    .dataframe thead th {\n",
       "        text-align: right;\n",
       "    }\n",
       "</style>\n",
       "<table border=\"1\" class=\"dataframe\">\n",
       "  <thead>\n",
       "    <tr style=\"text-align: right;\">\n",
       "      <th></th>\n",
       "      <th>debt</th>\n",
       "    </tr>\n",
       "    <tr>\n",
       "      <th>total_income</th>\n",
       "      <th></th>\n",
       "    </tr>\n",
       "  </thead>\n",
       "  <tbody>\n",
       "    <tr>\n",
       "      <th>(20666.999, 122120.0]</th>\n",
       "      <td>0.081754</td>\n",
       "    </tr>\n",
       "    <tr>\n",
       "      <th>(122120.0, 179036.667]</th>\n",
       "      <td>0.091513</td>\n",
       "    </tr>\n",
       "    <tr>\n",
       "      <th>(179036.667, 2265604.0]</th>\n",
       "      <td>0.072843</td>\n",
       "    </tr>\n",
       "  </tbody>\n",
       "</table>\n",
       "</div>"
      ],
      "text/plain": [
       "                             debt\n",
       "total_income                     \n",
       "(20666.999, 122120.0]    0.081754\n",
       "(122120.0, 179036.667]   0.091513\n",
       "(179036.667, 2265604.0]  0.072843"
      ]
     },
     "execution_count": 79,
     "metadata": {},
     "output_type": "execute_result"
    }
   ],
   "source": [
    "clients.pivot_table('debt', [income], aggfunc='mean')"
   ]
  },
  {
   "cell_type": "markdown",
   "metadata": {
    "id": "fepj4PsOJtTz"
   },
   "source": [
    "#### Вывод"
   ]
  },
  {
   "cell_type": "markdown",
   "metadata": {
    "id": "4vHioEyjJtTz"
   },
   "source": [
    "Как и следовало ожидать среди людей \"с большим доходом\" доля невозвращающих кредит самая маленькая. Наиболее недобросовестные клиенты \"со средним достатком\". Скорее всего это зависит от того, что они охотнее берут кредиты. Люди \"с маленьким достатком\", более ответственно подходят к вопросу о займе денег."
   ]
  },
  {
   "cell_type": "markdown",
   "metadata": {
    "id": "kofOCjw1JtT0"
   },
   "source": [
    "### 3.4. Как разные цели кредита влияют на его возврат в срок?"
   ]
  },
  {
   "cell_type": "markdown",
   "metadata": {
    "id": "kGU85IS_f78G"
   },
   "source": [
    "Выделим данные в отдельную таблицу."
   ]
  },
  {
   "cell_type": "code",
   "execution_count": 80,
   "metadata": {
    "executionInfo": {
     "elapsed": 141,
     "status": "ok",
     "timestamp": 1633114158293,
     "user": {
      "displayName": "Руслан Муштаков",
      "photoUrl": "https://lh3.googleusercontent.com/a/default-user=s64",
      "userId": "06846086149309682337"
     },
     "user_tz": -180
    },
    "id": "c8LWbsrWJtT0"
   },
   "outputs": [],
   "source": [
    "purpose_debt_table = clients[['purpose_id', 'debt']]\n",
    "\n",
    "purpose_debt_table = purpose_debt_table.merge(purpose_table, on='purpose_id', how='left')\n",
    "purpose_debt_table = purpose_debt_table[['lemm_purpose', 'debt']]"
   ]
  },
  {
   "cell_type": "markdown",
   "metadata": {
    "id": "svMrsXRygBuN"
   },
   "source": [
    "С помощью сводной таблицы получим доли должников в зависимости от цели кредита."
   ]
  },
  {
   "cell_type": "code",
   "execution_count": 81,
   "metadata": {
    "colab": {
     "base_uri": "https://localhost:8080/",
     "height": 235
    },
    "executionInfo": {
     "elapsed": 147,
     "status": "ok",
     "timestamp": 1633114158300,
     "user": {
      "displayName": "Руслан Муштаков",
      "photoUrl": "https://lh3.googleusercontent.com/a/default-user=s64",
      "userId": "06846086149309682337"
     },
     "user_tz": -180
    },
    "id": "z65WqAGiJtT0",
    "outputId": "4edb3157-6b3b-4dbc-bee0-dee521c7bdf6"
   },
   "outputs": [
    {
     "data": {
      "text/html": [
       "<div>\n",
       "<style scoped>\n",
       "    .dataframe tbody tr th:only-of-type {\n",
       "        vertical-align: middle;\n",
       "    }\n",
       "\n",
       "    .dataframe tbody tr th {\n",
       "        vertical-align: top;\n",
       "    }\n",
       "\n",
       "    .dataframe thead th {\n",
       "        text-align: right;\n",
       "    }\n",
       "</style>\n",
       "<table border=\"1\" class=\"dataframe\">\n",
       "  <thead>\n",
       "    <tr style=\"text-align: right;\">\n",
       "      <th></th>\n",
       "      <th>debt</th>\n",
       "    </tr>\n",
       "    <tr>\n",
       "      <th>lemm_purpose</th>\n",
       "      <th></th>\n",
       "    </tr>\n",
       "  </thead>\n",
       "  <tbody>\n",
       "    <tr>\n",
       "      <th>автомобиль</th>\n",
       "      <td>0.094101</td>\n",
       "    </tr>\n",
       "    <tr>\n",
       "      <th>жилье</th>\n",
       "      <td>0.069873</td>\n",
       "    </tr>\n",
       "    <tr>\n",
       "      <th>недвижимость</th>\n",
       "      <td>0.075719</td>\n",
       "    </tr>\n",
       "    <tr>\n",
       "      <th>образование</th>\n",
       "      <td>0.093340</td>\n",
       "    </tr>\n",
       "    <tr>\n",
       "      <th>свадьба</th>\n",
       "      <td>0.080659</td>\n",
       "    </tr>\n",
       "  </tbody>\n",
       "</table>\n",
       "</div>"
      ],
      "text/plain": [
       "                  debt\n",
       "lemm_purpose          \n",
       "автомобиль    0.094101\n",
       "жилье         0.069873\n",
       "недвижимость  0.075719\n",
       "образование   0.093340\n",
       "свадьба       0.080659"
      ]
     },
     "execution_count": 81,
     "metadata": {},
     "output_type": "execute_result"
    }
   ],
   "source": [
    "purpose_debt_table.pivot_table('debt', index='lemm_purpose', aggfunc='mean')"
   ]
  },
  {
   "cell_type": "markdown",
   "metadata": {
    "id": "hnBUJdnfJtT0"
   },
   "source": [
    "#### Вывод"
   ]
  },
  {
   "cell_type": "markdown",
   "metadata": {
    "id": "PLCsqCRSJtT1"
   },
   "source": [
    "Кредиты взятые на жилье или недвижимость людьми возвращаются скорее, так как это первонеобходимые вещи. Автомобиль и образование вещи менее стабильные, что-то может пойти не так, и кредит не будет возвращен вовремя."
   ]
  },
  {
   "cell_type": "markdown",
   "metadata": {
    "id": "SNNYYIaGJtT1"
   },
   "source": [
    "<a id=\"step4\"></a>\n",
    "## 4. Общий вывод"
   ]
  },
  {
   "cell_type": "markdown",
   "metadata": {
    "id": "TL9yBjaSJtT1"
   },
   "source": [
    "Была получена статистика о платёжеспособности клиентов банка. Были найдены дубликаты, значение приведены к корректным типам данных, проанализированы цели кредита и также выделены категории для дальнейшей работы. Таблица была изучена на наличие исключительных значений (артефактов) - значение в колонке со стажем не совсем корректные в первоначальном виде (можно скорректировать работу тех, кто формирует таблицу). Также было выявлено, что некоторые пользователи не указали свой возраст (стоит выяснить по какой причине люди не хотят его указывать).\n",
    "Был проведен анализ различных показателей, которые могут влиять на возврат кредита в будущем. При рассмотрении количества детей стоит отдавать предпочтение клиентам без детей или с большим количеством детей (больше 4). Также стоит учитывать текущее семейное положение клиента и не выбирать тех, у кого низкая социальная ответственность (у кого нет партнера или кто живет в гражданском браке и не может его официально зарегистрировать). Естественно уровень заработка влияет на возврат кредитов, и чем он больше, тем предпочтительнее. Указанные цели играют не последнюю роль в вопросе возврата кредита, стоит учитывать наиболее необходимые вещи для клиента, тогда доля возврата в срок будет выше."
   ]
  }
 ],
 "metadata": {
  "accelerator": "GPU",
  "colab": {
   "collapsed_sections": [
    "U-bjUoWrJtTC",
    "-GnxBhNPJtTD",
    "0UFeqLEcJtTJ",
    "t-AxXEyqJtTK",
    "H33e8sMpJtTT",
    "3l4X5684JtTU",
    "bhYQM9F7JtTW",
    "9e0WOChJJtTW",
    "HXX44hE2JtTZ",
    "QKkRSl6zJtTa",
    "Dzfzo8mdJtTh",
    "uM9WGbrTJtTh",
    "mEr-RKtz5WUa",
    "3SfTnZaKJtTt"
   ],
   "name": "Data_preprocessing.ipynb",
   "provenance": [],
   "toc_visible": true
  },
  "kernelspec": {
   "display_name": "Python 3",
   "language": "python",
   "name": "python3"
  },
  "language_info": {
   "codemirror_mode": {
    "name": "ipython",
    "version": 3
   },
   "file_extension": ".py",
   "mimetype": "text/x-python",
   "name": "python",
   "nbconvert_exporter": "python",
   "pygments_lexer": "ipython3",
   "version": "3.8.5"
  },
  "toc": {
   "base_numbering": 1,
   "nav_menu": {},
   "number_sections": true,
   "sideBar": true,
   "skip_h1_title": true,
   "title_cell": "Table of Contents",
   "title_sidebar": "Contents",
   "toc_cell": false,
   "toc_position": {},
   "toc_section_display": true,
   "toc_window_display": false
  }
 },
 "nbformat": 4,
 "nbformat_minor": 1
}
